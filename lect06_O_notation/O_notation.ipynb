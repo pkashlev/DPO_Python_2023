{
 "cells": [
  {
   "cell_type": "markdown",
   "metadata": {},
   "source": [
    "# Эффективность работы кода на примере алгоритмов сортировки."
   ]
  },
  {
   "cell_type": "markdown",
   "metadata": {},
   "source": [
    "### Оценка сложности\n",
    "В программировании нотация большого «О» (О-нотация) используется в качестве меры измерения, помогающей программистам оценивать или предполагать эффективность написанного блока кода, скрипта или алгоритма. «Сколько времени потребуется на работу этого кода? Какова его сложность в привязке к тем данным, которые он обрабатывает?»\n",
    "\n",
    "Точное время работы скрипта или алгоритма определить сложно. Оно зависит от многих факторов, например, от скорости процессора и прочих характеристик компьютера, на котором запускается этот скрипт или алгоритм. Поэтому нотация большого «О» используется не для оценки конкретного времени работы кода. Ее используют для оценки того, как быстро возрастает время обработки данных алгоритмом в привязке к объему этих данных."
   ]
  },
  {
   "cell_type": "markdown",
   "metadata": {},
   "source": [
    "### Смешная история"
   ]
  },
  {
   "cell_type": "markdown",
   "metadata": {},
   "source": [
    "В 2009 году у одной компании в Южной Африке была проблема со скоростью интернета. У этой компании было два офиса в 50 милях друг от друга. Сотрудники решили провести занимательный эксперимент и посмотреть, не будет ли быстрее пересылать данные при помощи голубиной почты.\n",
    "\n",
    "Они поместили 4GB данных на флешку, прикрепили ее к голубю и выпустили его из офиса, чтобы он полетел в другой офис. И…\n",
    "\n",
    "Почтовый голубь оказался быстрее интернет-связи. Он победил с большим отрывом (иначе история не была бы такой забавной). Больше того, когда голубь долетел до второго офиса, а случилось это через два часа, через интернет загрузилось только 4% данных."
   ]
  },
  {
   "cell_type": "markdown",
   "metadata": {},
   "source": [
    "### Виды сложности\n",
    "\n",
    "* Временная сложность алгоритма определяет число шагов, которые должен предпринять алгоритм, в зависимости от объема входящих данных (n).\n",
    "* Пространственная сложность алгоритма определяет количество памяти, которое потребуется занять для работы алгоритма, в зависимости от объема входящих данных (n)."
   ]
  },
  {
   "cell_type": "markdown",
   "metadata": {},
   "source": [
    "### Постоянное время: O(1)\n",
    "\n",
    "Обратите внимание, что в истории с голубем, рассказанной выше, голубь доставил бы и 5KB, и 10MB, и 2TB данных, хранящихся на флешке, за совершенно одинаковое количество времени. Время, необходимое голубю для переноса данных из одного офиса в другой, это просто время, необходимое, чтобы пролететь 50 миль.\n",
    "\n",
    "Если использовать О-нотацию, время, за которое голубь может доставить данные из офиса А в офис Б, называется постоянным временем и записывается как O(1). Оно не зависит от объема входящих данных."
   ]
  },
  {
   "cell_type": "markdown",
   "metadata": {},
   "source": [
    "### Пример алгоритма со сложностью О(1)"
   ]
  },
  {
   "cell_type": "code",
   "execution_count": 3,
   "metadata": {},
   "outputs": [
    {
     "name": "stdout",
     "output_type": "stream",
     "text": [
      "Length of lst1 is 10\n",
      "Length of lst2 is 6\n"
     ]
    }
   ],
   "source": [
    "lst1 = [1, 2, 3, 4, 5, 3, 4, 5, 6, 6]\n",
    "lst2 = ['A', 'a', 'D', 'DDG', 'ddf', 'dfdf']\n",
    "\n",
    "print(f\"Length of lst1 is {len(lst1)}\",\n",
    "      f\"Length of lst2 is {len(lst2)}\", sep='\\n')"
   ]
  },
  {
   "cell_type": "markdown",
   "metadata": {},
   "source": [
    "Почему так происходит? (структура данных \"Список\" такова, что длина любого массива может быть получена за О(1), как и любой элемент списка)"
   ]
  },
  {
   "cell_type": "markdown",
   "metadata": {},
   "source": [
    "### Линейное время: O(n)\n",
    "\n",
    "В отличие от пересылки голубем, передача данных через интернет будет занимать все больше и больше времени по мере увеличения объема передаваемых данных.\n",
    "\n",
    "Если использовать О-нотацию, мы можем сказать, что время, нужное для передачи данных из офиса А в офис Б через интернет, возрастает линейно и прямо пропорционально количеству передаваемых данных. Это время записывается как O(n), где n — количество данных, которое нужно передать.\n",
    "\n",
    "Следует учитывать, что в программировании «О» большое описывает наихудший сценарий. Допустим, у нас есть массив чисел, где мы должны найти какое-то определенное число при помощи цикла for. Оно может быть найдено при любой итерации, и чем раньше, тем быстрее функция завершит работу. О-нотация всегда указывает на верхнюю границу, т. е., описывает случай, когда алгоритму придется осуществить максимальное количество итераций, чтобы найти искомое число. Как, например, в том случае, если это число окажется последним в перебираемом массиве."
   ]
  },
  {
   "cell_type": "code",
   "execution_count": 2,
   "metadata": {},
   "outputs": [
    {
     "data": {
      "text/plain": [
       "False"
      ]
     },
     "execution_count": 2,
     "metadata": {},
     "output_type": "execute_result"
    }
   ],
   "source": [
    "def find_element(x, lst):\n",
    "    '''\n",
    "    Функция ищет элемент x в списке lst\n",
    "    Если он есть, возвращает True, если нет - False\n",
    "    '''\n",
    "\n",
    "    # иди по списку\n",
    "    for i in lst:\n",
    "\n",
    "        # если текущий элемент нашелся, вернем True\n",
    "        if x == i:\n",
    "            return True\n",
    "        \n",
    "    # если дошли до конца и элемент не нашелся, вернем False\n",
    "    return False\n",
    "\n",
    "\n",
    "lst = [1, 2, 3, 4, 5, 87, 543, 34637, 547489]\n",
    "\n",
    "find_element(44, lst)"
   ]
  },
  {
   "cell_type": "markdown",
   "metadata": {},
   "source": [
    "Почему линейное? Представим, что искомый элемент - последний в массиве. Тогда в худшем случае нам придется пройти все элементы нашего массива."
   ]
  },
  {
   "cell_type": "markdown",
   "metadata": {},
   "source": [
    "### Экспоненциальное время: O(2^n)\n",
    "\n",
    "Если сложность алгоритма описывается формулой O(2^n), значит, время его работы удваивается с каждым дополнением к набору данных. Кривая роста функции O(2^n) экспоненциальная: сначала она очень пологая, а затем стремительно поднимается вверх. Примером алгоритма с экспоненциальной сложностью может послужить рекурсивный расчет чисел Фибоначчи:"
   ]
  },
  {
   "cell_type": "code",
   "execution_count": 17,
   "metadata": {},
   "outputs": [
    {
     "data": {
      "text/plain": [
       "55"
      ]
     },
     "execution_count": 17,
     "metadata": {},
     "output_type": "execute_result"
    }
   ],
   "source": [
    "def fibonacci(n):\n",
    "    '''\n",
    "    Функция рекурсивно считает\n",
    "    n'ное число Фибоначчи\n",
    "    '''\n",
    "    \n",
    "    # Первое и второе числа Фибоначчи равны 1\n",
    "    if n in (1, 2):\n",
    "        return 1\n",
    "    \n",
    "    # Если число не 1 и не 2, считай число как сумму двух предыдущих\n",
    "    return fibonacci(n - 1) + fibonacci(n - 2)\n",
    "\n",
    "\n",
    "fibonacci(10)"
   ]
  },
  {
   "cell_type": "markdown",
   "metadata": {},
   "source": [
    "### Логарифмическое время: O(log n)\n",
    "\n",
    "Логарифмическое время поначалу понять сложнее. Поэтому для объяснения я воспользуюсь распространенным примером: концепцией бинарного поиска.\n",
    "\n",
    "Бинарный поиск это алгоритм поиска в отсортированных массивах. Работает он следующим образом. В отсортированном наборе данных выбирается серединный элемент и сравнивается с искомым значением. Если значение совпадает, поиск завершен.\n",
    "\n",
    "Если искомое значение больше, чем значение серединного элемента, нижняя половина набора данных (все элементы с меньшими значениями, чем у нашего серединного элемента) отбрасывается и дальнейший поиск ведется тем же способом в верхней половине.\n",
    "\n",
    "Если искомое значение меньше, чем значение серединного элемента, дальнейший поиск ведется в нижней половине набора данных.\n",
    "\n",
    "Эти шаги повторяются, при каждой итерации отбрасывая половину элементов, пока не будет найдено искомое значение или пока оставшийся набор данных станет невозможно разделить напополам:"
   ]
  },
  {
   "cell_type": "code",
   "execution_count": 3,
   "metadata": {},
   "outputs": [
    {
     "name": "stdout",
     "output_type": "stream",
     "text": [
      "[3, 3, 16, 17, 22, 25, 28, 28, 31, 35, 38, 39, 40, 43, 47]\n",
      "43\n",
      "ID = 13\n"
     ]
    }
   ],
   "source": [
    "from random import randint\n",
    "\n",
    "# Сделали список\n",
    "a = []\n",
    "for i in range(15):\n",
    "    \n",
    "    # Случайное целое число от 1 до 49 включительно\n",
    "    a.append(randint(1, 50))\n",
    "\n",
    "# Отсортировали список\n",
    "a.sort()\n",
    "\n",
    "# Распечатали\n",
    "print(a)\n",
    "\n",
    "# Вводим с клавиатуры искомое число\n",
    "value = int(input())\n",
    "\n",
    "# Индекс середины списка\n",
    "mid = len(a) // 2\n",
    "\n",
    "# Индекс начала списка\n",
    "low = 0\n",
    "\n",
    "# Индекс конца списка\n",
    "high = len(a) - 1\n",
    "\n",
    "# Пока позиция \"середины\" не равна нашему значению\n",
    "# и левый конце области, где мы ищем, меньше или равен правому концу:\n",
    "while a[mid] != value and low <= high:\n",
    "\n",
    "    # Если наше значение больше значения в центре области поиска:\n",
    "    if value > a[mid]:\n",
    "        \n",
    "        # Начинаем искать в области \"справа от середины\"\n",
    "        low = mid + 1\n",
    "    \n",
    "    else:\n",
    "        \n",
    "        # Иначе начинаем искать в области \"слева от середины\"\n",
    "        high = mid - 1\n",
    "    \n",
    "    # Середина новой области поиска\n",
    "    mid = (low + high) // 2\n",
    "\n",
    "if low > high:\n",
    "    print(\"No value\")\n",
    "else:\n",
    "    print(\"ID =\", mid)"
   ]
  },
  {
   "cell_type": "markdown",
   "metadata": {},
   "source": [
    "### Пузырьковая сортировка (n^2)\n",
    "\n",
    "Этот простой алгоритм выполняет итерации по списку, сравнивая элементы попарно и меняя их местами, пока более крупные элементы не «всплывут» в начало списка, а более мелкие не останутся на «дне».\n",
    "\n",
    "**Алгоритм**\n",
    "Сначала сравниваются первые два элемента списка. Если первый элемент больше, они меняются местами. Если они уже в нужном порядке, оставляем их как есть. Затем переходим к следующей паре элементов, сравниваем их значения и меняем местами при необходимости. Этот процесс продолжается до последней пары элементов в списке.\n",
    "\n",
    "При достижении конца списка процесс повторяется заново для каждого элемента. Это крайне неэффективно, если в массиве нужно сделать, например, только один обмен. Алгоритм повторяется n² раз, даже если список уже отсортирован."
   ]
  },
  {
   "cell_type": "code",
   "execution_count": 19,
   "metadata": {},
   "outputs": [],
   "source": [
    "# Библиотека, чтоб время засекать\n",
    "from datetime import datetime as dt"
   ]
  },
  {
   "cell_type": "code",
   "execution_count": 7,
   "metadata": {},
   "outputs": [
    {
     "name": "stdout",
     "output_type": "stream",
     "text": [
      "[1, 2, 3, 4, 5, 6, 7, 8, 9]\n"
     ]
    }
   ],
   "source": [
    "def bubble_sort(nums):\n",
    "\n",
    "    # Устанавливаем swapped в True, чтобы цикл запустился хотя бы один раз\n",
    "    swapped = True\n",
    "\n",
    "    while swapped:\n",
    "        swapped = False\n",
    "\n",
    "        # Идем циклом по индексам наших элементов\n",
    "        for i in range(len(nums) - 1):\n",
    "#             print(nums)\n",
    "            # Если текущий элемент слева больше своего элемента справа\n",
    "            if nums[i] > nums[i + 1]:\n",
    "\n",
    "                # Меняем элементы местами\n",
    "                nums[i], nums[i + 1] = nums[i + 1], nums[i]\n",
    "\n",
    "                # Устанавливаем swapped в True для следующей итерации\n",
    "                swapped = True\n",
    "\n",
    "                # По окончании первого прогона цикла for\n",
    "                # самый большой элемент \"Всплывет\" наверх\n",
    "\n",
    "\n",
    "# Проверяем, что оно работает\n",
    "random_list_of_nums = [9, 5, 2, 1, 8, 4, 3, 7, 6]\n",
    "bubble_sort(random_list_of_nums)\n",
    "print(random_list_of_nums)"
   ]
  },
  {
   "cell_type": "markdown",
   "metadata": {},
   "source": [
    "### Сортировка выбором\n",
    "\n",
    "Этот алгоритм сегментирует список на две части: отсортированную и неотсортированную. Наименьший элемент удаляется из второго списка и добавляется в первый.\n",
    "\n",
    "**Алгоритм**\n",
    "На практике не нужно создавать новый список для отсортированных элементов. В качестве него используется крайняя левая часть списка. Находится наименьший элемент и меняется с первым местами.\n",
    "\n",
    "Теперь, когда нам известно, что первый элемент списка отсортирован, находим наименьший элемент из оставшихся и меняем местами со вторым. Повторяем это до тех пор, пока не останется последний элемент в списке."
   ]
  },
  {
   "cell_type": "code",
   "execution_count": 8,
   "metadata": {},
   "outputs": [
    {
     "name": "stdout",
     "output_type": "stream",
     "text": [
      "[1, 2, 3, 4, 5, 6, 7, 8, 9]\n"
     ]
    }
   ],
   "source": [
    "def selection_sort(nums):\n",
    "\n",
    "    # Значение i соответствует кол-ву отсортированных значений\n",
    "    for i in range(len(nums)):\n",
    "\n",
    "        # Исходно считаем наименьшим первый элемент\n",
    "        lowest_value_index = i\n",
    "\n",
    "        # Этот цикл перебирает несортированные элементы\n",
    "        for j in range(i + 1, len(nums)):\n",
    "            if nums[j] < nums[lowest_value_index]:\n",
    "                lowest_value_index = j\n",
    "\n",
    "        # Самый маленький элемент меняем с первым в списке\n",
    "        nums[i], nums[lowest_value_index] = nums[lowest_value_index], nums[i]\n",
    "\n",
    "\n",
    "# Проверяем, что оно работает\n",
    "random_list_of_nums = [9, 5, 2, 1, 8, 4, 3, 7, 6]\n",
    "selection_sort(random_list_of_nums)\n",
    "print(random_list_of_nums)"
   ]
  },
  {
   "cell_type": "markdown",
   "metadata": {},
   "source": [
    "#### Время сортировки\n",
    "Затраты времени на сортировку выбором в среднем составляют O(n²), где n — количество элементов списка."
   ]
  },
  {
   "cell_type": "markdown",
   "metadata": {},
   "source": [
    "## Эмпирическое сравнение скорости\n",
    "\n",
    "Давайте просто сгенерируем случайные данные и посмотрим, какой из алгоритмов будет быстрее работать"
   ]
  },
  {
   "cell_type": "code",
   "execution_count": 6,
   "metadata": {
    "scrolled": true
   },
   "outputs": [
    {
     "data": {
      "text/plain": [
       "[0.5361348318376551,\n",
       " 0.21543234925256594,\n",
       " 0.3468586654780933,\n",
       " 0.566092335288751,\n",
       " 0.8328792099920703,\n",
       " 0.05989605549842569,\n",
       " 0.20619936653370985,\n",
       " 0.08170813302206748,\n",
       " 0.3480809851483663,\n",
       " 0.20826078369728673]"
      ]
     },
     "execution_count": 6,
     "metadata": {},
     "output_type": "execute_result"
    }
   ],
   "source": [
    "import numpy as np\n",
    "list(np.random.rand(10))"
   ]
  },
  {
   "cell_type": "code",
   "execution_count": 9,
   "metadata": {},
   "outputs": [],
   "source": [
    "from datetime import datetime as dt\n",
    "# dt.utcnow()??\n",
    "# .timestamp()"
   ]
  },
  {
   "cell_type": "code",
   "execution_count": 29,
   "metadata": {},
   "outputs": [
    {
     "data": {
      "text/plain": [
       "1646929196.213342"
      ]
     },
     "execution_count": 29,
     "metadata": {},
     "output_type": "execute_result"
    }
   ],
   "source": [
    "import time\n",
    "time.time()"
   ]
  },
  {
   "cell_type": "code",
   "execution_count": 6,
   "metadata": {},
   "outputs": [],
   "source": [
    "from tqdm import tqdm"
   ]
  },
  {
   "cell_type": "code",
   "execution_count": 15,
   "metadata": {},
   "outputs": [
    {
     "name": "stderr",
     "output_type": "stream",
     "text": [
      "100%|██████████| 591/591 [00:00<00:00, 1032.09it/s]\n"
     ]
    }
   ],
   "source": [
    "import numpy as np\n",
    "\n",
    "# Сюда будем писать время сортировки\n",
    "lst_bubble = []\n",
    "lst_selection = []\n",
    "lst_merge = []\n",
    "lst_quick = []\n",
    "\n",
    "# На каждом шаге генерируем случайный список длины i\n",
    "for i in tqdm(range(10, 601)):\n",
    "    l = sorted(list(np.random.rand(i)), reverse = True)\n",
    "    l2 = l.copy()\n",
    "    l3 = l.copy()\n",
    "#     l2.sort()\n",
    "#     l2.reverse()\n",
    "\n",
    "    # Засекаем время и сортируем его пузырьком\n",
    "#     t0 = float(dt.utcnow().timestamp())\n",
    "# #     l = sorted(l)\n",
    "#     l = bubble_sort(l)\n",
    "#     t1 = float(dt.utcnow().timestamp()) - t0\n",
    "#     lst_bubble.append(t1)\n",
    "\n",
    "#     # Засекаем время и сортируем его выбором\n",
    "    t0 = float(dt.utcnow().timestamp())\n",
    "    l2 = sorted(l2)\n",
    "    t1 = float(dt.utcnow().timestamp()) - t0\n",
    "    lst_quick.append(t1)\n",
    "    \n",
    "    # Засекаем время и сортируем его слиянием\n",
    "    t0 = float(dt.utcnow().timestamp())\n",
    "    l3 = merge_sort(l3)\n",
    "    t1 = float(dt.utcnow().timestamp()) - t0\n",
    "    lst_merge.append(t1)"
   ]
  },
  {
   "cell_type": "code",
   "execution_count": 46,
   "metadata": {},
   "outputs": [],
   "source": [
    "lst = [1,2,3]\n",
    "x = lst.sort()\n"
   ]
  },
  {
   "cell_type": "code",
   "execution_count": 47,
   "metadata": {},
   "outputs": [
    {
     "data": {
      "text/plain": [
       "NoneType"
      ]
     },
     "execution_count": 47,
     "metadata": {},
     "output_type": "execute_result"
    }
   ],
   "source": [
    "type(x)"
   ]
  },
  {
   "cell_type": "code",
   "execution_count": 16,
   "metadata": {},
   "outputs": [
    {
     "data": {
      "text/plain": [
       "<matplotlib.legend.Legend at 0x7f87edfaa490>"
      ]
     },
     "execution_count": 16,
     "metadata": {},
     "output_type": "execute_result"
    },
    {
     "data": {
      "image/png": "[encoded data removed]",
      "text/plain": [
       "<Figure size 432x288 with 1 Axes>"
      ]
     },
     "metadata": {
      "needs_background": "light"
     },
     "output_type": "display_data"
    }
   ],
   "source": [
    "# Библиотека для рисования\n",
    "from matplotlib.pyplot import plot, legend\n",
    "\n",
    "# plot(список значений по оси X, список значений по оси Y, label = название линии на графике)\n",
    "# plot(range(10, 501), lst_bubble, label='Bubble')\n",
    "plot(range(10, 601), lst_quick, label='Tim')\n",
    "plot(range(10, 601), lst_merge, label='Merge')\n",
    "legend()"
   ]
  },
  {
   "cell_type": "code",
   "execution_count": 32,
   "metadata": {},
   "outputs": [],
   "source": [
    "lst = [1,2,3]\n",
    "lst2 = 'abc'\n",
    "\n",
    "lst.extend(lst2)\n"
   ]
  },
  {
   "cell_type": "code",
   "execution_count": 33,
   "metadata": {},
   "outputs": [
    {
     "data": {
      "text/plain": [
       "[1, 2, 3, 'a', 'b', 'c']"
      ]
     },
     "execution_count": 33,
     "metadata": {},
     "output_type": "execute_result"
    }
   ],
   "source": [
    "lst"
   ]
  },
  {
   "cell_type": "markdown",
   "metadata": {},
   "source": [
    "### Сортировка вставкой\n",
    "\n",
    "Этот алгоритм сегментирует список на две части: отсортированную и неотсортированную. Перебираются элементы в неотсортированной части массива. Каждый элемент вставляется в отсортированную часть массива на то место, где он должен находиться.\n",
    "\n",
    "**Алгоритм**\n",
    "Проходим по массиву слева направо и обрабатываем по очереди каждый элемент. Слева от очередного элемента наращиваем отсортированную часть массива, справа по мере процесса потихоньку испаряется неотсортированная. В отсортированной части массива ищется точка вставки для очередного элемента. Сам элемент отправляется в буфер, в результате чего в массиве появляется свободная ячейка — это позволяет сдвинуть элементы и освободить точку вставки. "
   ]
  },
  {
   "cell_type": "code",
   "execution_count": 13,
   "metadata": {},
   "outputs": [],
   "source": [
    "def insertion(data):\n",
    "    \n",
    "    # Идем по нашему списку от элемента номер 1 (по счету это второй) до конца\n",
    "    for i in range(1, len(data)):\n",
    "        \n",
    "        # Индекс \"предыдущего\" для i элемента\n",
    "        j = i - 1\n",
    "        \n",
    "        # Сохраним элемент номер i в \"буфер\"\n",
    "        key = data[i]\n",
    "        \n",
    "        # Пока предыдущий для i-того элемент больше следующего и индекс \"предыдущего\" не дошел до 0\n",
    "        # сдвигаем j влево, пока не дойдем до места, на которое надо вставить элемент key\n",
    "        # вставляем его\n",
    "        while data[j] > key and j >= 0:\n",
    "            \n",
    "            data[j + 1] = data[j]\n",
    "            j -= 1\n",
    "        data[j + 1] = key\n",
    "\n",
    "    return data"
   ]
  },
  {
   "cell_type": "code",
   "execution_count": 15,
   "metadata": {},
   "outputs": [
    {
     "data": {
      "text/plain": [
       "[1, 2, 5, 7, 9]"
      ]
     },
     "execution_count": 15,
     "metadata": {},
     "output_type": "execute_result"
    }
   ],
   "source": [
    "lst = [1,5,7,9,2]\n",
    "insertion(lst)"
   ]
  },
  {
   "cell_type": "markdown",
   "metadata": {},
   "source": [
    "### Сортировка слиянием\n",
    "Этот алгоритм относится к алгоритмам «разделяй и властвуй». Он разбивает список на две части, каждую из них он разбивает ещё на две и т. д. Список разбивается пополам, пока не останутся единичные элементы.\n",
    "\n",
    "Соседние элементы становятся отсортированными парами. Затем эти пары объединяются и сортируются с другими парами. Этот процесс продолжается до тех пор, пока не отсортируются все элементы.\n",
    "\n",
    "**Алгоритм**\n",
    "Список рекурсивно разделяется пополам, пока в итоге не получатся списки размером в один элемент. Массив из одного элемента считается упорядоченным. Соседние элементы сравниваются и соединяются вместе. Это происходит до тех пор, пока не получится полный отсортированный список.\n",
    "\n",
    "Сортировка осуществляется путём сравнения наименьших элементов каждого подмассива. Первые элементы каждого подмассива сравниваются первыми. Наименьший элемент перемещается в результирующий массив. Счётчики результирующего массива и подмассива, откуда был взят элемент, увеличиваются на 1."
   ]
  },
  {
   "cell_type": "code",
   "execution_count": 7,
   "metadata": {},
   "outputs": [
    {
     "name": "stdout",
     "output_type": "stream",
     "text": [
      "[45, 68, 120, 176, 250]\n"
     ]
    }
   ],
   "source": [
    "# Функция, чтобы объединить два отсортированных списка\n",
    "def merge(left_list, right_list):\n",
    "\n",
    "    # Сюда будет записан результирующий отсортированный список\n",
    "    sorted_list = []\n",
    "\n",
    "    # поначалу оба индекса в нуле\n",
    "    left_list_index = right_list_index = 0\n",
    "\n",
    "    # Длина списков часто используется, поэтому создадим переменные для удобства\n",
    "    left_list_length, right_list_length = len(left_list), len(right_list)\n",
    "\n",
    "    # Проходим по всем элементам обоих списков. _ - просто обозначение неиспользуемой переменной\n",
    "    # Цикл нужен, чтобы пройти все left_list_length + right_list_length элементов\n",
    "    for _ in range(left_list_length + right_list_length):\n",
    "        if left_list_index < left_list_length and right_list_index < right_list_length:\n",
    "\n",
    "            # Сравниваем первые элементы в начале каждого списка\n",
    "            # Если первый элемент левого подсписка меньше, добавляем его\n",
    "            # в отсортированный массив\n",
    "            if left_list[left_list_index] <= right_list[right_list_index]:\n",
    "                sorted_list.append(left_list[left_list_index])\n",
    "                left_list_index += 1\n",
    "\n",
    "            # Если первый элемент правого подсписка меньше, добавляем его\n",
    "            # в отсортированный массив\n",
    "            else:\n",
    "                sorted_list.append(right_list[right_list_index])\n",
    "                right_list_index += 1\n",
    "\n",
    "        # Если достигнут конец левого списка, элементы правого списка\n",
    "        # добавляем в конец результирующего списка\n",
    "        elif left_list_index == left_list_length:\n",
    "            sorted_list.append(right_list[right_list_index])\n",
    "            right_list_index += 1\n",
    "\n",
    "        # Если достигнут конец правого списка, элементы левого списка\n",
    "        # добавляем в отсортированный массив\n",
    "        elif right_list_index == right_list_length:\n",
    "            sorted_list.append(left_list[left_list_index])\n",
    "            left_list_index += 1\n",
    "\n",
    "    return sorted_list\n",
    "\n",
    "\n",
    "# Сортировка слиянием\n",
    "def merge_sort(nums):\n",
    "\n",
    "    # Возвращаем список, если он состоит из одного элемента\n",
    "    if len(nums) <= 1:\n",
    "        return nums\n",
    "\n",
    "    # Для того чтобы найти середину списка, используем деление без остатка\n",
    "    # Индексы должны быть integer\n",
    "    mid = len(nums) // 2\n",
    "\n",
    "    # Сортируем и объединяем подсписки (до mid и после mid)\n",
    "    left_list = merge_sort(nums[:mid])\n",
    "    right_list = merge_sort(nums[mid:])\n",
    "\n",
    "    # Объединяем отсортированные списки в результирующий\n",
    "    return merge(left_list, right_list)\n",
    "\n",
    "\n",
    "# Проверяем, что оно работает\n",
    "random_list_of_nums = [120, 45, 68, 250, 176]\n",
    "random_list_of_nums = merge_sort(random_list_of_nums)\n",
    "print(random_list_of_nums)"
   ]
  },
  {
   "cell_type": "markdown",
   "metadata": {},
   "source": [
    "### Быстрая сортировка\n",
    "Этот алгоритм также относится к алгоритмам «разделяй и властвуй». При правильной конфигурации он чрезвычайно эффективен и не требует дополнительной памяти, в отличие от сортировки слиянием. Массив разделяется на две части по разные стороны от опорного элемента. В процессе сортировки элементы меньше опорного помещаются перед ним, а равные или большие —позади.\n",
    "\n",
    "#### Алгоритм\n",
    "Быстрая сортировка начинается с разбиения списка и выбора одного из элементов в качестве опорного. А всё остальное передвигается так, чтобы этот элемент встал на своё место. Все элементы меньше него перемещаются влево, а равные и большие элементы перемещаются вправо.\n",
    "\n",
    "#### Реализация\n",
    "Существует много вариаций данного метода. Способ разбиения массива, рассмотренный здесь, соответствует схеме Хоара (создателя данного алгоритма)."
   ]
  },
  {
   "cell_type": "code",
   "execution_count": 1,
   "metadata": {},
   "outputs": [],
   "source": [
    "# Функция принимает на вход список nums\n",
    "def quicksort(nums):\n",
    "    \n",
    "    # Если его длина 0 и 1, возвращает его же - такой список всегда отсортирован :)\n",
    "    if len(nums) <= 1:\n",
    "        return nums\n",
    "    else:\n",
    "        \n",
    "        # Если длина > 1 в качестве опорного выбирается случайный элемент из списка\n",
    "        q = random.choice(nums)\n",
    "        \n",
    "        # Создается три списка: \n",
    "        # Сюда запишем элементы < q\n",
    "        s_nums = []\n",
    "        \n",
    "        # Сюда запишем элементы > q\n",
    "        m_nums = []\n",
    "        \n",
    "        # Сюда запишем элементы = q\n",
    "        e_nums = []\n",
    "        \n",
    "    # Пишем\n",
    "    for n in nums:\n",
    "        if n < q:\n",
    "            s_nums.append(n)\n",
    "        elif n > q:\n",
    "            m_nums.append(n)\n",
    "        else:\n",
    "            e_nums.append(n)\n",
    "            \n",
    "    # А теперь рекурсивно проделаем ту же процедуру с левым и правым списками: s_nums и m_nums\n",
    "    return quicksort(s_nums) + e_nums + quicksort(m_nums)"
   ]
  },
  {
   "cell_type": "code",
   "execution_count": 2,
   "metadata": {},
   "outputs": [
    {
     "data": {
      "text/plain": [
       "[1, 2, 3, 4, 5, 6, 7, 9]"
      ]
     },
     "execution_count": 2,
     "metadata": {},
     "output_type": "execute_result"
    }
   ],
   "source": [
    "import random\n",
    "quicksort([1, 2, 3, 4, 9, 6, 7, 5])"
   ]
  },
  {
   "cell_type": "markdown",
   "metadata": {},
   "source": [
    "Немного оптимизируем по памяти - мы много сохраняли лишней информации. За опорную точку выбирать будем начало списка."
   ]
  },
  {
   "cell_type": "code",
   "execution_count": 3,
   "metadata": {},
   "outputs": [],
   "source": [
    "# Функция принимает на вход список и индексы его начала и конца\n",
    "def partition(array, start, end):\n",
    "    \n",
    "    # За опорный элемент выбрано начало (его индекс)\n",
    "    pivot = start\n",
    "    \n",
    "    # Идем по списку от 1 элемента до конца\n",
    "    for i in range(start+1, end+1):\n",
    "        \n",
    "        # Если элемент меньше или равен опорному\n",
    "        if array[i] <= array[start]:\n",
    "            \n",
    "            #Идем по списку от 1 элемента до конца\n",
    "            pivot += 1\n",
    "            array[i], array[pivot] = array[pivot], array[i]\n",
    "    array[pivot], array[start] = array[start], array[pivot]\n",
    "    return pivot\n",
    "\n",
    "\n",
    "def quick_sort(array, start=0, end=None):\n",
    "    if end is None:\n",
    "        end = len(array) - 1\n",
    "\n",
    "    def _quicksort(array, start, end):\n",
    "        if start >= end:\n",
    "            return\n",
    "        pivot = partition(array, start, end)\n",
    "        _quicksort(array, start, pivot-1)\n",
    "        _quicksort(array, pivot+1, end)\n",
    "    return _quicksort(array, start, end)"
   ]
  },
  {
   "cell_type": "code",
   "execution_count": 4,
   "metadata": {},
   "outputs": [
    {
     "name": "stdout",
     "output_type": "stream",
     "text": [
      "[6, 11, 11, 12, 13, 17, 18, 19, 19, 23, 24, 26, 29, 32, 36, 41, 47, 71, 71]\n"
     ]
    }
   ],
   "source": [
    "array = [29, 19, 47, 11, 6, 19, 24, 12, 17,\n",
    "         23, 11, 71, 41, 36, 71, 13, 18, 32, 26]\n",
    "quick_sort(array)\n",
    "print(array)"
   ]
  },
  {
   "cell_type": "code",
   "execution_count": null,
   "metadata": {},
   "outputs": [],
   "source": []
  }
 ],
 "metadata": {
  "kernelspec": {
   "display_name": "Python 3",
   "language": "python",
   "name": "python3"
  },
  "language_info": {
   "codemirror_mode": {
    "name": "ipython",
    "version": 3
   },
   "file_extension": ".py",
   "mimetype": "text/x-python",
   "name": "python",
   "nbconvert_exporter": "python",
   "pygments_lexer": "ipython3",
   "version": "3.8.3"
  }
 },
 "nbformat": 4,
 "nbformat_minor": 2
}
