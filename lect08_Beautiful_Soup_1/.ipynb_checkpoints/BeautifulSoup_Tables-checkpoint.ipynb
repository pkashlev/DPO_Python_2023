{
 "cells": [
  {
   "cell_type": "markdown",
   "metadata": {
    "colab_type": "text",
    "id": "6coq6VkPKjBn"
   },
   "source": [
    "# Python для анализа данных\n",
    "\n",
    "## Web-Scraping. BeautifulSoup. Парсинг таблиц в html.\n",
    "\n",
    "Автор: *Татьяна Рогович, НИУ ВШЭ*\n",
    "\n",
    "Дополнения: *Ян Пиле, НИУ ВШЭ*"
   ]
  },
  {
   "cell_type": "markdown",
   "metadata": {},
   "source": [
    "Мы с вами посмотрели как создавать html-файлы. Давайте начнем с игрушечного примера, чтобы теперь разобраться, как информацию из таблиц доставать."
   ]
  },
  {
   "cell_type": "markdown",
   "metadata": {
    "colab_type": "text",
    "id": "4V_Cb2t2KjEN"
   },
   "source": [
    "Сначала мы импортируем библиотеку `requests`. Она позволяет нам просто  и удобно посылать HTTP/1.1 запросы, не утруждаясь ручным трудом."
   ]
  },
  {
   "cell_type": "code",
   "execution_count": 4,
   "metadata": {
    "colab": {},
    "colab_type": "code",
    "id": "GCHfTwnWKjEO"
   },
   "outputs": [],
   "source": [
    "import requests"
   ]
  },
  {
   "cell_type": "code",
   "execution_count": 10,
   "metadata": {},
   "outputs": [],
   "source": [
    "link = 'https://raw.githubusercontent.com/pileyan/DPO_Python_2023/master/lect08_Beautiful_soup1/simple_table.html'"
   ]
  },
  {
   "cell_type": "code",
   "execution_count": 15,
   "metadata": {},
   "outputs": [
    {
     "data": {
      "text/plain": [
       "'<!DOCTYPE html>\\n<html>\\n<head>\\n<title>Page Title</title>\\n</head>\\n<body>\\n\\n<h1>Моя первая html-страница</h1>\\n<h2>О себе</h2>\\n<p>Я учусь создавать html-страницы.</p>\\n\\n<table border=\"1\">\\n<caption>Информация</caption>\\n<tr>\\n<th>Фамилия</th>\\n<th>Имя</th>\\n<th>Возраст</th>\\n</tr>\\n<tr>\\n<td>Тамбовцева</td>\\n<td>Алла</td>\\n<td>24</td>\\n</tr>\\n<tr>\\n<td>Иванов</td>\\n<td>Петр</td>\\n<td>32</td>\\n</tr>\\n<tr>\\n<td>Константинопольский</td>\\n<td>Константин</td>\\n<td>29</td>\\n</tr>\\n</table>\\n    \\n<table>\\n<tr>\\n<td>Тамбовцева</td>\\n<td>Алла</td>\\n<td>24</td>\\n</tr>\\n</table>\\n\\n</body>\\n</html>'"
      ]
     },
     "execution_count": 15,
     "metadata": {},
     "output_type": "execute_result"
    }
   ],
   "source": [
    "requests.get(link).text"
   ]
  },
  {
   "cell_type": "markdown",
   "metadata": {
    "colab_type": "text",
    "id": "PyXOofPIKjET"
   },
   "source": [
    "Теперь мы должны указать адрес страницы с которой мы будем скрейпить данные и сохраним ее в переменную `website_url`.\n",
    "`requests.get(url).text` обратиться к сайту и вернет `HTML` код сайта."
   ]
  },
  {
   "cell_type": "code",
   "execution_count": 24,
   "metadata": {},
   "outputs": [],
   "source": [
    "website_url = requests.get(link).text"
   ]
  },
  {
   "cell_type": "markdown",
   "metadata": {},
   "source": [
    "По ссылке совсем небольшой файл - почти такой же как тот, который мы с вами сделали в интерактивном тренажере."
   ]
  },
  {
   "cell_type": "code",
   "execution_count": 25,
   "metadata": {},
   "outputs": [
    {
     "data": {
      "text/plain": [
       "'<!DOCTYPE html>\\n<html>\\n<head>\\n<title>Page Title</title>\\n</head>\\n<body>\\n\\n<h1>Моя первая html-страница</h1>\\n<h2>О себе</h2>\\n<p>Я учусь создавать html-страницы.</p>\\n\\n<table border=\"1\">\\n<caption>Информация</caption>\\n<tr>\\n<th>Фамилия</th>\\n<th>Имя</th>\\n<th>Возраст</th>\\n</tr>\\n<tr>\\n<td>Тамбовцева</td>\\n<td>Алла</td>\\n<td>24</td>\\n</tr>\\n<tr>\\n<td>Иванов</td>\\n<td>Петр</td>\\n<td>32</td>\\n</tr>\\n<tr>\\n<td>Константинопольский</td>\\n<td>Константин</td>\\n<td>29</td>\\n</tr>\\n</table>\\n    \\n<table>\\n<tr>\\n<td>Тамбовцева</td>\\n<td>Алла</td>\\n<td>24</td>\\n</tr>\\n</table>\\n\\n</body>\\n</html>'"
      ]
     },
     "execution_count": 25,
     "metadata": {},
     "output_type": "execute_result"
    }
   ],
   "source": [
    "website_url"
   ]
  },
  {
   "cell_type": "markdown",
   "metadata": {
    "colab_type": "text",
    "id": "bT9LVvyEKjEX"
   },
   "source": [
    "Как мы видим, весь код представлен просто блоком текста, который неудобно читать и разбирать. Поэтому мы создадим объект `BeautifulSoup` с помощью функциии `BeautifulSoup`, предварительно импортировав саму библиотеку. `Beautiful Soup` это библиотека для парсинга `HTML` и `XML` документов. Она создает дерево из `HTML` кода, что очень полезно при скрейпинге. Функция `prettify()` позволяет видеть код в более удобном виде, в том числе с разбивкой по тегам."
   ]
  },
  {
   "cell_type": "code",
   "execution_count": 26,
   "metadata": {},
   "outputs": [],
   "source": [
    "# !pip install bs4"
   ]
  },
  {
   "cell_type": "code",
   "execution_count": 19,
   "metadata": {},
   "outputs": [],
   "source": [
    "BeautifulSoup??"
   ]
  },
  {
   "cell_type": "code",
   "execution_count": 27,
   "metadata": {},
   "outputs": [],
   "source": [
    "from bs4 import BeautifulSoup\n",
    "soup = BeautifulSoup(website_url, 'html')\n"
   ]
  },
  {
   "cell_type": "code",
   "execution_count": 28,
   "metadata": {},
   "outputs": [
    {
     "name": "stdout",
     "output_type": "stream",
     "text": [
      "<!DOCTYPE html>\n",
      "<html>\n",
      " <head>\n",
      "  <title>\n",
      "   Page Title\n",
      "  </title>\n",
      " </head>\n",
      " <body>\n",
      "  <h1>\n",
      "   Моя первая html-страница\n",
      "  </h1>\n",
      "  <h2>\n",
      "   О себе\n",
      "  </h2>\n",
      "  <p>\n",
      "   Я учусь создавать html-страницы.\n",
      "  </p>\n",
      "  <table border=\"1\">\n",
      "   <caption>\n",
      "    Информация\n",
      "   </caption>\n",
      "   <tr>\n",
      "    <th>\n",
      "     Фамилия\n",
      "    </th>\n",
      "    <th>\n",
      "     Имя\n",
      "    </th>\n",
      "    <th>\n",
      "     Возраст\n",
      "    </th>\n",
      "   </tr>\n",
      "   <tr>\n",
      "    <td>\n",
      "     Тамбовцева\n",
      "    </td>\n",
      "    <td>\n",
      "     Алла\n",
      "    </td>\n",
      "    <td>\n",
      "     24\n",
      "    </td>\n",
      "   </tr>\n",
      "   <tr>\n",
      "    <td>\n",
      "     Иванов\n",
      "    </td>\n",
      "    <td>\n",
      "     Петр\n",
      "    </td>\n",
      "    <td>\n",
      "     32\n",
      "    </td>\n",
      "   </tr>\n",
      "   <tr>\n",
      "    <td>\n",
      "     Константинопольский\n",
      "    </td>\n",
      "    <td>\n",
      "     Константин\n",
      "    </td>\n",
      "    <td>\n",
      "     29\n",
      "    </td>\n",
      "   </tr>\n",
      "  </table>\n",
      "  <table>\n",
      "   <tr>\n",
      "    <td>\n",
      "     Тамбовцева\n",
      "    </td>\n",
      "    <td>\n",
      "     Алла\n",
      "    </td>\n",
      "    <td>\n",
      "     24\n",
      "    </td>\n",
      "   </tr>\n",
      "  </table>\n",
      " </body>\n",
      "</html>\n"
     ]
    }
   ],
   "source": [
    "print(soup.prettify())"
   ]
  },
  {
   "cell_type": "markdown",
   "metadata": {},
   "source": [
    "Видим, что .prettify() упорядочил наш html код и представил его в видел дерева и вложенных узлов. Давайте попробуем найти таблицу. За поиск отвечает метод .find_all(), которому мы передаем тэг для поиска."
   ]
  },
  {
   "cell_type": "code",
   "execution_count": 30,
   "metadata": {},
   "outputs": [
    {
     "data": {
      "text/plain": [
       "2"
      ]
     },
     "execution_count": 30,
     "metadata": {},
     "output_type": "execute_result"
    }
   ],
   "source": [
    "len(tables)"
   ]
  },
  {
   "cell_type": "code",
   "execution_count": 29,
   "metadata": {},
   "outputs": [
    {
     "name": "stdout",
     "output_type": "stream",
     "text": [
      "[<table border=\"1\">\n",
      "<caption>Информация</caption>\n",
      "<tr>\n",
      "<th>Фамилия</th>\n",
      "<th>Имя</th>\n",
      "<th>Возраст</th>\n",
      "</tr>\n",
      "<tr>\n",
      "<td>Тамбовцева</td>\n",
      "<td>Алла</td>\n",
      "<td>24</td>\n",
      "</tr>\n",
      "<tr>\n",
      "<td>Иванов</td>\n",
      "<td>Петр</td>\n",
      "<td>32</td>\n",
      "</tr>\n",
      "<tr>\n",
      "<td>Константинопольский</td>\n",
      "<td>Константин</td>\n",
      "<td>29</td>\n",
      "</tr>\n",
      "</table>, <table>\n",
      "<tr>\n",
      "<td>Тамбовцева</td>\n",
      "<td>Алла</td>\n",
      "<td>24</td>\n",
      "</tr>\n",
      "</table>]\n"
     ]
    }
   ],
   "source": [
    "tables = soup.find_all('table')\n",
    "print(tables)"
   ]
  },
  {
   "cell_type": "markdown",
   "metadata": {},
   "source": [
    "Получили на выходе список, который содержит все элементы, принадлежащие к тэгу. В этом примере таблиц у нас две, каждая из них является отдельным элементом списка."
   ]
  },
  {
   "cell_type": "code",
   "execution_count": 34,
   "metadata": {},
   "outputs": [
    {
     "data": {
      "text/plain": [
       "bs4.element.Tag"
      ]
     },
     "execution_count": 34,
     "metadata": {},
     "output_type": "execute_result"
    }
   ],
   "source": [
    "type(tables[1])\n",
    "# tables"
   ]
  },
  {
   "cell_type": "markdown",
   "metadata": {},
   "source": [
    "Иногда таблиц очень много (уже скоро увидим такое на реальном примере), поэтому поисковый запрос можно уточнить с помощью аттрибутов тэга. Так, если посмотрим на код, увидим, что у нашей первой таблицы есть атрибут border со значением 1. Передадим это уточнение в bs в виде словаря. То, что до знака равно (атрибут) - ключ, а его значение - значение."
   ]
  },
  {
   "cell_type": "code",
   "execution_count": 35,
   "metadata": {},
   "outputs": [
    {
     "name": "stdout",
     "output_type": "stream",
     "text": [
      "[<table border=\"1\">\n",
      "<caption>Информация</caption>\n",
      "<tr>\n",
      "<th>Фамилия</th>\n",
      "<th>Имя</th>\n",
      "<th>Возраст</th>\n",
      "</tr>\n",
      "<tr>\n",
      "<td>Тамбовцева</td>\n",
      "<td>Алла</td>\n",
      "<td>24</td>\n",
      "</tr>\n",
      "<tr>\n",
      "<td>Иванов</td>\n",
      "<td>Петр</td>\n",
      "<td>32</td>\n",
      "</tr>\n",
      "<tr>\n",
      "<td>Константинопольский</td>\n",
      "<td>Константин</td>\n",
      "<td>29</td>\n",
      "</tr>\n",
      "</table>]\n"
     ]
    }
   ],
   "source": [
    "tables = soup.find_all('table', {'border':1}) # так поиск вернет только одну таблицу.\n",
    "print(tables)"
   ]
  },
  {
   "cell_type": "markdown",
   "metadata": {},
   "source": [
    "Давайте теперь, например, в один список сохраним фамилии людей из нашей таблицы, а в другой возраст."
   ]
  },
  {
   "cell_type": "code",
   "execution_count": 41,
   "metadata": {},
   "outputs": [
    {
     "data": {
      "text/plain": [
       "bs4.element.Tag"
      ]
     },
     "execution_count": 41,
     "metadata": {},
     "output_type": "execute_result"
    }
   ],
   "source": [
    "rows = tables[0].find_all('tr') # нашли теперь все ряды в таблице\n",
    "# print(rows[0])\n",
    "type(rows[0])"
   ]
  },
  {
   "cell_type": "markdown",
   "metadata": {},
   "source": [
    "Нашли все ряды. Первый ряд с заголовками колонок (тэги th, можно его пропустить)."
   ]
  },
  {
   "cell_type": "code",
   "execution_count": 42,
   "metadata": {},
   "outputs": [
    {
     "data": {
      "text/plain": [
       "[<td>Тамбовцева</td>, <td>Алла</td>, <td>24</td>]"
      ]
     },
     "execution_count": 42,
     "metadata": {},
     "output_type": "execute_result"
    }
   ],
   "source": [
    "rows[1].find_all('td') "
   ]
  },
  {
   "cell_type": "markdown",
   "metadata": {},
   "source": [
    "Добрались до внутреннего тэга td - глубже идти некуда. Тут три элемента (три колонки). Давайте забирать отсюда возраст и фамилию."
   ]
  },
  {
   "cell_type": "code",
   "execution_count": 49,
   "metadata": {},
   "outputs": [
    {
     "data": {
      "text/plain": [
       "'Тамбовцева'"
      ]
     },
     "execution_count": 49,
     "metadata": {},
     "output_type": "execute_result"
    }
   ],
   "source": [
    "rows[1].find_all('td')[0].text"
   ]
  },
  {
   "cell_type": "markdown",
   "metadata": {},
   "source": [
    "Чтобы избавиться от тэгов используем атрибут text - выводит текст, который лежит между тэгами. Еще для надежности можно использовать strip() - удалит невидимые символы, если они есть, а если их нет, то ошибки тоже не выдаст."
   ]
  },
  {
   "cell_type": "code",
   "execution_count": 52,
   "metadata": {},
   "outputs": [
    {
     "data": {
      "text/plain": [
       "<tr>\n",
       "<th>Фамилия</th>\n",
       "<th>Имя</th>\n",
       "<th>Возраст</th>\n",
       "</tr>"
      ]
     },
     "execution_count": 52,
     "metadata": {},
     "output_type": "execute_result"
    }
   ],
   "source": []
  },
  {
   "cell_type": "code",
   "execution_count": 53,
   "metadata": {},
   "outputs": [
    {
     "name": "stdout",
     "output_type": "stream",
     "text": [
      "['Тамбовцева', 'Иванов', 'Константинопольский'] ['24', '32', '29']\n"
     ]
    }
   ],
   "source": [
    "surnames = []\n",
    "ages = []\n",
    "\n",
    "for row in rows[1:]: # начинаем цикл со второго объекта\n",
    "    surnames.append(row.find_all('td')[0].text.strip())\n",
    "    ages.append(row.find_all('td')[2].text.strip())\n",
    "    \n",
    "print(surnames, ages)"
   ]
  },
  {
   "cell_type": "code",
   "execution_count": 54,
   "metadata": {},
   "outputs": [
    {
     "data": {
      "text/plain": [
       "'Тамбовцева'"
      ]
     },
     "execution_count": 54,
     "metadata": {},
     "output_type": "execute_result"
    }
   ],
   "source": [
    "# '   Тамбовцева  '.strip()"
   ]
  },
  {
   "cell_type": "markdown",
   "metadata": {},
   "source": [
    "А теперь давайте запишем собранную информацию в файл. Табличные данные часто хранятся в формате csv - comma separated values, поэтому будем просто записывать значения в текстовый файл через запятую."
   ]
  },
  {
   "cell_type": "code",
   "execution_count": 42,
   "metadata": {},
   "outputs": [],
   "source": [
    "f = open('table.csv', 'w', encoding = 'utf8')\n",
    "\n",
    "for idx in range(len(surnames)):\n",
    "    f.write(f'{surnames[idx]},{ages[idx]}\\n')\n",
    "    \n",
    "f.close()"
   ]
  },
  {
   "cell_type": "code",
   "execution_count": 43,
   "metadata": {},
   "outputs": [
    {
     "name": "stdout",
     "output_type": "stream",
     "text": [
      "Тамбовцева,24\n",
      "\n",
      "Иванов,32\n",
      "\n",
      "Константинопольский,29\n",
      "\n"
     ]
    }
   ],
   "source": [
    "with open('table.csv', encoding='utf8') as f:\n",
    "    for line in f:\n",
    "        print(line)"
   ]
  },
  {
   "cell_type": "markdown",
   "metadata": {},
   "source": [
    "Сейчас не будем углубляться в детали библиотеки pandas, но просто посмотрим, как красиво выглядят  в таблице только что собранные данные."
   ]
  },
  {
   "cell_type": "code",
   "execution_count": 44,
   "metadata": {},
   "outputs": [
    {
     "data": {
      "text/html": [
       "<div>\n",
       "<style scoped>\n",
       "    .dataframe tbody tr th:only-of-type {\n",
       "        vertical-align: middle;\n",
       "    }\n",
       "\n",
       "    .dataframe tbody tr th {\n",
       "        vertical-align: top;\n",
       "    }\n",
       "\n",
       "    .dataframe thead th {\n",
       "        text-align: right;\n",
       "    }\n",
       "</style>\n",
       "<table border=\"1\" class=\"dataframe\">\n",
       "  <thead>\n",
       "    <tr style=\"text-align: right;\">\n",
       "      <th></th>\n",
       "      <th>0</th>\n",
       "      <th>1</th>\n",
       "    </tr>\n",
       "  </thead>\n",
       "  <tbody>\n",
       "    <tr>\n",
       "      <td>0</td>\n",
       "      <td>Тамбовцева</td>\n",
       "      <td>24</td>\n",
       "    </tr>\n",
       "    <tr>\n",
       "      <td>1</td>\n",
       "      <td>Иванов</td>\n",
       "      <td>32</td>\n",
       "    </tr>\n",
       "    <tr>\n",
       "      <td>2</td>\n",
       "      <td>Константинопольский</td>\n",
       "      <td>29</td>\n",
       "    </tr>\n",
       "  </tbody>\n",
       "</table>\n",
       "</div>"
      ],
      "text/plain": [
       "                     0   1\n",
       "0           Тамбовцева  24\n",
       "1               Иванов  32\n",
       "2  Константинопольский  29"
      ]
     },
     "execution_count": 44,
     "metadata": {},
     "output_type": "execute_result"
    }
   ],
   "source": [
    "import pandas as pd\n",
    "df = pd.read_csv('table.csv', encoding='utf8', header=None)\n",
    "df.head()"
   ]
  },
  {
   "cell_type": "markdown",
   "metadata": {},
   "source": [
    "# А теперь парсим реальную табличку с wiki"
   ]
  },
  {
   "cell_type": "markdown",
   "metadata": {},
   "source": [
    "Будем работать со страницей вики, на которой находится информация о испытаниях ядерного оружия. \n",
    "https://en.wikipedia.org/wiki/List_of_nuclear_weapons_tests\n",
    "\n",
    "Нашей задачей будет достать вторую таблицу Worldwide nuclear test with a yield of 1.4 Mt TNT equivalent and more и сохранить из нее в три списка три колонки - Date, Yield (мощность взрыва) и Country."
   ]
  },
  {
   "cell_type": "code",
   "execution_count": 56,
   "metadata": {
    "colab": {
     "base_uri": "https://localhost:8080/",
     "height": 54
    },
    "colab_type": "code",
    "id": "x2WEjHmOKjEU",
    "outputId": "12930b62-1106-4505-c841-ff4660314201"
   },
   "outputs": [],
   "source": [
    "website_url = requests.get('https://en.wikipedia.org/wiki/List_of_nuclear_weapons_tests').text\n",
    "# print(website_url)"
   ]
  },
  {
   "cell_type": "code",
   "execution_count": 57,
   "metadata": {
    "colab": {
     "base_uri": "https://localhost:8080/",
     "height": 1000
    },
    "colab_type": "code",
    "id": "hRGbPlOgKjEZ",
    "outputId": "2aa7d599-9c1e-4b4f-9e20-dc9a30022fac"
   },
   "outputs": [],
   "source": [
    "from bs4 import BeautifulSoup\n",
    "\n",
    "soup = BeautifulSoup(website_url,'html')\n",
    "\n",
    "# print(soup.prettify())"
   ]
  },
  {
   "cell_type": "markdown",
   "metadata": {},
   "source": [
    "Здесь таблиц уже будет много, и чтобы найти нужную уже точно понадобится атрибут."
   ]
  },
  {
   "cell_type": "code",
   "execution_count": 58,
   "metadata": {},
   "outputs": [
    {
     "data": {
      "text/plain": [
       "19"
      ]
     },
     "execution_count": 58,
     "metadata": {},
     "output_type": "execute_result"
    }
   ],
   "source": [
    "len(soup.find_all('table'))"
   ]
  },
  {
   "cell_type": "markdown",
   "metadata": {
    "colab_type": "text",
    "id": "KzzCs4YwKjEe"
   },
   "source": [
    "Если внимательно изучить код `HTML` искомой таблицы, то можно обнаружить что вся таблица находится в классе `Wikitable Sortable` (для включения отображения кода сайта в вашем браузере можно нажать правкой кнопкой мыши на таблицу и выбрать пункт *Исследовать элемент* или в любом месте страницы и *Показать исходный код*)."
   ]
  },
  {
   "cell_type": "markdown",
   "metadata": {
    "colab_type": "text",
    "id": "F6ggqHkBKjEg"
   },
   "source": [
    "Поэтому первой задачей будет найти класс *wikitable sortable* в коде `HTML`. Это можно сделать с помощью функции `find_all`, указав в качестве аргументов, что мы ищем тэг `table` с классом `wikitable sortable`."
   ]
  },
  {
   "cell_type": "code",
   "execution_count": 59,
   "metadata": {
    "colab": {
     "base_uri": "https://localhost:8080/",
     "height": 1000
    },
    "colab_type": "code",
    "id": "JxwjvVxxKjEh",
    "outputId": "de27b6e0-0669-411f-999c-5289774e175a"
   },
   "outputs": [],
   "source": [
    "My_table = soup.find_all('table',{'class':'wikitable sortable'})\n",
    "# My_table[0]"
   ]
  },
  {
   "cell_type": "code",
   "execution_count": 60,
   "metadata": {},
   "outputs": [
    {
     "data": {
      "text/plain": [
       "3"
      ]
     },
     "execution_count": 60,
     "metadata": {},
     "output_type": "execute_result"
    }
   ],
   "source": [
    "len(My_table)"
   ]
  },
  {
   "cell_type": "markdown",
   "metadata": {
    "colab_type": "text",
    "id": "nQZZEFpUKjEn"
   },
   "source": [
    "Но как вы могли заметить, то на страницы есть две таблицы, которые принадлежат этому классу. Функция `find_all` вернет все найденные объекты в виде списка. Поэтому проверим второй найденный элемент."
   ]
  },
  {
   "cell_type": "code",
   "execution_count": 63,
   "metadata": {
    "colab": {
     "base_uri": "https://localhost:8080/",
     "height": 1000
    },
    "colab_type": "code",
    "id": "p3SqtX1DKjEp",
    "outputId": "e12724cd-15d1-4df1-82db-1c59c0cfd688",
    "scrolled": false
   },
   "outputs": [],
   "source": [
    "# My_table[1]"
   ]
  },
  {
   "cell_type": "markdown",
   "metadata": {
    "colab_type": "text",
    "id": "FkYcIKRTKjEv"
   },
   "source": [
    "Все верно, это наша искомая таблица. Если дальше изучить содержимое таблицы, то станет понятно что внутри тега `th` находится заголовок таблицы, а внутри `td` строки таблицы. А оба этих тега находятся внутри тегов `tr` что является по факту строкой таблицы. Давайте извлечем все строки таблицы также используя функцию `find_all`."
   ]
  },
  {
   "cell_type": "code",
   "execution_count": 65,
   "metadata": {
    "colab": {
     "base_uri": "https://localhost:8080/",
     "height": 1000
    },
    "colab_type": "code",
    "id": "F5QYpbNzKjEw",
    "outputId": "2e60d107-6b57-4221-a612-a6899fa07bc1",
    "scrolled": false
   },
   "outputs": [],
   "source": [
    "rows = My_table[1].find_all('tr')\n",
    "# print(rows)"
   ]
  },
  {
   "cell_type": "code",
   "execution_count": 68,
   "metadata": {},
   "outputs": [],
   "source": [
    "# rows[0]"
   ]
  },
  {
   "cell_type": "markdown",
   "metadata": {
    "colab_type": "text",
    "id": "mZQYvyv4KjE2"
   },
   "source": [
    "Давайте внимательно изучим содержимое одной строки, вытащим все `td`. Отобразим вторую строчку:"
   ]
  },
  {
   "cell_type": "code",
   "execution_count": 69,
   "metadata": {
    "colab": {
     "base_uri": "https://localhost:8080/",
     "height": 137
    },
    "colab_type": "code",
    "id": "OYHYLlvKKjE3",
    "outputId": "a6d852aa-5ae5-4488-bacd-a2d93fe2691c"
   },
   "outputs": [
    {
     "data": {
      "text/plain": [
       "[<td>October 30, 1961</td>,\n",
       " <td>50</td>,\n",
       " <td>parachute air drop</td>,\n",
       " <td>Soviet Union</td>,\n",
       " <td><a href=\"/wiki/Novaya_Zemlya\" title=\"Novaya Zemlya\">Novaya Zemlya</a></td>,\n",
       " <td><a href=\"/wiki/Tsar_Bomba\" title=\"Tsar Bomba\">Tsar Bomba</a>, Test #130\n",
       " </td>]"
      ]
     },
     "execution_count": 69,
     "metadata": {},
     "output_type": "execute_result"
    }
   ],
   "source": [
    "rows[1].find_all('td')"
   ]
  },
  {
   "cell_type": "markdown",
   "metadata": {
    "colab_type": "text",
    "id": "ytmoYTZfKjE8"
   },
   "source": [
    "Мы видим нужные нам данные между тегов `<td><\\td>`, а также ссылки с тегом `<a>` и даже смешанные ячейки с обоими этими вариантами. Давайте сначала извлечем просто данные. Для этого используем функцию `get_text()` - она вернет все что между тегами."
   ]
  },
  {
   "cell_type": "markdown",
   "metadata": {
    "colab_type": "text",
    "id": "qCNsBY7FKjE9"
   },
   "source": [
    "Возьмем, например, дату (она будет первым элементом):"
   ]
  },
  {
   "cell_type": "code",
   "execution_count": 70,
   "metadata": {
    "colab": {
     "base_uri": "https://localhost:8080/",
     "height": 34
    },
    "colab_type": "code",
    "id": "7N3ERSqEKjE-",
    "outputId": "0c36a552-5199-42c5-babb-19034055989b"
   },
   "outputs": [
    {
     "data": {
      "text/plain": [
       "'October 30, 1961'"
      ]
     },
     "execution_count": 70,
     "metadata": {},
     "output_type": "execute_result"
    }
   ],
   "source": []
  },
  {
   "cell_type": "markdown",
   "metadata": {
    "colab_type": "text",
    "id": "NKExPVoTKjFC"
   },
   "source": [
    "Единственное, нам нужно отдельно обработать, это первую строку, в которой хранится заголовок ряда (table header)"
   ]
  },
  {
   "cell_type": "code",
   "execution_count": 72,
   "metadata": {
    "colab": {
     "base_uri": "https://localhost:8080/",
     "height": 34
    },
    "colab_type": "code",
    "id": "D6FMSQ24KjFD",
    "outputId": "67c3f383-2f87-4568-e655-028de61c7964"
   },
   "outputs": [
    {
     "data": {
      "text/plain": [
       "'Date (GMT)'"
      ]
     },
     "execution_count": 72,
     "metadata": {},
     "output_type": "execute_result"
    }
   ],
   "source": []
  },
  {
   "cell_type": "markdown",
   "metadata": {
    "colab_type": "text",
    "id": "fF_onkH1KjFH"
   },
   "source": [
    "Все классно, только давайте избавимся от знака переноса строки."
   ]
  },
  {
   "cell_type": "code",
   "execution_count": 61,
   "metadata": {
    "colab": {
     "base_uri": "https://localhost:8080/",
     "height": 34
    },
    "colab_type": "code",
    "id": "o7VP8de2KjFI",
    "outputId": "802f3948-1b76-4040-c081-10e2f08c3904"
   },
   "outputs": [
    {
     "data": {
      "text/plain": [
       "'Date (GMT)'"
      ]
     },
     "execution_count": 61,
     "metadata": {},
     "output_type": "execute_result"
    }
   ],
   "source": []
  },
  {
   "cell_type": "markdown",
   "metadata": {
    "colab_type": "text",
    "id": "UzfvB4coKjFN"
   },
   "source": [
    "Давайте теперь извлечем все даты. Создадим список для их хранения `Dates` и будет итерироваться по всем элементам:"
   ]
  },
  {
   "cell_type": "code",
   "execution_count": 73,
   "metadata": {},
   "outputs": [
    {
     "data": {
      "text/plain": [
       "'October 30, 1961'"
      ]
     },
     "execution_count": 73,
     "metadata": {},
     "output_type": "execute_result"
    }
   ],
   "source": []
  },
  {
   "cell_type": "code",
   "execution_count": null,
   "metadata": {},
   "outputs": [],
   "source": [
    "# Соберем в словарь, где ключ - имя колонки, а значение - список элементов"
   ]
  },
  {
   "cell_type": "code",
   "execution_count": 79,
   "metadata": {},
   "outputs": [
    {
     "data": {
      "text/plain": [
       "'Country'"
      ]
     },
     "execution_count": 79,
     "metadata": {},
     "output_type": "execute_result"
    }
   ],
   "source": []
  },
  {
   "cell_type": "code",
   "execution_count": 90,
   "metadata": {
    "colab": {
     "base_uri": "https://localhost:8080/",
     "height": 1000
    },
    "colab_type": "code",
    "id": "TaORSTo3KjFO",
    "outputId": "98f1d75e-7588-42e1-8b53-9794c0eae984"
   },
   "outputs": [],
   "source": []
  },
  {
   "cell_type": "code",
   "execution_count": 91,
   "metadata": {},
   "outputs": [],
   "source": [
    "# Data[Country_key].pop()"
   ]
  },
  {
   "cell_type": "code",
   "execution_count": 92,
   "metadata": {},
   "outputs": [],
   "source": [
    "import pandas as pd\n",
    "\n",
    "df = pd.DataFrame(Data)"
   ]
  },
  {
   "cell_type": "code",
   "execution_count": 83,
   "metadata": {},
   "outputs": [
    {
     "data": {
      "text/html": [
       "<div>\n",
       "<style scoped>\n",
       "    .dataframe tbody tr th:only-of-type {\n",
       "        vertical-align: middle;\n",
       "    }\n",
       "\n",
       "    .dataframe tbody tr th {\n",
       "        vertical-align: top;\n",
       "    }\n",
       "\n",
       "    .dataframe thead th {\n",
       "        text-align: right;\n",
       "    }\n",
       "</style>\n",
       "<table border=\"1\" class=\"dataframe\">\n",
       "  <thead>\n",
       "    <tr style=\"text-align: right;\">\n",
       "      <th></th>\n",
       "      <th>Date (GMT)</th>\n",
       "      <th>Yield (megatons)</th>\n",
       "      <th>Country</th>\n",
       "    </tr>\n",
       "  </thead>\n",
       "  <tbody>\n",
       "    <tr>\n",
       "      <th>0</th>\n",
       "      <td>October 30, 1961</td>\n",
       "      <td>50</td>\n",
       "      <td>Soviet Union</td>\n",
       "    </tr>\n",
       "    <tr>\n",
       "      <th>1</th>\n",
       "      <td>December 24, 1962</td>\n",
       "      <td>24.2</td>\n",
       "      <td>Soviet Union</td>\n",
       "    </tr>\n",
       "    <tr>\n",
       "      <th>2</th>\n",
       "      <td>August 5, 1962</td>\n",
       "      <td>21.1</td>\n",
       "      <td>Soviet Union</td>\n",
       "    </tr>\n",
       "    <tr>\n",
       "      <th>3</th>\n",
       "      <td>September 27, 1962</td>\n",
       "      <td>20.0</td>\n",
       "      <td>Soviet Union</td>\n",
       "    </tr>\n",
       "    <tr>\n",
       "      <th>4</th>\n",
       "      <td>September 25, 1962</td>\n",
       "      <td>19.1</td>\n",
       "      <td>Soviet Union</td>\n",
       "    </tr>\n",
       "    <tr>\n",
       "      <th>...</th>\n",
       "      <td>...</td>\n",
       "      <td>...</td>\n",
       "      <td>...</td>\n",
       "    </tr>\n",
       "    <tr>\n",
       "      <th>69</th>\n",
       "      <td>November 4, 1961</td>\n",
       "      <td>1.5</td>\n",
       "      <td>Soviet Union</td>\n",
       "    </tr>\n",
       "    <tr>\n",
       "      <th>70</th>\n",
       "      <td>May 11, 1958</td>\n",
       "      <td>1.4</td>\n",
       "      <td>USA</td>\n",
       "    </tr>\n",
       "    <tr>\n",
       "      <th>71</th>\n",
       "      <td>May 12, 1958</td>\n",
       "      <td>1.4</td>\n",
       "      <td>USA</td>\n",
       "    </tr>\n",
       "    <tr>\n",
       "      <th>72</th>\n",
       "      <td>July 9, 1962</td>\n",
       "      <td>1.4</td>\n",
       "      <td>USA</td>\n",
       "    </tr>\n",
       "    <tr>\n",
       "      <th>73</th>\n",
       "      <td>September 18, 1962</td>\n",
       "      <td>1.4</td>\n",
       "      <td>Soviet Union</td>\n",
       "    </tr>\n",
       "  </tbody>\n",
       "</table>\n",
       "<p>74 rows × 3 columns</p>\n",
       "</div>"
      ],
      "text/plain": [
       "            Date (GMT) Yield (megatons)       Country\n",
       "0     October 30, 1961               50  Soviet Union\n",
       "1    December 24, 1962             24.2  Soviet Union\n",
       "2       August 5, 1962             21.1  Soviet Union\n",
       "3   September 27, 1962             20.0  Soviet Union\n",
       "4   September 25, 1962             19.1  Soviet Union\n",
       "..                 ...              ...           ...\n",
       "69    November 4, 1961              1.5  Soviet Union\n",
       "70        May 11, 1958              1.4           USA\n",
       "71        May 12, 1958              1.4           USA\n",
       "72        July 9, 1962              1.4           USA\n",
       "73  September 18, 1962              1.4  Soviet Union\n",
       "\n",
       "[74 rows x 3 columns]"
      ]
     },
     "execution_count": 83,
     "metadata": {},
     "output_type": "execute_result"
    }
   ],
   "source": [
    "df"
   ]
  },
  {
   "cell_type": "markdown",
   "metadata": {
    "colab_type": "text",
    "id": "lrWAxB80KjFR"
   },
   "source": [
    "Ок! Следующие колонки, которые нам нужны - мощность взрыва и страна. Давайте поймем, где их искать."
   ]
  },
  {
   "cell_type": "code",
   "execution_count": 67,
   "metadata": {
    "colab": {
     "base_uri": "https://localhost:8080/",
     "height": 241
    },
    "colab_type": "code",
    "id": "yxBedDPLKjFS",
    "outputId": "e284fd84-b244-477d-d8a1-5e43fa723ab1"
   },
   "outputs": [
    {
     "data": {
      "text/plain": [
       "<tr>\n",
       "<th>Date (GMT)\n",
       "</th>\n",
       "<th>Yield (megatons)\n",
       "</th>\n",
       "<th>Deployment\n",
       "</th>\n",
       "<th>Country\n",
       "</th>\n",
       "<th>Test Site\n",
       "</th>\n",
       "<th>Name or Number\n",
       "</th></tr>"
      ]
     },
     "execution_count": 67,
     "metadata": {},
     "output_type": "execute_result"
    }
   ],
   "source": [
    "rows[0]"
   ]
  },
  {
   "cell_type": "markdown",
   "metadata": {
    "colab_type": "text",
    "id": "qWwWexaeKjFV"
   },
   "source": [
    "Видим, что Yield вторая колонка, а страна третья. Соберем их в отдельные списки по той же схеме, что дату. Но сначала проверим, что правильно посчитали номера."
   ]
  },
  {
   "cell_type": "code",
   "execution_count": 68,
   "metadata": {
    "colab": {
     "base_uri": "https://localhost:8080/",
     "height": 51
    },
    "colab_type": "code",
    "id": "U_wHxWlqKjFX",
    "outputId": "8a4c6e2d-8d52-4400-befd-e064801c9c84"
   },
   "outputs": [
    {
     "data": {
      "text/plain": [
       "<th>Yield (megatons)\n",
       "</th>"
      ]
     },
     "execution_count": 68,
     "metadata": {},
     "output_type": "execute_result"
    }
   ],
   "source": []
  },
  {
   "cell_type": "code",
   "execution_count": 69,
   "metadata": {
    "colab": {
     "base_uri": "https://localhost:8080/",
     "height": 51
    },
    "colab_type": "code",
    "id": "HcuXz-LsKjFa",
    "outputId": "3c310980-37d9-440a-d48d-2abb1ef672a8"
   },
   "outputs": [
    {
     "data": {
      "text/plain": [
       "<th>Country\n",
       "</th>"
      ]
     },
     "execution_count": 69,
     "metadata": {},
     "output_type": "execute_result"
    }
   ],
   "source": []
  },
  {
   "cell_type": "markdown",
   "metadata": {
    "colab_type": "text",
    "id": "Fh9zlgKKKjFe"
   },
   "source": [
    "Вроде все правильно. Единственно, не забудем хранить числа как float."
   ]
  },
  {
   "cell_type": "code",
   "execution_count": 70,
   "metadata": {
    "colab": {
     "base_uri": "https://localhost:8080/",
     "height": 1000
    },
    "colab_type": "code",
    "id": "iHUOvwyLKjFf",
    "outputId": "8495bf4c-e9ee-4b18-cbc7-0cc010e14062"
   },
   "outputs": [
    {
     "name": "stdout",
     "output_type": "stream",
     "text": [
      "['Yield (megatons)', 50.0, 24.2, 21.1, 20.0, 19.1, 15.0, 13.5, 12.5, 11.0, 10.4, 10.0, 10.0, 9.3, 8.9, 8.3, 8.2, 7.7, 6.9, 5.0, 5.0, 4.8, 4.5, 4.2, 4.0, 4.0, 4.0, 3.9, 3.8, 3.8, 3.8, 3.8, 3.5, 3.4, 3.3, 3.3, 3.1, 3.1, 3.0, 3.0, 3.0, 3.0, 3.0, 3.0, 2.9, 2.9, 2.8, 2.8, 2.7, 2.6, 2.5, 2.4, 2.3, 2.2, 2.0, 1.9, 1.9, 1.9, 1.8, 1.7, 1.6, 1.6, 1.6, 1.6, 1.5, 1.5, 1.5, 1.5, 1.5, 1.5, 1.5, 1.4, 1.4, 1.4, 1.4]\n"
     ]
    }
   ],
   "source": [
    "Yield = []\n",
    "\n",
    "Yield.append(rows[0].find_all('th')[1].get_text().strip()) # отдельно добавляем заголовок\n",
    "\n",
    "for row in rows[1:]: # начинаем со второго ряда таблицы, потому что 0 уже обработали выше\n",
    "    r = row.find_all('td') # находим все теги td для строки таблицы\n",
    "    Yield.append(float(r[1].get_text().strip())) # сохраняем данные в наш список и переводим в float\n",
    "\n",
    "print(Yield)"
   ]
  },
  {
   "cell_type": "code",
   "execution_count": 72,
   "metadata": {},
   "outputs": [
    {
     "data": {
      "text/plain": [
       "24"
      ]
     },
     "execution_count": 72,
     "metadata": {},
     "output_type": "execute_result"
    }
   ],
   "source": [
    "round(Yield[2])"
   ]
  },
  {
   "cell_type": "code",
   "execution_count": 73,
   "metadata": {
    "colab": {
     "base_uri": "https://localhost:8080/",
     "height": 1000
    },
    "colab_type": "code",
    "id": "cAjfGoVAKjFh",
    "outputId": "d929d3ea-d267-4f1c-bf48-181ccc794e73"
   },
   "outputs": [
    {
     "name": "stdout",
     "output_type": "stream",
     "text": [
      "['Country', 'Soviet Union', 'Soviet Union', 'Soviet Union', 'Soviet Union', 'Soviet Union', 'USA', 'USA', 'Soviet Union', 'USA', 'USA', 'Soviet Union', 'Soviet Union', 'USA', 'USA', 'USA', 'Soviet Union', 'USA', 'USA', 'USA', 'Soviet Union', 'USA', 'USA', 'Soviet Union', 'Soviet Union', 'Soviet Union', 'China', 'USA', 'USA', 'USA', 'USA', 'Soviet Union', 'USA', 'China', 'Soviet Union', 'China', 'Soviet Union', 'Soviet Union', 'UK', 'Soviet Union', 'USA', 'China', 'China', 'China', 'Soviet Union', 'Soviet Union', 'Soviet Union', 'Soviet Union', 'Soviet Union', 'France', 'Soviet Union', 'Soviet Union', 'Soviet Union', 'Soviet Union', 'USA', 'USA', 'Soviet Union', 'USA', 'UK', 'USA', 'Soviet Union', 'Soviet Union', 'Soviet Union', 'USA', 'Soviet Union', 'USA', 'Soviet Union', 'Soviet Union', 'Soviet Union', 'Soviet Union', 'Soviet Union', 'USA', 'USA', 'USA', 'Soviet Union']\n"
     ]
    }
   ],
   "source": [
    "Country = []\n",
    "\n",
    "Country.append(rows[0].find_all('th')[3].get_text().strip()) # отдельно добавляем заголовок\n",
    "\n",
    "for row in rows[1:]: # начинаем со второго ряда таблицы, потому что 0 уже обработали выше\n",
    "    r = row.find_all('td') # находим все теги td для строки таблицы\n",
    "    Country.append(r[3].get_text().strip()) # сохраняем данные в наш список и переводим в float\n",
    "\n",
    "print(Country)"
   ]
  },
  {
   "cell_type": "code",
   "execution_count": 74,
   "metadata": {
    "colab": {
     "base_uri": "https://localhost:8080/",
     "height": 89
    },
    "colab_type": "code",
    "id": "MHhQI6fWKjFj",
    "outputId": "882ac651-3270-4007-a59e-f5abf44a3660"
   },
   "outputs": [
    {
     "name": "stdout",
     "output_type": "stream",
     "text": [
      "['Date (GMT)', 'October 30, 1961', 'December 24, 1962', 'August 5, 1962', 'September 27, 1962', 'September 25, 1962', 'March 1, 1954', 'May 5, 1954', 'October 23, 1961', 'March 26, 1954', 'October 31, 1952', 'August 25, 1962', 'September 19, 1962', 'July 11, 1958', 'June 28, 1958', 'October 30, 1962', 'October 22, 1962', 'June 27, 1962', 'April 25, 1954', 'July 20, 1956', 'October 31, 1961', 'November 6, 1971', 'July 10, 1956', 'August 27, 1962', 'October 6, 1961', 'October 27, 1973', 'November 17, 1976', 'July 11, 1962', 'May 20, 1956', 'August 1, 1958', 'August 12, 1958', 'September 12, 1973', 'May 27, 1956', 'October 14, 1970', 'September 16, 1962', 'June 17, 1967', 'September 15, 1962', 'December 25, 1962', 'April 28, 1958', 'October 4, 1961', 'June 10, 1962', 'December 27, 1968', 'September 29, 1969', 'June 27, 1973', 'October 6, 1957', 'October 18, 1958', 'October 22, 1958', 'August 20, 1962', 'September 10, 1961', 'August 24, 1968', 'September 27, 1971', 'September 21, 1962', 'November 2, 1974', 'October 14, 1970', 'July 26, 1958', 'July 8, 1956', 'September 8, 1962', 'March 26, 1970', 'November 8, 1957', 'May 13, 1954', 'November 22, 1955', 'September 24, 1957', 'August 22, 1962', 'October 18, 1962', 'February 27, 1958', 'June 14, 1958', 'October 12, 1958', 'October 15, 1958', 'September 20, 1961', 'October 20, 1961', 'November 4, 1961', 'May 11, 1958', 'May 12, 1958', 'July 9, 1962', 'September 18, 1962']\n",
      "['Yield (megatons)', 50.0, 24.2, 21.1, 20.0, 19.1, 15.0, 13.5, 12.5, 11.0, 10.4, 10.0, 10.0, 9.3, 8.9, 8.3, 8.2, 7.7, 6.9, 5.0, 5.0, 4.8, 4.5, 4.2, 4.0, 4.0, 4.0, 3.9, 3.8, 3.8, 3.8, 3.8, 3.5, 3.4, 3.3, 3.3, 3.1, 3.1, 3.0, 3.0, 3.0, 3.0, 3.0, 3.0, 2.9, 2.9, 2.8, 2.8, 2.7, 2.6, 2.5, 2.4, 2.3, 2.2, 2.0, 1.9, 1.9, 1.9, 1.8, 1.7, 1.6, 1.6, 1.6, 1.6, 1.5, 1.5, 1.5, 1.5, 1.5, 1.5, 1.5, 1.4, 1.4, 1.4, 1.4]\n",
      "['Country', 'Soviet Union', 'Soviet Union', 'Soviet Union', 'Soviet Union', 'Soviet Union', 'USA', 'USA', 'Soviet Union', 'USA', 'USA', 'Soviet Union', 'Soviet Union', 'USA', 'USA', 'USA', 'Soviet Union', 'USA', 'USA', 'USA', 'Soviet Union', 'USA', 'USA', 'Soviet Union', 'Soviet Union', 'Soviet Union', 'China', 'USA', 'USA', 'USA', 'USA', 'Soviet Union', 'USA', 'China', 'Soviet Union', 'China', 'Soviet Union', 'Soviet Union', 'UK', 'Soviet Union', 'USA', 'China', 'China', 'China', 'Soviet Union', 'Soviet Union', 'Soviet Union', 'Soviet Union', 'Soviet Union', 'France', 'Soviet Union', 'Soviet Union', 'Soviet Union', 'Soviet Union', 'USA', 'USA', 'Soviet Union', 'USA', 'UK', 'USA', 'Soviet Union', 'Soviet Union', 'Soviet Union', 'USA', 'Soviet Union', 'USA', 'Soviet Union', 'Soviet Union', 'Soviet Union', 'Soviet Union', 'Soviet Union', 'USA', 'USA', 'USA', 'Soviet Union']\n"
     ]
    }
   ],
   "source": [
    "print(Dates)\n",
    "print(Yield)\n",
    "print(Country)"
   ]
  },
  {
   "cell_type": "markdown",
   "metadata": {},
   "source": [
    "Давайте опять сохраним данные в файл. Тут обратите внимание на запятую в дате - давайте сделаем разделителем табуляцию."
   ]
  },
  {
   "cell_type": "code",
   "execution_count": 75,
   "metadata": {},
   "outputs": [],
   "source": [
    "f = open('nuclear.csv', 'w')\n",
    "\n",
    "for idx in range(len(Dates)):\n",
    "    f.write(f'{Dates[idx]}\\t{Yield[idx]}\\t{Country[idx]}\\n')\n",
    "    \n",
    "f.close()"
   ]
  },
  {
   "cell_type": "code",
   "execution_count": 77,
   "metadata": {},
   "outputs": [
    {
     "data": {
      "text/html": [
       "<div>\n",
       "<style scoped>\n",
       "    .dataframe tbody tr th:only-of-type {\n",
       "        vertical-align: middle;\n",
       "    }\n",
       "\n",
       "    .dataframe tbody tr th {\n",
       "        vertical-align: top;\n",
       "    }\n",
       "\n",
       "    .dataframe thead th {\n",
       "        text-align: right;\n",
       "    }\n",
       "</style>\n",
       "<table border=\"1\" class=\"dataframe\">\n",
       "  <thead>\n",
       "    <tr style=\"text-align: right;\">\n",
       "      <th></th>\n",
       "      <th>Date (GMT)</th>\n",
       "      <th>Yield (megatons)</th>\n",
       "      <th>Country</th>\n",
       "    </tr>\n",
       "  </thead>\n",
       "  <tbody>\n",
       "    <tr>\n",
       "      <td>0</td>\n",
       "      <td>October 30, 1961</td>\n",
       "      <td>50.0</td>\n",
       "      <td>Soviet Union</td>\n",
       "    </tr>\n",
       "    <tr>\n",
       "      <td>1</td>\n",
       "      <td>December 24, 1962</td>\n",
       "      <td>24.2</td>\n",
       "      <td>Soviet Union</td>\n",
       "    </tr>\n",
       "    <tr>\n",
       "      <td>2</td>\n",
       "      <td>August 5, 1962</td>\n",
       "      <td>21.1</td>\n",
       "      <td>Soviet Union</td>\n",
       "    </tr>\n",
       "    <tr>\n",
       "      <td>3</td>\n",
       "      <td>September 27, 1962</td>\n",
       "      <td>20.0</td>\n",
       "      <td>Soviet Union</td>\n",
       "    </tr>\n",
       "    <tr>\n",
       "      <td>4</td>\n",
       "      <td>September 25, 1962</td>\n",
       "      <td>19.1</td>\n",
       "      <td>Soviet Union</td>\n",
       "    </tr>\n",
       "    <tr>\n",
       "      <td>5</td>\n",
       "      <td>March 1, 1954</td>\n",
       "      <td>15.0</td>\n",
       "      <td>USA</td>\n",
       "    </tr>\n",
       "    <tr>\n",
       "      <td>6</td>\n",
       "      <td>May 5, 1954</td>\n",
       "      <td>13.5</td>\n",
       "      <td>USA</td>\n",
       "    </tr>\n",
       "    <tr>\n",
       "      <td>7</td>\n",
       "      <td>October 23, 1961</td>\n",
       "      <td>12.5</td>\n",
       "      <td>Soviet Union</td>\n",
       "    </tr>\n",
       "    <tr>\n",
       "      <td>8</td>\n",
       "      <td>March 26, 1954</td>\n",
       "      <td>11.0</td>\n",
       "      <td>USA</td>\n",
       "    </tr>\n",
       "    <tr>\n",
       "      <td>9</td>\n",
       "      <td>October 31, 1952</td>\n",
       "      <td>10.4</td>\n",
       "      <td>USA</td>\n",
       "    </tr>\n",
       "    <tr>\n",
       "      <td>10</td>\n",
       "      <td>August 25, 1962</td>\n",
       "      <td>10.0</td>\n",
       "      <td>Soviet Union</td>\n",
       "    </tr>\n",
       "    <tr>\n",
       "      <td>11</td>\n",
       "      <td>September 19, 1962</td>\n",
       "      <td>10.0</td>\n",
       "      <td>Soviet Union</td>\n",
       "    </tr>\n",
       "    <tr>\n",
       "      <td>12</td>\n",
       "      <td>July 11, 1958</td>\n",
       "      <td>9.3</td>\n",
       "      <td>USA</td>\n",
       "    </tr>\n",
       "    <tr>\n",
       "      <td>13</td>\n",
       "      <td>June 28, 1958</td>\n",
       "      <td>8.9</td>\n",
       "      <td>USA</td>\n",
       "    </tr>\n",
       "    <tr>\n",
       "      <td>14</td>\n",
       "      <td>October 30, 1962</td>\n",
       "      <td>8.3</td>\n",
       "      <td>USA</td>\n",
       "    </tr>\n",
       "  </tbody>\n",
       "</table>\n",
       "</div>"
      ],
      "text/plain": [
       "            Date (GMT)  Yield (megatons)       Country\n",
       "0     October 30, 1961              50.0  Soviet Union\n",
       "1    December 24, 1962              24.2  Soviet Union\n",
       "2       August 5, 1962              21.1  Soviet Union\n",
       "3   September 27, 1962              20.0  Soviet Union\n",
       "4   September 25, 1962              19.1  Soviet Union\n",
       "5        March 1, 1954              15.0           USA\n",
       "6          May 5, 1954              13.5           USA\n",
       "7     October 23, 1961              12.5  Soviet Union\n",
       "8       March 26, 1954              11.0           USA\n",
       "9     October 31, 1952              10.4           USA\n",
       "10     August 25, 1962              10.0  Soviet Union\n",
       "11  September 19, 1962              10.0  Soviet Union\n",
       "12       July 11, 1958               9.3           USA\n",
       "13       June 28, 1958               8.9           USA\n",
       "14    October 30, 1962               8.3           USA"
      ]
     },
     "execution_count": 77,
     "metadata": {},
     "output_type": "execute_result"
    }
   ],
   "source": [
    "df = pd.read_csv('nuclear.csv', sep='\\t', index_col=None)\n",
    "df.head(15)"
   ]
  },
  {
   "cell_type": "markdown",
   "metadata": {
    "colab_type": "text",
    "id": "sOGC8QvBKjFl"
   },
   "source": [
    "# И давайте немного задачек, чтобы освежить в памяти прошлые занятия."
   ]
  },
  {
   "cell_type": "markdown",
   "metadata": {
    "colab_type": "text",
    "id": "Lp5wi55DKjFm"
   },
   "source": [
    "1. Напишите функцию, которая берет аргументом название страны и возвращает (return) среднюю мощность взрыва для этой страны (нужно сложить все значения из колонки 'Yield (megatons)', которым соответствует страна, например, США, и раделить на количество этих значений). Для подсчета используйте списки, которые мы извлекли выше.\n",
    "2. Из списка Country оставьте только уникальные значения для стран и запустите вашу функцию в цикле для каждого значения Country. Внутри цикла сделайте следующий вывод \"{название страны}: средняя мощность взрыва {средняя мощность} мегатон\"\n",
    "3. Создайте словарь, ключом в котором будет страна, а значением список из количества испытаний и максимальной мощности взрыва.\n",
    "4. Выведите ключи словаря из пункта 3 и максимальную мощность взрыва, отсортированные по максимальной мощности взрыва, от меньшего к большему."
   ]
  },
  {
   "cell_type": "code",
   "execution_count": 78,
   "metadata": {
    "colab": {},
    "colab_type": "code",
    "id": "AjvuRuV5KjFn"
   },
   "outputs": [],
   "source": [
    "# 1\n",
    "def average_yield(country):\n",
    "    yield_sum = 0 # создаем счетчитк, в который будем приплюсовывать мощность каждого испытания в заданной стране\n",
    "    yield_count = 0 # создаем счетчик, в котором будем хранить количество испытаний\n",
    "    for idx in range(len(Country)): # запускаем цикл для всех значений индексов списка Country\n",
    "        if Country[idx] == country:   # проверяем, равно ли значение в списке Country стране, для которой вызвана функция\n",
    "            yield_sum += Yield[idx]     # если да, то добавляем мощность взрыва под этим же индексом\n",
    "            yield_count += 1            # считаем это исптание\n",
    "    return round(yield_sum / yield_count,2)  # после окончания работы цикла возвращаем среднюю мощность"
   ]
  },
  {
   "cell_type": "code",
   "execution_count": 79,
   "metadata": {
    "colab": {
     "base_uri": "https://localhost:8080/",
     "height": 103
    },
    "colab_type": "code",
    "id": "9SCRs4utYkM_",
    "outputId": "e3cb3341-a75d-4b13-a029-ed27d62f178e"
   },
   "outputs": [
    {
     "name": "stdout",
     "output_type": "stream",
     "text": [
      "Soviet Union : средняя мощность взрыва 6.56 мегатонн\n",
      "UK : средняя мощность взрыва 2.4 мегатонн\n",
      "France : средняя мощность взрыва 2.6 мегатонн\n",
      "USA : средняя мощность взрыва 5.26 мегатонн\n",
      "China : средняя мощность взрыва 3.28 мегатонн\n"
     ]
    }
   ],
   "source": [
    "# 2\n",
    "for country in set(Country[1:]): # чтобы оставить только уникальные значения - делаем множество из списка + с помощью среза избавляемся от от заголовка колонки под индексом [0]\n",
    "    print(country, ': средняя мощность взрыва', average_yield(country), 'мегатонн')"
   ]
  },
  {
   "cell_type": "code",
   "execution_count": 80,
   "metadata": {},
   "outputs": [
    {
     "data": {
      "text/plain": [
       "27"
      ]
     },
     "execution_count": 80,
     "metadata": {},
     "output_type": "execute_result"
    }
   ],
   "source": [
    "Country.count('USA')"
   ]
  },
  {
   "cell_type": "code",
   "execution_count": 81,
   "metadata": {
    "colab": {
     "base_uri": "https://localhost:8080/",
     "height": 34
    },
    "colab_type": "code",
    "id": "gcmB_lfTYq5D",
    "outputId": "06f7ebfb-f12c-4550-ce57-cefac7114c1c"
   },
   "outputs": [
    {
     "name": "stdout",
     "output_type": "stream",
     "text": [
      "{'Soviet Union': [38, 50.0], 'UK': [2, 3.0], 'France': [1, 2.6], 'USA': [27, 15.0], 'China': [6, 4.0]}\n"
     ]
    }
   ],
   "source": [
    "# 3\n",
    "d = {}\n",
    "for x in set(Country[1:]):\n",
    "    y = []\n",
    "    for idx in range(len(Country[1:])):\n",
    "        if Country[idx] == x:\n",
    "            y.append(Yield[idx])        \n",
    "    d[x] = [Country.count(x), max(y)]\n",
    "\n",
    "print(d)"
   ]
  },
  {
   "cell_type": "code",
   "execution_count": 83,
   "metadata": {},
   "outputs": [
    {
     "name": "stdout",
     "output_type": "stream",
     "text": [
      "France 2.6\n",
      "UK 3.0\n",
      "China 4.0\n",
      "USA 15.0\n",
      "Soviet Union 50.0\n"
     ]
    }
   ],
   "source": [
    "# 4\n",
    "for value in sorted(d.values(), key=lambda x:x[1]):\n",
    "#     print(value)\n",
    "    for key in d:\n",
    "        if d[key] == value:\n",
    "            print(key, value[1])"
   ]
  },
  {
   "cell_type": "code",
   "execution_count": 94,
   "metadata": {},
   "outputs": [
    {
     "data": {
      "text/plain": [
       "datetime.datetime(1961, 10, 30, 0, 0)"
      ]
     },
     "execution_count": 94,
     "metadata": {},
     "output_type": "execute_result"
    }
   ],
   "source": [
    "from datetime import datetime\n",
    "d = 'October 30, 1961'\n",
    "datetime.strptime(d, \"%B %d, %Y\")"
   ]
  },
  {
   "cell_type": "markdown",
   "metadata": {},
   "source": [
    "### Давайте немного расширим наши знания о методах в Python (библиотека Collections)"
   ]
  },
  {
   "cell_type": "markdown",
   "metadata": {},
   "source": [
    "**collections.Counter** - вид словаря, который позволяет нам считать количество неизменяемых объектов (в большинстве случаев, строк)."
   ]
  },
  {
   "cell_type": "code",
   "execution_count": 95,
   "metadata": {},
   "outputs": [
    {
     "data": {
      "text/plain": [
       "Counter({1: 6, 2: 3, 3: 6, 4: 2, 5: 1, 6: 1, 31: 1})"
      ]
     },
     "execution_count": 95,
     "metadata": {},
     "output_type": "execute_result"
    }
   ],
   "source": [
    "from collections import Counter\n",
    "\n",
    "lst = (1,2,3,4,2,2,3,4,5,6,3,3,3,3,31,1,1,1,1,1)\n",
    "c = Counter(lst)\n",
    "c"
   ]
  },
  {
   "cell_type": "code",
   "execution_count": null,
   "metadata": {},
   "outputs": [],
   "source": []
  },
  {
   "cell_type": "markdown",
   "metadata": {},
   "source": [
    "Метод most_common() возвращает словарь отсортированный по values в виде списка кортежей"
   ]
  },
  {
   "cell_type": "code",
   "execution_count": 100,
   "metadata": {},
   "outputs": [
    {
     "data": {
      "text/plain": [
       "[(1, 6), (3, 6), (2, 3), (4, 2), (5, 1), (6, 1), (31, 1)]"
      ]
     },
     "execution_count": 100,
     "metadata": {},
     "output_type": "execute_result"
    }
   ],
   "source": [
    "c.most_common()"
   ]
  },
  {
   "cell_type": "markdown",
   "metadata": {},
   "source": [
    "Метод most_common(1) возвращает моду вашего распределения (самое частое значение)"
   ]
  },
  {
   "cell_type": "code",
   "execution_count": 101,
   "metadata": {},
   "outputs": [
    {
     "data": {
      "text/plain": [
       "[(1, 6), (3, 6), (2, 3)]"
      ]
     },
     "execution_count": 101,
     "metadata": {},
     "output_type": "execute_result"
    }
   ],
   "source": [
    "c.most_common(3)"
   ]
  },
  {
   "cell_type": "markdown",
   "metadata": {},
   "source": [
    "**Наиболее часто употребляемые шаблоны для работы с Counter:**\n",
    "\n",
    "* sum(c.values()) - общее количество.\n",
    "* c.clear() - очистить счётчик.\n",
    "* list(c) - список уникальных элементов.\n",
    "* set(c) - преобразовать в множество.\n",
    "* dict(c) - преобразовать в словарь.\n",
    "* c.most_common()[:-n:-1] - n-1 наименее часто встречающихся элементов."
   ]
  },
  {
   "cell_type": "code",
   "execution_count": 106,
   "metadata": {},
   "outputs": [
    {
     "name": "stdout",
     "output_type": "stream",
     "text": [
      "7\n"
     ]
    },
    {
     "data": {
      "text/plain": [
       "{1: 6, 2: 3, 3: 6, 4: 2, 5: 1, 6: 1, 31: 1}"
      ]
     },
     "execution_count": 106,
     "metadata": {},
     "output_type": "execute_result"
    }
   ],
   "source": [
    "lst = [1,2,3,4,2,2,3,4,5,6,3,3,3,3,31,1,1,1,1,1]\n",
    "print(len(set(lst)))\n",
    "# dict(collections.Counter(lst))"
   ]
  },
  {
   "cell_type": "code",
   "execution_count": 23,
   "metadata": {},
   "outputs": [
    {
     "data": {
      "text/plain": [
       "{'spam': 2, 'egg': 1, 'counter': 3}"
      ]
     },
     "execution_count": 23,
     "metadata": {},
     "output_type": "execute_result"
    }
   ],
   "source": [
    "dict(a)"
   ]
  },
  {
   "cell_type": "markdown",
   "metadata": {},
   "source": [
    "А еще он умеет работать со строками"
   ]
  },
  {
   "cell_type": "code",
   "execution_count": 102,
   "metadata": {},
   "outputs": [
    {
     "data": {
      "text/plain": [
       "[('a', 5), ('b', 2), ('r', 2)]"
      ]
     },
     "execution_count": 102,
     "metadata": {},
     "output_type": "execute_result"
    }
   ],
   "source": [
    "Counter('abracadabra').most_common(3)"
   ]
  },
  {
   "cell_type": "markdown",
   "metadata": {},
   "source": [
    "# И давайте еще задачек\n",
    "\n",
    "Взять с Википедии список нобелевских лауреатов по литературе и посчитать их распределение: \n",
    "* по странам\n",
    "* по языкам произведений\n",
    "\n",
    "Сколько авторов получили премию за мастерство в жанре:\n",
    "* романа\n",
    "* поэзии\n",
    "* короткого рассказа\n",
    "* драматического произведения\n",
    "\n",
    "Предлагаю решить задачу про языки и жанры, а задачу о странах попробуйте решить сами.\n",
    "\n",
    "Достанем html-текст страницы (мы уже такое делали)"
   ]
  },
  {
   "cell_type": "code",
   "execution_count": 3,
   "metadata": {},
   "outputs": [],
   "source": [
    "import pandas as pd"
   ]
  },
  {
   "cell_type": "code",
   "execution_count": 103,
   "metadata": {},
   "outputs": [],
   "source": [
    "nobel = requests.get('https://en.wikipedia.org/wiki/List_of_Nobel_laureates_in_Literature').text\n",
    "# print(nobel)"
   ]
  },
  {
   "cell_type": "markdown",
   "metadata": {},
   "source": [
    "Теперь обработаем выгруженный текст с помощью Beautiful Soup и \"развернем\" дерево тегов"
   ]
  },
  {
   "cell_type": "code",
   "execution_count": 104,
   "metadata": {},
   "outputs": [],
   "source": [
    "nobel_materials = BeautifulSoup(nobel,'html')\n",
    "# \n",
    "# print(nobel_materials.prettify())"
   ]
  },
  {
   "cell_type": "markdown",
   "metadata": {},
   "source": [
    "Оказывается, что на странице целых 9 таблиц!"
   ]
  },
  {
   "cell_type": "code",
   "execution_count": 105,
   "metadata": {},
   "outputs": [
    {
     "data": {
      "text/plain": [
       "4"
      ]
     },
     "execution_count": 105,
     "metadata": {},
     "output_type": "execute_result"
    }
   ],
   "source": [
    "len(nobel_materials.find_all('table', {'class':'wikitable sortable'}))"
   ]
  },
  {
   "cell_type": "markdown",
   "metadata": {},
   "source": [
    "Но интересующая нас таьблица снова обладает свойством 'wikitable sortable'. По нему-то мы ее и идентифицируем"
   ]
  },
  {
   "cell_type": "code",
   "execution_count": 107,
   "metadata": {},
   "outputs": [],
   "source": [
    "My_nobel_materials = nobel_materials.find_all('table',{'class':'wikitable sortable'})\n"
   ]
  },
  {
   "cell_type": "code",
   "execution_count": 110,
   "metadata": {},
   "outputs": [],
   "source": [
    "# My_nobel_materials[0]"
   ]
  },
  {
   "cell_type": "markdown",
   "metadata": {},
   "source": [
    "Превратим таблицу в список строк (каждая строка размечается тегом tr)"
   ]
  },
  {
   "cell_type": "code",
   "execution_count": 112,
   "metadata": {},
   "outputs": [],
   "source": [
    "rows = My_nobel_materials[0].find_all('tr')\n",
    "# rows"
   ]
  },
  {
   "cell_type": "markdown",
   "metadata": {},
   "source": [
    "В нулевом элементе списка будут лежат заголовки6 а в первом - информация о первом нобелевском лауреате. Это Сюлли Прюдом. Отлично, именно о нем информацию мы и видим."
   ]
  },
  {
   "cell_type": "code",
   "execution_count": 114,
   "metadata": {},
   "outputs": [
    {
     "data": {
      "text/plain": [
       "<td><a href=\"/wiki/1901_Nobel_Prize_in_Literature\" title=\"1901 Nobel Prize in Literature\">1901</a>\n",
       "</td>"
      ]
     },
     "execution_count": 114,
     "metadata": {},
     "output_type": "execute_result"
    }
   ],
   "source": [
    "rows[1].find_all('td')[0]"
   ]
  },
  {
   "cell_type": "code",
   "execution_count": 116,
   "metadata": {},
   "outputs": [
    {
     "data": {
      "text/plain": [
       "'Year'"
      ]
     },
     "execution_count": 116,
     "metadata": {},
     "output_type": "execute_result"
    }
   ],
   "source": [
    "rows[0].find_all('th')[0].get_text().strip()"
   ]
  },
  {
   "cell_type": "markdown",
   "metadata": {},
   "source": [
    "Теперь попробуем достать список  лет из столбца Year. Заметим, что в 1904 году премия была вручена двоим номинантам (на обоих в таблице визуально видна одна ячейка даты)"
   ]
  },
  {
   "cell_type": "code",
   "execution_count": 117,
   "metadata": {},
   "outputs": [],
   "source": [
    "Dates = []\n",
    "\n",
    "Dates.append(rows[0].find_all('th')[0].get_text().strip()) # отдельно добавляем заголовок"
   ]
  },
  {
   "cell_type": "code",
   "execution_count": 35,
   "metadata": {},
   "outputs": [
    {
     "data": {
      "text/plain": [
       "'1903'"
      ]
     },
     "execution_count": 35,
     "metadata": {},
     "output_type": "execute_result"
    }
   ],
   "source": [
    "rows[3].find_all('td')[0].get_text().strip()"
   ]
  },
  {
   "cell_type": "code",
   "execution_count": 118,
   "metadata": {},
   "outputs": [
    {
     "name": "stdout",
     "output_type": "stream",
     "text": [
      "['Year', '1901', '1902', '1903', '1904', '', '1905', '1906', '1907', '1908', '1909', '1910', '1911', '1912', '1913', '1914', '1915', '1916', '1917', '', '1918', '1919', '1920', '1921', '1922', '1923', '1924', '1925', '1926', '1927', '1928', '1929', '1930', '1931', '1932', '1933', '1934', '1935', '1936', '1937', '1938', '1939', '1940', '1941', '1942', '1943', '1944', '1945', '1946', '1947', '1948', '1949', '1950', '1951', '1952', '1953', '1954', '1955', '1956', '1957', '1958', '1959', '1960', '1961', '1962', '1963', '1964', '1965', '1966', '', '1967', '1968', '1969', '1970', '1971', '1972', '1973', '1974', '', '1975', '1976', '1977', '1978', '1979', '1980', '1981', '1982', '1983', '1984', '1985', '1986', '1987', '1988', '1989', '1990', '1991', '1992', '1993', '1994', '1995', '1996', '1997', '1998', '1999', '2000', '2001', '2002', '2003', '2004', '2005', '2006', '2007', '2008', '2009', '2010', '2011', '2012', '2013', '2014', '2015', '2016', '2017', '2018', '2019', '2020', '2021']\n"
     ]
    }
   ],
   "source": [
    "for row in rows[1:]: # начинаем со второго ряда таблицы, потому что 0 уже обработали выше\n",
    "    r = row.find_all('td') # находим все теги td для строки таблицы\n",
    "    Dates.append(r[0].get_text().strip())\n",
    "    \n",
    "#     break\n",
    "    \n",
    "    \n",
    "\n",
    "print(Dates)"
   ]
  },
  {
   "cell_type": "markdown",
   "metadata": {},
   "source": [
    "Почему-то у одного из лауреатов 1904 года дата отсутствует! это связано с тем, что в таблице на самом деле неодинаковое число столбцов в каждой строке. Например, в записях, когда премия не вручалась, столбца всего два, а в годы, когда премию получало два человека, для второго человека поле Year отсутствует. Получается, что в случае пустого значения года нам нужно заполнять его предыдущим значением в списке (если у человека в таблице года нет, значитв этом году премия вручалась нескольким людям, а значит можно достать предыдущее значение и вставить его вместо пропущенного). Для этого введем переменную retained и будем хранить в ней предыдущее значение даты на случай пропущенного года."
   ]
  },
  {
   "cell_type": "code",
   "execution_count": 119,
   "metadata": {},
   "outputs": [
    {
     "name": "stdout",
     "output_type": "stream",
     "text": [
      "['Year', '1901', '1902', '1903', '1904', '1904', '1905', '1906', '1907', '1908', '1909', '1910', '1911', '1912', '1913', '1914', '1915', '1916', '1917', '1917', '1918', '1919', '1920', '1921', '1922', '1923', '1924', '1925', '1926', '1927', '1928', '1929', '1930', '1931', '1932', '1933', '1934', '1935', '1936', '1937', '1938', '1939', '1940', '1941', '1942', '1943', '1944', '1945', '1946', '1947', '1948', '1949', '1950', '1951', '1952', '1953', '1954', '1955', '1956', '1957', '1958', '1959', '1960', '1961', '1962', '1963', '1964', '1965', '1966', '1966', '1967', '1968', '1969', '1970', '1971', '1972', '1973', '1974', '1974', '1975', '1976', '1977', '1978', '1979', '1980', '1981', '1982', '1983', '1984', '1985', '1986', '1987', '1988', '1989', '1990', '1991', '1992', '1993', '1994', '1995', '1996', '1997', '1998', '1999', '2000', '2001', '2002', '2003', '2004', '2005', '2006', '2007', '2008', '2009', '2010', '2011', '2012', '2013', '2014', '2015', '2016', '2017', '2018', '2019', '2020', '2021']\n"
     ]
    }
   ],
   "source": [
    "Dates = []\n",
    "\n",
    "Dates.append(rows[0].find_all('th')[0].get_text().strip()) # отдельно добавляем заголовок\n",
    "for row in rows[1:]: # начинаем со второго ряда таблицы, потому что 0 уже обработали выше\n",
    "    r = row.find_all('td') # находим все теги td для строки таблицы\n",
    "    if r[0].get_text().strip() != '':\n",
    "        Dates.append(r[0].get_text().strip())\n",
    "        retained = r[0].get_text().strip()\n",
    "    else:\n",
    "        Dates.append(retained)# сохраняем данные в наш список\n",
    "    \n",
    "\n",
    "print(Dates)"
   ]
  },
  {
   "cell_type": "markdown",
   "metadata": {},
   "source": [
    "А еще можно \"заткнуть\" дырку в дате с помощью проверки атрибута rowspan(дата распространяется на кол-во строк >1, в нашем случае - на 2). "
   ]
  },
  {
   "cell_type": "code",
   "execution_count": 120,
   "metadata": {},
   "outputs": [
    {
     "name": "stdout",
     "output_type": "stream",
     "text": [
      "['1901', '1902', '1903', '1904', '1904', '1905', '1906', '1907', '1908', '1909', '1910', '1911', '1912', '1913', '1914', '1915', '1916', '1917', '1917', '1918', '1919', '1920', '1921', '1922', '1923', '1924', '1925', '1926', '1927', '1928', '1929', '1930', '1931', '1932', '1933', '1934', '1935', '1936', '1937', '1938', '1939', '1940', '1941', '1942', '1943', '1944', '1945', '1946', '1947', '1948', '1949', '1950', '1951', '1952', '1953', '1954', '1955', '1956', '1957', '1958', '1959', '1960', '1961', '1962', '1963', '1964', '1965', '1966', '1966', '1967', '1968', '1969', '1970', '1971', '1972', '1973', '1974', '1974', '1975', '1976', '1977', '1978', '1979', '1980', '1981', '1982', '1983', '1984', '1985', '1986', '1987', '1988', '1989', '1990', '1991', '1992', '1993', '1994', '1995', '1996', '1997', '1998', '1999', '2000', '2001', '2002', '2003', '2004', '2005', '2006', '2007', '2008', '2009', '2010', '2011', '2012', '2013', '2014', '2015', '2016', '2017', '2018', '2019', '2020', '2021']\n"
     ]
    }
   ],
   "source": [
    "import lxml\n",
    "soup = BeautifulSoup(requests.get('https://en.wikipedia.org/wiki/List_of_Nobel_laureates_in_Literature').text, 'lxml')\n",
    "tables = soup.find_all('table')\n",
    "year = []\n",
    "tmp=''\n",
    "for row in tables[0].find_all('tr')[1:]:\n",
    "    data=row.find_all('td')[0]\n",
    "#     if data.attrs != {}:\n",
    "#         print(data.attrs)\n",
    "#         break\n",
    "    #Проверяем объединение столбцов\n",
    "    if int(data.attrs.get('rowspan',0)) == 2:\n",
    "        tmp=data.text.strip()\n",
    "        year.append(data.text.strip())\n",
    "    elif tmp=='':\n",
    "        year.append(data.text.strip())\n",
    "    else:\n",
    "        year.append(tmp)\n",
    "        tmp=''\n",
    "          \n",
    "print(year)"
   ]
  },
  {
   "cell_type": "markdown",
   "metadata": {},
   "source": [
    "Победа! Теперь попробуем отыскать языки произведений авторов. Сначала запишем название колонки (как всегда)"
   ]
  },
  {
   "cell_type": "code",
   "execution_count": 121,
   "metadata": {},
   "outputs": [
    {
     "data": {
      "text/plain": [
       "['Language(s)']"
      ]
     },
     "execution_count": 121,
     "metadata": {},
     "output_type": "execute_result"
    }
   ],
   "source": [
    "Language = []\n",
    "Language.append(rows[0].find_all('th')[4].get_text().strip()) # отдельно добавляем заголовок\n",
    "Language"
   ]
  },
  {
   "cell_type": "markdown",
   "metadata": {},
   "source": [
    "Ну а теперь попытаемся достать язык произведения"
   ]
  },
  {
   "cell_type": "code",
   "execution_count": 122,
   "metadata": {},
   "outputs": [
    {
     "ename": "IndexError",
     "evalue": "list index out of range",
     "output_type": "error",
     "traceback": [
      "\u001b[0;31m---------------------------------------------------------------------------\u001b[0m",
      "\u001b[0;31mIndexError\u001b[0m                                Traceback (most recent call last)",
      "\u001b[0;32m<ipython-input-122-9bebe6632091>\u001b[0m in \u001b[0;36m<module>\u001b[0;34m\u001b[0m\n\u001b[1;32m      1\u001b[0m \u001b[0;32mfor\u001b[0m \u001b[0mrow\u001b[0m \u001b[0;32min\u001b[0m \u001b[0mrows\u001b[0m\u001b[0;34m[\u001b[0m\u001b[0;36m1\u001b[0m\u001b[0;34m:\u001b[0m\u001b[0;34m]\u001b[0m\u001b[0;34m:\u001b[0m \u001b[0;31m# начинаем со второго ряда таблицы, потому что 0 уже обработали выше\u001b[0m\u001b[0;34m\u001b[0m\u001b[0;34m\u001b[0m\u001b[0m\n\u001b[1;32m      2\u001b[0m     \u001b[0mr\u001b[0m \u001b[0;34m=\u001b[0m \u001b[0mrow\u001b[0m\u001b[0;34m.\u001b[0m\u001b[0mfind_all\u001b[0m\u001b[0;34m(\u001b[0m\u001b[0;34m'td'\u001b[0m\u001b[0;34m)\u001b[0m \u001b[0;31m# находим все теги td для строки таблицы\u001b[0m\u001b[0;34m\u001b[0m\u001b[0;34m\u001b[0m\u001b[0m\n\u001b[0;32m----> 3\u001b[0;31m     \u001b[0mLanguage\u001b[0m\u001b[0;34m.\u001b[0m\u001b[0mappend\u001b[0m\u001b[0;34m(\u001b[0m\u001b[0mr\u001b[0m\u001b[0;34m[\u001b[0m\u001b[0;36m4\u001b[0m\u001b[0;34m]\u001b[0m\u001b[0;34m.\u001b[0m\u001b[0mget_text\u001b[0m\u001b[0;34m(\u001b[0m\u001b[0;34m)\u001b[0m\u001b[0;34m.\u001b[0m\u001b[0mstrip\u001b[0m\u001b[0;34m(\u001b[0m\u001b[0;34m)\u001b[0m\u001b[0;34m)\u001b[0m\u001b[0;34m\u001b[0m\u001b[0;34m\u001b[0m\u001b[0m\n\u001b[0m\u001b[1;32m      4\u001b[0m \u001b[0mprint\u001b[0m\u001b[0;34m(\u001b[0m\u001b[0mLanguage\u001b[0m\u001b[0;34m)\u001b[0m\u001b[0;34m\u001b[0m\u001b[0;34m\u001b[0m\u001b[0m\n",
      "\u001b[0;31mIndexError\u001b[0m: list index out of range"
     ]
    }
   ],
   "source": [
    "for row in rows[1:]: # начинаем со второго ряда таблицы, потому что 0 уже обработали выше\n",
    "    r = row.find_all('td') # находим все теги td для строки таблицы\n",
    "    Language.append(r[4].get_text().strip()) \n",
    "print(Language)"
   ]
  },
  {
   "cell_type": "markdown",
   "metadata": {},
   "source": [
    "Ошибка! А дело в строках таблицы, соответствующих годам, когда премия не вручалась. В этих строках всего две колонки, а значит наша попытка достать язык произведения натыкается на IndexError. Ну, ничего, мы знакомы с конструкцией try-except, с ее помощью мы и обработаем наше исключение: Если исключения нет , будем доставать все как всегда, а если исключение сработало, то запишем в список заглушку \"Not awarded\""
   ]
  },
  {
   "cell_type": "code",
   "execution_count": 123,
   "metadata": {},
   "outputs": [
    {
     "name": "stdout",
     "output_type": "stream",
     "text": [
      "['Language(s)', 'French', 'German', 'Norwegian', 'Provençal', '72', 'Polish', 'Italian', 'English', 'German', 'Swedish', 'German', 'French', 'German', 'Bengali and English', 'French', 'German', 'Norwegian', 'Provençal', '72', 'Polish', 'Italian', 'English', 'German', 'Swedish', 'German', 'French', 'German', 'Bengali and English', 'Not awarded', 'French', 'Swedish', 'Danish and German', '60', 'Not awarded', 'German', 'Norwegian', 'French', 'Spanish', 'English', 'Polish', 'English', 'Italian', 'French', 'Norwegian and Danish', 'German', 'English', 'Swedish', 'English', 'Russian', 'Italian', 'Not awarded', 'English', 'French', 'English', 'Finnish', 'Not awarded', 'Not awarded', 'Not awarded', 'Not awarded', 'Danish', 'Spanish', 'German', 'French', 'English', 'English', 'English', 'Swedish', 'French', 'English', 'English', 'Icelandic', 'Spanish', 'French', 'Russian', 'Italian', 'French', 'Croatian and Serbian', 'English', 'Greek', 'French', 'Russian', 'Hebrew', '75', 'Spanish', 'Japanese', 'French and English', 'Russian', 'Spanish', 'German', 'English', 'Swedish', '70', 'Italian', 'English', 'Spanish', 'Yiddish', 'Greek', 'Polish', 'German', 'Spanish', 'English', 'Czech', 'French', 'English', 'Russian and English', 'Arabic', 'Spanish', 'Spanish', 'English', 'English', 'English', 'Japanese', 'English', 'Polish', 'Italian', 'Portuguese', 'German', 'Chinese', 'English', 'Hungarian', 'English', 'German', 'English', 'Turkish', 'English', 'French', 'German', 'Spanish', 'Swedish', 'Chinese', 'English', 'French', 'Russian', 'English', 'English', 'Polish', 'German', 'English', 'English']\n"
     ]
    }
   ],
   "source": [
    "for row in rows[1:]: # начинаем со второго ряда таблицы, потому что 0 уже обработали выше\n",
    "    r = row.find_all('td') # находим все теги td для строки таблицы\n",
    "    try:\n",
    "        Language.append(r[4].get_text().strip()) \n",
    "    except IndexError:\n",
    "        Language.append('Not awarded')\n",
    "print(Language)"
   ]
  },
  {
   "cell_type": "markdown",
   "metadata": {},
   "source": [
    "На самом деле, мы снова сделали что-то не так. Вместо языка в записи второго лауреата 1904 года записалась \"причина\" выдачи премии, а именно - \"in recognition of the numerous and brilliant compositions which, in an individual and original manner, have revived the great traditions of the Spanish drama\". Это означает, что вместо искомой колонки мы почему-то выдали следующую! Дело в том, что если в один год премия выдавалась нескольким людям, год пишется только для первого из них. Для остальных поля Year просто нет. Поэтому когда мы вынимаем поле по индексу N для таких записей, нам нужно вынимать поле с индексом N-1 (поля Year-то нет!). Теперь давайте обернем все наше новое знание об обработке дат в таблице, наличии лет, когда премия не вручалась, а также наличии лет, когда премия вручалась нескольким номинантам, в функцию:\n",
    "\n",
    "Если мы пытаемся вынуть дату (первая колонка или нулевая в нотации Python), воспользуемся логикой с retained, которую мы реализовали выше. Если возникает IndexError, обработаем это с помощью try-except, а если в строке нет поля Year, будем вынимать N-1'ую запись вместо N'ой."
   ]
  },
  {
   "cell_type": "code",
   "execution_count": 124,
   "metadata": {},
   "outputs": [],
   "source": [
    "def get_column(table, column_number):\n",
    "    column = []\n",
    "    column.append(rows[0].find_all('th')[column_number].get_text().strip()) # заголовок\n",
    "    for row in table[1:]:\n",
    "        r = row.find_all('td') # находим все теги td для строки таблицы\n",
    "        try:\n",
    "            if r[0].get_text().strip() =='':\n",
    "                if column_number==0:\n",
    "                    column.append(retained)\n",
    "                else:\n",
    "                    column.append(r[column_number-1].get_text().strip())\n",
    "            else:\n",
    "                column.append(r[column_number].get_text().strip())\n",
    "                retained = r[column_number].get_text().strip()\n",
    "        except IndexError:\n",
    "            column.append('No award this year')   \n",
    "    return column"
   ]
  },
  {
   "cell_type": "markdown",
   "metadata": {},
   "source": [
    "Теперь опробуем функцию на пятой колонке таблицы - языке произведений."
   ]
  },
  {
   "cell_type": "code",
   "execution_count": 125,
   "metadata": {},
   "outputs": [
    {
     "data": {
      "text/plain": [
       "['Language(s)',\n",
       " 'French',\n",
       " 'German',\n",
       " 'Norwegian',\n",
       " 'Provençal',\n",
       " 'Spanish',\n",
       " 'Polish',\n",
       " 'Italian',\n",
       " 'English',\n",
       " 'German',\n",
       " 'Swedish',\n",
       " 'German',\n",
       " 'French',\n",
       " 'German',\n",
       " 'Bengali and English',\n",
       " 'No award this year',\n",
       " 'French',\n",
       " 'Swedish',\n",
       " 'Danish and German',\n",
       " 'Danish',\n",
       " 'No award this year',\n",
       " 'German',\n",
       " 'Norwegian',\n",
       " 'French',\n",
       " 'Spanish',\n",
       " 'English',\n",
       " 'Polish',\n",
       " 'English',\n",
       " 'Italian',\n",
       " 'French',\n",
       " 'Norwegian and Danish',\n",
       " 'German',\n",
       " 'English',\n",
       " 'Swedish',\n",
       " 'English',\n",
       " 'Russian',\n",
       " 'Italian',\n",
       " 'No award this year',\n",
       " 'English',\n",
       " 'French',\n",
       " 'English',\n",
       " 'Finnish',\n",
       " 'No award this year',\n",
       " 'No award this year',\n",
       " 'No award this year',\n",
       " 'No award this year',\n",
       " 'Danish',\n",
       " 'Spanish',\n",
       " 'German',\n",
       " 'French',\n",
       " 'English',\n",
       " 'English',\n",
       " 'English',\n",
       " 'Swedish',\n",
       " 'French',\n",
       " 'English',\n",
       " 'English',\n",
       " 'Icelandic',\n",
       " 'Spanish',\n",
       " 'French',\n",
       " 'Russian',\n",
       " 'Italian',\n",
       " 'French',\n",
       " 'Croatian and Serbian',\n",
       " 'English',\n",
       " 'Greek',\n",
       " 'French',\n",
       " 'Russian',\n",
       " 'Hebrew',\n",
       " 'German',\n",
       " 'Spanish',\n",
       " 'Japanese',\n",
       " 'French and English',\n",
       " 'Russian',\n",
       " 'Spanish',\n",
       " 'German',\n",
       " 'English',\n",
       " 'Swedish',\n",
       " 'Swedish',\n",
       " 'Italian',\n",
       " 'English',\n",
       " 'Spanish',\n",
       " 'Yiddish',\n",
       " 'Greek',\n",
       " 'Polish',\n",
       " 'German',\n",
       " 'Spanish',\n",
       " 'English',\n",
       " 'Czech',\n",
       " 'French',\n",
       " 'English',\n",
       " 'Russian and English',\n",
       " 'Arabic',\n",
       " 'Spanish',\n",
       " 'Spanish',\n",
       " 'English',\n",
       " 'English',\n",
       " 'English',\n",
       " 'Japanese',\n",
       " 'English',\n",
       " 'Polish',\n",
       " 'Italian',\n",
       " 'Portuguese',\n",
       " 'German',\n",
       " 'Chinese',\n",
       " 'English',\n",
       " 'Hungarian',\n",
       " 'English',\n",
       " 'German',\n",
       " 'English',\n",
       " 'Turkish',\n",
       " 'English',\n",
       " 'French',\n",
       " 'German',\n",
       " 'Spanish',\n",
       " 'Swedish',\n",
       " 'Chinese',\n",
       " 'English',\n",
       " 'French',\n",
       " 'Russian',\n",
       " 'English',\n",
       " 'English',\n",
       " 'Polish',\n",
       " 'German',\n",
       " 'English',\n",
       " 'English']"
      ]
     },
     "execution_count": 125,
     "metadata": {},
     "output_type": "execute_result"
    }
   ],
   "source": [
    "languages = get_column(rows,4)\n",
    "languages"
   ]
  },
  {
   "cell_type": "markdown",
   "metadata": {},
   "source": [
    "Теперь остается посчитать частоту для различных записей этого списка, но нужно не забыть отбросить заглушки и правильно посчитать частоты для атворов, писавших на нескольких языках. Для простоты, если автор, к примеру, писал на русском и английском, давайте посчитаем его дважды - в категорию \"английский язык\" и в категорию \"русский язык\". Для начала предлагаю превратить каждую запись в \"список языков\", на которых писал автор, выбросить заглушки и отбросить название поля(первую запись)"
   ]
  },
  {
   "cell_type": "code",
   "execution_count": 126,
   "metadata": {
    "scrolled": true
   },
   "outputs": [
    {
     "data": {
      "text/plain": [
       "[['French'],\n",
       " ['German'],\n",
       " ['Norwegian'],\n",
       " ['Provençal'],\n",
       " ['Spanish'],\n",
       " ['Polish'],\n",
       " ['Italian'],\n",
       " ['English'],\n",
       " ['German'],\n",
       " ['Swedish'],\n",
       " ['German'],\n",
       " ['French'],\n",
       " ['German'],\n",
       " ['Bengali', 'English'],\n",
       " ['French'],\n",
       " ['Swedish'],\n",
       " ['Danish', 'German'],\n",
       " ['Danish'],\n",
       " ['German'],\n",
       " ['Norwegian'],\n",
       " ['French'],\n",
       " ['Spanish'],\n",
       " ['English'],\n",
       " ['Polish'],\n",
       " ['English'],\n",
       " ['Italian'],\n",
       " ['French'],\n",
       " ['Norwegian', 'Danish'],\n",
       " ['German'],\n",
       " ['English'],\n",
       " ['Swedish'],\n",
       " ['English'],\n",
       " ['Russian'],\n",
       " ['Italian'],\n",
       " ['English'],\n",
       " ['French'],\n",
       " ['English'],\n",
       " ['Finnish'],\n",
       " ['Danish'],\n",
       " ['Spanish'],\n",
       " ['German'],\n",
       " ['French'],\n",
       " ['English'],\n",
       " ['English'],\n",
       " ['English'],\n",
       " ['Swedish'],\n",
       " ['French'],\n",
       " ['English'],\n",
       " ['English'],\n",
       " ['Icelandic'],\n",
       " ['Spanish'],\n",
       " ['French'],\n",
       " ['Russian'],\n",
       " ['Italian'],\n",
       " ['French'],\n",
       " ['Croatian', 'Serbian'],\n",
       " ['English'],\n",
       " ['Greek'],\n",
       " ['French'],\n",
       " ['Russian'],\n",
       " ['Hebrew'],\n",
       " ['German'],\n",
       " ['Spanish'],\n",
       " ['Japanese'],\n",
       " ['French', 'English'],\n",
       " ['Russian'],\n",
       " ['Spanish'],\n",
       " ['German'],\n",
       " ['English'],\n",
       " ['Swedish'],\n",
       " ['Swedish'],\n",
       " ['Italian'],\n",
       " ['English'],\n",
       " ['Spanish'],\n",
       " ['Yiddish'],\n",
       " ['Greek'],\n",
       " ['Polish'],\n",
       " ['German'],\n",
       " ['Spanish'],\n",
       " ['English'],\n",
       " ['Czech'],\n",
       " ['French'],\n",
       " ['English'],\n",
       " ['Russian', 'English'],\n",
       " ['Arabic'],\n",
       " ['Spanish'],\n",
       " ['Spanish'],\n",
       " ['English'],\n",
       " ['English'],\n",
       " ['English'],\n",
       " ['Japanese'],\n",
       " ['English'],\n",
       " ['Polish'],\n",
       " ['Italian'],\n",
       " ['Portuguese'],\n",
       " ['German'],\n",
       " ['Chinese'],\n",
       " ['English'],\n",
       " ['Hungarian'],\n",
       " ['English'],\n",
       " ['German'],\n",
       " ['English'],\n",
       " ['Turkish'],\n",
       " ['English'],\n",
       " ['French'],\n",
       " ['German'],\n",
       " ['Spanish'],\n",
       " ['Swedish'],\n",
       " ['Chinese'],\n",
       " ['English'],\n",
       " ['French'],\n",
       " ['Russian'],\n",
       " ['English'],\n",
       " ['English'],\n",
       " ['Polish'],\n",
       " ['German'],\n",
       " ['English'],\n",
       " ['English']]"
      ]
     },
     "execution_count": 126,
     "metadata": {},
     "output_type": "execute_result"
    }
   ],
   "source": [
    "lang = [x.split(' and ') for x in languages[1:] if x!='No award this year']\n",
    "lang"
   ]
  },
  {
   "cell_type": "code",
   "execution_count": 54,
   "metadata": {},
   "outputs": [
    {
     "data": {
      "text/plain": [
       "[1, 2, 3, 1, 2, 3, 4, 5, 5]"
      ]
     },
     "execution_count": 54,
     "metadata": {},
     "output_type": "execute_result"
    }
   ],
   "source": [
    "list(flatten([1,2,3,[1,2,[3,4,[5,5]]]]))"
   ]
  },
  {
   "cell_type": "code",
   "execution_count": 53,
   "metadata": {},
   "outputs": [
    {
     "data": {
      "text/plain": [
       "['French',\n",
       " 'German',\n",
       " 'Norwegian',\n",
       " 'Provençal',\n",
       " 'Spanish',\n",
       " 'Polish',\n",
       " 'Italian',\n",
       " 'English',\n",
       " 'German',\n",
       " 'Swedish',\n",
       " 'German',\n",
       " 'French',\n",
       " 'German',\n",
       " 'Bengali',\n",
       " 'English',\n",
       " 'French',\n",
       " 'Swedish',\n",
       " 'Danish',\n",
       " 'German',\n",
       " 'Danish',\n",
       " 'German',\n",
       " 'Norwegian',\n",
       " 'French',\n",
       " 'Spanish',\n",
       " 'English',\n",
       " 'Polish',\n",
       " 'English',\n",
       " 'Italian',\n",
       " 'French',\n",
       " 'Norwegian',\n",
       " 'Danish',\n",
       " 'German',\n",
       " 'English',\n",
       " 'Swedish',\n",
       " 'English',\n",
       " 'Russian',\n",
       " 'Italian',\n",
       " 'English',\n",
       " 'French',\n",
       " 'English',\n",
       " 'Finnish',\n",
       " 'Danish',\n",
       " 'Spanish',\n",
       " 'German',\n",
       " 'French',\n",
       " 'English',\n",
       " 'English',\n",
       " 'English',\n",
       " 'Swedish',\n",
       " 'French',\n",
       " 'English',\n",
       " 'English',\n",
       " 'Icelandic',\n",
       " 'Spanish',\n",
       " 'French',\n",
       " 'Russian',\n",
       " 'Italian',\n",
       " 'French',\n",
       " 'Serbian',\n",
       " 'English',\n",
       " 'Greek',\n",
       " 'French',\n",
       " 'Russian',\n",
       " 'Hebrew',\n",
       " 'German',\n",
       " 'Spanish',\n",
       " 'Japanese',\n",
       " 'French',\n",
       " 'English',\n",
       " 'Russian',\n",
       " 'Spanish',\n",
       " 'German',\n",
       " 'English',\n",
       " 'Swedish',\n",
       " 'Swedish',\n",
       " 'Italian',\n",
       " 'English',\n",
       " 'Spanish',\n",
       " 'Yiddish',\n",
       " 'Greek',\n",
       " 'Polish',\n",
       " 'German',\n",
       " 'Spanish',\n",
       " 'English',\n",
       " 'Czech',\n",
       " 'French',\n",
       " 'English',\n",
       " 'Russian',\n",
       " 'English',\n",
       " 'Arabic',\n",
       " 'Spanish',\n",
       " 'Spanish',\n",
       " 'English',\n",
       " 'English',\n",
       " 'English',\n",
       " 'Japanese',\n",
       " 'English',\n",
       " 'Polish',\n",
       " 'Italian',\n",
       " 'Portuguese',\n",
       " 'German',\n",
       " 'Chinese',\n",
       " 'English',\n",
       " 'Hungarian',\n",
       " 'English',\n",
       " 'German',\n",
       " 'English',\n",
       " 'Turkish',\n",
       " 'English',\n",
       " 'French',\n",
       " 'German',\n",
       " 'Spanish',\n",
       " 'Swedish',\n",
       " 'Chinese',\n",
       " 'English',\n",
       " 'French',\n",
       " 'Russian',\n",
       " 'English',\n",
       " 'English',\n",
       " 'Polish',\n",
       " 'German',\n",
       " 'English',\n",
       " 'English']"
      ]
     },
     "execution_count": 53,
     "metadata": {},
     "output_type": "execute_result"
    }
   ],
   "source": [
    "list(flatten(lang))"
   ]
  },
  {
   "cell_type": "markdown",
   "metadata": {},
   "source": [
    "Теперь нам осталось \"распаковать\" все списки в один и загрузить итоговый список в Counter. Для распаковки вложенных списков любой сложности можно использовать функцию flatten."
   ]
  },
  {
   "cell_type": "code",
   "execution_count": 127,
   "metadata": {},
   "outputs": [
    {
     "data": {
      "text/plain": [
       "[('English', 33),\n",
       " ('French', 15),\n",
       " ('German', 15),\n",
       " ('Spanish', 11),\n",
       " ('Swedish', 7),\n",
       " ('Italian', 6),\n",
       " ('Russian', 6),\n",
       " ('Polish', 5),\n",
       " ('Danish', 4),\n",
       " ('Norwegian', 3),\n",
       " ('Greek', 2),\n",
       " ('Japanese', 2),\n",
       " ('Chinese', 2),\n",
       " ('Provençal', 1),\n",
       " ('Bengali', 1),\n",
       " ('Finnish', 1),\n",
       " ('Icelandic', 1),\n",
       " ('Croatian', 1),\n",
       " ('Serbian', 1),\n",
       " ('Hebrew', 1),\n",
       " ('Yiddish', 1),\n",
       " ('Czech', 1),\n",
       " ('Arabic', 1),\n",
       " ('Portuguese', 1),\n",
       " ('Hungarian', 1),\n",
       " ('Turkish', 1)]"
      ]
     },
     "execution_count": 127,
     "metadata": {},
     "output_type": "execute_result"
    }
   ],
   "source": [
    "from collections import Counter\n",
    "from matplotlib.cbook import flatten\n",
    "\n",
    "Counter(list(flatten(lang))).most_common()\n",
    "\n",
    "# ravel"
   ]
  },
  {
   "cell_type": "markdown",
   "metadata": {},
   "source": [
    "И такую же задачу мы можем с легкостью решить для жанров литературы. Это колонка номер 7. Но жанров литературы может быть несколько и разделены они запятой. Давайте добавим это в наше списковое включение"
   ]
  },
  {
   "cell_type": "code",
   "execution_count": 128,
   "metadata": {},
   "outputs": [
    {
     "data": {
      "text/plain": [
       "[['poetry', 'essay'],\n",
       " ['history', 'law'],\n",
       " ['poetry', 'novel', 'drama'],\n",
       " ['poetry', 'philology'],\n",
       " ['drama'],\n",
       " ['novel'],\n",
       " ['poetry'],\n",
       " ['novel', 'short story', 'poetry'],\n",
       " ['philosophy'],\n",
       " ['novel', 'short story'],\n",
       " ['poetry', 'drama', 'novel', 'short story'],\n",
       " ['drama', 'poetry', 'essay'],\n",
       " ['drama', 'novel'],\n",
       " ['poetry', 'novel', 'drama', 'short story', 'essay', 'translation'],\n",
       " ['novel'],\n",
       " ['poetry', 'novel'],\n",
       " ['poetry'],\n",
       " ['novel'],\n",
       " ['poetry'],\n",
       " ['novel'],\n",
       " ['novel', 'poetry'],\n",
       " ['drama'],\n",
       " ['poetry'],\n",
       " ['novel'],\n",
       " ['drama', 'essay'],\n",
       " ['poetry', 'novel'],\n",
       " ['philosophy'],\n",
       " ['novel'],\n",
       " ['novel', 'short story', 'essay'],\n",
       " ['novel', 'short story', 'drama'],\n",
       " ['poetry'],\n",
       " ['novel'],\n",
       " ['short story', 'poetry', 'novel'],\n",
       " ['drama', 'novel', 'short story'],\n",
       " ['drama'],\n",
       " ['novel'],\n",
       " ['novel', 'biography'],\n",
       " ['novel'],\n",
       " ['novel', 'short story'],\n",
       " ['poetry'],\n",
       " ['novel', 'poetry'],\n",
       " ['novel', 'essay', 'drama', 'memoir'],\n",
       " ['poetry', 'essay', 'drama'],\n",
       " ['novel', 'short story'],\n",
       " ['philosophy', 'essay'],\n",
       " ['poetry', 'novel', 'short story', 'drama'],\n",
       " ['novel', 'short story'],\n",
       " ['history', 'essay', 'memoir'],\n",
       " ['novel', 'short story', 'screenplay'],\n",
       " ['novel', 'short story', 'drama', 'poetry'],\n",
       " ['poetry', 'novel'],\n",
       " ['novel', 'short story', 'drama', 'philosophy', 'essay'],\n",
       " ['novel', 'poetry', 'translation'],\n",
       " ['poetry'],\n",
       " ['poetry'],\n",
       " ['novel', 'short story'],\n",
       " ['novel', 'short story', 'screenplay'],\n",
       " ['poetry', 'essay', 'memoir'],\n",
       " ['philosophy', 'novel', 'drama', 'essay', 'short story', 'screenplay'],\n",
       " ['novel'],\n",
       " ['novel', 'short story'],\n",
       " ['poetry', 'drama'],\n",
       " ['novel', 'poetry'],\n",
       " ['novel', 'short story'],\n",
       " ['novel', 'drama', 'poetry'],\n",
       " ['novel', 'essay', 'short story'],\n",
       " ['poetry'],\n",
       " ['novel', 'short story'],\n",
       " ['novel', 'short story', 'drama'],\n",
       " ['novel'],\n",
       " ['poetry', 'novel', 'drama'],\n",
       " ['poetry'],\n",
       " ['novel', 'short story'],\n",
       " ['poetry'],\n",
       " ['novel', 'short story', 'memoir'],\n",
       " ['poetry', 'essay'],\n",
       " ['poetry', 'essay'],\n",
       " ['novel', 'drama', 'memoirs', 'essay'],\n",
       " ['novel', 'short story', 'screenplay'],\n",
       " ['novel', 'poetry', 'drama'],\n",
       " ['poetry'],\n",
       " ['novel', 'essay'],\n",
       " ['drama', 'novel', 'poetry', 'screenplay'],\n",
       " ['poetry', 'essay'],\n",
       " ['novel', 'short story'],\n",
       " ['novel', 'short story', 'essay', 'poetry'],\n",
       " ['poetry', 'essay'],\n",
       " ['novel', 'short story', 'essay', 'drama'],\n",
       " ['poetry', 'drama'],\n",
       " ['novel', 'essay'],\n",
       " ['novel', 'short story', 'essay'],\n",
       " ['poetry', 'drama', 'translation', 'essay'],\n",
       " ['poetry', 'essay', 'translation'],\n",
       " ['drama', 'song lyrics'],\n",
       " ['novel', 'drama', 'poetry'],\n",
       " ['novel', 'drama', 'poetry', 'essay'],\n",
       " ['novel', 'drama', 'essay'],\n",
       " ['novel', 'essay'],\n",
       " ['novel'],\n",
       " ['novel', 'essay', 'translation'],\n",
       " ['novel', 'drama'],\n",
       " ['drama', 'screenplay', 'poetry'],\n",
       " ['novel', 'screenplay', 'autobiography', 'essay'],\n",
       " ['novel', 'short story', 'memoir/autobiography', 'drama', 'poetry', 'essay'],\n",
       " ['novel', 'short story', 'essay', 'translation'],\n",
       " ['novel', 'short story', 'poetry', 'essay'],\n",
       " ['novel', 'short story', 'essay', 'drama', 'memoir'],\n",
       " ['poetry', 'translation'],\n",
       " ['novel', 'short story'],\n",
       " ['short story'],\n",
       " ['novel', 'screenplay'],\n",
       " ['history', 'essay'],\n",
       " ['poetry', 'song lyrics'],\n",
       " ['novel', 'screenplay', 'short story'],\n",
       " ['novel', 'short story', 'poetry', 'essay', 'screenplay'],\n",
       " ['novel', 'short story', 'drama', 'essay', 'translation', 'screenplay'],\n",
       " ['poetry', 'essay'],\n",
       " ['novel', 'short story', 'essay']]"
      ]
     },
     "execution_count": 128,
     "metadata": {},
     "output_type": "execute_result"
    }
   ],
   "source": [
    "genres = get_column(rows,7)\n",
    "# s = [list(\n",
    "[list(map(lambda x: x.strip(), x.split(','))) \n",
    " for x in genres[1:] if x!='No award this year']\n",
    "# Counter(list(flatten(s))).most_common()"
   ]
  },
  {
   "cell_type": "markdown",
   "metadata": {},
   "source": [
    "Большой map мне не очень нравится, поэтому сделать такую же штуку, можно, использовав регулярное выражение."
   ]
  },
  {
   "cell_type": "code",
   "execution_count": 129,
   "metadata": {},
   "outputs": [
    {
     "data": {
      "text/plain": [
       "[('novel', 77),\n",
       " ('poetry', 53),\n",
       " ('short story', 40),\n",
       " ('essay', 39),\n",
       " ('drama', 36),\n",
       " ('screenplay', 11),\n",
       " ('translation', 8),\n",
       " ('philosophy', 5),\n",
       " ('memoir', 5),\n",
       " ('history', 3),\n",
       " ('song lyrics', 2),\n",
       " ('law', 1),\n",
       " ('philology', 1),\n",
       " ('biography', 1),\n",
       " ('memoirs', 1),\n",
       " ('autobiography', 1),\n",
       " ('memoir/autobiography', 1)]"
      ]
     },
     "execution_count": 129,
     "metadata": {},
     "output_type": "execute_result"
    }
   ],
   "source": [
    "import re\n",
    "\n",
    "s = [re.split(r'\\s?,\\s+',x) for x in genres[1:] if x!='No award this year']\n",
    "Counter(list(flatten(s))).most_common()"
   ]
  },
  {
   "cell_type": "code",
   "execution_count": null,
   "metadata": {},
   "outputs": [],
   "source": []
  }
 ],
 "metadata": {
  "colab": {
   "collapsed_sections": [],
   "name": "RISO_Exam.ipynb",
   "provenance": []
  },
  "kernelspec": {
   "display_name": "Python 3",
   "language": "python",
   "name": "python3"
  },
  "language_info": {
   "codemirror_mode": {
    "name": "ipython",
    "version": 3
   },
   "file_extension": ".py",
   "mimetype": "text/x-python",
   "name": "python",
   "nbconvert_exporter": "python",
   "pygments_lexer": "ipython3",
   "version": "3.8.3"
  }
 },
 "nbformat": 4,
 "nbformat_minor": 2
}
