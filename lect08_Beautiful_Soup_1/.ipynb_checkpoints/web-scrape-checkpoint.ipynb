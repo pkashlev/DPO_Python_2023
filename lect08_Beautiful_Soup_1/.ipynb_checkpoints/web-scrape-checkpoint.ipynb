{
 "cells": [
  {
   "cell_type": "markdown",
   "metadata": {},
   "source": [
    "# Python для анализа данных\n",
    "\n",
    "*Алла Тамбовцева, НИУ ВШЭ*"
   ]
  },
  {
   "cell_type": "markdown",
   "metadata": {},
   "source": [
    "## Web-scraping\n",
    "\n",
    "Мы уже немного познакомились со структурой html-файлов, теперь попробуем выгрузить информацию из реальной страницы, а точнее, с реального сайта [nplus1.ru](https://nplus1.ru/).\n",
    "\n",
    "**Наша задача:** выгрузить недавние новости в датафрейм `pandas`, чтобы потом сохранить все в csv-файл.\n",
    "\n",
    "Сначала сгрузим весь html-код страницы и сохраним его в отдельную переменную. Для этого нам понадобится библиотека `requests`. Импортируем её:"
   ]
  },
  {
   "cell_type": "code",
   "execution_count": 5,
   "metadata": {},
   "outputs": [],
   "source": [
    "import requests"
   ]
  },
  {
   "cell_type": "markdown",
   "metadata": {},
   "source": [
    "Сохраним ссылку на главную страницу сайта в переменную `url` для удобства и выгрузим страницу. (Разумеется, это будет работать при подключении к интернету. Если соединение будет отключено, Python выдаст `NewConnectionError`)."
   ]
  },
  {
   "cell_type": "code",
   "execution_count": 6,
   "metadata": {},
   "outputs": [],
   "source": [
    "url = 'https://nplus1.ru/' # сохраняем\n",
    "page = requests.get(url) # загружаем страницу по ссылке"
   ]
  },
  {
   "cell_type": "markdown",
   "metadata": {},
   "source": [
    "Если мы просто посмотрим на объект, мы ничего особенного не увидим:"
   ]
  },
  {
   "cell_type": "code",
   "execution_count": 7,
   "metadata": {},
   "outputs": [
    {
     "data": {
      "text/plain": [
       "<Response [200]>"
      ]
     },
     "execution_count": 7,
     "metadata": {},
     "output_type": "execute_result"
    }
   ],
   "source": [
    "page  # response 200 - страница загружена"
   ]
  },
  {
   "cell_type": "code",
   "execution_count": 4,
   "metadata": {},
   "outputs": [],
   "source": [
    "# page.text"
   ]
  },
  {
   "cell_type": "markdown",
   "metadata": {},
   "source": [
    "Импортируем функцию `BeautifulSoup` из библиотеки `bs4` (от *beautifulsoup4*) и заберём со страницы `page` код html в виде текста. "
   ]
  },
  {
   "cell_type": "code",
   "execution_count": 2,
   "metadata": {},
   "outputs": [],
   "source": [
    "from bs4 import BeautifulSoup  # не спрашивайте, почему BeautifulSoup"
   ]
  },
  {
   "cell_type": "code",
   "execution_count": 8,
   "metadata": {},
   "outputs": [],
   "source": [
    "soup = BeautifulSoup(page.text, 'html')"
   ]
  },
  {
   "cell_type": "markdown",
   "metadata": {},
   "source": [
    "Если выведем `soup` на экран, мы увидим то же самое, что в режиме разработчика или в режиме происмотра исходного кода (`view-source` через *Ctrl+U* в Google Chrome)."
   ]
  },
  {
   "cell_type": "code",
   "execution_count": 7,
   "metadata": {},
   "outputs": [],
   "source": [
    "# soup"
   ]
  },
  {
   "cell_type": "markdown",
   "metadata": {},
   "source": [
    "Для просмотра выглядит не очень удобно.  «Причешем» наш `soup` – воспользуемся методом `.prettify()` в сочетании с функцией `print()`."
   ]
  },
  {
   "cell_type": "code",
   "execution_count": 8,
   "metadata": {},
   "outputs": [],
   "source": [
    "# print(soup.prettify())"
   ]
  },
  {
   "cell_type": "markdown",
   "metadata": {},
   "source": [
    "В такой выдаче ориентироваться гораздо удобнее (но при желании, то же можно увидеть в браузере, на большом экране)."
   ]
  },
  {
   "cell_type": "markdown",
   "metadata": {},
   "source": [
    "\n",
    "Чтобы сгрузить все новости с главной страницы сайта, нужно собрать все ссылки на страницы с этими новостями. Ссылки в html-файле всегда заключены в тэг `<a></a>` и имеют атрибут `href`. Посмотрим на кусочки кода, соответствующие всем ссылкам на главной странице сайта:"
   ]
  },
  {
   "cell_type": "code",
   "execution_count": 9,
   "metadata": {
    "scrolled": true
   },
   "outputs": [
    {
     "name": "stdout",
     "output_type": "stream",
     "text": [
      "/search\n",
      "https://offline.nplus1.ru/\n",
      "https://nplus.pro/\n",
      "https://nplus1.ru/about\n",
      "https://nplus1.ru/difficult\n",
      "https://nplus1.ru/adv\n",
      "https://nplus1.ru/blog/2022/04/01/samotek\n",
      "/search/empty/869\n",
      "/search/empty/874\n",
      "/search/empty/880\n",
      "/search/empty/768\n",
      "/search/empty/890\n",
      "/search/empty/871\n",
      "/search/empty/876\n",
      "/search/empty/775\n",
      "/search/empty/767\n",
      "/search/empty/771\n",
      "/search/empty/772\n",
      "/search/empty/778\n",
      "/search/empty/917\n",
      "/search/empty/918\n",
      "/search/empty/824\n",
      "https://t.me/nplusone\n",
      "https://vk.com/nplusone\n",
      "https://ok.ru/nplus1\n",
      "https://twitter.com/nplusodin\n",
      "https://nplus1.ru/about\n",
      "https://nplus1.ru/difficult\n",
      "https://nplus1.ru/adv\n",
      "https://nplus1.ru/news/2015/09/21/editor-thy-name\n",
      "/search/empty/869\n",
      "/search/empty/874\n",
      "/search/empty/880\n",
      "/search/empty/768\n",
      "/search/empty/890\n",
      "/search/empty/871\n",
      "/search/empty/876\n",
      "/search/empty/775\n",
      "/search/empty/767\n",
      "/search/empty/771\n",
      "/search/empty/772\n",
      "/search/empty/778\n",
      "/search/empty/917\n",
      "/search/empty/918\n",
      "/search/empty/824\n",
      "https://offline.nplus1.ru/\n",
      "https://nplus.pro/\n",
      "https://t.me/nplusone\n",
      "https://vk.com/nplusone\n",
      "https://ok.ru/nplus1\n",
      "https://twitter.com/nplusodin\n",
      "https://nplus1.ru/material/2023/03/24/bioshock-infinite-10\n",
      "/search/empty/869\n",
      "/material/difficulty/7\n",
      "https://nplus1.ru/material/2023/03/22/beethoven-locks\n",
      "/search/empty/885\n",
      "/search/empty/817\n",
      "/material/difficulty/6\n",
      "https://nplus1.ru/material/2023/03/21/digital-archives\n",
      "/search/empty/812\n",
      "/search/empty/902\n",
      "/material/difficulty/1\n",
      "https://nplus1.ru/news/2023/03/27/rhodopsin-TRF-SFX\n",
      "/search/empty/870\n",
      "/material/difficulty/6\n",
      "/news/2023/03/28\n",
      "/search/empty/876\n",
      "/material/difficulty/2\n",
      "https://nplus1.ru/news/2023/03/28/ivory-bag-rings\n",
      "/news/2023/03/28\n",
      "/search/empty/871\n",
      "/material/difficulty/1\n",
      "https://nplus1.ru/news/2023/03/28/soyuz-ms-22-final\n",
      "/news/2023/03/28\n",
      "/search/empty/871\n",
      "/material/difficulty/1\n",
      "https://nplus1.ru/news/2023/03/28/soyuz-mc-22-go-away\n",
      "/news/2023/03/28\n",
      "/search/empty/885\n",
      "/material/difficulty/3\n",
      "https://nplus1.ru/news/2023/03/28/mentesh-tepe\n",
      "/news/2023/03/28\n",
      "/search/empty/873\n",
      "/material/difficulty/3\n",
      "https://nplus1.ru/news/2023/03/28/brain-structures-elevated-blood-pressure\n",
      "/news/2023/03/27\n",
      "/search/empty/870\n",
      "/material/difficulty/5\n",
      "https://nplus1.ru/news/2023/03/27/reusing-Li-batteries\n",
      "/news/2023/03/27\n",
      "/search/empty/880\n",
      "/material/difficulty/4\n",
      "https://nplus1.ru/news/2023/03/27/solar-wind-water\n",
      "/news/2023/03/27\n",
      "/search/empty/880\n",
      "/material/difficulty/4\n",
      "https://nplus1.ru/news/2023/03/27/trappist-1-b-no-atm\n",
      "/news/2023/03/27\n",
      "/search/empty/874\n",
      "/material/difficulty/3\n",
      "https://nplus1.ru/news/2023/03/27/cricetomys-ansorgei\n",
      "/news/2023/03/27\n",
      "/search/empty/873\n",
      "/material/difficulty/3\n",
      "https://nplus1.ru/news/2023/03/27/preoperative-medical-consultation\n",
      "/news/2023/03/27\n",
      "/search/empty/885\n",
      "/material/difficulty/3\n",
      "https://nplus1.ru/news/2023/03/27/snail-memory\n",
      "/news/2023/03/27\n",
      "/search/empty/869\n",
      "/material/difficulty/7\n",
      "https://nplus1.ru/news/2023/03/27/electron-dynamics-on-liquid-helium\n",
      "https://nplus1.ru/blog/2023/03/27/to-hell-with-me\n",
      "/blog/2023/03/27\n",
      "/search/empty/874\n",
      "/material/difficulty/1\n",
      "https://nplus1.ru/blog/2023/03/27/to-hell-with-me\n",
      "https://nplus1.ru/blog/2023/03/22/the-precipice\n",
      "/blog/2023/03/22\n",
      "/search/empty/872\n",
      "/search/empty/884\n",
      "/material/difficulty/1\n",
      "https://nplus1.ru/blog/2023/03/22/the-precipice\n",
      "/news/2023/03/27\n",
      "/search/empty/877\n",
      "/material/difficulty/3\n",
      "https://nplus1.ru/news/2023/03/27/virtual-excavation\n",
      "/news/2023/03/27\n",
      "/search/empty/885\n",
      "/material/difficulty/4\n",
      "https://nplus1.ru/news/2023/03/27/alka-gen\n",
      "https://nplus1.ru/material/2023/03/01/black-mesa-physics\n",
      "/material/2023/03/01\n",
      "/search/empty/869\n",
      "/material/difficulty/6\n",
      "https://nplus1.ru/material/2023/03/01/black-mesa-physics\n",
      "https://nplus1.ru/material/2023/02/22/turing-fingerprints\n",
      "/search/empty/885\n",
      "/material/difficulty/7\n",
      "https://nplus1.ru/material/2023/02/22/turing-fingerprints\n",
      "/blog/2023/03/24\n",
      "/search/empty/873\n",
      "/material/difficulty/1\n",
      "/author/ast-corpus\n",
      "https://nplus1.ru/blog/2023/03/24/how-to-examine-a-wolverine\n",
      "/news/2023/03/27\n",
      "/search/empty/876\n",
      "/material/difficulty/2\n",
      "https://nplus1.ru/news/2023/03/27/palenque\n",
      "/news/2023/03/25\n",
      "/search/empty/873\n",
      "/material/difficulty/3\n",
      "https://nplus1.ru/news/2023/03/25/FDA-activated-phosphoinositide-3-kinase-delta-syndrome\n",
      "/news/2023/03/25\n",
      "/search/empty/871\n",
      "/material/difficulty/1\n",
      "https://nplus1.ru/news/2023/03/25/rashid-near-moon\n",
      "https://nplus1.ru/material/2023/02/21/f-for-feathers\n",
      "/material/2023/02/21\n",
      "/search/empty/878\n",
      "/material/difficulty/2\n",
      "https://nplus1.ru/material/2023/02/21/f-for-feathers\n",
      "/news/2023/03/25\n",
      "/search/empty/882\n",
      "/material/difficulty/2\n",
      "https://nplus1.ru/news/2023/03/25/heartbeat-in-blind-individuals\n",
      "/news/2023/03/25\n",
      "/search/empty/873\n",
      "/material/difficulty/3\n",
      "https://nplus1.ru/news/2023/03/25/zolgensma-long-term\n",
      "https://nplus1.ru/material/2023/02/16/not-a-planet\n",
      "/material/2023/02/16\n",
      "/search/empty/880\n",
      "/material/difficulty/2\n",
      "https://nplus1.ru/material/2023/02/16/not-a-planet\n",
      "https://nplus1.ru/material/2023/02/15/earthquake-prediction\n",
      "/search/empty/884\n",
      "/material/difficulty/6\n",
      "https://nplus1.ru/material/2023/02/15/earthquake-prediction\n",
      "/blog/2023/03/20\n",
      "/search/empty/885\n",
      "/material/difficulty/1\n",
      "/author/ast-corpus\n",
      "https://nplus1.ru/blog/2023/03/20/life-as-we-made-it\n",
      "/news/2023/03/24\n",
      "/search/empty/880\n",
      "/material/difficulty/3\n",
      "https://nplus1.ru/news/2023/03/24/hubble-new-data-opal\n",
      "/news/2023/03/24\n",
      "/search/empty/880\n",
      "/material/difficulty/3\n",
      "https://nplus1.ru/news/2023/03/24/gaia-vari\n",
      "/news/2023/03/24\n",
      "/search/empty/874\n",
      "/material/difficulty/1\n",
      "https://nplus1.ru/news/2023/03/24/zebrafish-count\n",
      "https://nplus1.ru/material/2023/02/15/polyoxometalates-for-medicine\n",
      "/material/2023/02/15\n",
      "/search/empty/812\n",
      "/material/difficulty/4\n",
      "https://nplus1.ru/material/2023/02/15/polyoxometalates-for-medicine\n",
      "/news/2023/03/24\n",
      "/search/empty/874\n",
      "/material/difficulty/3\n",
      "https://nplus1.ru/news/2023/03/24/geospiza-fuliginosa\n",
      "/news/2023/03/24\n",
      "/search/empty/880\n",
      "/material/difficulty/4\n",
      "https://nplus1.ru/news/2023/03/24/vhs-1256-1257-b-jwst\n",
      "https://nplus1.ru/material/2023/02/14/hereditary-epigenetics\n",
      "/material/2023/02/14\n",
      "/search/empty/885\n",
      "/material/difficulty/7\n",
      "https://nplus1.ru/material/2023/02/14/hereditary-epigenetics\n",
      "https://nplus1.ru/material/2023/02/14/wild-tinder\n",
      "/search/empty/874\n",
      "/material/difficulty/1\n",
      "https://nplus1.ru/material/2023/02/14/wild-tinder\n",
      "/blog/2023/03/16\n",
      "/search/empty/885\n",
      "/material/difficulty/1\n",
      "/author/ast-corpus\n",
      "https://nplus1.ru/blog/2023/03/16/the-gene\n",
      "/news/2023/03/24\n",
      "/search/empty/896\n",
      "/material/difficulty/3\n",
      "https://nplus1.ru/news/2023/03/24/so-thin-and-robust\n",
      "/news/2023/03/24\n",
      "/search/empty/873\n",
      "/material/difficulty/3\n",
      "https://nplus1.ru/news/2023/03/24/caudal-regression-syndrome\n",
      "/news/2023/03/24\n",
      "/search/empty/871\n",
      "/material/difficulty/2\n",
      "https://nplus1.ru/news/2023/03/24/rocket-lab-no-helicopter\n",
      "https://nplus1.ru/material/2023/02/13/catch-the-rhythm\n",
      "/material/2023/02/13\n",
      "/search/empty/812\n",
      "/material/difficulty/3\n",
      "https://nplus1.ru/material/2023/02/13/catch-the-rhythm\n",
      "/news/2023/03/24\n",
      "/search/empty/885\n",
      "/material/difficulty/4\n",
      "https://nplus1.ru/news/2023/03/24/adaptive-admixture\n",
      "/news/2023/03/24\n",
      "/search/empty/869\n",
      "/material/difficulty/8\n",
      "https://nplus1.ru/news/2023/03/24/mm-to-optics\n",
      "https://nplus1.ru/material/2023/02/10/maria-stuart-letters\n",
      "/material/2023/02/10\n",
      "/search/empty/817\n",
      "/material/difficulty/3\n",
      "https://nplus1.ru/material/2023/02/10/maria-stuart-letters\n",
      "https://nplus1.ru/material/2023/02/10/modification-of-life\n",
      "/search/empty/812\n",
      "/material/difficulty/3\n",
      "https://nplus1.ru/material/2023/02/10/modification-of-life\n",
      "/blog/2023/03/13\n",
      "/search/empty/885\n",
      "/material/difficulty/1\n",
      "/author/ast-corpus\n",
      "https://nplus1.ru/blog/2023/03/13/the-genesis-quest\n",
      "/news/2023/03/24\n",
      "/search/empty/873\n",
      "/material/difficulty/3\n",
      "https://nplus1.ru/news/2023/03/24/male-genitourinary-microbiome\n",
      "/news/2023/03/24\n",
      "/search/empty/869\n",
      "/material/difficulty/3\n",
      "https://nplus1.ru/news/2023/03/24/ATLAS-W-boson\n",
      "/news/2023/03/24\n",
      "/search/empty/870\n",
      "/material/difficulty/6\n",
      "https://nplus1.ru/news/2023/03/24/laser-X-ray-difraction\n",
      "https://nplus1.ru/material/2023/02/08/the-end-of-hattusa\n",
      "/material/2023/02/08\n",
      "/search/empty/817\n",
      "/material/difficulty/4\n",
      "https://nplus1.ru/material/2023/02/08/the-end-of-hattusa\n",
      "/news/2023/03/24\n",
      "/search/empty/876\n",
      "/material/difficulty/3\n",
      "https://nplus1.ru/news/2023/03/24/volchia-griva\n",
      "/news/2023/03/24\n",
      "/search/empty/880\n",
      "/material/difficulty/5\n",
      "https://nplus1.ru/news/2023/03/24/wd-unique-binary\n",
      "https://nplus1.ru/material/2023/02/08/supercool-four\n",
      "/material/2023/02/08\n",
      "/search/empty/869\n",
      "/material/difficulty/9\n",
      "https://nplus1.ru/material/2023/02/08/supercool-four\n",
      "https://nplus1.ru/material/2023/02/08/blue-skies-research\n",
      "/search/empty/812\n",
      "/material/difficulty/2\n",
      "https://nplus1.ru/material/2023/02/08/blue-skies-research\n",
      "/blog/2023/03/10\n",
      "/search/empty/817\n",
      "/material/difficulty/1\n",
      "/author/nlo\n",
      "https://nplus1.ru/blog/2023/03/10/everyday-life-in-su\n",
      "/news/2023/03/24\n",
      "/search/empty/874\n",
      "/material/difficulty/2\n",
      "https://nplus1.ru/news/2023/03/24/eliomys-quercinus\n",
      "/news/2023/03/23\n",
      "/search/empty/873\n",
      "/material/difficulty/2\n",
      "https://nplus1.ru/news/2023/03/23/pseudomonas-aeruginosa-artificial-tears\n",
      "/news/2023/03/23\n",
      "/search/empty/883\n",
      "/material/difficulty/1\n",
      "https://nplus1.ru/news/2023/03/23/digit-wow-v4-such-design-much-human\n",
      "https://nplus1.ru/material/2023/02/07/spinning-core\n",
      "/material/2023/02/07\n",
      "/search/empty/884\n",
      "/material/difficulty/6\n",
      "https://nplus1.ru/material/2023/02/07/spinning-core\n",
      "/news/2020/06/01\n",
      "/search/empty/873\n",
      "/material/difficulty/3\n",
      "https://nplus1.ru/news/2020/06/01/gray-hair\n",
      "/news/2023/03/06\n",
      "/search/empty/876\n",
      "/material/difficulty/3\n",
      "https://nplus1.ru/news/2023/03/06/markowice\n",
      "/news/2023/03/23\n",
      "/search/empty/869\n",
      "/material/difficulty/4\n",
      "https://nplus1.ru/news/2023/03/23/153-neutrino\n",
      "/news/2023/03/06\n",
      "/search/empty/869\n",
      "/material/difficulty/2\n",
      "https://nplus1.ru/news/2023/03/06/1-inch-punch\n",
      "/news/2023/03/10\n",
      "/search/empty/885\n",
      "/material/difficulty/5\n",
      "https://nplus1.ru/news/2023/03/10/fathers-self-sufficient\n",
      "/news/2023/03/13\n",
      "/search/empty/877\n",
      "/material/difficulty/4\n",
      "https://nplus1.ru/news/2023/03/13/ancibd\n",
      "/news/2023/03/08\n",
      "/search/empty/869\n",
      "/material/difficulty/7\n",
      "https://nplus1.ru/news/2023/03/08/high-Tc-10-kbar\n",
      "/news/2023/03/16\n",
      "/search/empty/873\n",
      "/material/difficulty/3\n",
      "https://nplus1.ru/news/2023/03/16/HIV-remission-cord-blood-transplantation\n",
      "/news/2023/03/21\n",
      "/search/empty/873\n",
      "/material/difficulty/2\n",
      "https://nplus1.ru/news/2023/03/21/2019-to-2021-candida-auris\n",
      "/news/2023/03/08\n",
      "/search/empty/817\n",
      "/material/difficulty/1\n",
      "https://nplus1.ru/news/2023/03/08/oldest-odin-inscription\n",
      "/news/2023/03/09\n",
      "/search/empty/880\n",
      "/material/difficulty/4\n",
      "https://nplus1.ru/news/2023/03/09/water-and-d-in-v-883-ori\n",
      "/news/2023/03/10\n",
      "/search/empty/869\n",
      "/material/difficulty/8\n",
      "https://nplus1.ru/news/2023/03/10/superposition-gravity\n",
      "/news/2023/03/16\n",
      "/search/empty/817\n",
      "/material/difficulty/3\n",
      "https://nplus1.ru/news/2023/03/16/notre-dame-de-paris\n",
      "/news/2023/03/10\n",
      "/search/empty/876\n",
      "/material/difficulty/3\n",
      "https://nplus1.ru/news/2023/03/10/macaques-made-stone-flakes\n",
      "/news/2023/03/10\n",
      "/search/empty/885\n",
      "/material/difficulty/4\n",
      "https://nplus1.ru/news/2023/03/10/mitochondrial-reversion\n",
      "/news/2023/03/23\n",
      "/search/empty/873\n",
      "/material/difficulty/2\n",
      "https://nplus1.ru/news/2023/03/23/pseudomonas-aeruginosa-artificial-tears\n",
      "/news/2023/03/27\n",
      "/search/empty/874\n",
      "/material/difficulty/3\n",
      "https://nplus1.ru/news/2023/03/27/cricetomys-ansorgei\n",
      "/material/2023/03/01\n",
      "/search/empty/869\n",
      "/material/difficulty/6\n",
      "https://nplus1.ru/material/2023/03/01/black-mesa-physics\n",
      "/news/2023/03/14\n",
      "/search/empty/869\n",
      "/material/difficulty/8\n",
      "https://nplus1.ru/news/2023/03/14/Schwinger-effect-in-graphene\n",
      "/news/2023/03/23\n",
      "/search/empty/876\n",
      "/material/difficulty/1\n",
      "https://nplus1.ru/news/2023/03/23/statuette-of-venus\n",
      "https://nplus1.ru/material/2023/03/06/avian-mink-human-flu\n",
      "/material/2023/03/06\n",
      "/search/empty/873\n",
      "/material/difficulty/2\n",
      "https://nplus1.ru/material/2023/03/06/avian-mink-human-flu\n",
      "https://nplus1.ru/material/2023/03/02/tell-timai\n",
      "/material/2023/03/02\n",
      "/search/empty/876\n",
      "/search/empty/817\n",
      "/material/difficulty/3\n",
      "https://nplus1.ru/material/2023/03/02/tell-timai\n",
      "https://nplus1.ru/news/2023/03/08/high-Tc-10-kbar\n",
      "https://nplus1.ru/news/2023/03/09/ground-state-cooling\n",
      "https://nplus1.ru/news/2023/03/10/superposition-gravity\n",
      "https://nplus1.ru/news/2023/03/13/negative-optical-temperature\n",
      "https://nplus1.ru/news/2023/03/13/MINFLUX-kinesin-walking\n",
      "https://nplus1.ru/news/2023/03/14/Schwinger-effect-in-graphene\n",
      "https://nplus1.ru/news/2023/03/15/EDFT\n",
      "https://nplus1.ru/news/2023/03/15/one-photon-measurements\n",
      "https://nplus1.ru/news/2023/03/17/laser-through-clouds\n",
      "https://nplus1.ru/news/2023/03/17/quantum-neural-network\n",
      "https://nplus1.ru/news/2023/03/22/orbital\n",
      "https://nplus1.ru/news/2023/03/23/two-groups-qubit-correction\n",
      "https://nplus1.ru/news/2023/03/24/mm-to-optics\n",
      "https://nplus1.ru/material/2023/03/24/bioshock-infinite-10\n",
      "https://nplus1.ru/news/2023/03/27/electron-dynamics-on-liquid-helium\n",
      "https://nplus1.ru/about\n",
      "https://nplus1.ru/difficult\n",
      "https://nplus1.ru/adv\n",
      "https://nplus1.ru/blog/2022/04/01/samotek\n",
      "mailto:nl@nplus1.ru\n",
      "mailto:info@nplus1.ru\n",
      "/personal-data-policy\n",
      "https://t.me/nplusone\n",
      "https://vk.com/nplusone\n",
      "https://ok.ru/nplus1\n",
      "https://twitter.com/nplusodin\n"
     ]
    }
   ],
   "source": [
    "\n",
    "for link in soup.find_all('a'):\n",
    "    print(link.get('href'))\n",
    "#     break"
   ]
  },
  {
   "cell_type": "markdown",
   "metadata": {},
   "source": [
    "Ссылок много. Но нам нужны только новости – ссылки, которые начинаются со слова `/news`. Добавим условие: будем выбирать только те ссылки, в которых есть `/news`. Создадим пустой список `urls` и будем добавлять в него только ссылки, которые удовлетворяют этому условию."
   ]
  },
  {
   "cell_type": "code",
   "execution_count": 9,
   "metadata": {},
   "outputs": [],
   "source": [
    "# urls = []\n",
    "\n",
    "# for link in soup.find_all('a'):\n",
    "#     if '/news' in link.get('href'):\n",
    "#         urls.append('https://nplus1.ru'+link.get('href'))\n",
    "\n",
    "urls = [link.get('href') \n",
    "        for link in soup.find_all('a') \n",
    "        if 'https://nplus1.ru/news/2023' in link.get('href')]"
   ]
  },
  {
   "cell_type": "markdown",
   "metadata": {},
   "source": [
    "Ссылки, которые у нас есть в списке `urls`, относительные: они неполные, начало ссылки (название сайта) отсутствует. Давайте превратим их в абсолютные ‒ склеим с ссылкой https://nplus1.ru."
   ]
  },
  {
   "cell_type": "code",
   "execution_count": 10,
   "metadata": {},
   "outputs": [
    {
     "data": {
      "text/plain": [
       "['https://nplus1.ru/news/2023/03/31/Chondrostereum-purpureum',\n",
       " 'https://nplus1.ru/news/2023/04/01/finally-glycine',\n",
       " 'https://nplus1.ru/news/2023/04/01/copper-fishing-hook',\n",
       " 'https://nplus1.ru/news/2023/03/31/human-lung-cross-circulation',\n",
       " 'https://nplus1.ru/news/2023/03/31/jwst-no-sn-boat-grb']"
      ]
     },
     "execution_count": 10,
     "metadata": {},
     "output_type": "execute_result"
    }
   ],
   "source": [
    "urls[:5]"
   ]
  },
  {
   "cell_type": "code",
   "execution_count": 26,
   "metadata": {},
   "outputs": [],
   "source": [
    "# full_urls = []\n",
    "\n",
    "# for u in urls:\n",
    "#     res = 'https://nplus1.ru' + u\n",
    "#     full_urls.append(res) \n",
    "\n",
    "# full_urls"
   ]
  },
  {
   "cell_type": "code",
   "execution_count": 15,
   "metadata": {},
   "outputs": [],
   "source": [
    "# urls"
   ]
  },
  {
   "cell_type": "markdown",
   "metadata": {},
   "source": [
    "Теперь наша задача сводится к следующему: изучить одну страницу с новостью, научиться из нее вытаскивать текст и всю необходимую информацию, а потом применить весь набор действий к каждой ссылке из `full_urls` в цикле. Посмотрим на новость с индексом 1, у вас может быть другая, новости обновляются."
   ]
  },
  {
   "cell_type": "code",
   "execution_count": 12,
   "metadata": {},
   "outputs": [],
   "source": [
    "url0 = urls[0]\n",
    "\n",
    "page0 = requests.get(url0)\n",
    "soup0 = BeautifulSoup(page0.text, 'html')"
   ]
  },
  {
   "cell_type": "code",
   "execution_count": 13,
   "metadata": {},
   "outputs": [
    {
     "data": {
      "text/plain": [
       "'https://nplus1.ru/news/2023/03/27/rhodopsin-TRF-SFX'"
      ]
     },
     "execution_count": 13,
     "metadata": {},
     "output_type": "execute_result"
    }
   ],
   "source": [
    "url0"
   ]
  },
  {
   "cell_type": "markdown",
   "metadata": {},
   "source": [
    "В коде каждой страницы с новостью есть часть с мета-информацией: датой, именем автора и проч. Такая информация окружена тэгом `<meta></meta>`. Посмотрим:"
   ]
  },
  {
   "cell_type": "code",
   "execution_count": 14,
   "metadata": {},
   "outputs": [
    {
     "data": {
      "text/plain": [
       "[<meta charset=\"utf-8\"/>,\n",
       " <meta content=\"width=device-width, initial-scale=1\" name=\"viewport\"/>,\n",
       " <meta content=\"#f26e40\" name=\"msapplication-TileColor\"/>,\n",
       " <meta content=\"#ffffff\" name=\"theme-color\"/>,\n",
       " <meta content=\"8c90b02c84ac3b72\" name=\"yandex-verification\"/>,\n",
       " <meta content=\"b419949322895fc9106e24ed01be58ac\" name=\"pmail-verification\"/>,\n",
       " <meta content=\"N + 1 — главное издание о науке, технике и технологиях\" name=\"description\"/>,\n",
       " <meta content=\"N + 1 — главное издание о науке, технике и технологиях\" property=\"og:site_name\"/>,\n",
       " <meta content=\"Химики проследили за возбуждением родопсина под действием света\" property=\"og:title\"/>,\n",
       " <meta content=\"https://minio.nplus1.ru/app-images/770021/64215a637230f_cover_share.jpg\" property=\"og:image\"/>,\n",
       " <meta content=\"https://nplus1.ru/news/2023/03/27/rhodopsin-TRF-SFX\" property=\"og:url\"/>,\n",
       " <meta content=\"N + 1 — главное издание о науке, технике и технологиях\" property=\"og:description\"/>,\n",
       " <meta content=\"article\" property=\"og:type\"/>,\n",
       " <meta content=\"2023-03-27\" itemprop=\"datePublished\"/>,\n",
       " <meta content=\"2023-03-27\" itemprop=\"datePublished\"/>,\n",
       " <meta content=\"Михаил Бойм\" name=\"mediator_author\"/>,\n",
       " <meta content=\"Михаил Бойм\" name=\"author\"/>,\n",
       " <meta content=\"\" name=\"copyright\"/>,\n",
       " <meta content=\"summary_large_image\" name=\"twitter:card\"/>,\n",
       " <meta content=\"@nplusodin\" name=\"twitter:site\"/>,\n",
       " <meta content=\"Химики проследили за возбуждением родопсина под действием света\" name=\"twitter:title\"/>,\n",
       " <meta content=\"N + 1 — главное издание о науке, технике и технологиях\" name=\"twitter:description\"/>,\n",
       " <meta content=\"https://minio.nplus1.ru/app-images/770021/64215a637230f_cover_share.jpg\" name=\"twitter:image\"/>]"
      ]
     },
     "execution_count": 14,
     "metadata": {},
     "output_type": "execute_result"
    }
   ],
   "source": [
    "soup0.find_all('meta')"
   ]
  },
  {
   "cell_type": "code",
   "execution_count": null,
   "metadata": {},
   "outputs": [],
   "source": []
  },
  {
   "cell_type": "markdown",
   "metadata": {},
   "source": [
    "Из этого списка нам нужны части с именем автора, датой, заголовком и кратким описанием. Воспользуемся поиском по атрибуту `name`. Передадим функции `find_all()` в качестве аргумента словарь с названием и значением атрибута: "
   ]
  },
  {
   "cell_type": "code",
   "execution_count": 15,
   "metadata": {},
   "outputs": [
    {
     "data": {
      "text/plain": [
       "[<meta content=\"Михаил Бойм\" name=\"author\"/>]"
      ]
     },
     "execution_count": 15,
     "metadata": {},
     "output_type": "execute_result"
    }
   ],
   "source": [
    "soup0.find_all('meta', {'name' : 'author'}) # например, автор"
   ]
  },
  {
   "cell_type": "markdown",
   "metadata": {},
   "source": [
    "Теперь выберем единственный элемент полученного списка (с индексом 0):"
   ]
  },
  {
   "cell_type": "code",
   "execution_count": 16,
   "metadata": {},
   "outputs": [
    {
     "data": {
      "text/plain": [
       "<meta content=\"Михаил Бойм\" name=\"author\"/>"
      ]
     },
     "execution_count": 16,
     "metadata": {},
     "output_type": "execute_result"
    }
   ],
   "source": [
    "soup0.find_all('meta', {'name' : 'author'})[0]"
   ]
  },
  {
   "cell_type": "markdown",
   "metadata": {},
   "source": [
    "Нам нужно вытащить из этого объекта `content` – имя автора. Посмотрим на атрибуты:"
   ]
  },
  {
   "cell_type": "code",
   "execution_count": 17,
   "metadata": {},
   "outputs": [
    {
     "data": {
      "text/plain": [
       "'Михаил Бойм'"
      ]
     },
     "execution_count": 17,
     "metadata": {},
     "output_type": "execute_result"
    }
   ],
   "source": [
    "soup0.find_all('meta', {'name' : 'author'})[0].get('content')"
   ]
  },
  {
   "cell_type": "markdown",
   "metadata": {},
   "source": [
    "Как получить отсюда `content`? Очень просто, ведь это словарь! А доставать из словаря значение по ключу мы умеем."
   ]
  },
  {
   "cell_type": "code",
   "execution_count": 18,
   "metadata": {},
   "outputs": [
    {
     "data": {
      "text/plain": [
       "{'name': 'author', 'content': 'Михаил Бойм'}"
      ]
     },
     "execution_count": 18,
     "metadata": {},
     "output_type": "execute_result"
    }
   ],
   "source": [
    "author = soup0.find_all('meta', {'name' : 'author'})[0].attrs\n",
    "author"
   ]
  },
  {
   "cell_type": "markdown",
   "metadata": {},
   "source": [
    "Аналогичным образом извлечем дату, заголовок и описание."
   ]
  },
  {
   "cell_type": "code",
   "execution_count": 19,
   "metadata": {},
   "outputs": [
    {
     "data": {
      "text/plain": [
       "'Химики проследили за возбуждением родопсина под действием света'"
      ]
     },
     "execution_count": 19,
     "metadata": {},
     "output_type": "execute_result"
    }
   ],
   "source": [
    "soup0.find_all('meta', {'property' : 'og:title'})[0].get('content')"
   ]
  },
  {
   "cell_type": "code",
   "execution_count": 20,
   "metadata": {},
   "outputs": [],
   "source": [
    "date = soup0.find_all('meta', {'itemprop' : 'datePublished'})[0].get('content')\n",
    "title = soup0.find_all('meta', {'property' : 'og:title'})[0].get('content')\n",
    "description = soup0.find_all('h1', {'class':'text-34 md:text-42 xl:text-52 break-words'})[0].get_text().strip() \\\n",
    "+ '\\n' + soup0.find_all('p', {'class':\"text-36 md:text-44 xl:text-54 font-spectral text-main-gray mb-6\"})[0].get_text().strip()\n",
    "\n"
   ]
  },
  {
   "cell_type": "code",
   "execution_count": 21,
   "metadata": {},
   "outputs": [
    {
     "data": {
      "text/plain": [
       "'Химики проследили за возбуждением родопсина под действием света\\nОказалось, что он меняет свою конформацию в течение 100 пикосекунд'"
      ]
     },
     "execution_count": 21,
     "metadata": {},
     "output_type": "execute_result"
    }
   ],
   "source": [
    "description"
   ]
  },
  {
   "cell_type": "markdown",
   "metadata": {},
   "source": [
    "Осталось вытащить рубрики и сложность текста. Если мы посмотрим на исходный код страницы, мы увидим, что нужная нам информация находится в тэгах `<p></p>`:"
   ]
  },
  {
   "cell_type": "code",
   "execution_count": 22,
   "metadata": {},
   "outputs": [],
   "source": [
    "new_data = soup0.find_all('div', {'class':\"flex flex-wrap lg:mb-10 gap-2 text-tags xl:pr-9\"})[0].find_all('span')[1:]\n",
    "\n",
    "time_published = new_data[0].get_text()\n",
    "date_published = new_data[1].get_text()\n",
    "complexity = new_data[2].get_text()\n",
    "themes = ', '.join(i.get_text() for i in new_data[3:])"
   ]
  },
  {
   "cell_type": "code",
   "execution_count": null,
   "metadata": {},
   "outputs": [],
   "source": []
  },
  {
   "cell_type": "code",
   "execution_count": 23,
   "metadata": {},
   "outputs": [],
   "source": [
    "paragraphs = soup0.find_all('p', {'class': 'mb-6'})[1:]\n"
   ]
  },
  {
   "cell_type": "code",
   "execution_count": 24,
   "metadata": {},
   "outputs": [],
   "source": [
    "links = set()\n",
    "for p in paragraphs:\n",
    "    links|={i.get('href') for i in p.find_all('a')}\n",
    "links = ', '.join(links)"
   ]
  },
  {
   "cell_type": "code",
   "execution_count": 25,
   "metadata": {},
   "outputs": [],
   "source": [
    "full_text = '\\n'.join([p.get_text() for p in paragraphs])"
   ]
  },
  {
   "cell_type": "code",
   "execution_count": null,
   "metadata": {},
   "outputs": [],
   "source": []
  },
  {
   "cell_type": "markdown",
   "metadata": {},
   "source": [
    "Не прошло и двух пар, как мы разобрались со всем :) Теперь осталось совсем чуть-чуть. Написать готовую функцию для всех проделанных нами действий и применить ее в цикле для всех ссылок в списке `full_urls`. Напишем! Аргументом функции будет ссылка на новость, а возвращать она будет текст новости и всю необходимую информацию (дата, автор, сложность и проч.). Скопируем все строки кода выше."
   ]
  },
  {
   "cell_type": "code",
   "execution_count": 37,
   "metadata": {},
   "outputs": [],
   "source": [
    "def GetNews(url0):\n",
    "    \"\"\"\n",
    "    Returns a tuple with \n",
    "    url0, date_published, time_published, author, description, title, complexity, themes, links,full_text\n",
    "    Parameters:\n",
    "    \n",
    "    url0 is a link to the news (string)\n",
    "    \"\"\"\n",
    "    page0 = requests.get(url0)\n",
    "    soup0 = BeautifulSoup(page0.text, 'lxml')\n",
    "    \n",
    "    author = soup0.find_all('meta', {'name' : 'author'})[0].get('content')\n",
    "    date = soup0.find_all('meta', {'itemprop' : 'datePublished'})[0].get('content')\n",
    "    title = soup0.find_all('meta', {'property' : 'og:title'})[0].get('content')\n",
    "    description = soup0.find_all('h1', {'class':'text-34 md:text-42 xl:text-52 break-words'})[0].get_text().strip() \\\n",
    "+ '\\n' + soup0.find_all('p', {'class':\"text-36 md:text-44 xl:text-54 font-spectral text-main-gray mb-6\"})[0].get_text().strip()\n",
    "\n",
    "\n",
    "    \n",
    "    new_data = soup0.find_all('div', {'class':\"flex flex-wrap lg:mb-10 gap-2 text-tags xl:pr-9\"})[0].find_all('span')[1:]\n",
    "\n",
    "    time_published = new_data[0].get_text()\n",
    "    date_published = new_data[1].get_text()\n",
    "    complexity = new_data[2].get_text()\n",
    "    themes = ', '.join(i.get_text() for i in new_data[3:])\n",
    "    \n",
    "    paragraphs = soup0.find_all('p', {'class': 'mb-6'})[1:]\n",
    "    links = set()\n",
    "    for p in paragraphs:\n",
    "        links|={i.get('href') for i in p.find_all('a')}\n",
    "    links -= {None} # Если вдруг у нас есть None-ссылка\n",
    "    links = {''} if not links else links\n",
    "    links = ', '.join(links)\n",
    "    full_text = '\\n'.join([p.get_text() for p in paragraphs])\n",
    "    \n",
    "    return url0, date_published, time_published, author, description, title, complexity, themes, links,full_text"
   ]
  },
  {
   "cell_type": "markdown",
   "metadata": {},
   "source": [
    "Уфф. Осталось применить ее в цикле. Но давайте не будем спешить: импортируем функцию `sleep` для задержки, чтобы на каждой итерации цикла, прежде чем перейти к следующей новости, Python ждал несколько секунд. Во-первых, это нужно, чтобы сайт «не понял», чтобы мы его грабим, да еще автоматически. Во-вторых, с небольшой задержкой всегда есть гарантия, что страница прогрузится (сейчас это пока не очень важно, но особенно актуально будет, когда будем обсуждать встраивание в браузер с Selenium). Приступим."
   ]
  },
  {
   "cell_type": "code",
   "execution_count": 21,
   "metadata": {},
   "outputs": [],
   "source": [
    "# GetNews(url0)"
   ]
  },
  {
   "cell_type": "code",
   "execution_count": 4,
   "metadata": {},
   "outputs": [],
   "source": [
    "from time import sleep\n",
    "from tqdm import tqdm"
   ]
  },
  {
   "cell_type": "code",
   "execution_count": 12,
   "metadata": {},
   "outputs": [],
   "source": [
    "import random"
   ]
  },
  {
   "cell_type": "code",
   "execution_count": null,
   "metadata": {},
   "outputs": [],
   "source": []
  },
  {
   "cell_type": "code",
   "execution_count": 38,
   "metadata": {},
   "outputs": [
    {
     "name": "stderr",
     "output_type": "stream",
     "text": [
      "100%|██████████| 71/71 [01:00<00:00,  1.17it/s]\n"
     ]
    }
   ],
   "source": [
    "news = [] # это будет список из кортежей, в которых будут храниться данные по каждой новости\n",
    "\n",
    "for link in tqdm(urls):\n",
    "    res = GetNews(link)\n",
    "    news.append(res)\n",
    "    sleep(random.random()) # задержка в 3 секунды"
   ]
  },
  {
   "cell_type": "code",
   "execution_count": 19,
   "metadata": {},
   "outputs": [
    {
     "data": {
      "text/plain": [
       "'https://nplus1.ru/news/2023/03/15/EDFT'"
      ]
     },
     "execution_count": 19,
     "metadata": {},
     "output_type": "execute_result"
    }
   ],
   "source": [
    "urls[60]"
   ]
  },
  {
   "cell_type": "code",
   "execution_count": 20,
   "metadata": {},
   "outputs": [],
   "source": [
    "page0 = requests.get(urls[60])\n",
    "soup0 = BeautifulSoup(page0.text, 'lxml')"
   ]
  },
  {
   "cell_type": "code",
   "execution_count": 22,
   "metadata": {},
   "outputs": [],
   "source": [
    "paragraphs = soup0.find_all('p', {'class': 'mb-6'})[1:]"
   ]
  },
  {
   "cell_type": "code",
   "execution_count": 24,
   "metadata": {},
   "outputs": [],
   "source": [
    "links = set()\n",
    "for p in paragraphs:\n",
    "    links|={i.get('href') for i in p.find_all('a')}"
   ]
  },
  {
   "cell_type": "code",
   "execution_count": 26,
   "metadata": {},
   "outputs": [
    {
     "data": {
      "text/plain": [
       "{'https://journals.aps.org/prl/abstract/10.1103/PhysRevLett.130.106401',\n",
       " 'https://nplus1.ru/material/2017/07/28/protonpuzzle',\n",
       " 'https://nplus1.ru/news/2017/01/12/relativistic-gold',\n",
       " 'https://nplus1.ru/news/2017/10/13/chem-machine',\n",
       " 'https://ru.wikipedia.org/wiki/%D0%A2%D0%B5%D0%BE%D1%80%D0%B8%D1%8F_%D1%84%D1%83%D0%BD%D0%BA%D1%86%D0%B8%D0%BE%D0%BD%D0%B0%D0%BB%D0%B0_%D0%BF%D0%BB%D0%BE%D1%82%D0%BD%D0%BE%D1%81%D1%82%D0%B8',\n",
       " 'https://ru.wikipedia.org/wiki/%D0%A3%D1%80%D0%B0%D0%B2%D0%BD%D0%B5%D0%BD%D0%B8%D0%B5_%D0%A8%D1%80%D1%91%D0%B4%D0%B8%D0%BD%D0%B3%D0%B5%D1%80%D0%B0#%D0%A1%D1%82%D0%B0%D1%86%D0%B8%D0%BE%D0%BD%D0%B0%D1%80%D0%BD%D0%BE%D0%B5_%D1%83%D1%80%D0%B0%D0%B2%D0%BD%D0%B5%D0%BD%D0%B8%D0%B5_%D0%A8%D1%80%D1%91%D0%B4%D0%B8%D0%BD%D0%B3%D0%B5%D1%80%D0%B0'}"
      ]
     },
     "execution_count": 26,
     "metadata": {},
     "output_type": "execute_result"
    }
   ],
   "source": [
    "links - {None}"
   ]
  },
  {
   "cell_type": "code",
   "execution_count": 73,
   "metadata": {},
   "outputs": [
    {
     "data": {
      "text/html": [
       "<div>\n",
       "<style scoped>\n",
       "    .dataframe tbody tr th:only-of-type {\n",
       "        vertical-align: middle;\n",
       "    }\n",
       "\n",
       "    .dataframe tbody tr th {\n",
       "        vertical-align: top;\n",
       "    }\n",
       "\n",
       "    .dataframe thead th {\n",
       "        text-align: right;\n",
       "    }\n",
       "</style>\n",
       "<table border=\"1\" class=\"dataframe\">\n",
       "  <thead>\n",
       "    <tr style=\"text-align: right;\">\n",
       "      <th></th>\n",
       "      <th>url</th>\n",
       "      <th>date_published</th>\n",
       "      <th>time_published</th>\n",
       "      <th>author</th>\n",
       "      <th>description</th>\n",
       "      <th>title</th>\n",
       "      <th>complexity</th>\n",
       "      <th>themes</th>\n",
       "      <th>links</th>\n",
       "      <th>full_text</th>\n",
       "    </tr>\n",
       "  </thead>\n",
       "  <tbody>\n",
       "    <tr>\n",
       "      <th>0</th>\n",
       "      <td>https://nplus1.ru/news/2023/03/31/Chondrostere...</td>\n",
       "      <td>31.03.23</td>\n",
       "      <td>16:15</td>\n",
       "      <td>Слава Гоменюк</td>\n",
       "      <td>Грибковый паразит растений впервые заразил чел...</td>\n",
       "      <td>Грибковый паразит растений впервые заразил чел...</td>\n",
       "      <td>2.9</td>\n",
       "      <td>Медицина</td>\n",
       "      <td>https://doi.org/10.1016/j.mmcr.2023.03.001, ht...</td>\n",
       "      <td>В Индии миколог, который занимался исследовани...</td>\n",
       "    </tr>\n",
       "    <tr>\n",
       "      <th>1</th>\n",
       "      <td>https://nplus1.ru/news/2023/04/01/finally-glycine</td>\n",
       "      <td>01.04.23</td>\n",
       "      <td>10:30</td>\n",
       "      <td>Олег Лищук</td>\n",
       "      <td>В мозге нашли метаботропные рецепторы к глицин...</td>\n",
       "      <td>В мозге нашли метаботропные рецепторы к глицину</td>\n",
       "      <td>5.3</td>\n",
       "      <td>Медицина</td>\n",
       "      <td>https://ru.wikipedia.org/wiki/%D0%9E%D1%80%D1%...</td>\n",
       "      <td>Американские исследователи обнаружили, что ран...</td>\n",
       "    </tr>\n",
       "    <tr>\n",
       "      <th>2</th>\n",
       "      <td>https://nplus1.ru/news/2023/04/01/copper-fishi...</td>\n",
       "      <td>01.04.23</td>\n",
       "      <td>09:05</td>\n",
       "      <td>Михаил Подрезов</td>\n",
       "      <td>В Израиле обнаружили 6000-летний медный рыболо...</td>\n",
       "      <td>В Израиле обнаружили 6000-летний медный рыболо...</td>\n",
       "      <td>1.1</td>\n",
       "      <td>Археология</td>\n",
       "      <td>https://nplus1.ru/news/2016/09/17/oldest-hooks...</td>\n",
       "      <td>Археологи провели охранно-спасательные раскопк...</td>\n",
       "    </tr>\n",
       "    <tr>\n",
       "      <th>3</th>\n",
       "      <td>https://nplus1.ru/news/2023/03/31/human-lung-c...</td>\n",
       "      <td>31.03.23</td>\n",
       "      <td>22:00</td>\n",
       "      <td>Слава Гоменюк</td>\n",
       "      <td>Свиная кровь полечила поврежденные донорские л...</td>\n",
       "      <td>Свиная кровь полечила поврежденные донорские л...</td>\n",
       "      <td>3.8</td>\n",
       "      <td>Медицина</td>\n",
       "      <td>https://europepmc.org/article/pmc/pmc9984766, ...</td>\n",
       "      <td>Система перекрестной реперфузии, в которой дон...</td>\n",
       "    </tr>\n",
       "    <tr>\n",
       "      <th>4</th>\n",
       "      <td>https://nplus1.ru/news/2023/03/31/jwst-no-sn-b...</td>\n",
       "      <td>31.03.23</td>\n",
       "      <td>20:52</td>\n",
       "      <td>Александр Войтюк</td>\n",
       "      <td>«Джеймс Уэбб» и «Хаббл» не нашли яркой сверхно...</td>\n",
       "      <td>«Джеймс Уэбб» и «Хаббл» не нашли яркой сверхно...</td>\n",
       "      <td>4.6</td>\n",
       "      <td>Астрономия</td>\n",
       "      <td>https://nplus1.ru/news/2023/03/31/boat-rings-g...</td>\n",
       "      <td>Космические телескопы «Джеймс Уэбб» и «Хаббл» ...</td>\n",
       "    </tr>\n",
       "    <tr>\n",
       "      <th>...</th>\n",
       "      <td>...</td>\n",
       "      <td>...</td>\n",
       "      <td>...</td>\n",
       "      <td>...</td>\n",
       "      <td>...</td>\n",
       "      <td>...</td>\n",
       "      <td>...</td>\n",
       "      <td>...</td>\n",
       "      <td>...</td>\n",
       "      <td>...</td>\n",
       "    </tr>\n",
       "    <tr>\n",
       "      <th>66</th>\n",
       "      <td>https://nplus1.ru/news/2023/03/24/laser-X-ray-...</td>\n",
       "      <td>24.03.23</td>\n",
       "      <td>11:28</td>\n",
       "      <td>Михаил Бойм</td>\n",
       "      <td>Рентгеноструктурный анализ органического вещес...</td>\n",
       "      <td>Рентгеноструктурный анализ органического вещес...</td>\n",
       "      <td>6.9</td>\n",
       "      <td>Химия</td>\n",
       "      <td>https://www.nature.com/articles/s41557-023-011...</td>\n",
       "      <td>Химики из Японии применили лазер на свободных ...</td>\n",
       "    </tr>\n",
       "    <tr>\n",
       "      <th>67</th>\n",
       "      <td>https://nplus1.ru/news/2023/03/24/mm-to-optics</td>\n",
       "      <td>24.03.23</td>\n",
       "      <td>14:28</td>\n",
       "      <td>Марат Хамадеев</td>\n",
       "      <td>Ридберговские атомы превратили фотоны радиодиа...</td>\n",
       "      <td>Ридберговские атомы превратили фотоны радиодиа...</td>\n",
       "      <td>8.3</td>\n",
       "      <td>Физика</td>\n",
       "      <td>https://nplus1.ru/material/2019/11/07/quantum-...</td>\n",
       "      <td>Физики смогли превратить фотоны миллиметрового...</td>\n",
       "    </tr>\n",
       "    <tr>\n",
       "      <th>68</th>\n",
       "      <td>https://nplus1.ru/news/2023/03/27/electron-dyn...</td>\n",
       "      <td>27.03.23</td>\n",
       "      <td>15:58</td>\n",
       "      <td>Марат Хамадеев</td>\n",
       "      <td>Волны жидкого гелия передались плавающим на не...</td>\n",
       "      <td>Волны жидкого гелия передались плавающим на не...</td>\n",
       "      <td>7.3</td>\n",
       "      <td>Физика</td>\n",
       "      <td>https://journals.aps.org/rmp/abstract/10.1103/...</td>\n",
       "      <td>Физики подробно исследовали то, какие колебани...</td>\n",
       "    </tr>\n",
       "    <tr>\n",
       "      <th>69</th>\n",
       "      <td>https://nplus1.ru/news/2023/03/30/Chiral-symme...</td>\n",
       "      <td>30.03.23</td>\n",
       "      <td>16:25</td>\n",
       "      <td>Марат Хамадеев</td>\n",
       "      <td>Пионный атом позволил измерить частичное восст...</td>\n",
       "      <td>Пионный атом позволил измерить частичное восст...</td>\n",
       "      <td>9.5</td>\n",
       "      <td>Физика</td>\n",
       "      <td>https://linkinghub.elsevier.com/retrieve/pii/0...</td>\n",
       "      <td>Физики измерили, насколько хиральный конденсат...</td>\n",
       "    </tr>\n",
       "    <tr>\n",
       "      <th>70</th>\n",
       "      <td>https://nplus1.ru/news/2023/03/31/GFF-of-proton</td>\n",
       "      <td>31.03.23</td>\n",
       "      <td>15:51</td>\n",
       "      <td>Марат Хамадеев</td>\n",
       "      <td>Физики уточнили массовый радиус протона с помо...</td>\n",
       "      <td>Физики уточнили массовый радиус протона с помо...</td>\n",
       "      <td>9.1</td>\n",
       "      <td>Физика</td>\n",
       "      <td>https://nplus1.ru/material/2017/07/28/protonpu...</td>\n",
       "      <td>Американские физики исследовали процессы припо...</td>\n",
       "    </tr>\n",
       "  </tbody>\n",
       "</table>\n",
       "<p>71 rows × 10 columns</p>\n",
       "</div>"
      ],
      "text/plain": [
       "                                                  url date_published  \\\n",
       "0   https://nplus1.ru/news/2023/03/31/Chondrostere...       31.03.23   \n",
       "1   https://nplus1.ru/news/2023/04/01/finally-glycine       01.04.23   \n",
       "2   https://nplus1.ru/news/2023/04/01/copper-fishi...       01.04.23   \n",
       "3   https://nplus1.ru/news/2023/03/31/human-lung-c...       31.03.23   \n",
       "4   https://nplus1.ru/news/2023/03/31/jwst-no-sn-b...       31.03.23   \n",
       "..                                                ...            ...   \n",
       "66  https://nplus1.ru/news/2023/03/24/laser-X-ray-...       24.03.23   \n",
       "67     https://nplus1.ru/news/2023/03/24/mm-to-optics       24.03.23   \n",
       "68  https://nplus1.ru/news/2023/03/27/electron-dyn...       27.03.23   \n",
       "69  https://nplus1.ru/news/2023/03/30/Chiral-symme...       30.03.23   \n",
       "70    https://nplus1.ru/news/2023/03/31/GFF-of-proton       31.03.23   \n",
       "\n",
       "   time_published            author  \\\n",
       "0           16:15     Слава Гоменюк   \n",
       "1           10:30        Олег Лищук   \n",
       "2           09:05   Михаил Подрезов   \n",
       "3           22:00     Слава Гоменюк   \n",
       "4           20:52  Александр Войтюк   \n",
       "..            ...               ...   \n",
       "66          11:28       Михаил Бойм   \n",
       "67          14:28    Марат Хамадеев   \n",
       "68          15:58    Марат Хамадеев   \n",
       "69          16:25    Марат Хамадеев   \n",
       "70          15:51    Марат Хамадеев   \n",
       "\n",
       "                                          description  \\\n",
       "0   Грибковый паразит растений впервые заразил чел...   \n",
       "1   В мозге нашли метаботропные рецепторы к глицин...   \n",
       "2   В Израиле обнаружили 6000-летний медный рыболо...   \n",
       "3   Свиная кровь полечила поврежденные донорские л...   \n",
       "4   «Джеймс Уэбб» и «Хаббл» не нашли яркой сверхно...   \n",
       "..                                                ...   \n",
       "66  Рентгеноструктурный анализ органического вещес...   \n",
       "67  Ридберговские атомы превратили фотоны радиодиа...   \n",
       "68  Волны жидкого гелия передались плавающим на не...   \n",
       "69  Пионный атом позволил измерить частичное восст...   \n",
       "70  Физики уточнили массовый радиус протона с помо...   \n",
       "\n",
       "                                                title  complexity      themes  \\\n",
       "0   Грибковый паразит растений впервые заразил чел...         2.9    Медицина   \n",
       "1     В мозге нашли метаботропные рецепторы к глицину         5.3    Медицина   \n",
       "2   В Израиле обнаружили 6000-летний медный рыболо...         1.1  Археология   \n",
       "3   Свиная кровь полечила поврежденные донорские л...         3.8    Медицина   \n",
       "4   «Джеймс Уэбб» и «Хаббл» не нашли яркой сверхно...         4.6  Астрономия   \n",
       "..                                                ...         ...         ...   \n",
       "66  Рентгеноструктурный анализ органического вещес...         6.9       Химия   \n",
       "67  Ридберговские атомы превратили фотоны радиодиа...         8.3      Физика   \n",
       "68  Волны жидкого гелия передались плавающим на не...         7.3      Физика   \n",
       "69  Пионный атом позволил измерить частичное восст...         9.5      Физика   \n",
       "70  Физики уточнили массовый радиус протона с помо...         9.1      Физика   \n",
       "\n",
       "                                                links  \\\n",
       "0   https://doi.org/10.1016/j.mmcr.2023.03.001, ht...   \n",
       "1   https://ru.wikipedia.org/wiki/%D0%9E%D1%80%D1%...   \n",
       "2   https://nplus1.ru/news/2016/09/17/oldest-hooks...   \n",
       "3   https://europepmc.org/article/pmc/pmc9984766, ...   \n",
       "4   https://nplus1.ru/news/2023/03/31/boat-rings-g...   \n",
       "..                                                ...   \n",
       "66  https://www.nature.com/articles/s41557-023-011...   \n",
       "67  https://nplus1.ru/material/2019/11/07/quantum-...   \n",
       "68  https://journals.aps.org/rmp/abstract/10.1103/...   \n",
       "69  https://linkinghub.elsevier.com/retrieve/pii/0...   \n",
       "70  https://nplus1.ru/material/2017/07/28/protonpu...   \n",
       "\n",
       "                                            full_text  \n",
       "0   В Индии миколог, который занимался исследовани...  \n",
       "1   Американские исследователи обнаружили, что ран...  \n",
       "2   Археологи провели охранно-спасательные раскопк...  \n",
       "3   Система перекрестной реперфузии, в которой дон...  \n",
       "4   Космические телескопы «Джеймс Уэбб» и «Хаббл» ...  \n",
       "..                                                ...  \n",
       "66  Химики из Японии применили лазер на свободных ...  \n",
       "67  Физики смогли превратить фотоны миллиметрового...  \n",
       "68  Физики подробно исследовали то, какие колебани...  \n",
       "69  Физики измерили, насколько хиральный конденсат...  \n",
       "70  Американские физики исследовали процессы припо...  \n",
       "\n",
       "[71 rows x 10 columns]"
      ]
     },
     "execution_count": 73,
     "metadata": {},
     "output_type": "execute_result"
    }
   ],
   "source": [
    "df"
   ]
  },
  {
   "cell_type": "code",
   "execution_count": null,
   "metadata": {},
   "outputs": [],
   "source": []
  },
  {
   "cell_type": "markdown",
   "metadata": {},
   "source": [
    "Так теперь выглядит первый элемент списка:"
   ]
  },
  {
   "cell_type": "code",
   "execution_count": 39,
   "metadata": {},
   "outputs": [
    {
     "data": {
      "text/plain": [
       "('https://nplus1.ru/news/2023/03/31/Chondrostereum-purpureum',\n",
       " '31.03.23',\n",
       " '16:15',\n",
       " 'Слава Гоменюк',\n",
       " 'Грибковый паразит растений впервые заразил человека\\nПациент долгое время работал с гнилой древесиной',\n",
       " 'Грибковый паразит растений впервые заразил человека',\n",
       " '2.9',\n",
       " 'Медицина',\n",
       " 'https://doi.org/10.1016/j.mmcr.2023.03.001, https://doi.org/10.1111/1462-2920.15028, https://nplus1.ru/news/2022/11/17/quicksilver-rush, https://nplus1.ru/news/2023/03/21/2019-to-2021-candida-auris',\n",
       " 'В Индии миколог, который занимался исследованием растительных патогенов в мертвых деревьях, впервые в истории заразился паразитирующим на деревьях грибком Chondrostereum purpureum — хондростереумом пурпурным. У пациента не было нарушений иммунитета, в том числе ВИЧ-инфекции и диабета, и он не принимал иммуносупрессоры. Отчет о случае опубликован в журнале Medical Mycology Case Reports.\\nОбычно Chondrostereum purpureum паразитирует на живых деревьях, вызывая «млечный блеск» — заболевание, при котором грибок покрывает ветки и листья деревьев, после чего они приобретают серебряный, млечный оттенок. На стволе (и живом, и мертвом) гриб растет многочисленными черепитчатыми группами. При дальнейшем развитии болезни древесина разрушается и сгнивает, и грибок продолжает в ней жить.\\xa0\\nУ людей с ослабленным иммунитетом паразиты растений (в том числе грибковые) считаются условно-патогенными возбудителями инфекций. Однако Сома Датта (Soma Dutta) из Больницы Аполлона описала случай заражения 61-летнего индийского миколога, который занимался паразитарными грибками растений, Chondrostereum purpureum. \\nПациент обратился в больницу с жалобами на охрипший голос, кашель и затруднения при глотании. Кроме того, его беспокоила постоянная усталость и потеря веся в течения трех месяцев. Пациент не страдал от диабета, ВИЧ-инфекции и хронических заболеваний внутренних органов. Он не принимал иммуносупрессивные препараты и не получал травм в последнее время.\\xa0\\nРентгенография грудной клетки не показала никаких отклонений. Компьютерная томография (КТ) шеи выявила паратрахеальный абсцесс справа, который под контролем КТ вскрыли и аспирировали содержимое. Гистологическое исследование аспирата показало нейтрофилы и клетки слизистой оболочки бронхов и трахеи на фоне геморрагического некроза.\\nБактериологическое исследование аспирата не выявило патогенных возбудителей (в том числе микобактерий), а окрашивание на грибы показало перегородчатые гифы. После посева гнойного аспирата через 4-5 дней инкубации выросла кремово-пастообразная колония с желтовато-коричневым оттенком на основании. При окрашивании врачи обнаружили круглые и трубчатые грибковые элементы.\\xa0\\nПоскольку врачи не смогли по морфологии идентифицировать грибок, они отправили образцы в сертифицированную лабораторию Всемирной организации здравоохранения для секвенирования ДНК. Анализ показал, что в аспирате присутствует ДНК Chondrostereum purpureum. Пациент отрицал, что взаимодействовал с этим грибковым патогеном растений в своей работе, однако подтвердил, что долгое время работал с разлагающейся древесиной.\\nГной полностью дренировали из полости абсцесса, а пациенту назначили схему лечения вориконазолом. Спустя два года после выздоровления пациент был абсолютно здоров, рецидива инфекции не произошло.\\xa0\\nХотя грибковые заболевания встречаются у людей гораздо реже бактериальных и вирусных, они могут доставить много хлопот с их лечением. В США, например, продолжает распространяться грибок, который устойчив к большинству известных противогрибковых препаратов. А некоторые люди и вовсе ищут порой весьма спорные способы лечения: так, китаец решил вылечить грибковую кожную инфекцию внутривенным введением ртути. Врачи успели его спасти.\\nПостепенно в мозге сильнее и сильнее активировались те же зоны, что отвечают за распознавание собственного лица\\n')"
      ]
     },
     "execution_count": 39,
     "metadata": {},
     "output_type": "execute_result"
    }
   ],
   "source": [
    "news[0]"
   ]
  },
  {
   "cell_type": "markdown",
   "metadata": {},
   "source": [
    "Импортируем `pandas` и создадим датафрейм из списка кортежей: "
   ]
  },
  {
   "cell_type": "code",
   "execution_count": 40,
   "metadata": {},
   "outputs": [],
   "source": [
    "import pandas as pd"
   ]
  },
  {
   "cell_type": "code",
   "execution_count": 41,
   "metadata": {},
   "outputs": [],
   "source": [
    "df = pd.DataFrame(news)"
   ]
  },
  {
   "cell_type": "code",
   "execution_count": 42,
   "metadata": {},
   "outputs": [
    {
     "data": {
      "text/html": [
       "<div>\n",
       "<style scoped>\n",
       "    .dataframe tbody tr th:only-of-type {\n",
       "        vertical-align: middle;\n",
       "    }\n",
       "\n",
       "    .dataframe tbody tr th {\n",
       "        vertical-align: top;\n",
       "    }\n",
       "\n",
       "    .dataframe thead th {\n",
       "        text-align: right;\n",
       "    }\n",
       "</style>\n",
       "<table border=\"1\" class=\"dataframe\">\n",
       "  <thead>\n",
       "    <tr style=\"text-align: right;\">\n",
       "      <th></th>\n",
       "      <th>0</th>\n",
       "      <th>1</th>\n",
       "      <th>2</th>\n",
       "      <th>3</th>\n",
       "      <th>4</th>\n",
       "      <th>5</th>\n",
       "      <th>6</th>\n",
       "      <th>7</th>\n",
       "      <th>8</th>\n",
       "      <th>9</th>\n",
       "    </tr>\n",
       "  </thead>\n",
       "  <tbody>\n",
       "    <tr>\n",
       "      <th>0</th>\n",
       "      <td>https://nplus1.ru/news/2023/03/31/Chondrostere...</td>\n",
       "      <td>31.03.23</td>\n",
       "      <td>16:15</td>\n",
       "      <td>Слава Гоменюк</td>\n",
       "      <td>Грибковый паразит растений впервые заразил чел...</td>\n",
       "      <td>Грибковый паразит растений впервые заразил чел...</td>\n",
       "      <td>2.9</td>\n",
       "      <td>Медицина</td>\n",
       "      <td>https://doi.org/10.1016/j.mmcr.2023.03.001, ht...</td>\n",
       "      <td>В Индии миколог, который занимался исследовани...</td>\n",
       "    </tr>\n",
       "    <tr>\n",
       "      <th>1</th>\n",
       "      <td>https://nplus1.ru/news/2023/04/01/finally-glycine</td>\n",
       "      <td>01.04.23</td>\n",
       "      <td>10:30</td>\n",
       "      <td>Олег Лищук</td>\n",
       "      <td>В мозге нашли метаботропные рецепторы к глицин...</td>\n",
       "      <td>В мозге нашли метаботропные рецепторы к глицину</td>\n",
       "      <td>5.3</td>\n",
       "      <td>Медицина</td>\n",
       "      <td>https://ru.wikipedia.org/wiki/%D0%9E%D1%80%D1%...</td>\n",
       "      <td>Американские исследователи обнаружили, что ран...</td>\n",
       "    </tr>\n",
       "  </tbody>\n",
       "</table>\n",
       "</div>"
      ],
      "text/plain": [
       "                                                   0         1      2  \\\n",
       "0  https://nplus1.ru/news/2023/03/31/Chondrostere...  31.03.23  16:15   \n",
       "1  https://nplus1.ru/news/2023/04/01/finally-glycine  01.04.23  10:30   \n",
       "\n",
       "               3                                                  4  \\\n",
       "0  Слава Гоменюк  Грибковый паразит растений впервые заразил чел...   \n",
       "1     Олег Лищук  В мозге нашли метаботропные рецепторы к глицин...   \n",
       "\n",
       "                                                   5    6         7  \\\n",
       "0  Грибковый паразит растений впервые заразил чел...  2.9  Медицина   \n",
       "1    В мозге нашли метаботропные рецепторы к глицину  5.3  Медицина   \n",
       "\n",
       "                                                   8  \\\n",
       "0  https://doi.org/10.1016/j.mmcr.2023.03.001, ht...   \n",
       "1  https://ru.wikipedia.org/wiki/%D0%9E%D1%80%D1%...   \n",
       "\n",
       "                                                   9  \n",
       "0  В Индии миколог, который занимался исследовани...  \n",
       "1  Американские исследователи обнаружили, что ран...  "
      ]
     },
     "execution_count": 42,
     "metadata": {},
     "output_type": "execute_result"
    }
   ],
   "source": [
    "df.head(2)"
   ]
  },
  {
   "cell_type": "markdown",
   "metadata": {},
   "source": [
    "Переименуем столбцы в базе."
   ]
  },
  {
   "cell_type": "code",
   "execution_count": 43,
   "metadata": {},
   "outputs": [],
   "source": [
    "df.columns = ['url', 'date_published', 'time_published', 'author', 'description', 'title', 'complexity', 'themes', 'links','full_text']"
   ]
  },
  {
   "cell_type": "markdown",
   "metadata": {},
   "source": [
    "Теперь внесем изменения: сделаем столбец `diffc` числовым – типа *float*."
   ]
  },
  {
   "cell_type": "code",
   "execution_count": 44,
   "metadata": {},
   "outputs": [],
   "source": [
    "df['complexity'] = df['complexity'].apply(float)"
   ]
  },
  {
   "cell_type": "markdown",
   "metadata": {},
   "source": [
    "Теперь сложность представлена в базе как количественный показатель, и описывать ее можно соответствующим образом:"
   ]
  },
  {
   "cell_type": "code",
   "execution_count": 45,
   "metadata": {
    "scrolled": true
   },
   "outputs": [
    {
     "data": {
      "text/plain": [
       "count    71.000000\n",
       "mean      4.549296\n",
       "std       2.397193\n",
       "min       1.100000\n",
       "25%       2.850000\n",
       "50%       3.700000\n",
       "75%       6.550000\n",
       "max       9.500000\n",
       "Name: complexity, dtype: float64"
      ]
     },
     "execution_count": 45,
     "metadata": {},
     "output_type": "execute_result"
    }
   ],
   "source": [
    "df.complexity.describe()"
   ]
  },
  {
   "cell_type": "code",
   "execution_count": 50,
   "metadata": {},
   "outputs": [],
   "source": [
    "df.to_csv??"
   ]
  },
  {
   "cell_type": "code",
   "execution_count": 58,
   "metadata": {},
   "outputs": [],
   "source": [
    "from matplotlib.cbook import flatten"
   ]
  },
  {
   "cell_type": "code",
   "execution_count": 60,
   "metadata": {},
   "outputs": [
    {
     "data": {
      "text/plain": [
       "['IT',\n",
       " 'Антропология',\n",
       " 'Археология',\n",
       " 'Астрономия',\n",
       " 'Биология',\n",
       " 'Зоология',\n",
       " 'История',\n",
       " 'Космонавтика',\n",
       " 'Математика',\n",
       " 'Медицина',\n",
       " 'Мезонин',\n",
       " 'Палеонтология',\n",
       " 'Психология',\n",
       " 'Роботы и дроны',\n",
       " 'Связь',\n",
       " 'Социология',\n",
       " 'Технологии',\n",
       " 'Физика',\n",
       " 'Химия',\n",
       " 'Экология и климат']"
      ]
     },
     "execution_count": 60,
     "metadata": {},
     "output_type": "execute_result"
    }
   ],
   "source": [
    "sorted(set(flatten([i.split(', ') for i in df.themes.unique()])))"
   ]
  },
  {
   "cell_type": "code",
   "execution_count": 72,
   "metadata": {},
   "outputs": [
    {
     "data": {
      "text/plain": [
       "'Палеогенетики подтвердили, что первые домашние лошади у коренных общин центральных районов Великих равнин и северных районов Скалистых гор происходили от особей, завезенных в Америку испанцами. Более того, ученые нашли останки животных свидетельствующих в пользу того, что в этом регионе овладели навыками обращения с домашними лошадьми до восстания пуэбло, произошедшего в 1680 году. Обычно именно с этим событием связывают распространение коневодства среди коренных американцев, живших на территории современных США. Об этом сообщается в статье, опубликованной в журнале Science.\\nСогласно современным представлениям лошади (Equus) как отдельный род появились в Северной Америке между 4,5 и 4 миллионами лет назад, откуда по сухопутному мосту около 2,5 миллиона лет (по другим данным – около 0,9–0,8 миллиона лет назад) назад они переселились в Евразию. Вместе с тем в самой Америке уже в эпоху голоцена лошади вымерли – судя по ДНК, недавно извлеченной из образцов канадского грунта, это произошло около шести тысяч лет назад. Вновь эти непарнокопытные оказались в этой части света лишь с приходом европейцев в эпоху Великих географических открытий.\\nПервые домашние лошади прибыли на острова Карибского моря вместе со второй экспедицией Колумба в 1493 году. Однако на самом материке они оказались несколько позже – вместе с испанским конкистадором Эрнаном Кортесом в 1519 году, начавшим завоевание Мексики. В последующие столетия в разные регионы Америки лошадей завозили и из других европейских стран. Постепенно многие индейские общины привыкли к этим животным и начали сами их разводить.\\nСчитается, что для индейцев пуэбло поворотным моментом в освоении лошади стал 1680 год, когда они подняли успешное восстание против испанских колонизаторов, выбив их из Нуэво-Мехико и отобрав все имущество. Когда в 1692 году испанцы вернули себе контроль над этими землями, пуэбло уже успели овладеть навыками обращения с конями.\\nБольшая группа ученых из Великобритании, Германии, Израиля, Испании, Кипра, Нидерландов, США, Франции во главе с Людовиком Орландо (Ludovic Orlando) из Университета Поля Сабатье решила уточнить историю распространения домашних лошадей в Америке. Для этого ученые отобрали останки 33 американских лошадей, для 29 из которых удалось получить радиоуглеродные даты, а из 27 образцов извлечь ДНК. Кроме того, несколько новых древних геномов было прочитано из останков евразийских лошадей.\\nУченые отметили, что им удалось найти останки трех лошадей, живших до восстания пуэбло 1680 года на землях, которые в тот момент населяли коренные американцы. Они включали захоронение молодой лошади из юго-западного Вайоминга, череп взрослого животного из штата Канзас, а также фрагменты скелета из штата Нью-Мексико. Кроме того, ранее в штате Айдахо нашли останки лошади, которая жила между 1597 и 1657 годами. В то же время исследователи подчеркнули, что разрешающая способность радиоуглеродного метода не позволяет легко отличать образцы XVII и начала XX века, но по их уверениям возраст указанных находок установлен достаточно надежно.\\nГенетический анализ опроверг возможность того, что эти лошади восходят корнями к американской позднеплейстоценовой фауне. Напротив, они принадлежали к той же кладе, что и все остальные современные домашние лошади, которые начали распространяться из Понтийско-Каспийской степи в III тысячелетии до нашей эры. Ученые исключили возможность того, что ранние современные американские лошади могли оказаться на континенте вместе с викингами в начале XI века. Вместо этого они нашли подтверждения, что эти животные генетически близки к особям с Пиренейского полуострова.\\nИсследование останков XVII века показало, что индейцы не отловили на мясо сбежавших от испанцев коней, а использовали их для верховой езды. Более того, археологический контекст, в котором нашли скелет одной молодой лошади, указывает на то, что ее, возможно, похоронили в рамках ритуала.\\nАнализ стабильных изотопов стронция свидетельствует в пользу того, что как минимум две исследованные особи провели всю свою жизнь на землях, где отсутствовали европейские переселенцы. А стабильные изотопы углерода указывают на то, что в рационе животных было существенное количество растений с С4-фотосинтезом. По мнению ученых, видимо, это связано с тем, что зимой лошадей кормили домашней кукурузой – подобная практика известна из данных этнографии XVIII–XIX веков у некоторых коренных народов США.\\nУченые заключили, что домашние лошади появились у индейцев, проживавших в центральных районах Великих равнин и в районе северной части Скалистых гор, не позднее первой половины XVII века. Тем самым они полагают, что лошади распространились в регионе до восстания пуэбло, с которым обычно связывают этот процесс.\\nРанее на N + 1 рассказывали об исследовании старейшего на сегодняшний день генома домашней лошади из Америки. ДНК удалось выделить из зуба, найденного в испанском городе раннего колониального периода, который располагался на Гаити. Тогда ученые также подтвердили выводы, что первые домашние лошади Нового Света происходили с Пиренейского полуострова.\\nАнализ 271 древнего генома лошадей позволил генетикам установить, что прародина современных домашних животных находится в\\xa0Причерноморских степях, откуда в\\xa0конце III–II тысячелетии они начали распространяться в\\xa0другие регионы. Ученые полагают, что это связано с\\xa0началом использования лошадей в\\xa0качестве транспорта, например, для езды в\\xa0колесницах, древнейшие свидетельства чему датированы около 2000–1800 годов до\\xa0нашей эры. Результаты исследования опубликованы в\\xa0журнале Nature.'"
      ]
     },
     "execution_count": 72,
     "metadata": {},
     "output_type": "execute_result"
    }
   ],
   "source": [
    "df[df.themes.apply(lambda x: 'зоология' in x.lower())].sample(1).full_text.values[0]"
   ]
  },
  {
   "cell_type": "code",
   "execution_count": 52,
   "metadata": {},
   "outputs": [],
   "source": [
    "df.to_csv('news_plus_1.csv', \n",
    "          index = False, \n",
    "          sep = ';',  #  Сюда можно поставить произвольный символ, чтоб новость не ломать\n",
    "          encoding = 'utf-8-sig')"
   ]
  },
  {
   "cell_type": "markdown",
   "metadata": {},
   "source": [
    "Теперь столбец со сложностью точно числовой. Можем даже построить для него гистограмму."
   ]
  },
  {
   "cell_type": "code",
   "execution_count": 46,
   "metadata": {},
   "outputs": [
    {
     "data": {
      "text/plain": [
       "<matplotlib.axes._subplots.AxesSubplot at 0x7fa78425c160>"
      ]
     },
     "execution_count": 46,
     "metadata": {},
     "output_type": "execute_result"
    },
    {
     "data": {
      "image/png": "[encoded data removed]",
      "text/plain": [
       "<Figure size 432x288 with 1 Axes>"
      ]
     },
     "metadata": {
      "needs_background": "light"
     },
     "output_type": "display_data"
    }
   ],
   "source": [
    "%matplotlib inline\n",
    "df.complexity.plot.hist()"
   ]
  },
  {
   "cell_type": "markdown",
   "metadata": {},
   "source": [
    "Объединим рубрики в *text* в одну строку через запятую:"
   ]
  },
  {
   "cell_type": "code",
   "execution_count": 37,
   "metadata": {},
   "outputs": [],
   "source": [
    "df['rubric'] = [','.join(r) for r in df.rubric]"
   ]
  },
  {
   "cell_type": "markdown",
   "metadata": {},
   "source": [
    "Давайте почистим текст новостей – уберем оттуда текст, не относящийся к новостям. Найдем лишнее:"
   ]
  },
  {
   "cell_type": "code",
   "execution_count": null,
   "metadata": {},
   "outputs": [],
   "source": [
    "df.text[0]"
   ]
  },
  {
   "cell_type": "markdown",
   "metadata": {},
   "source": [
    "Лишний текст находится после фразы 'Нашли опечатку?'. Так давайте будем разбивать строки по этой фразе с помощью метода `.split()` и брать все, что до нее (элемент с индексом 0)."
   ]
  },
  {
   "cell_type": "code",
   "execution_count": 38,
   "metadata": {},
   "outputs": [],
   "source": [
    "df['clean_text'] = [t.split('Нашли опечатку?')[0] for t in df.text]"
   ]
  },
  {
   "cell_type": "markdown",
   "metadata": {},
   "source": [
    "Осталось только заменить непонятные символы `\\xa0` на пробелы:"
   ]
  },
  {
   "cell_type": "code",
   "execution_count": 39,
   "metadata": {},
   "outputs": [],
   "source": [
    "df['clean_text'] = [t.replace(\"\\xa0\", \" \") for t in df.clean_text]"
   ]
  },
  {
   "cell_type": "code",
   "execution_count": 40,
   "metadata": {},
   "outputs": [
    {
     "data": {
      "text/plain": [
       "'Российский военно-транспортный самолет Ил-112В совершил первый полет, сообщает Авиационный комплекс имени Ильюшина. Испытания прошли на аэродроме воронежского авиазавода ПАО «ВАСО», командиром экипажа был шеф-пилот ПАО «Ил» Герой России Николай Куимов. Первый полет стал завершением цикла аэродромной отработки, в ходе которой были проведены испытания всех систем, в том числе пробежки по аэродрому. Полет прошел в штатном режиме. В воздухе Ил-112В сопровождал самолет-лаборатория Ил-114ЛЛ. Ил-112В в перспективе должен заменить легкий транспортник Ан-26. Он будет использоваться для перевозки и десантирования легкой техники, грузов и бойцов, его грузоподъемность — около пяти тонн. Самолет сможет развивать скорость до 550 километров в час и совершать полеты на расстояние до 3,4 тысячи километров, а при взлете с грунтовых аэродромов и максимальной загрузкой — до 1,2 тысячи километров. Транспортник сможет взлетать с взлетно-посадочных полос длиной не более 900 метров. Пробег Ил-112В при посадке составит около 600 метров. Ранее Министерство обороны России объявляло о намерении приобрести 62 самолета этого типа до 2020 года, однако в августе 2018 года появилась информация о планах заказать не менее 100 машин. Сергей Кузнецов '"
      ]
     },
     "execution_count": 40,
     "metadata": {},
     "output_type": "execute_result"
    }
   ],
   "source": [
    "df.clean_text[0]"
   ]
  },
  {
   "cell_type": "markdown",
   "metadata": {},
   "source": [
    "Всё! Сохраняем датафрейм в файл. Для разнообразия сохраним в Excel:"
   ]
  },
  {
   "cell_type": "code",
   "execution_count": 41,
   "metadata": {},
   "outputs": [],
   "source": [
    "df.to_excel('nplus-news.xlsx')"
   ]
  }
 ],
 "metadata": {
  "kernelspec": {
   "display_name": "Python 3",
   "language": "python",
   "name": "python3"
  },
  "language_info": {
   "codemirror_mode": {
    "name": "ipython",
    "version": 3
   },
   "file_extension": ".py",
   "mimetype": "text/x-python",
   "name": "python",
   "nbconvert_exporter": "python",
   "pygments_lexer": "ipython3",
   "version": "3.8.3"
  }
 },
 "nbformat": 4,
 "nbformat_minor": 2
}
