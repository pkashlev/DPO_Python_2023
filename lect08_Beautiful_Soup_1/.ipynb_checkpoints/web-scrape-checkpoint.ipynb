{
 "cells": [
  {
   "cell_type": "markdown",
   "metadata": {},
   "source": [
    "# Python для анализа данных\n",
    "\n",
    "*Алла Тамбовцева, НИУ ВШЭ*"
   ]
  },
  {
   "cell_type": "markdown",
   "metadata": {},
   "source": [
    "## Web-scraping\n",
    "\n",
    "Мы уже немного познакомились со структурой html-файлов, теперь попробуем выгрузить информацию из реальной страницы, а точнее, с реального сайта [nplus1.ru](https://nplus1.ru/).\n",
    "\n",
    "**Наша задача:** выгрузить недавние новости в датафрейм `pandas`, чтобы потом сохранить все в csv-файл.\n",
    "\n",
    "Сначала сгрузим весь html-код страницы и сохраним его в отдельную переменную. Для этого нам понадобится библиотека `requests`. Импортируем её:"
   ]
  },
  {
   "cell_type": "code",
   "execution_count": 1,
   "metadata": {},
   "outputs": [],
   "source": [
    "import requests"
   ]
  },
  {
   "cell_type": "markdown",
   "metadata": {},
   "source": [
    "Сохраним ссылку на главную страницу сайта в переменную `url` для удобства и выгрузим страницу. (Разумеется, это будет работать при подключении к интернету. Если соединение будет отключено, Python выдаст `NewConnectionError`)."
   ]
  },
  {
   "cell_type": "code",
   "execution_count": 2,
   "metadata": {},
   "outputs": [],
   "source": [
    "url = 'https://nplus1.ru/' # сохраняем\n",
    "page = requests.get(url) # загружаем страницу по ссылке"
   ]
  },
  {
   "cell_type": "markdown",
   "metadata": {},
   "source": [
    "Если мы просто посмотрим на объект, мы ничего особенного не увидим:"
   ]
  },
  {
   "cell_type": "code",
   "execution_count": 3,
   "metadata": {},
   "outputs": [
    {
     "data": {
      "text/plain": [
       "<Response [200]>"
      ]
     },
     "execution_count": 3,
     "metadata": {},
     "output_type": "execute_result"
    }
   ],
   "source": [
    "page  # response 200 - страница загружена"
   ]
  },
  {
   "cell_type": "code",
   "execution_count": 7,
   "metadata": {},
   "outputs": [],
   "source": [
    "# page.text"
   ]
  },
  {
   "cell_type": "markdown",
   "metadata": {},
   "source": [
    "Импортируем функцию `BeautifulSoup` из библиотеки `bs4` (от *beautifulsoup4*) и заберём со страницы `page` код html в виде текста. "
   ]
  },
  {
   "cell_type": "code",
   "execution_count": 4,
   "metadata": {},
   "outputs": [],
   "source": [
    "from bs4 import BeautifulSoup  # не спрашивайте, почему BeautifulSoup"
   ]
  },
  {
   "cell_type": "code",
   "execution_count": 5,
   "metadata": {},
   "outputs": [],
   "source": [
    "soup = BeautifulSoup(page.text, 'html')"
   ]
  },
  {
   "cell_type": "markdown",
   "metadata": {},
   "source": [
    "Если выведем `soup` на экран, мы увидим то же самое, что в режиме разработчика или в режиме происмотра исходного кода (`view-source` через *Ctrl+U* в Google Chrome)."
   ]
  },
  {
   "cell_type": "code",
   "execution_count": 10,
   "metadata": {},
   "outputs": [],
   "source": [
    "# soup"
   ]
  },
  {
   "cell_type": "markdown",
   "metadata": {},
   "source": [
    "Для просмотра выглядит не очень удобно.  «Причешем» наш `soup` – воспользуемся методом `.prettify()` в сочетании с функцией `print()`."
   ]
  },
  {
   "cell_type": "code",
   "execution_count": 11,
   "metadata": {},
   "outputs": [],
   "source": [
    "# print(soup.prettify())"
   ]
  },
  {
   "cell_type": "markdown",
   "metadata": {},
   "source": [
    "В такой выдаче ориентироваться гораздо удобнее (но при желании, то же можно увидеть в браузере, на большом экране)."
   ]
  },
  {
   "cell_type": "markdown",
   "metadata": {},
   "source": [
    "\n",
    "Чтобы сгрузить все новости с главной страницы сайта, нужно собрать все ссылки на страницы с этими новостями. Ссылки в html-файле всегда заключены в тэг `<a></a>` и имеют атрибут `href`. Посмотрим на кусочки кода, соответствующие всем ссылкам на главной странице сайта:"
   ]
  },
  {
   "cell_type": "code",
   "execution_count": 9,
   "metadata": {
    "scrolled": true
   },
   "outputs": [
    {
     "name": "stdout",
     "output_type": "stream",
     "text": [
      "/search\n",
      "https://offline.nplus1.ru/\n",
      "https://nplus.pro/\n",
      "https://nplus1.ru/about\n",
      "https://nplus1.ru/difficult\n",
      "https://nplus1.ru/adv\n",
      "https://nplus1.ru/blog/2022/04/01/samotek\n",
      "/search/empty/869\n",
      "/search/empty/874\n",
      "/search/empty/880\n",
      "/search/empty/768\n",
      "/search/empty/890\n",
      "/search/empty/871\n",
      "/search/empty/876\n",
      "/search/empty/775\n",
      "/search/empty/767\n",
      "/search/empty/771\n",
      "/search/empty/772\n",
      "/search/empty/778\n",
      "/search/empty/917\n",
      "/search/empty/918\n",
      "/search/empty/824\n",
      "https://t.me/nplusone\n",
      "https://vk.com/nplusone\n",
      "https://ok.ru/nplus1\n",
      "https://twitter.com/nplusodin\n",
      "https://nplus1.ru/about\n",
      "https://nplus1.ru/difficult\n",
      "https://nplus1.ru/adv\n",
      "https://nplus1.ru/news/2015/09/21/editor-thy-name\n",
      "/search/empty/869\n",
      "/search/empty/874\n",
      "/search/empty/880\n",
      "/search/empty/768\n",
      "/search/empty/890\n",
      "/search/empty/871\n",
      "/search/empty/876\n",
      "/search/empty/775\n",
      "/search/empty/767\n",
      "/search/empty/771\n",
      "/search/empty/772\n",
      "/search/empty/778\n",
      "/search/empty/917\n",
      "/search/empty/918\n",
      "/search/empty/824\n",
      "https://offline.nplus1.ru/\n",
      "https://nplus.pro/\n",
      "https://t.me/nplusone\n",
      "https://vk.com/nplusone\n",
      "https://ok.ru/nplus1\n",
      "https://twitter.com/nplusodin\n",
      "https://nplus1.ru/material/2023/03/06/avian-mink-human-flu\n",
      "/search/empty/873\n",
      "/material/difficulty/2\n",
      "https://nplus1.ru/material/2023/03/02/tell-timai\n",
      "/search/empty/876\n",
      "/search/empty/817\n",
      "/material/difficulty/3\n",
      "https://nplus1.ru/material/2023/03/01/black-mesa-physics\n",
      "/search/empty/869\n",
      "/material/difficulty/6\n",
      "https://nplus1.ru/news/2023/03/10/bees-dance\n",
      "/search/empty/874\n",
      "/search/empty/885\n",
      "/material/difficulty/3\n",
      "/news/2023/03/14\n",
      "/search/empty/873\n",
      "/material/difficulty/2\n",
      "https://nplus1.ru/news/2023/03/14/fda-Daybue\n",
      "/news/2023/03/14\n",
      "/search/empty/869\n",
      "/material/difficulty/8\n",
      "https://nplus1.ru/news/2023/03/14/Schwinger-effect-in-graphene\n",
      "/news/2023/03/14\n",
      "/search/empty/873\n",
      "/material/difficulty/2\n",
      "https://nplus1.ru/news/2023/03/14/global-burden-of-metabolic-disease\n",
      "/news/2023/03/14\n",
      "/search/empty/874\n",
      "/material/difficulty/1\n",
      "https://nplus1.ru/news/2023/03/14/ape-spinning\n",
      "/news/2023/03/14\n",
      "/search/empty/873\n",
      "/material/difficulty/3\n",
      "https://nplus1.ru/news/2023/03/14/childhood-lower-respiratory-tract-infection-and-premature-adult-death\n",
      "/news/2023/03/13\n",
      "/search/empty/870\n",
      "/material/difficulty/6\n",
      "https://nplus1.ru/news/2023/03/13/MINFLUX-kinesin-walking\n",
      "/news/2023/03/13\n",
      "/search/empty/877\n",
      "/material/difficulty/4\n",
      "https://nplus1.ru/news/2023/03/13/ancibd\n",
      "/news/2023/03/13\n",
      "/search/empty/873\n",
      "/material/difficulty/3\n",
      "https://nplus1.ru/news/2023/03/13/perinatal-outcomes-for-women-with-epilepsy\n",
      "/news/2023/03/13\n",
      "/search/empty/869\n",
      "/material/difficulty/9\n",
      "https://nplus1.ru/news/2023/03/13/negative-optical-temperature\n",
      "/news/2023/03/13\n",
      "/search/empty/885\n",
      "/material/difficulty/2\n",
      "https://nplus1.ru/news/2023/03/13/bacteria-caesarean-2\n",
      "/news/2023/03/13\n",
      "/search/empty/876\n",
      "/material/difficulty/1\n",
      "https://nplus1.ru/news/2023/03/13/basilica-of-vitruvius\n",
      "/news/2023/03/13\n",
      "/search/empty/876\n",
      "/material/difficulty/1\n",
      "https://nplus1.ru/news/2023/03/13/not-authentic-inscription\n",
      "https://nplus1.ru/blog/2023/03/13/the-genesis-quest\n",
      "/blog/2023/03/13\n",
      "/search/empty/885\n",
      "/material/difficulty/1\n",
      "https://nplus1.ru/blog/2023/03/13/the-genesis-quest\n",
      "https://nplus1.ru/blog/2023/03/10/everyday-life-in-su\n",
      "/blog/2023/03/10\n",
      "/search/empty/817\n",
      "/search/empty/877\n",
      "/material/difficulty/1\n",
      "https://nplus1.ru/blog/2023/03/10/everyday-life-in-su\n",
      "/news/2023/03/12\n",
      "/search/empty/871\n",
      "/material/difficulty/1\n",
      "https://nplus1.ru/news/2023/03/12/kikina-at-home\n",
      "/news/2023/03/11\n",
      "/search/empty/876\n",
      "/material/difficulty/3\n",
      "https://nplus1.ru/news/2023/03/11/el-buxu-cave\n",
      "https://nplus1.ru/material/2023/02/22/turing-fingerprints\n",
      "/material/2023/02/22\n",
      "/search/empty/885\n",
      "/material/difficulty/7\n",
      "https://nplus1.ru/material/2023/02/22/turing-fingerprints\n",
      "https://nplus1.ru/material/2023/02/21/f-for-feathers\n",
      "/search/empty/878\n",
      "/material/difficulty/2\n",
      "https://nplus1.ru/material/2023/02/21/f-for-feathers\n",
      "/blog/2023/03/09\n",
      "/search/empty/877\n",
      "/material/difficulty/1\n",
      "/author/alpina-non-fiksn\n",
      "https://nplus1.ru/blog/2023/03/09/drunk\n",
      "/news/2023/03/11\n",
      "/search/empty/873\n",
      "/material/difficulty/3\n",
      "https://nplus1.ru/news/2023/03/11/kaposi-sarcoma-at-tongue\n",
      "/news/2023/03/11\n",
      "/search/empty/877\n",
      "/material/difficulty/1\n",
      "https://nplus1.ru/news/2023/03/11/tell-halula\n",
      "/news/2023/03/11\n",
      "/search/empty/871\n",
      "/material/difficulty/1\n",
      "https://nplus1.ru/news/2023/03/11/anna-back\n",
      "https://nplus1.ru/material/2023/02/15/earthquake-prediction\n",
      "/material/2023/02/15\n",
      "/search/empty/884\n",
      "/material/difficulty/6\n",
      "https://nplus1.ru/material/2023/02/15/earthquake-prediction\n",
      "/news/2023/03/10\n",
      "/search/empty/871\n",
      "/material/difficulty/1\n",
      "https://nplus1.ru/news/2023/03/10/elektro-l\n",
      "/news/2023/03/10\n",
      "/search/empty/876\n",
      "/material/difficulty/3\n",
      "https://nplus1.ru/news/2023/03/10/macaques-made-stone-flakes\n",
      "https://nplus1.ru/material/2023/02/15/polyoxometalates-for-medicine\n",
      "/material/2023/02/15\n",
      "/search/empty/812\n",
      "/material/difficulty/4\n",
      "https://nplus1.ru/material/2023/02/15/polyoxometalates-for-medicine\n",
      "https://nplus1.ru/material/2023/02/14/hereditary-epigenetics\n",
      "/search/empty/885\n",
      "/material/difficulty/7\n",
      "https://nplus1.ru/material/2023/02/14/hereditary-epigenetics\n",
      "/blog/2023/03/06\n",
      "/search/empty/882\n",
      "/material/difficulty/1\n",
      "/author/ast\n",
      "https://nplus1.ru/blog/2023/03/06/the-joy-of-science\n",
      "/news/2023/03/10\n",
      "/search/empty/885\n",
      "/material/difficulty/4\n",
      "https://nplus1.ru/news/2023/03/10/mitochondrial-reversion\n",
      "/news/2023/03/10\n",
      "/search/empty/873\n",
      "/material/difficulty/4\n",
      "https://nplus1.ru/news/2023/03/10/time-expands-within-heartbeat\n",
      "/news/2023/03/10\n",
      "/search/empty/883\n",
      "/material/difficulty/2\n",
      "https://nplus1.ru/news/2023/03/10/robot-grasshopper-pryg-skok\n",
      "https://nplus1.ru/material/2023/02/14/wild-tinder\n",
      "/material/2023/02/14\n",
      "/search/empty/874\n",
      "/material/difficulty/1\n",
      "https://nplus1.ru/material/2023/02/14/wild-tinder\n",
      "/news/2023/03/10\n",
      "/search/empty/869\n",
      "/material/difficulty/5\n",
      "https://nplus1.ru/news/2023/03/10/180Tam-decay\n",
      "/news/2023/03/10\n",
      "/search/empty/877\n",
      "/material/difficulty/2\n",
      "https://nplus1.ru/news/2023/03/10/southern-africa-ancient-kid\n",
      "https://nplus1.ru/material/2023/02/13/catch-the-rhythm\n",
      "/material/2023/02/13\n",
      "/search/empty/812\n",
      "/material/difficulty/3\n",
      "https://nplus1.ru/material/2023/02/13/catch-the-rhythm\n",
      "https://nplus1.ru/material/2023/02/10/maria-stuart-letters\n",
      "/search/empty/817\n",
      "/material/difficulty/3\n",
      "https://nplus1.ru/material/2023/02/10/maria-stuart-letters\n",
      "/blog/2023/03/03\n",
      "/search/empty/817\n",
      "/material/difficulty/1\n",
      "/author/alpina-non-fiksn\n",
      "https://nplus1.ru/blog/2023/03/03/the-shortest-history-of-USSR\n",
      "/news/2023/03/10\n",
      "/search/empty/873\n",
      "/material/difficulty/3\n",
      "https://nplus1.ru/news/2023/03/10/Amazon-resistance-to-Chagas\n",
      "/news/2023/03/10\n",
      "/search/empty/878\n",
      "/material/difficulty/1\n",
      "https://nplus1.ru/news/2023/03/10/mshanki\n",
      "/news/2023/03/10\n",
      "/search/empty/869\n",
      "/material/difficulty/8\n",
      "https://nplus1.ru/news/2023/03/10/superposition-gravity\n",
      "https://nplus1.ru/material/2023/02/10/modification-of-life\n",
      "/material/2023/02/10\n",
      "/search/empty/812\n",
      "/material/difficulty/3\n",
      "https://nplus1.ru/material/2023/02/10/modification-of-life\n",
      "/news/2023/03/10\n",
      "/search/empty/885\n",
      "/material/difficulty/5\n",
      "https://nplus1.ru/news/2023/03/10/fathers-self-sufficient\n",
      "/news/2023/03/10\n",
      "/search/empty/885\n",
      "/material/difficulty/4\n",
      "https://nplus1.ru/news/2023/03/10/connect-ohm-3016\n",
      "https://nplus1.ru/material/2023/02/08/the-end-of-hattusa\n",
      "/material/2023/02/08\n",
      "/search/empty/817\n",
      "/material/difficulty/4\n",
      "https://nplus1.ru/material/2023/02/08/the-end-of-hattusa\n",
      "https://nplus1.ru/material/2023/02/08/supercool-four\n",
      "/search/empty/869\n",
      "/material/difficulty/9\n",
      "https://nplus1.ru/material/2023/02/08/supercool-four\n",
      "/blog/2023/03/01\n",
      "/search/empty/873\n",
      "/material/difficulty/1\n",
      "/author/ast\n",
      "https://nplus1.ru/blog/2023/03/01/the-price-of-immortality\n",
      "/news/2023/03/09\n",
      "/search/empty/870\n",
      "/material/difficulty/4\n",
      "https://nplus1.ru/news/2023/03/09/menthol-from-citral\n",
      "/news/2023/03/09\n",
      "/search/empty/869\n",
      "/material/difficulty/7\n",
      "https://nplus1.ru/news/2023/03/09/ground-state-cooling\n",
      "/news/2023/03/09\n",
      "/search/empty/873\n",
      "/material/difficulty/3\n",
      "https://nplus1.ru/news/2023/03/09/hairy-kidney\n",
      "https://nplus1.ru/material/2023/02/08/blue-skies-research\n",
      "/material/2023/02/08\n",
      "/search/empty/812\n",
      "/material/difficulty/2\n",
      "https://nplus1.ru/material/2023/02/08/blue-skies-research\n",
      "/news/2023/03/09\n",
      "/search/empty/876\n",
      "/material/difficulty/3\n",
      "https://nplus1.ru/news/2023/03/09/fumane-cave\n",
      "/news/2023/03/09\n",
      "/search/empty/880\n",
      "/material/difficulty/4\n",
      "https://nplus1.ru/news/2023/03/09/erosita-new-polar\n",
      "https://nplus1.ru/material/2023/02/07/spinning-core\n",
      "/material/2023/02/07\n",
      "/search/empty/884\n",
      "/material/difficulty/6\n",
      "https://nplus1.ru/material/2023/02/07/spinning-core\n",
      "https://nplus1.ru/material/2023/02/01/egyptian-spirits\n",
      "/search/empty/870\n",
      "/material/difficulty/3\n",
      "https://nplus1.ru/material/2023/02/01/egyptian-spirits\n",
      "/blog/2023/02/27\n",
      "/search/empty/885\n",
      "/material/difficulty/1\n",
      "/author/alpina-non-fiksn\n",
      "https://nplus1.ru/blog/2023/02/27/metazoa\n",
      "/news/2023/03/09\n",
      "/search/empty/880\n",
      "/material/difficulty/4\n",
      "https://nplus1.ru/news/2023/03/09/water-and-d-in-v-883-ori\n",
      "/news/2023/03/08\n",
      "/search/empty/873\n",
      "/material/difficulty/6\n",
      "https://nplus1.ru/news/2023/03/08/magic-touch\n",
      "/news/2023/03/08\n",
      "/search/empty/869\n",
      "/material/difficulty/7\n",
      "https://nplus1.ru/news/2023/03/08/high-Tc-10-kbar\n",
      "https://nplus1.ru/material/2023/01/31/body-model\n",
      "/material/2023/01/31\n",
      "/search/empty/812\n",
      "/material/difficulty/3\n",
      "https://nplus1.ru/material/2023/01/31/body-model\n",
      "/news/2023/02/22\n",
      "/search/empty/884\n",
      "/material/difficulty/4\n",
      "https://nplus1.ru/news/2023/02/22/innermost-inner-core\n",
      "/news/2020/06/01\n",
      "/search/empty/873\n",
      "/material/difficulty/3\n",
      "https://nplus1.ru/news/2020/06/01/gray-hair\n",
      "/material/2023/02/22\n",
      "/search/empty/885\n",
      "/material/difficulty/7\n",
      "https://nplus1.ru/material/2023/02/22/turing-fingerprints\n",
      "/news/2023/03/06\n",
      "/search/empty/869\n",
      "/material/difficulty/2\n",
      "https://nplus1.ru/news/2023/03/06/1-inch-punch\n",
      "/news/2023/03/03\n",
      "/search/empty/877\n",
      "/material/difficulty/3\n",
      "https://nplus1.ru/news/2023/03/03/earliest-horsemanship\n",
      "/news/2023/03/03\n",
      "/search/empty/869\n",
      "/material/difficulty/3\n",
      "https://nplus1.ru/news/2023/03/03/structure-in-khufus-pyramid\n",
      "/news/2023/02/25\n",
      "/search/empty/869\n",
      "/material/difficulty/5\n",
      "https://nplus1.ru/news/2023/02/25/p11B-fusion\n",
      "/news/2023/03/06\n",
      "/search/empty/876\n",
      "/material/difficulty/3\n",
      "https://nplus1.ru/news/2023/03/06/markowice\n",
      "/news/2023/03/03\n",
      "/search/empty/885\n",
      "/material/difficulty/3\n",
      "https://nplus1.ru/news/2023/03/03/dogs-of-Chernobyl\n",
      "/news/2023/03/10\n",
      "/search/empty/885\n",
      "/material/difficulty/5\n",
      "https://nplus1.ru/news/2023/03/10/fathers-self-sufficient\n",
      "/news/2023/02/28\n",
      "/search/empty/877\n",
      "/material/difficulty/2\n",
      "https://nplus1.ru/news/2023/02/28/mummy-from-basel\n",
      "/news/2023/03/08\n",
      "/search/empty/869\n",
      "/material/difficulty/7\n",
      "https://nplus1.ru/news/2023/03/08/high-Tc-10-kbar\n",
      "/material/2023/02/15\n",
      "/search/empty/884\n",
      "/material/difficulty/6\n",
      "https://nplus1.ru/material/2023/02/15/earthquake-prediction\n",
      "/news/2023/03/08\n",
      "/search/empty/817\n",
      "/material/difficulty/1\n",
      "https://nplus1.ru/news/2023/03/08/oldest-odin-inscription\n",
      "/blog/2023/02/25\n",
      "/search/empty/869\n",
      "/material/difficulty/1\n",
      "https://nplus1.ru/blog/2023/02/25/who-are-you-dr-Horn\n",
      "/news/2023/03/02\n",
      "/search/empty/876\n",
      "/material/difficulty/2\n",
      "https://nplus1.ru/news/2023/03/02/tomb-from-metsamor\n",
      "/news/2023/03/09\n",
      "/search/empty/880\n",
      "/material/difficulty/4\n",
      "https://nplus1.ru/news/2023/03/09/water-and-d-in-v-883-ori\n",
      "/news/2023/02/25\n",
      "/search/empty/880\n",
      "/material/difficulty/5\n",
      "https://nplus1.ru/news/2023/02/25/nrao-530\n",
      "/material/2023/01/26\n",
      "/search/empty/895\n",
      "/material/difficulty/6\n",
      "https://nplus1.ru/material/2023/01/26/rongo-rongo\n",
      "/news/2023/03/10\n",
      "/search/empty/876\n",
      "/material/difficulty/3\n",
      "https://nplus1.ru/news/2023/03/10/macaques-made-stone-flakes\n",
      "https://nplus1.ru/blog/2023/02/22/teacup-galaxy-origins\n",
      "/blog/2023/02/22\n",
      "/search/empty/880\n",
      "/search/empty/900\n",
      "/material/difficulty/4\n",
      "https://nplus1.ru/blog/2023/02/22/teacup-galaxy-origins\n",
      "https://nplus1.ru/material/2023/02/16/not-a-planet\n",
      "/material/2023/02/16\n",
      "/search/empty/880\n",
      "/material/difficulty/2\n",
      "https://nplus1.ru/material/2023/02/16/not-a-planet\n",
      "https://nplus1.ru/material/2023/02/22/turing-fingerprints\n",
      "https://nplus1.ru/news/2023/02/28/twisted-bilayer-optical-lattices\n",
      "https://nplus1.ru/news/2023/02/28/surface-code-scaling\n",
      "https://nplus1.ru/news/2023/02/28/gel-electrode\n",
      "https://nplus1.ru/news/2023/03/01/pee-sharpshooter\n",
      "https://nplus1.ru/news/2023/03/02/XY-model-rydberg-array\n",
      "https://nplus1.ru/news/2023/03/04/10-sec-quantum-memory\n",
      "https://nplus1.ru/news/2023/03/04/18O-alpha-gamma-22Ne\n",
      "https://nplus1.ru/news/2023/03/06/APTC\n",
      "https://nplus1.ru/news/2023/03/08/high-Tc-10-kbar\n",
      "https://nplus1.ru/news/2023/03/09/ground-state-cooling\n",
      "https://nplus1.ru/news/2023/03/10/superposition-gravity\n",
      "https://nplus1.ru/news/2023/03/13/negative-optical-temperature\n",
      "https://nplus1.ru/news/2023/03/13/MINFLUX-kinesin-walking\n",
      "https://nplus1.ru/news/2023/03/14/Schwinger-effect-in-graphene\n",
      "https://nplus1.ru/about\n",
      "https://nplus1.ru/difficult\n",
      "https://nplus1.ru/adv\n",
      "https://nplus1.ru/blog/2022/04/01/samotek\n",
      "mailto:kirill@nplus1.ru\n",
      "mailto:info@nplus1.ru\n",
      "/personal-data-policy\n",
      "https://t.me/nplusone\n",
      "https://vk.com/nplusone\n",
      "https://ok.ru/nplus1\n",
      "https://twitter.com/nplusodin\n"
     ]
    }
   ],
   "source": [
    "\n",
    "for link in soup.find_all('a'):\n",
    "    print(link.get('href'))\n",
    "#     break"
   ]
  },
  {
   "cell_type": "markdown",
   "metadata": {},
   "source": [
    "Ссылок много. Но нам нужны только новости – ссылки, которые начинаются со слова `/news`. Добавим условие: будем выбирать только те ссылки, в которых есть `/news`. Создадим пустой список `urls` и будем добавлять в него только ссылки, которые удовлетворяют этому условию."
   ]
  },
  {
   "cell_type": "code",
   "execution_count": 12,
   "metadata": {},
   "outputs": [],
   "source": [
    "# urls = []\n",
    "\n",
    "# for link in soup.find_all('a'):\n",
    "#     if '/news' in link.get('href'):\n",
    "#         urls.append('https://nplus1.ru'+link.get('href'))\n",
    "\n",
    "urls = [link.get('href') \n",
    "        for link in soup.find_all('a') \n",
    "        if 'https://nplus1.ru/news/2023' in link.get('href')]"
   ]
  },
  {
   "cell_type": "markdown",
   "metadata": {},
   "source": [
    "Ссылки, которые у нас есть в списке `urls`, относительные: они неполные, начало ссылки (название сайта) отсутствует. Давайте превратим их в абсолютные ‒ склеим с ссылкой https://nplus1.ru."
   ]
  },
  {
   "cell_type": "code",
   "execution_count": 14,
   "metadata": {},
   "outputs": [
    {
     "data": {
      "text/plain": [
       "['https://nplus1.ru/news/2023/03/10/bees-dance',\n",
       " 'https://nplus1.ru/news/2023/03/14/fda-Daybue',\n",
       " 'https://nplus1.ru/news/2023/03/14/Schwinger-effect-in-graphene',\n",
       " 'https://nplus1.ru/news/2023/03/14/global-burden-of-metabolic-disease',\n",
       " 'https://nplus1.ru/news/2023/03/14/ape-spinning']"
      ]
     },
     "execution_count": 14,
     "metadata": {},
     "output_type": "execute_result"
    }
   ],
   "source": [
    "urls[:5]"
   ]
  },
  {
   "cell_type": "code",
   "execution_count": 26,
   "metadata": {},
   "outputs": [],
   "source": [
    "# full_urls = []\n",
    "\n",
    "# for u in urls:\n",
    "#     res = 'https://nplus1.ru' + u\n",
    "#     full_urls.append(res) \n",
    "\n",
    "# full_urls"
   ]
  },
  {
   "cell_type": "code",
   "execution_count": 15,
   "metadata": {},
   "outputs": [],
   "source": [
    "# urls"
   ]
  },
  {
   "cell_type": "markdown",
   "metadata": {},
   "source": [
    "Теперь наша задача сводится к следующему: изучить одну страницу с новостью, научиться из нее вытаскивать текст и всю необходимую информацию, а потом применить весь набор действий к каждой ссылке из `full_urls` в цикле. Посмотрим на новость с индексом 1, у вас может быть другая, новости обновляются."
   ]
  },
  {
   "cell_type": "code",
   "execution_count": 16,
   "metadata": {},
   "outputs": [],
   "source": [
    "url0 = urls[0]\n",
    "\n",
    "page0 = requests.get(url0)\n",
    "soup0 = BeautifulSoup(page0.text, 'html')"
   ]
  },
  {
   "cell_type": "code",
   "execution_count": 20,
   "metadata": {},
   "outputs": [
    {
     "data": {
      "text/plain": [
       "'https://nplus1.ru/news/2023/03/10/bees-dance'"
      ]
     },
     "execution_count": 20,
     "metadata": {},
     "output_type": "execute_result"
    }
   ],
   "source": [
    "url0"
   ]
  },
  {
   "cell_type": "markdown",
   "metadata": {},
   "source": [
    "В коде каждой страницы с новостью есть часть с мета-информацией: датой, именем автора и проч. Такая информация окружена тэгом `<meta></meta>`. Посмотрим:"
   ]
  },
  {
   "cell_type": "code",
   "execution_count": 19,
   "metadata": {},
   "outputs": [
    {
     "data": {
      "text/plain": [
       "[<meta charset=\"utf-8\"/>,\n",
       " <meta content=\"width=device-width, initial-scale=1\" name=\"viewport\"/>,\n",
       " <meta content=\"#f26e40\" name=\"msapplication-TileColor\"/>,\n",
       " <meta content=\"#ffffff\" name=\"theme-color\"/>,\n",
       " <meta content=\"8c90b02c84ac3b72\" name=\"yandex-verification\"/>,\n",
       " <meta content=\"b419949322895fc9106e24ed01be58ac\" name=\"pmail-verification\"/>,\n",
       " <meta content=\"N + 1 — главное издание о науке, технике и технологиях\" name=\"description\"/>,\n",
       " <meta content=\"N + 1 — главное издание о науке, технике и технологиях\" property=\"og:site_name\"/>,\n",
       " <meta content=\"Молодые пчелы научились танцевать у опытных\" property=\"og:title\"/>,\n",
       " <meta content=\"https://minio.nplus1.ru/app-images/763480/640a351da9eec_cover_share.jpeg\" property=\"og:image\"/>,\n",
       " <meta content=\"https://nplus1.ru/news/2023/03/10/bees-dance\" property=\"og:url\"/>,\n",
       " <meta content=\"N + 1 — главное издание о науке, технике и технологиях\" property=\"og:description\"/>,\n",
       " <meta content=\"article\" property=\"og:type\"/>,\n",
       " <meta content=\"2023-03-10\" itemprop=\"datePublished\"/>,\n",
       " <meta content=\"2023-03-10\" itemprop=\"datePublished\"/>,\n",
       " <meta content=\"Катерина Петрова\" name=\"mediator_author\"/>,\n",
       " <meta content=\"Катерина Петрова\" name=\"author\"/>,\n",
       " <meta content=\"\" name=\"copyright\"/>,\n",
       " <meta content=\"summary_large_image\" name=\"twitter:card\"/>,\n",
       " <meta content=\"@nplusodin\" name=\"twitter:site\"/>,\n",
       " <meta content=\"Молодые пчелы научились танцевать у опытных\" name=\"twitter:title\"/>,\n",
       " <meta content=\"N + 1 — главное издание о науке, технике и технологиях\" name=\"twitter:description\"/>,\n",
       " <meta content=\"https://minio.nplus1.ru/app-images/763480/640a351da9eec_cover_share.jpeg\" name=\"twitter:image\"/>]"
      ]
     },
     "execution_count": 19,
     "metadata": {},
     "output_type": "execute_result"
    }
   ],
   "source": [
    "soup0.find_all('meta')"
   ]
  },
  {
   "cell_type": "code",
   "execution_count": null,
   "metadata": {},
   "outputs": [],
   "source": []
  },
  {
   "cell_type": "markdown",
   "metadata": {},
   "source": [
    "Из этого списка нам нужны части с именем автора, датой, заголовком и кратким описанием. Воспользуемся поиском по атрибуту `name`. Передадим функции `find_all()` в качестве аргумента словарь с названием и значением атрибута: "
   ]
  },
  {
   "cell_type": "code",
   "execution_count": 21,
   "metadata": {},
   "outputs": [
    {
     "data": {
      "text/plain": [
       "[<meta content=\"Катерина Петрова\" name=\"author\"/>]"
      ]
     },
     "execution_count": 21,
     "metadata": {},
     "output_type": "execute_result"
    }
   ],
   "source": [
    "soup0.find_all('meta', {'name' : 'author'}) # например, автор"
   ]
  },
  {
   "cell_type": "markdown",
   "metadata": {},
   "source": [
    "Теперь выберем единственный элемент полученного списка (с индексом 0):"
   ]
  },
  {
   "cell_type": "code",
   "execution_count": 22,
   "metadata": {},
   "outputs": [
    {
     "data": {
      "text/plain": [
       "<meta content=\"Катерина Петрова\" name=\"author\"/>"
      ]
     },
     "execution_count": 22,
     "metadata": {},
     "output_type": "execute_result"
    }
   ],
   "source": [
    "soup0.find_all('meta', {'name' : 'author'})[0]"
   ]
  },
  {
   "cell_type": "markdown",
   "metadata": {},
   "source": [
    "Нам нужно вытащить из этого объекта `content` – имя автора. Посмотрим на атрибуты:"
   ]
  },
  {
   "cell_type": "code",
   "execution_count": 23,
   "metadata": {},
   "outputs": [
    {
     "data": {
      "text/plain": [
       "'Катерина Петрова'"
      ]
     },
     "execution_count": 23,
     "metadata": {},
     "output_type": "execute_result"
    }
   ],
   "source": [
    "soup0.find_all('meta', {'name' : 'author'})[0].get('content')"
   ]
  },
  {
   "cell_type": "markdown",
   "metadata": {},
   "source": [
    "Как получить отсюда `content`? Очень просто, ведь это словарь! А доставать из словаря значение по ключу мы умеем."
   ]
  },
  {
   "cell_type": "code",
   "execution_count": 24,
   "metadata": {},
   "outputs": [
    {
     "data": {
      "text/plain": [
       "{'name': 'author', 'content': 'Катерина Петрова'}"
      ]
     },
     "execution_count": 24,
     "metadata": {},
     "output_type": "execute_result"
    }
   ],
   "source": [
    "author = soup0.find_all('meta', {'name' : 'author'})[0].attrs\n",
    "author"
   ]
  },
  {
   "cell_type": "markdown",
   "metadata": {},
   "source": [
    "Аналогичным образом извлечем дату, заголовок и описание."
   ]
  },
  {
   "cell_type": "code",
   "execution_count": 29,
   "metadata": {},
   "outputs": [
    {
     "data": {
      "text/plain": [
       "'Молодые пчелы научились танцевать у опытных'"
      ]
     },
     "execution_count": 29,
     "metadata": {},
     "output_type": "execute_result"
    }
   ],
   "source": [
    "soup0.find_all('meta', {'property' : 'og:title'})[0].get('content')"
   ]
  },
  {
   "cell_type": "code",
   "execution_count": 36,
   "metadata": {},
   "outputs": [],
   "source": [
    "date = soup0.find_all('meta', {'itemprop' : 'datePublished'})[0].get('content')\n",
    "title = soup0.find_all('meta', {'property' : 'og:title'})[0].get('content')\n",
    "description = soup0.find_all('h1', {'class':'text-34 md:text-42 xl:text-52 break-words'})[0].get_text().strip() \\\n",
    "+ '\\n' + soup0.find_all('p', {'class':\"text-36 md:text-44 xl:text-54 font-spectral text-main-gray mb-6\"})[0].get_text().strip()\n",
    "\n"
   ]
  },
  {
   "cell_type": "markdown",
   "metadata": {},
   "source": [
    "Осталось вытащить рубрики и сложность текста. Если мы посмотрим на исходный код страницы, мы увидим, что нужная нам информация находится в тэгах `<p></p>`:"
   ]
  },
  {
   "cell_type": "code",
   "execution_count": 65,
   "metadata": {},
   "outputs": [],
   "source": [
    "new_data = soup0.find_all('div', {'class':\"flex flex-wrap lg:mb-10 gap-2 text-tags xl:pr-9\"})[0].find_all('span')[1:]\n",
    "\n",
    "time_published = new_data[0].get_text()\n",
    "date_published = new_data[1].get_text()\n",
    "complexity = new_data[2].get_text()\n",
    "themes = ', '.join(i.get_text() for i in new_data[3:])"
   ]
  },
  {
   "cell_type": "code",
   "execution_count": null,
   "metadata": {},
   "outputs": [],
   "source": []
  },
  {
   "cell_type": "code",
   "execution_count": 69,
   "metadata": {},
   "outputs": [],
   "source": [
    "paragraphs = soup0.find_all('p', {'class': 'mb-6'})[1:]\n"
   ]
  },
  {
   "cell_type": "code",
   "execution_count": 80,
   "metadata": {},
   "outputs": [],
   "source": [
    "links = set()\n",
    "for p in paragraphs:\n",
    "    links|={i.get('href') for i in p.find_all('a')}\n",
    "links = ', '.join(links)"
   ]
  },
  {
   "cell_type": "code",
   "execution_count": 92,
   "metadata": {},
   "outputs": [],
   "source": [
    "full_text = '\\n'.join([p.get_text() for p in paragraphs])"
   ]
  },
  {
   "cell_type": "code",
   "execution_count": 50,
   "metadata": {},
   "outputs": [
    {
     "data": {
      "text/plain": [
       "'Использование всех текстовых материалов без изменений в некоммерческих целях разрешается со ссылкой на N + 1. Все аудиовизуальные произведения являются собственностью своих авторов и правообладателей и используются только в образовательных и информационных целях. Если вы являетесь собственником того или иного произведения и не согласны с его размещением на нашем сайте, пожалуйста, напишите на kirill@nplus1.ru Связь с редакцией: info@nplus1.ru'"
      ]
     },
     "execution_count": 50,
     "metadata": {},
     "output_type": "execute_result"
    }
   ],
   "source": [
    "final_text"
   ]
  },
  {
   "cell_type": "markdown",
   "metadata": {},
   "source": [
    "Не прошло и двух пар, как мы разобрались со всем :) Теперь осталось совсем чуть-чуть. Написать готовую функцию для всех проделанных нами действий и применить ее в цикле для всех ссылок в списке `full_urls`. Напишем! Аргументом функции будет ссылка на новость, а возвращать она будет текст новости и всю необходимую информацию (дата, автор, сложность и проч.). Скопируем все строки кода выше."
   ]
  },
  {
   "cell_type": "code",
   "execution_count": 93,
   "metadata": {},
   "outputs": [],
   "source": [
    "def GetNews(url0):\n",
    "    \"\"\"\n",
    "    Returns a tuple with \n",
    "    url0, date_published, time_published, author, description, title, complexity, themes, links,full_text\n",
    "    Parameters:\n",
    "    \n",
    "    url0 is a link to the news (string)\n",
    "    \"\"\"\n",
    "    page0 = requests.get(url0)\n",
    "    soup0 = BeautifulSoup(page0.text, 'lxml')\n",
    "    \n",
    "    author = soup0.find_all('meta', {'name' : 'author'})[0].get('content')\n",
    "    date = soup0.find_all('meta', {'itemprop' : 'datePublished'})[0].get('content')\n",
    "    title = soup0.find_all('meta', {'property' : 'og:title'})[0].get('content')\n",
    "    description = soup0.find_all('h1', {'class':'text-34 md:text-42 xl:text-52 break-words'})[0].get_text().strip() \\\n",
    "+ '\\n' + soup0.find_all('p', {'class':\"text-36 md:text-44 xl:text-54 font-spectral text-main-gray mb-6\"})[0].get_text().strip()\n",
    "\n",
    "\n",
    "    \n",
    "    new_data = soup0.find_all('div', {'class':\"flex flex-wrap lg:mb-10 gap-2 text-tags xl:pr-9\"})[0].find_all('span')[1:]\n",
    "\n",
    "    time_published = new_data[0].get_text()\n",
    "    date_published = new_data[1].get_text()\n",
    "    complexity = new_data[2].get_text()\n",
    "    themes = ', '.join(i.get_text() for i in new_data[3:])\n",
    "    \n",
    "    paragraphs = soup0.find_all('p', {'class': 'mb-6'})[1:]\n",
    "    links = set()\n",
    "    for p in paragraphs:\n",
    "        links|={i.get('href') for i in p.find_all('a')}\n",
    "    links = ', '.join(links)\n",
    "    full_text = '\\n'.join([p.get_text() for p in paragraphs])\n",
    "    \n",
    "    return url0, date_published, time_published, author, description, title, complexity, themes, links,full_text"
   ]
  },
  {
   "cell_type": "markdown",
   "metadata": {},
   "source": [
    "Уфф. Осталось применить ее в цикле. Но давайте не будем спешить: импортируем функцию `sleep` для задержки, чтобы на каждой итерации цикла, прежде чем перейти к следующей новости, Python ждал несколько секунд. Во-первых, это нужно, чтобы сайт «не понял», чтобы мы его грабим, да еще автоматически. Во-вторых, с небольшой задержкой всегда есть гарантия, что страница прогрузится (сейчас это пока не очень важно, но особенно актуально будет, когда будем обсуждать встраивание в браузер с Selenium). Приступим."
   ]
  },
  {
   "cell_type": "code",
   "execution_count": 94,
   "metadata": {},
   "outputs": [
    {
     "data": {
      "text/plain": [
       "('https://nplus1.ru/news/2023/03/10/bees-dance',\n",
       " '10.03.23',\n",
       " '16:15',\n",
       " 'Катерина Петрова',\n",
       " 'Молодые пчелы научились танцевать у опытных\\nНаблюдение за старшими сородичами помогло им меньше ошибаться',\n",
       " 'Молодые пчелы научились танцевать у опытных',\n",
       " '3.6',\n",
       " 'Зоология, Биология',\n",
       " 'https://nplus1.ru/news/2018/09/06/ungulate-culture, https://www.science.org/doi/10.1126/science.ade1702, https://nplus1.ru/news/2023/02/18/grooming-handclasp, https://www.sciencedirect.com/science/article/pii/S0960982220307405, https://nplus1.ru/news/2022/07/15/rats, https://nplus1.ru/news/2015/09/10/sperm-whale-dialects, https://nplus1.ru/news/2019/07/10/coyote-decision, https://nplus1.ru/news/2017/02/16/whooping-signal, https://www.pnas.org/doi/abs/10.1073/pnas.1332441100, https://nplus1.ru/news/2016/10/05/pulltherope, https://nplus1.ru/news/2019/09/25/jackdaws, https://nplus1.ru/news/2017/02/24/bumblebee',\n",
       " 'Исследователи из Китая и США показали, что правильный виляющий танец пчел зависит от социального обучения. В эксперименте пчелы, которые не наблюдали, как танцуют более опытные особи, танцевали менее упорядоченно и совершали ошибки: неправильно кодировали направление и расстояние до источника пищи. Со временем такие пчелы начинали танцевать лучше, но информацию о расстоянии все равно передавали некорректно. Исследование опубликовано в Science.\\nМногие животные учатся чему-то, наблюдая за сородичами; ученые называют это социальным обучением. Детский лепет благодаря социальному обучению становится человеческой речью, то же самое происходит и с «подпевками» молодых певчих птиц. Знания и навыки могут передаваться от родителей детям или от более опытной особи к менее, и просто между взрослыми особями. Социальное обучение встречается у приматов, китообразных, копытных, грызунов, птиц и многих других животных.\\nДля эусоциальных насекомых — муравьев, пчел, ос, — тоже характерно социальное обучение. Например, шмели наблюдают за тем, их сородичи решают задачу, и впоследствии эффективнее решают такие же и даже адаптируют решение. Бумажные осы (Polistes fuscatus) используют социальное подслушивание: наблюдают за конфликтами других ос и оценивают агрессивность потенциальных врагов.\\nМедоносные пчелы используют сложную форму пространственной коммуникации — танец. Так они сообщают соседям по улью о том, где расположен источник питания, сколько до него лететь и сколько в нем пыльцы или нектара. Генетический компонент в пчелиных танцах очень велик, и до сих пор не было известно, могут ли пчелы учиться танцевать друг у друга.\\nШихао Дун (Shihao Dong) из Тропического ботанического сада Сишуанбаньна при Китайской академии наук с коллегами решили это проверить. Они изучили, как развивается виляющий танец медоносных пчел. Пчелы-разведчицы или фуражиры танцуют в глубине улья на вертикально расположенных сотах — так они сообщают остальным рабочим пчелам в колонии, где искать нектар. Пчела во время танца двигается по траектории восьмерки, покачивая (виляя) брюшком посередине. Угол между вертикалью и осью танца соответствует углу между солнцем и источником пищи. Продолжительность виляния и его амплитуда кодируют расстояние до места расположения нектара. Качество пищи определяется количеством и скоростью виляний: чем больше, тем лучше.\\nВ теории молодые рабочие пчелы могут учиться танцу у более опытных: они становятся фуражирами постепенно. На 8 день жизни они начинают наблюдать за танцами опытных фуражиров, летают туда, куда их направляют, и только на 12 день начинают танцевать сами. При этом большинство молодых пчел следуют за пчелами постарше, которые уже танцевали прежде. Поэтому ученые предположили, что если вырастить пчел в среде, где у них не будет возможности учиться у других пчел, в их первых танцах будет больше ошибок.\\nОни взяли когорту пчел, которым исполнился один день, и сформировали из нее пять колоний. Все пчелы полы помечены, а кормушка с сахарозой находилась в 150 метрах от улья. Затем ученые наблюдали за взрослением пчел до их первого танца, а потом сравнили его с танцем этих же пчел 20 дней спустя, когда у них было больше опыта. Наивные танцоры не могли учиться у старших, потому что старших в колониях просто не было, однако они могли смотреть друг на друга. Для контроля авторы сформировали другие пять колоний, в которых были пчелы всех возрастов; в них молодые особи могли наблюдать за более взрослыми.\\nПчелы из контрольных колоний, которые могли наблюдать за соседями по улью, практически не ошибались даже в первых танцах. А первые танцы пчел из экспериментальных колоний были менее упорядоченными по сравнению с их же танцами спустя 20 дней (p < 0,05). К тому же пчелы из экспериментальных колоний во время первых танцев ошибались с углами — и это коррелировало с увеличением беспорядка. Спустя 20 дней таких ошибок стало меньше (p < 0,05).\\nРасстояние пчелы из экспериментальных колоний тоже кодировали хуже, чем контрольные: продолжительность виляний была выше. Спустя 20 дней ситуация немного улучшилась, но экспериментальные пчелы все равно были не так точны, как контрольные.\\nИсследователи пришли к выводу, что молодым медоносным пчелам, которые готовятся стать собирателями, важно наблюдать за танцами более опытных пчел, чтобы избежать ошибок во время первых танцев и в будущем. Те, кто не мог этого делать, так и не научились кодировать расстояние без ошибок, несмотря на тренировки и опыт. В то же время пчелам из контрольных колоний хватило наблюдений за старшими сородичами. Таким образом, пишут авторы, речь может идти о культурной модификации и передаче сигналов у эусоциальных насекомых.\\nОднажды мы писали о том, что ученые обнаружили у пчел звуковой сигнал, схожий с нашим восклицанием «ой!», — пчелы издают его, когда сталкиваются друг с другом в улье.')"
      ]
     },
     "execution_count": 94,
     "metadata": {},
     "output_type": "execute_result"
    }
   ],
   "source": [
    "GetNews(url0)"
   ]
  },
  {
   "cell_type": "code",
   "execution_count": 95,
   "metadata": {},
   "outputs": [],
   "source": [
    "from time import sleep\n",
    "from tqdm import tqdm"
   ]
  },
  {
   "cell_type": "code",
   "execution_count": 97,
   "metadata": {},
   "outputs": [],
   "source": [
    "import random"
   ]
  },
  {
   "cell_type": "code",
   "execution_count": 110,
   "metadata": {},
   "outputs": [
    {
     "data": {
      "text/plain": [
       "4.958814155017188"
      ]
     },
     "execution_count": 110,
     "metadata": {},
     "output_type": "execute_result"
    }
   ],
   "source": []
  },
  {
   "cell_type": "code",
   "execution_count": 112,
   "metadata": {},
   "outputs": [
    {
     "name": "stderr",
     "output_type": "stream",
     "text": [
      "100%|██████████| 67/67 [00:47<00:00,  1.41it/s]\n"
     ]
    }
   ],
   "source": [
    "news = [] # это будет список из кортежей, в которых будут храниться данные по каждой новости\n",
    "\n",
    "for link in tqdm(urls):\n",
    "    res = GetNews(link)\n",
    "    news.append(res)\n",
    "    sleep(random.random()) # задержка в 3 секунды"
   ]
  },
  {
   "cell_type": "markdown",
   "metadata": {},
   "source": [
    "Так теперь выглядит первый элемент списка:"
   ]
  },
  {
   "cell_type": "code",
   "execution_count": 115,
   "metadata": {},
   "outputs": [
    {
     "data": {
      "text/plain": [
       "('https://nplus1.ru/news/2023/03/10/bees-dance',\n",
       " '10.03.23',\n",
       " '16:15',\n",
       " 'Катерина Петрова',\n",
       " 'Молодые пчелы научились танцевать у опытных\\nНаблюдение за старшими сородичами помогло им меньше ошибаться',\n",
       " 'Молодые пчелы научились танцевать у опытных',\n",
       " '3.6',\n",
       " 'Зоология, Биология',\n",
       " 'https://nplus1.ru/news/2018/09/06/ungulate-culture, https://www.science.org/doi/10.1126/science.ade1702, https://nplus1.ru/news/2023/02/18/grooming-handclasp, https://www.sciencedirect.com/science/article/pii/S0960982220307405, https://nplus1.ru/news/2022/07/15/rats, https://nplus1.ru/news/2015/09/10/sperm-whale-dialects, https://nplus1.ru/news/2019/07/10/coyote-decision, https://nplus1.ru/news/2017/02/16/whooping-signal, https://www.pnas.org/doi/abs/10.1073/pnas.1332441100, https://nplus1.ru/news/2016/10/05/pulltherope, https://nplus1.ru/news/2019/09/25/jackdaws, https://nplus1.ru/news/2017/02/24/bumblebee',\n",
       " 'Исследователи из Китая и США показали, что правильный виляющий танец пчел зависит от социального обучения. В эксперименте пчелы, которые не наблюдали, как танцуют более опытные особи, танцевали менее упорядоченно и совершали ошибки: неправильно кодировали направление и расстояние до источника пищи. Со временем такие пчелы начинали танцевать лучше, но информацию о расстоянии все равно передавали некорректно. Исследование опубликовано в Science.\\nМногие животные учатся чему-то, наблюдая за сородичами; ученые называют это социальным обучением. Детский лепет благодаря социальному обучению становится человеческой речью, то же самое происходит и с «подпевками» молодых певчих птиц. Знания и навыки могут передаваться от родителей детям или от более опытной особи к менее, и просто между взрослыми особями. Социальное обучение встречается у приматов, китообразных, копытных, грызунов, птиц и многих других животных.\\nДля эусоциальных насекомых — муравьев, пчел, ос, — тоже характерно социальное обучение. Например, шмели наблюдают за тем, их сородичи решают задачу, и впоследствии эффективнее решают такие же и даже адаптируют решение. Бумажные осы (Polistes fuscatus) используют социальное подслушивание: наблюдают за конфликтами других ос и оценивают агрессивность потенциальных врагов.\\nМедоносные пчелы используют сложную форму пространственной коммуникации — танец. Так они сообщают соседям по улью о том, где расположен источник питания, сколько до него лететь и сколько в нем пыльцы или нектара. Генетический компонент в пчелиных танцах очень велик, и до сих пор не было известно, могут ли пчелы учиться танцевать друг у друга.\\nШихао Дун (Shihao Dong) из Тропического ботанического сада Сишуанбаньна при Китайской академии наук с коллегами решили это проверить. Они изучили, как развивается виляющий танец медоносных пчел. Пчелы-разведчицы или фуражиры танцуют в глубине улья на вертикально расположенных сотах — так они сообщают остальным рабочим пчелам в колонии, где искать нектар. Пчела во время танца двигается по траектории восьмерки, покачивая (виляя) брюшком посередине. Угол между вертикалью и осью танца соответствует углу между солнцем и источником пищи. Продолжительность виляния и его амплитуда кодируют расстояние до места расположения нектара. Качество пищи определяется количеством и скоростью виляний: чем больше, тем лучше.\\nВ теории молодые рабочие пчелы могут учиться танцу у более опытных: они становятся фуражирами постепенно. На 8 день жизни они начинают наблюдать за танцами опытных фуражиров, летают туда, куда их направляют, и только на 12 день начинают танцевать сами. При этом большинство молодых пчел следуют за пчелами постарше, которые уже танцевали прежде. Поэтому ученые предположили, что если вырастить пчел в среде, где у них не будет возможности учиться у других пчел, в их первых танцах будет больше ошибок.\\nОни взяли когорту пчел, которым исполнился один день, и сформировали из нее пять колоний. Все пчелы полы помечены, а кормушка с сахарозой находилась в 150 метрах от улья. Затем ученые наблюдали за взрослением пчел до их первого танца, а потом сравнили его с танцем этих же пчел 20 дней спустя, когда у них было больше опыта. Наивные танцоры не могли учиться у старших, потому что старших в колониях просто не было, однако они могли смотреть друг на друга. Для контроля авторы сформировали другие пять колоний, в которых были пчелы всех возрастов; в них молодые особи могли наблюдать за более взрослыми.\\nПчелы из контрольных колоний, которые могли наблюдать за соседями по улью, практически не ошибались даже в первых танцах. А первые танцы пчел из экспериментальных колоний были менее упорядоченными по сравнению с их же танцами спустя 20 дней (p < 0,05). К тому же пчелы из экспериментальных колоний во время первых танцев ошибались с углами — и это коррелировало с увеличением беспорядка. Спустя 20 дней таких ошибок стало меньше (p < 0,05).\\nРасстояние пчелы из экспериментальных колоний тоже кодировали хуже, чем контрольные: продолжительность виляний была выше. Спустя 20 дней ситуация немного улучшилась, но экспериментальные пчелы все равно были не так точны, как контрольные.\\nИсследователи пришли к выводу, что молодым медоносным пчелам, которые готовятся стать собирателями, важно наблюдать за танцами более опытных пчел, чтобы избежать ошибок во время первых танцев и в будущем. Те, кто не мог этого делать, так и не научились кодировать расстояние без ошибок, несмотря на тренировки и опыт. В то же время пчелам из контрольных колоний хватило наблюдений за старшими сородичами. Таким образом, пишут авторы, речь может идти о культурной модификации и передаче сигналов у эусоциальных насекомых.\\nОднажды мы писали о том, что ученые обнаружили у пчел звуковой сигнал, схожий с нашим восклицанием «ой!», — пчелы издают его, когда сталкиваются друг с другом в улье.')"
      ]
     },
     "execution_count": 115,
     "metadata": {},
     "output_type": "execute_result"
    }
   ],
   "source": [
    "news[0]"
   ]
  },
  {
   "cell_type": "markdown",
   "metadata": {},
   "source": [
    "Импортируем `pandas` и создадим датафрейм из списка кортежей: "
   ]
  },
  {
   "cell_type": "code",
   "execution_count": 114,
   "metadata": {},
   "outputs": [],
   "source": [
    "import pandas as pd"
   ]
  },
  {
   "cell_type": "code",
   "execution_count": 116,
   "metadata": {},
   "outputs": [],
   "source": [
    "df = pd.DataFrame(news)"
   ]
  },
  {
   "cell_type": "code",
   "execution_count": 117,
   "metadata": {},
   "outputs": [
    {
     "data": {
      "text/html": [
       "<div>\n",
       "<style scoped>\n",
       "    .dataframe tbody tr th:only-of-type {\n",
       "        vertical-align: middle;\n",
       "    }\n",
       "\n",
       "    .dataframe tbody tr th {\n",
       "        vertical-align: top;\n",
       "    }\n",
       "\n",
       "    .dataframe thead th {\n",
       "        text-align: right;\n",
       "    }\n",
       "</style>\n",
       "<table border=\"1\" class=\"dataframe\">\n",
       "  <thead>\n",
       "    <tr style=\"text-align: right;\">\n",
       "      <th></th>\n",
       "      <th>0</th>\n",
       "      <th>1</th>\n",
       "      <th>2</th>\n",
       "      <th>3</th>\n",
       "      <th>4</th>\n",
       "      <th>5</th>\n",
       "      <th>6</th>\n",
       "      <th>7</th>\n",
       "      <th>8</th>\n",
       "      <th>9</th>\n",
       "    </tr>\n",
       "  </thead>\n",
       "  <tbody>\n",
       "    <tr>\n",
       "      <th>0</th>\n",
       "      <td>https://nplus1.ru/news/2023/03/10/bees-dance</td>\n",
       "      <td>10.03.23</td>\n",
       "      <td>16:15</td>\n",
       "      <td>Катерина Петрова</td>\n",
       "      <td>Молодые пчелы научились танцевать у опытных\\nН...</td>\n",
       "      <td>Молодые пчелы научились танцевать у опытных</td>\n",
       "      <td>3.6</td>\n",
       "      <td>Зоология, Биология</td>\n",
       "      <td>https://nplus1.ru/news/2018/09/06/ungulate-cul...</td>\n",
       "      <td>Исследователи из Китая и США показали, что пра...</td>\n",
       "    </tr>\n",
       "    <tr>\n",
       "      <th>1</th>\n",
       "      <td>https://nplus1.ru/news/2023/03/14/fda-Daybue</td>\n",
       "      <td>14.03.23</td>\n",
       "      <td>18:20</td>\n",
       "      <td>Слава Гоменюк</td>\n",
       "      <td>FDA одобрило первый препарат для лечения синдр...</td>\n",
       "      <td>FDA одобрило первый препарат для лечения синдр...</td>\n",
       "      <td>2.9</td>\n",
       "      <td>Медицина</td>\n",
       "      <td>https://nplus1.ru/news/2016/01/26/asd-monkey, ...</td>\n",
       "      <td>Управление по санитарному надзору за качеством...</td>\n",
       "    </tr>\n",
       "  </tbody>\n",
       "</table>\n",
       "</div>"
      ],
      "text/plain": [
       "                                              0         1      2  \\\n",
       "0  https://nplus1.ru/news/2023/03/10/bees-dance  10.03.23  16:15   \n",
       "1  https://nplus1.ru/news/2023/03/14/fda-Daybue  14.03.23  18:20   \n",
       "\n",
       "                  3                                                  4  \\\n",
       "0  Катерина Петрова  Молодые пчелы научились танцевать у опытных\\nН...   \n",
       "1     Слава Гоменюк  FDA одобрило первый препарат для лечения синдр...   \n",
       "\n",
       "                                                   5    6                   7  \\\n",
       "0        Молодые пчелы научились танцевать у опытных  3.6  Зоология, Биология   \n",
       "1  FDA одобрило первый препарат для лечения синдр...  2.9            Медицина   \n",
       "\n",
       "                                                   8  \\\n",
       "0  https://nplus1.ru/news/2018/09/06/ungulate-cul...   \n",
       "1  https://nplus1.ru/news/2016/01/26/asd-monkey, ...   \n",
       "\n",
       "                                                   9  \n",
       "0  Исследователи из Китая и США показали, что пра...  \n",
       "1  Управление по санитарному надзору за качеством...  "
      ]
     },
     "execution_count": 117,
     "metadata": {},
     "output_type": "execute_result"
    }
   ],
   "source": [
    "df.head(2)"
   ]
  },
  {
   "cell_type": "markdown",
   "metadata": {},
   "source": [
    "Переименуем столбцы в базе."
   ]
  },
  {
   "cell_type": "code",
   "execution_count": 118,
   "metadata": {},
   "outputs": [],
   "source": [
    "df.columns = ['url', 'date_published', 'time_published', 'author', 'description', 'title', 'complexity', 'themes', 'links','full_text']"
   ]
  },
  {
   "cell_type": "code",
   "execution_count": 119,
   "metadata": {},
   "outputs": [
    {
     "data": {
      "text/html": [
       "<div>\n",
       "<style scoped>\n",
       "    .dataframe tbody tr th:only-of-type {\n",
       "        vertical-align: middle;\n",
       "    }\n",
       "\n",
       "    .dataframe tbody tr th {\n",
       "        vertical-align: top;\n",
       "    }\n",
       "\n",
       "    .dataframe thead th {\n",
       "        text-align: right;\n",
       "    }\n",
       "</style>\n",
       "<table border=\"1\" class=\"dataframe\">\n",
       "  <thead>\n",
       "    <tr style=\"text-align: right;\">\n",
       "      <th></th>\n",
       "      <th>url</th>\n",
       "      <th>date_published</th>\n",
       "      <th>time_published</th>\n",
       "      <th>author</th>\n",
       "      <th>description</th>\n",
       "      <th>title</th>\n",
       "      <th>complexity</th>\n",
       "      <th>themes</th>\n",
       "      <th>links</th>\n",
       "      <th>full_text</th>\n",
       "    </tr>\n",
       "  </thead>\n",
       "  <tbody>\n",
       "    <tr>\n",
       "      <th>0</th>\n",
       "      <td>https://nplus1.ru/news/2023/03/10/bees-dance</td>\n",
       "      <td>10.03.23</td>\n",
       "      <td>16:15</td>\n",
       "      <td>Катерина Петрова</td>\n",
       "      <td>Молодые пчелы научились танцевать у опытных\\nН...</td>\n",
       "      <td>Молодые пчелы научились танцевать у опытных</td>\n",
       "      <td>3.6</td>\n",
       "      <td>Зоология, Биология</td>\n",
       "      <td>https://nplus1.ru/news/2018/09/06/ungulate-cul...</td>\n",
       "      <td>Исследователи из Китая и США показали, что пра...</td>\n",
       "    </tr>\n",
       "    <tr>\n",
       "      <th>1</th>\n",
       "      <td>https://nplus1.ru/news/2023/03/14/fda-Daybue</td>\n",
       "      <td>14.03.23</td>\n",
       "      <td>18:20</td>\n",
       "      <td>Слава Гоменюк</td>\n",
       "      <td>FDA одобрило первый препарат для лечения синдр...</td>\n",
       "      <td>FDA одобрило первый препарат для лечения синдр...</td>\n",
       "      <td>2.9</td>\n",
       "      <td>Медицина</td>\n",
       "      <td>https://nplus1.ru/news/2016/01/26/asd-monkey, ...</td>\n",
       "      <td>Управление по санитарному надзору за качеством...</td>\n",
       "    </tr>\n",
       "  </tbody>\n",
       "</table>\n",
       "</div>"
      ],
      "text/plain": [
       "                                            url date_published time_published  \\\n",
       "0  https://nplus1.ru/news/2023/03/10/bees-dance       10.03.23          16:15   \n",
       "1  https://nplus1.ru/news/2023/03/14/fda-Daybue       14.03.23          18:20   \n",
       "\n",
       "             author                                        description  \\\n",
       "0  Катерина Петрова  Молодые пчелы научились танцевать у опытных\\nН...   \n",
       "1     Слава Гоменюк  FDA одобрило первый препарат для лечения синдр...   \n",
       "\n",
       "                                               title complexity  \\\n",
       "0        Молодые пчелы научились танцевать у опытных        3.6   \n",
       "1  FDA одобрило первый препарат для лечения синдр...        2.9   \n",
       "\n",
       "               themes                                              links  \\\n",
       "0  Зоология, Биология  https://nplus1.ru/news/2018/09/06/ungulate-cul...   \n",
       "1            Медицина  https://nplus1.ru/news/2016/01/26/asd-monkey, ...   \n",
       "\n",
       "                                           full_text  \n",
       "0  Исследователи из Китая и США показали, что пра...  \n",
       "1  Управление по санитарному надзору за качеством...  "
      ]
     },
     "execution_count": 119,
     "metadata": {},
     "output_type": "execute_result"
    }
   ],
   "source": [
    "df.head(2)"
   ]
  },
  {
   "cell_type": "markdown",
   "metadata": {},
   "source": [
    "Теперь внесем изменения: сделаем столбец `diffc` числовым – типа *float*."
   ]
  },
  {
   "cell_type": "code",
   "execution_count": 120,
   "metadata": {},
   "outputs": [],
   "source": [
    "df['complexity'] = df['complexity'].apply(float)"
   ]
  },
  {
   "cell_type": "code",
   "execution_count": null,
   "metadata": {},
   "outputs": [],
   "source": []
  },
  {
   "cell_type": "markdown",
   "metadata": {},
   "source": [
    "Теперь сложность представлена в базе как количественный показатель, и описывать ее можно соответствующим образом:"
   ]
  },
  {
   "cell_type": "code",
   "execution_count": 35,
   "metadata": {},
   "outputs": [
    {
     "data": {
      "text/plain": [
       "count    30.000000\n",
       "mean      4.416667\n",
       "std       2.370521\n",
       "min       1.100000\n",
       "25%       2.125000\n",
       "50%       4.900000\n",
       "75%       6.750000\n",
       "max       8.200000\n",
       "Name: diffc, dtype: float64"
      ]
     },
     "execution_count": 35,
     "metadata": {},
     "output_type": "execute_result"
    }
   ],
   "source": [
    "df.diffc.describe()"
   ]
  },
  {
   "cell_type": "markdown",
   "metadata": {},
   "source": [
    "Теперь столбец со сложностью точно числовой. Можем даже построить для него гистограмму."
   ]
  },
  {
   "cell_type": "code",
   "execution_count": 122,
   "metadata": {},
   "outputs": [
    {
     "data": {
      "text/plain": [
       "<matplotlib.axes._subplots.AxesSubplot at 0x7fb0ca6a1280>"
      ]
     },
     "execution_count": 122,
     "metadata": {},
     "output_type": "execute_result"
    },
    {
     "data": {
      "image/png": "[encoded data removed]",
      "text/plain": [
       "<Figure size 432x288 with 1 Axes>"
      ]
     },
     "metadata": {
      "needs_background": "light"
     },
     "output_type": "display_data"
    }
   ],
   "source": [
    "%matplotlib inline\n",
    "df.complexity.plot.hist()"
   ]
  },
  {
   "cell_type": "markdown",
   "metadata": {},
   "source": [
    "Объединим рубрики в *text* в одну строку через запятую:"
   ]
  },
  {
   "cell_type": "code",
   "execution_count": 37,
   "metadata": {},
   "outputs": [],
   "source": [
    "df['rubric'] = [','.join(r) for r in df.rubric]"
   ]
  },
  {
   "cell_type": "markdown",
   "metadata": {},
   "source": [
    "Давайте почистим текст новостей – уберем оттуда текст, не относящийся к новостям. Найдем лишнее:"
   ]
  },
  {
   "cell_type": "code",
   "execution_count": null,
   "metadata": {},
   "outputs": [],
   "source": [
    "df.text[0]"
   ]
  },
  {
   "cell_type": "markdown",
   "metadata": {},
   "source": [
    "Лишний текст находится после фразы 'Нашли опечатку?'. Так давайте будем разбивать строки по этой фразе с помощью метода `.split()` и брать все, что до нее (элемент с индексом 0)."
   ]
  },
  {
   "cell_type": "code",
   "execution_count": 38,
   "metadata": {},
   "outputs": [],
   "source": [
    "df['clean_text'] = [t.split('Нашли опечатку?')[0] for t in df.text]"
   ]
  },
  {
   "cell_type": "markdown",
   "metadata": {},
   "source": [
    "Осталось только заменить непонятные символы `\\xa0` на пробелы:"
   ]
  },
  {
   "cell_type": "code",
   "execution_count": 39,
   "metadata": {},
   "outputs": [],
   "source": [
    "df['clean_text'] = [t.replace(\"\\xa0\", \" \") for t in df.clean_text]"
   ]
  },
  {
   "cell_type": "code",
   "execution_count": 40,
   "metadata": {},
   "outputs": [
    {
     "data": {
      "text/plain": [
       "'Российский военно-транспортный самолет Ил-112В совершил первый полет, сообщает Авиационный комплекс имени Ильюшина. Испытания прошли на аэродроме воронежского авиазавода ПАО «ВАСО», командиром экипажа был шеф-пилот ПАО «Ил» Герой России Николай Куимов. Первый полет стал завершением цикла аэродромной отработки, в ходе которой были проведены испытания всех систем, в том числе пробежки по аэродрому. Полет прошел в штатном режиме. В воздухе Ил-112В сопровождал самолет-лаборатория Ил-114ЛЛ. Ил-112В в перспективе должен заменить легкий транспортник Ан-26. Он будет использоваться для перевозки и десантирования легкой техники, грузов и бойцов, его грузоподъемность — около пяти тонн. Самолет сможет развивать скорость до 550 километров в час и совершать полеты на расстояние до 3,4 тысячи километров, а при взлете с грунтовых аэродромов и максимальной загрузкой — до 1,2 тысячи километров. Транспортник сможет взлетать с взлетно-посадочных полос длиной не более 900 метров. Пробег Ил-112В при посадке составит около 600 метров. Ранее Министерство обороны России объявляло о намерении приобрести 62 самолета этого типа до 2020 года, однако в августе 2018 года появилась информация о планах заказать не менее 100 машин. Сергей Кузнецов '"
      ]
     },
     "execution_count": 40,
     "metadata": {},
     "output_type": "execute_result"
    }
   ],
   "source": [
    "df.clean_text[0]"
   ]
  },
  {
   "cell_type": "markdown",
   "metadata": {},
   "source": [
    "Всё! Сохраняем датафрейм в файл. Для разнообразия сохраним в Excel:"
   ]
  },
  {
   "cell_type": "code",
   "execution_count": 41,
   "metadata": {},
   "outputs": [],
   "source": [
    "df.to_excel('nplus-news.xlsx')"
   ]
  }
 ],
 "metadata": {
  "kernelspec": {
   "display_name": "Python 3",
   "language": "python",
   "name": "python3"
  },
  "language_info": {
   "codemirror_mode": {
    "name": "ipython",
    "version": 3
   },
   "file_extension": ".py",
   "mimetype": "text/x-python",
   "name": "python",
   "nbconvert_exporter": "python",
   "pygments_lexer": "ipython3",
   "version": "3.8.3"
  }
 },
 "nbformat": 4,
 "nbformat_minor": 2
}
