{
 "cells": [
  {
   "cell_type": "markdown",
   "metadata": {},
   "source": [
    "# Python для анализа данных\n",
    "\n",
    "*Алла Тамбовцева, НИУ ВШЭ*"
   ]
  },
  {
   "cell_type": "markdown",
   "metadata": {},
   "source": [
    "## Web-scraping\n",
    "\n",
    "Мы уже немного познакомились со структурой html-файлов, теперь попробуем выгрузить информацию из реальной страницы, а точнее, с реального сайта [nplus1.ru](https://nplus1.ru/).\n",
    "\n",
    "**Наша задача:** выгрузить недавние новости в датафрейм `pandas`, чтобы потом сохранить все в csv-файл.\n",
    "\n",
    "Сначала сгрузим весь html-код страницы и сохраним его в отдельную переменную. Для этого нам понадобится библиотека `requests`. Импортируем её:"
   ]
  },
  {
   "cell_type": "code",
   "execution_count": 4,
   "metadata": {},
   "outputs": [],
   "source": [
    "import requests"
   ]
  },
  {
   "cell_type": "markdown",
   "metadata": {},
   "source": [
    "Сохраним ссылку на главную страницу сайта в переменную `url` для удобства и выгрузим страницу. (Разумеется, это будет работать при подключении к интернету. Если соединение будет отключено, Python выдаст `NewConnectionError`)."
   ]
  },
  {
   "cell_type": "code",
   "execution_count": 5,
   "metadata": {},
   "outputs": [],
   "source": [
    "url = 'https://nplus1.ru/' # сохраняем\n",
    "page = requests.get(url) # загружаем страницу по ссылке"
   ]
  },
  {
   "cell_type": "markdown",
   "metadata": {},
   "source": [
    "Если мы просто посмотрим на объект, мы ничего особенного не увидим:"
   ]
  },
  {
   "cell_type": "code",
   "execution_count": 6,
   "metadata": {},
   "outputs": [
    {
     "data": {
      "text/plain": [
       "<Response [200]>"
      ]
     },
     "execution_count": 6,
     "metadata": {},
     "output_type": "execute_result"
    }
   ],
   "source": [
    "page  # response 200 - страница загружена"
   ]
  },
  {
   "cell_type": "code",
   "execution_count": 7,
   "metadata": {},
   "outputs": [],
   "source": [
    "# page.text"
   ]
  },
  {
   "cell_type": "markdown",
   "metadata": {},
   "source": [
    "Импортируем функцию `BeautifulSoup` из библиотеки `bs4` (от *beautifulsoup4*) и заберём со страницы `page` код html в виде текста. "
   ]
  },
  {
   "cell_type": "code",
   "execution_count": 8,
   "metadata": {},
   "outputs": [],
   "source": [
    "from bs4 import BeautifulSoup  # не спрашивайте, почему BeautifulSoup"
   ]
  },
  {
   "cell_type": "code",
   "execution_count": 9,
   "metadata": {},
   "outputs": [],
   "source": [
    "soup = BeautifulSoup(page.text, 'html')"
   ]
  },
  {
   "cell_type": "markdown",
   "metadata": {},
   "source": [
    "Если выведем `soup` на экран, мы увидим то же самое, что в режиме разработчика или в режиме происмотра исходного кода (`view-source` через *Ctrl+U* в Google Chrome)."
   ]
  },
  {
   "cell_type": "code",
   "execution_count": 10,
   "metadata": {},
   "outputs": [],
   "source": [
    "# soup"
   ]
  },
  {
   "cell_type": "markdown",
   "metadata": {},
   "source": [
    "Для просмотра выглядит не очень удобно.  «Причешем» наш `soup` – воспользуемся методом `.prettify()` в сочетании с функцией `print()`."
   ]
  },
  {
   "cell_type": "code",
   "execution_count": 11,
   "metadata": {},
   "outputs": [],
   "source": [
    "# print(soup.prettify())"
   ]
  },
  {
   "cell_type": "markdown",
   "metadata": {},
   "source": [
    "В такой выдаче ориентироваться гораздо удобнее (но при желании, то же можно увидеть в браузере, на большом экране)."
   ]
  },
  {
   "cell_type": "markdown",
   "metadata": {},
   "source": [
    "\n",
    "Чтобы сгрузить все новости с главной страницы сайта, нужно собрать все ссылки на страницы с этими новостями. Ссылки в html-файле всегда заключены в тэг `<a></a>` и имеют атрибут `href`. Посмотрим на кусочки кода, соответствующие всем ссылкам на главной странице сайта:"
   ]
  },
  {
   "cell_type": "code",
   "execution_count": 12,
   "metadata": {
    "scrolled": false
   },
   "outputs": [
    {
     "name": "stdout",
     "output_type": "stream",
     "text": [
      "/search\n"
     ]
    }
   ],
   "source": [
    "for link in soup.find_all('a'):\n",
    "    print(link.get('href'))\n",
    "    break"
   ]
  },
  {
   "cell_type": "markdown",
   "metadata": {},
   "source": [
    "Ссылок много. Но нам нужны только новости – ссылки, которые начинаются со слова `/news`. Добавим условие: будем выбирать только те ссылки, в которых есть `/news`. Создадим пустой список `urls` и будем добавлять в него только ссылки, которые удовлетворяют этому условию."
   ]
  },
  {
   "cell_type": "code",
   "execution_count": 25,
   "metadata": {},
   "outputs": [],
   "source": [
    "# urls = []\n",
    "\n",
    "# for link in soup.find_all('a'):\n",
    "#     if '/news' in link.get('href'):\n",
    "#         urls.append('https://nplus1.ru'+link.get('href'))\n",
    "\n",
    "urls = [link.get('href') \n",
    "        for link in soup.find_all('a') \n",
    "        if 'https://nplus1.ru/news/' in link.get('href')]"
   ]
  },
  {
   "cell_type": "markdown",
   "metadata": {},
   "source": [
    "Ссылки, которые у нас есть в списке `urls`, относительные: они неполные, начало ссылки (название сайта) отсутствует. Давайте превратим их в абсолютные ‒ склеим с ссылкой https://nplus1.ru."
   ]
  },
  {
   "cell_type": "code",
   "execution_count": 26,
   "metadata": {},
   "outputs": [],
   "source": [
    "# full_urls = []\n",
    "\n",
    "# for u in urls:\n",
    "#     res = 'https://nplus1.ru' + u\n",
    "#     full_urls.append(res) \n",
    "\n",
    "# full_urls"
   ]
  },
  {
   "cell_type": "code",
   "execution_count": 27,
   "metadata": {},
   "outputs": [
    {
     "data": {
      "text/plain": [
       "['https://nplus1.ru/news/2015/09/21/editor-thy-name',\n",
       " 'https://nplus1.ru/news/2023/03/10/bees-dance',\n",
       " 'https://nplus1.ru/news/2023/03/10/180Tam-decay',\n",
       " 'https://nplus1.ru/news/2023/03/10/southern-africa-ancient-kid',\n",
       " 'https://nplus1.ru/news/2023/03/10/bees-dance',\n",
       " 'https://nplus1.ru/news/2023/03/10/Amazon-resistance-to-Chagas',\n",
       " 'https://nplus1.ru/news/2023/03/10/mshanki',\n",
       " 'https://nplus1.ru/news/2023/03/10/superposition-gravity',\n",
       " 'https://nplus1.ru/news/2023/03/10/fathers-self-sufficient',\n",
       " 'https://nplus1.ru/news/2023/03/10/connect-ohm-3016',\n",
       " 'https://nplus1.ru/news/2023/03/09/menthol-from-citral',\n",
       " 'https://nplus1.ru/news/2023/03/09/ground-state-cooling',\n",
       " 'https://nplus1.ru/news/2023/03/09/hairy-kidney',\n",
       " 'https://nplus1.ru/news/2023/03/09/fumane-cave',\n",
       " 'https://nplus1.ru/news/2023/03/09/erosita-new-polar',\n",
       " 'https://nplus1.ru/news/2023/03/09/water-and-d-in-v-883-ori',\n",
       " 'https://nplus1.ru/news/2023/03/08/magic-touch',\n",
       " 'https://nplus1.ru/news/2023/03/08/high-Tc-10-kbar',\n",
       " 'https://nplus1.ru/news/2023/03/08/oldest-odin-inscription',\n",
       " 'https://nplus1.ru/news/2023/03/08/mouse-estrous-behaviour',\n",
       " 'https://nplus1.ru/news/2023/03/08/tianwen-2-go-go',\n",
       " 'https://nplus1.ru/news/2023/03/08/roman-altar',\n",
       " 'https://nplus1.ru/news/2023/03/08/ibex',\n",
       " 'https://nplus1.ru/news/2023/03/07/black-pigment',\n",
       " 'https://nplus1.ru/news/2023/03/07/deep-inside',\n",
       " 'https://nplus1.ru/news/2023/03/07/x-3',\n",
       " 'https://nplus1.ru/news/2023/03/07/grapevine',\n",
       " 'https://nplus1.ru/news/2023/03/07/temperature-stable-tuberculosis-vaccine',\n",
       " 'https://nplus1.ru/news/2023/03/07/hubble-dart-motion',\n",
       " 'https://nplus1.ru/news/2023/03/07/curiosity-crepuscular-rays',\n",
       " 'https://nplus1.ru/news/2023/03/07/h-3-launch-again',\n",
       " 'https://nplus1.ru/news/2023/03/06/sense-of-fairness',\n",
       " 'https://nplus1.ru/news/2023/03/06/nes-frolov',\n",
       " 'https://nplus1.ru/news/2023/03/06/1-inch-punch',\n",
       " 'https://nplus1.ru/news/2023/03/06/markowice',\n",
       " 'https://nplus1.ru/news/2023/03/06/ATG4D-and-neurodevelopmental-disorder',\n",
       " 'https://nplus1.ru/news/2023/03/06/APTC',\n",
       " 'https://nplus1.ru/news/2023/03/06/cro-magnon',\n",
       " 'https://nplus1.ru/news/2023/03/06/mother-and-child',\n",
       " 'https://nplus1.ru/news/2023/02/22/innermost-inner-core',\n",
       " 'https://nplus1.ru/news/2020/06/01/gray-hair',\n",
       " 'https://nplus1.ru/news/2023/02/16/payslip',\n",
       " 'https://nplus1.ru/news/2023/03/06/1-inch-punch',\n",
       " 'https://nplus1.ru/news/2023/03/03/earliest-horsemanship',\n",
       " 'https://nplus1.ru/news/2023/03/03/structure-in-khufus-pyramid',\n",
       " 'https://nplus1.ru/news/2023/02/25/p11B-fusion',\n",
       " 'https://nplus1.ru/news/2023/02/20/vindolanda-phallus',\n",
       " 'https://nplus1.ru/news/2023/03/03/dogs-of-Chernobyl',\n",
       " 'https://nplus1.ru/news/2023/02/28/mummy-from-basel',\n",
       " 'https://nplus1.ru/news/2023/02/20/hoard-from-germany',\n",
       " 'https://nplus1.ru/news/2023/03/06/markowice',\n",
       " 'https://nplus1.ru/news/2023/03/08/high-Tc-10-kbar',\n",
       " 'https://nplus1.ru/news/2023/02/20/Rydberg-switch',\n",
       " 'https://nplus1.ru/news/2023/02/27/meaningful-telomeres',\n",
       " 'https://nplus1.ru/news/2023/02/28/twisted-bilayer-optical-lattices',\n",
       " 'https://nplus1.ru/news/2023/02/28/surface-code-scaling',\n",
       " 'https://nplus1.ru/news/2023/02/28/gel-electrode',\n",
       " 'https://nplus1.ru/news/2023/03/01/pee-sharpshooter',\n",
       " 'https://nplus1.ru/news/2023/03/02/XY-model-rydberg-array',\n",
       " 'https://nplus1.ru/news/2023/03/04/10-sec-quantum-memory',\n",
       " 'https://nplus1.ru/news/2023/03/04/18O-alpha-gamma-22Ne',\n",
       " 'https://nplus1.ru/news/2023/03/06/APTC',\n",
       " 'https://nplus1.ru/news/2023/03/08/high-Tc-10-kbar',\n",
       " 'https://nplus1.ru/news/2023/03/08/magic-touch',\n",
       " 'https://nplus1.ru/news/2023/03/09/ground-state-cooling',\n",
       " 'https://nplus1.ru/news/2023/03/10/superposition-gravity']"
      ]
     },
     "execution_count": 27,
     "metadata": {},
     "output_type": "execute_result"
    }
   ],
   "source": [
    "urls"
   ]
  },
  {
   "cell_type": "markdown",
   "metadata": {},
   "source": [
    "Теперь наша задача сводится к следующему: изучить одну страницу с новостью, научиться из нее вытаскивать текст и всю необходимую информацию, а потом применить весь набор действий к каждой ссылке из `full_urls` в цикле. Посмотрим на новость с индексом 1, у вас может быть другая, новости обновляются."
   ]
  },
  {
   "cell_type": "code",
   "execution_count": 28,
   "metadata": {},
   "outputs": [],
   "source": [
    "url0 = urls[0]\n",
    "\n",
    "page0 = requests.get(url0)\n",
    "soup0 = BeautifulSoup(page0.text, 'html')"
   ]
  },
  {
   "cell_type": "code",
   "execution_count": 29,
   "metadata": {},
   "outputs": [
    {
     "data": {
      "text/plain": [
       "'https://nplus1.ru/news/2015/09/21/editor-thy-name'"
      ]
     },
     "execution_count": 29,
     "metadata": {},
     "output_type": "execute_result"
    }
   ],
   "source": [
    "url0"
   ]
  },
  {
   "cell_type": "markdown",
   "metadata": {},
   "source": [
    "В коде каждой страницы с новостью есть часть с мета-информацией: датой, именем автора и проч. Такая информация окружена тэгом `<meta></meta>`. Посмотрим:"
   ]
  },
  {
   "cell_type": "code",
   "execution_count": 30,
   "metadata": {},
   "outputs": [
    {
     "data": {
      "text/plain": [
       "[<meta charset=\"utf-8\"/>,\n",
       " <meta content=\"width=device-width, initial-scale=1\" name=\"viewport\"/>,\n",
       " <meta content=\"#f26e40\" name=\"msapplication-TileColor\"/>,\n",
       " <meta content=\"#ffffff\" name=\"theme-color\"/>,\n",
       " <meta content=\"8c90b02c84ac3b72\" name=\"yandex-verification\"/>,\n",
       " <meta content=\"b419949322895fc9106e24ed01be58ac\" name=\"pmail-verification\"/>,\n",
       " <meta content=\"Мы ищем редакторов: физиков, археологов, медиков\" name=\"description\"/>,\n",
       " <meta content=\"N + 1 — главное издание о науке, технике и технологиях\" property=\"og:site_name\"/>,\n",
       " <meta content=\"Мы ищем редакторов: физиков, археологов, медиков\" property=\"og:title\"/>,\n",
       " <meta content=\"https://nplus1.ru/images-new/share_snippet.png\" property=\"og:image\"/>,\n",
       " <meta content=\"https://nplus1.ru/news/2015/09/21/editor-thy-name\" property=\"og:url\"/>,\n",
       " <meta content=\"Мы ищем редакторов: физиков, археологов, медиков\" property=\"og:description\"/>,\n",
       " <meta content=\"article\" property=\"og:type\"/>,\n",
       " <meta content=\"2015-09-21\" itemprop=\"datePublished\"/>,\n",
       " <meta content=\"2015-09-21\" itemprop=\"datePublished\"/>,\n",
       " <meta content=\"Андрей Коняев\" name=\"mediator_author\"/>,\n",
       " <meta content=\"Андрей Коняев\" name=\"author\"/>,\n",
       " <meta content=\"\" name=\"copyright\"/>,\n",
       " <meta content=\"summary_large_image\" name=\"twitter:card\"/>,\n",
       " <meta content=\"@nplusodin\" name=\"twitter:site\"/>,\n",
       " <meta content=\"Мы ищем редакторов: физиков, археологов, медиков\" name=\"twitter:title\"/>,\n",
       " <meta content=\"Мы ищем редакторов: физиков, археологов, медиков\" name=\"twitter:description\"/>,\n",
       " <meta content=\"https://nplus1.ru/images-new/share_snippet.png\" name=\"twitter:image\"/>]"
      ]
     },
     "execution_count": 30,
     "metadata": {},
     "output_type": "execute_result"
    }
   ],
   "source": [
    "soup0.find_all('meta')"
   ]
  },
  {
   "cell_type": "code",
   "execution_count": null,
   "metadata": {},
   "outputs": [],
   "source": []
  },
  {
   "cell_type": "markdown",
   "metadata": {},
   "source": [
    "Из этого списка нам нужны части с именем автора, датой, заголовком и кратким описанием. Воспользуемся поиском по атрибуту `name`. Передадим функции `find_all()` в качестве аргумента словарь с названием и значением атрибута: "
   ]
  },
  {
   "cell_type": "code",
   "execution_count": 31,
   "metadata": {},
   "outputs": [
    {
     "data": {
      "text/plain": [
       "[<meta content=\"Андрей Коняев\" name=\"author\"/>]"
      ]
     },
     "execution_count": 31,
     "metadata": {},
     "output_type": "execute_result"
    }
   ],
   "source": [
    "soup0.find_all('meta', {'name' : 'author'}) # например, автор"
   ]
  },
  {
   "cell_type": "markdown",
   "metadata": {},
   "source": [
    "Теперь выберем единственный элемент полученного списка (с индексом 0):"
   ]
  },
  {
   "cell_type": "code",
   "execution_count": 32,
   "metadata": {},
   "outputs": [
    {
     "data": {
      "text/plain": [
       "<meta content=\"Андрей Коняев\" name=\"author\"/>"
      ]
     },
     "execution_count": 32,
     "metadata": {},
     "output_type": "execute_result"
    }
   ],
   "source": [
    "soup0.find_all('meta', {'name' : 'author'})[0]"
   ]
  },
  {
   "cell_type": "markdown",
   "metadata": {},
   "source": [
    "Нам нужно вытащить из этого объекта `content` – имя автора. Посмотрим на атрибуты:"
   ]
  },
  {
   "cell_type": "code",
   "execution_count": 33,
   "metadata": {},
   "outputs": [
    {
     "data": {
      "text/plain": [
       "'Андрей Коняев'"
      ]
     },
     "execution_count": 33,
     "metadata": {},
     "output_type": "execute_result"
    }
   ],
   "source": [
    "soup0.find_all('meta', {'name' : 'author'})[0].get('content')"
   ]
  },
  {
   "cell_type": "markdown",
   "metadata": {},
   "source": [
    "Как получить отсюда `content`? Очень просто, ведь это словарь! А доставать из словаря значение по ключу мы умеем."
   ]
  },
  {
   "cell_type": "code",
   "execution_count": 34,
   "metadata": {},
   "outputs": [
    {
     "data": {
      "text/plain": [
       "'Андрей Коняев'"
      ]
     },
     "execution_count": 34,
     "metadata": {},
     "output_type": "execute_result"
    }
   ],
   "source": [
    "author = soup0.find_all('meta', {'name' : 'author'})[0].attrs['content']\n",
    "author"
   ]
  },
  {
   "cell_type": "markdown",
   "metadata": {},
   "source": [
    "Аналогичным образом извлечем дату, заголовок и описание."
   ]
  },
  {
   "cell_type": "code",
   "execution_count": 35,
   "metadata": {},
   "outputs": [],
   "source": [
    "date = soup0.find_all('meta', {'itemprop' : 'datePublished'})[0].get('content')\n",
    "title = soup0.find_all('meta', {'property' : 'og:title'})[0].get('content')\n",
    "description = soup0.find_all('meta', {'name' : 'description'})[0].get('content')"
   ]
  },
  {
   "cell_type": "markdown",
   "metadata": {},
   "source": [
    "Осталось вытащить рубрики и сложность текста. Если мы посмотрим на исходный код страницы, мы увидим, что нужная нам информация находится в тэгах `<p></p>`:"
   ]
  },
  {
   "cell_type": "code",
   "execution_count": 36,
   "metadata": {},
   "outputs": [],
   "source": [
    "# soup0.find_all('p')"
   ]
  },
  {
   "cell_type": "markdown",
   "metadata": {},
   "source": [
    "Выберем из полученного списка первый элемент и найдем в нем все тэги `<a>`:"
   ]
  },
  {
   "cell_type": "code",
   "execution_count": 37,
   "metadata": {},
   "outputs": [
    {
     "data": {
      "text/plain": [
       "[]"
      ]
     },
     "execution_count": 37,
     "metadata": {},
     "output_type": "execute_result"
    }
   ],
   "source": [
    "soup0.find_all('p')[0].find_all('a')"
   ]
  },
  {
   "cell_type": "markdown",
   "metadata": {},
   "source": [
    "Получился список из одного элемента. Применим списковые включения – вытащим из каждого элемента (их могло бы быть больше) текст и поместим его в новый список `rubrics`."
   ]
  },
  {
   "cell_type": "code",
   "execution_count": 41,
   "metadata": {},
   "outputs": [
    {
     "data": {
      "text/plain": [
       "[]"
      ]
     },
     "execution_count": 41,
     "metadata": {},
     "output_type": "execute_result"
    }
   ],
   "source": [
    "rubrics = [r.get_text() for r in soup0.find_all('p')[0].find_all('a')]\n",
    "rubrics"
   ]
  },
  {
   "cell_type": "markdown",
   "metadata": {},
   "source": [
    "Осталась только сложность. Возьмем соответствующий кусок кода:"
   ]
  },
  {
   "cell_type": "code",
   "execution_count": 42,
   "metadata": {},
   "outputs": [
    {
     "data": {
      "text/plain": [
       "[]"
      ]
     },
     "execution_count": 42,
     "metadata": {},
     "output_type": "execute_result"
    }
   ],
   "source": [
    "soup0.find_all('span', {'class' : 'difficult-value'})"
   ]
  },
  {
   "cell_type": "markdown",
   "metadata": {},
   "source": [
    "И выберем оттуда текст."
   ]
  },
  {
   "cell_type": "code",
   "execution_count": 43,
   "metadata": {},
   "outputs": [
    {
     "ename": "IndexError",
     "evalue": "list index out of range",
     "output_type": "error",
     "traceback": [
      "\u001b[0;31m---------------------------------------------------------------------------\u001b[0m",
      "\u001b[0;31mIndexError\u001b[0m                                Traceback (most recent call last)",
      "\u001b[0;32m<ipython-input-43-4ebcde4b90b4>\u001b[0m in \u001b[0;36m<module>\u001b[0;34m\u001b[0m\n\u001b[0;32m----> 1\u001b[0;31m \u001b[0mdiff\u001b[0m \u001b[0;34m=\u001b[0m \u001b[0msoup0\u001b[0m\u001b[0;34m.\u001b[0m\u001b[0mfind_all\u001b[0m\u001b[0;34m(\u001b[0m\u001b[0;34m'span'\u001b[0m\u001b[0;34m,\u001b[0m \u001b[0;34m{\u001b[0m\u001b[0;34m'class'\u001b[0m \u001b[0;34m:\u001b[0m \u001b[0;34m'difficult-value'\u001b[0m\u001b[0;34m}\u001b[0m\u001b[0;34m)\u001b[0m\u001b[0;34m[\u001b[0m\u001b[0;36m0\u001b[0m\u001b[0;34m]\u001b[0m\u001b[0;34m.\u001b[0m\u001b[0mtext\u001b[0m\u001b[0;34m\u001b[0m\u001b[0;34m\u001b[0m\u001b[0m\n\u001b[0m\u001b[1;32m      2\u001b[0m \u001b[0mfloat\u001b[0m\u001b[0;34m(\u001b[0m\u001b[0mdiff\u001b[0m\u001b[0;34m)\u001b[0m\u001b[0;34m\u001b[0m\u001b[0;34m\u001b[0m\u001b[0m\n",
      "\u001b[0;31mIndexError\u001b[0m: list index out of range"
     ]
    }
   ],
   "source": [
    "diff = soup0.find_all('span', {'class' : 'difficult-value'})[0].text\n",
    "float(diff)"
   ]
  },
  {
   "cell_type": "markdown",
   "metadata": {},
   "source": [
    "Теперь перейдем к тексту самой новости. Как можно заметить, текст сохранен в абзацах `<p></p>`, причем безо всяких атрибутов. Сообщим Python, что нас интересуют куски с пустым атрибутом `class`:"
   ]
  },
  {
   "cell_type": "code",
   "execution_count": 44,
   "metadata": {},
   "outputs": [],
   "source": [
    "text_list = soup0.find_all('p', {'class' : None})"
   ]
  },
  {
   "cell_type": "code",
   "execution_count": 45,
   "metadata": {},
   "outputs": [
    {
     "data": {
      "text/plain": [
       "[<p>Использование всех текстовых материалов без изменений в некоммерческих целях разрешается со ссылкой на N + 1.</p>,\n",
       " <p>Все аудиовизуальные произведения являются собственностью своих авторов и правообладателей и используются только в образовательных и информационных целях.</p>,\n",
       " <p>Если вы являетесь собственником того или иного произведения и не согласны с его размещением на нашем сайте, пожалуйста, напишите на <a href=\"mailto:kirill@nplus1.ru\">kirill@nplus1.ru</a></p>,\n",
       " <p>Связь с редакцией: <a href=\"mailto:info@nplus1.ru\">info@nplus1.ru</a></p>]"
      ]
     },
     "execution_count": 45,
     "metadata": {},
     "output_type": "execute_result"
    }
   ],
   "source": [
    "text_list"
   ]
  },
  {
   "cell_type": "markdown",
   "metadata": {},
   "source": [
    "«Выцепим» все тексты (без тэгов) из полученного списка:"
   ]
  },
  {
   "cell_type": "code",
   "execution_count": 46,
   "metadata": {},
   "outputs": [],
   "source": [
    "text = [t.text for t in text_list]"
   ]
  },
  {
   "cell_type": "markdown",
   "metadata": {},
   "source": [
    "Склеим все элементы списка `text` через пробел:"
   ]
  },
  {
   "cell_type": "code",
   "execution_count": 47,
   "metadata": {},
   "outputs": [
    {
     "data": {
      "text/plain": [
       "'Использование всех текстовых материалов без изменений в некоммерческих целях разрешается со ссылкой на N\\xa0+\\xa01. Все аудиовизуальные произведения являются собственностью своих авторов и\\xa0правообладателей и\\xa0используются только в\\xa0образовательных и\\xa0информационных целях. Если вы\\xa0являетесь собственником того или иного произведения и\\xa0не\\xa0согласны с\\xa0его размещением на\\xa0нашем сайте, пожалуйста, напишите на\\xa0kirill@nplus1.ru Связь с редакцией: info@nplus1.ru'"
      ]
     },
     "execution_count": 47,
     "metadata": {},
     "output_type": "execute_result"
    }
   ],
   "source": [
    "final_text = ' '.join(text)\n",
    "final_text"
   ]
  },
  {
   "cell_type": "markdown",
   "metadata": {},
   "source": [
    "Все здорово, только мешают отступы-переходы на новую строку `\\n`. Заменим их на пробелы с помощью метода `.replace`:"
   ]
  },
  {
   "cell_type": "code",
   "execution_count": 48,
   "metadata": {},
   "outputs": [],
   "source": [
    "final_text = final_text.replace('\\n', ' ')"
   ]
  },
  {
   "cell_type": "code",
   "execution_count": 49,
   "metadata": {},
   "outputs": [],
   "source": [
    "final_text = final_text.replace('\\xa0', ' ')"
   ]
  },
  {
   "cell_type": "code",
   "execution_count": 50,
   "metadata": {},
   "outputs": [
    {
     "data": {
      "text/plain": [
       "'Использование всех текстовых материалов без изменений в некоммерческих целях разрешается со ссылкой на N + 1. Все аудиовизуальные произведения являются собственностью своих авторов и правообладателей и используются только в образовательных и информационных целях. Если вы являетесь собственником того или иного произведения и не согласны с его размещением на нашем сайте, пожалуйста, напишите на kirill@nplus1.ru Связь с редакцией: info@nplus1.ru'"
      ]
     },
     "execution_count": 50,
     "metadata": {},
     "output_type": "execute_result"
    }
   ],
   "source": [
    "final_text"
   ]
  },
  {
   "cell_type": "markdown",
   "metadata": {},
   "source": [
    "Не прошло и двух пар, как мы разобрались со всем :) Теперь осталось совсем чуть-чуть. Написать готовую функцию для всех проделанных нами действий и применить ее в цикле для всех ссылок в списке `full_urls`. Напишем! Аргументом функции будет ссылка на новость, а возвращать она будет текст новости и всю необходимую информацию (дата, автор, сложность и проч.). Скопируем все строки кода выше."
   ]
  },
  {
   "cell_type": "code",
   "execution_count": 2,
   "metadata": {},
   "outputs": [],
   "source": [
    "def GetNews(url0):\n",
    "    \"\"\"\n",
    "    Returns a tuple with url0, date, author, description, title, final_text, rubrics, diff.\n",
    "    Parameters:\n",
    "    \n",
    "    url0 is a link to the news (string)\n",
    "    \"\"\"\n",
    "    page0 = requests.get(url0)\n",
    "    soup0 = BeautifulSoup(page0.text, 'lxml')\n",
    "    \n",
    "    author = soup0.find_all('meta', {'name' : 'author'})[0].get('content')\n",
    "    date = soup0.find_all('meta', {'itemprop' : 'datePublished'})[0].get('content')\n",
    "    title = soup0.find_all('meta', {'property' : 'og:title'})[0].get('content')\n",
    "    description = soup0.find_all('meta', {'name' : 'description'})[0].get('content')\n",
    "    \n",
    "    rubrics = [r.text for r in soup0.find_all('p')[0].find_all('a')]\n",
    "    \n",
    "    diff = float(soup0.find_all('span', {'class' : 'difficult-value'})[0].text)\n",
    "    text_list = soup0.find_all('p', {'class' : None})\n",
    "    text = [t.text for t in text_list]\n",
    "    final_text = ' '.join(text)\n",
    "    final_text = final_text.replace('\\n', ' ')\n",
    "    final_text = final_text.replace('\\xa0', ' ')\n",
    "    \n",
    "    return url0, date, author, description, title, final_text, rubrics, diff"
   ]
  },
  {
   "cell_type": "markdown",
   "metadata": {},
   "source": [
    "Уфф. Осталось применить ее в цикле. Но давайте не будем спешить: импортируем функцию `sleep` для задержки, чтобы на каждой итерации цикла, прежде чем перейти к следующей новости, Python ждал несколько секунд. Во-первых, это нужно, чтобы сайт «не понял», чтобы мы его грабим, да еще автоматически. Во-вторых, с небольшой задержкой всегда есть гарантия, что страница прогрузится (сейчас это пока не очень важно, но особенно актуально будет, когда будем обсуждать встраивание в браузер с Selenium). Приступим."
   ]
  },
  {
   "cell_type": "code",
   "execution_count": 65,
   "metadata": {},
   "outputs": [
    {
     "data": {
      "text/plain": [
       "('https://nplus1.ru/news/2022/10/04/cows',\n",
       " '2022-10-04',\n",
       " 'Сергей Коленов',\n",
       " 'Фермер позволит детенышу остаться с приемными родственниками',\n",
       " 'Немецкие коровы усыновили кабанчика',\n",
       " 'Стадо немецких коров усыновило поросенка дикого кабана, который отбился от сородичей. Детеныш, получивший прозвище Фрида, хорошо интегрировался в стадо, поэтому владелец животных позволил ему остаться. Как сообщает Der Spiegel, зиму кабанчик проведет в теплом коровнике вместе с телятами. Животные порой принимают в свои семьи представителей чужих видов. Например, три года назад орнитологи обнаружили на одном из американских озер пару черноклювых гагар (Gavia immer), усыновивших утенка кряквы (Anas platyrhynchos). А около десяти лет назад исследователи встретили у берегов Азорских островов группу кашалотов (Physeter macrocephalus), которая объединилась с афалиной (Tursiops truncatus) с деформированным хвостом. Похожий случай произошел этой осенью в немецкой земле Нижняя Саксония, неподалеку от города Хольцминден. В начале сентября местный фермер Фридрих Штапель (Friedrich Stapel) заметил, что к его вольно пасущемуся коровьему стаду присоединился маленький поросенок дикого кабана (Sus scrofa). Вероятно, кабанчик отбился от сородичей, когда те переходили реку, после чего потерявшегося детеныша приняли к себе коровы.  Кабанчик, который получил прозвище Фрида, хорошо интегрировался в коровье стадо. Одна из коров даже стала проявлять особенную заботу о нем. Штапель решил не разлучать поросенка с приемной семьей и позволил ему остаться. Кроме того, он предупредил местного охотника, чтобы тот не убивал детеныша, который успел стать местной достопримечательностью. Сейчас Фрида вместе со стадом держится на лугу у берегов реки Везер, а с приходом зимы фермер планирует поселить ее в теплом коровнике вместе с телятами. Интересно, что это не первый случай, когда немецкие коровы усыновляют диких свиней. В 2015 году к еще одному коровьему стаду присоединился молодой кабан, который, вероятно, был отвергнут родной семьей. Ранее мы рассказывали, как коровы укрепляют связи между членами стада, вылизывая друг друга. Чаще всего вылизывают друг друга ровесники, а особи постарше вылизывают максимальное количество разных индивидов. Кроме того, каждая корова чаще лижет тех, кто уже лизал ее, как бы оказывая услугу за услугу. Все это свидетельствует о том, что между коровами в стаде существуют сложные взаимоотношения, зная которые, можно повысить качество жизни зверей. Сергей Коленов Нашли опечатку? Выделите фрагмент и нажмите Ctrl+Enter. Коэффициент сложности Коэффициент сложности Коэффициент сложности Коэффициент сложности Коэффициент сложности Коэффициент сложности Коэффициент сложности Коэффициент сложности Коэффициент сложности Коэффициент сложности © 2022 N + 1 Интернет-издание   Свидетельство о регистрации СМИ Эл № ФС77-67614 Использование всех текстовых материалов без изменений в некоммерческих целях разрешается со ссылкой на N + 1.                          Все аудиовизуальные произведения являются собственностью своих авторов и правообладателей и используются                          только в образовательных и информационных целях. Если вы являетесь собственником того или иного произведения                          и не согласны с его размещением на нашем сайте, пожалуйста, напишите на kirill@nplus1.ru Материалы, опубликованные в разделе «Блоги», отражают позиции их авторов, которые могут не совпадать с мнением редакции. Сайт может содержать контент, не предназначенный для лиц младше 18 лет. Связь с редакцией: info@nplus1.ru  Политика обработки персональных данных пользователей сайта     ',\n",
       " ['Зоология', 'Мезонин'],\n",
       " 1.1)"
      ]
     },
     "execution_count": 65,
     "metadata": {},
     "output_type": "execute_result"
    }
   ],
   "source": [
    "GetNews(url0)"
   ]
  },
  {
   "cell_type": "code",
   "execution_count": 70,
   "metadata": {},
   "outputs": [],
   "source": [
    "from time import sleep\n",
    "from tqdm import tqdm"
   ]
  },
  {
   "cell_type": "code",
   "execution_count": 78,
   "metadata": {},
   "outputs": [],
   "source": [
    "import random"
   ]
  },
  {
   "cell_type": "code",
   "execution_count": 82,
   "metadata": {},
   "outputs": [
    {
     "data": {
      "text/plain": [
       "0.3588651032126935"
      ]
     },
     "execution_count": 82,
     "metadata": {},
     "output_type": "execute_result"
    }
   ],
   "source": []
  },
  {
   "cell_type": "code",
   "execution_count": 83,
   "metadata": {},
   "outputs": [
    {
     "name": "stderr",
     "output_type": "stream",
     "text": [
      "100%|██████████| 26/26 [00:34<00:00,  1.31s/it]\n"
     ]
    }
   ],
   "source": [
    "news = [] # это будет список из кортежей, в которых будут храниться данные по каждой новости\n",
    "\n",
    "for link in tqdm(urls):\n",
    "    res = GetNews(link)\n",
    "    news.append(random.random()*2)\n",
    "    sleep(1) # задержка в 3 секунды"
   ]
  },
  {
   "cell_type": "markdown",
   "metadata": {},
   "source": [
    "Так теперь выглядит первый элемент списка:"
   ]
  },
  {
   "cell_type": "code",
   "execution_count": 72,
   "metadata": {},
   "outputs": [
    {
     "data": {
      "text/plain": [
       "('https://nplus1.ru/news/2022/10/08/rugby-risk-of-dementia',\n",
       " '2022-10-08',\n",
       " 'Надежда Чекасина',\n",
       " 'У них в три раза выше оказался риск болезни Паркинсона ',\n",
       " 'Бывшие игроки в регби столкнулись с высоким риском болезни двигательного нейрона и деменции',\n",
       " 'Британские ученые проанализировали медицинские данные бывших шотландских игроков в регби и выяснили, что у них в 2,5 раза повышен риск нейродегенерации. По сравнению с не спортсменами у бывших регбистов в 15 раз выше риск болезни двигательного нейрона и в два раза — деменции. Исследование опубликовано в Journal of Neurology, Neurosurgery & Psychiatry. Черепно-мозговая травма (ЧМТ) — основной фактор риска развития нейродегенеративных заболеваний, три процента случаев деменции обусловлены именно ЧМТ. В спорте, особенно в таких видах, как американский футбол, футбол или бокс, высок риск травм черепа. В последние годы появляется все больше исследований и доказательств того, что бывшие спортсмены, у которых были травмы головы, страдали от хронической травматической энцефалопатии (ХТЭ). N + 1 рассказывал об этом заболевании, распространенном среди боксеров и игроков в американский футбол. Проблема в том, что большинство случаев ХТЭ среди спортсменов было обнаружено уже посмертно. Бывшие игроки в американский футбол имеют в 3,5 раза больший риск смерти от нейродегенеративных заболеваний, чем обычные люди схожего возраста и социально-экономической группы. Также ХТЭ отмечается и среди футболистов и игроков в регби.  Регби имеет около 10 миллионов активных участников по всему миру. Его признали видом спорта с высоким риском сотрясения мозга: британские профессиональные игроки получают до 19,8 сотрясения на 1000 игровых часов во время матчей. Несмотря на распространенность, до 1995 года регби оставалось любительским видом спорта. При этом у бывших непрофессиональных игроков также были зарегистрированы случаи ХТЭ. Но до сих пор риск нейродегенеративных заболеваний среди бывших спортсменов оставался неясен.  Уильям Стюарт (William Stewart) из Университета Глазго совместно с коллегами провел ретроспективное когортное исследование и изучил медицинские данные 412 бывших шотландских регбистов и 1236 мужчин, которые были подобраны игрокам по возрасту, полу и социально-экономическому статусу в качестве контроля. За медианные 32 года наблюдения умерли 121 (29 процентов) из бывших игроков в регби и 381 (31 процент) человек из контрольной группы, при этом средний возраст среди спортсменов на момент смерти был выше (78,9 лет против 76,4 лет; р=0,03). До 70 лет смертность среди регбистов была ниже, чем в контрольной группе, но после достижения этого возраста она уже ничем не отличалась от группы не игроков.   У 11,4 процента бывших игроков в регби были диагностированы случаи нейродегенеративных заболеваний по сравнению с 5,4 процента в контрольной группе (отношение рисков (HR) = 2,67, 95-процентный\\u2009ДИ 1,67 — 4,27; p<0,001). Среди них отмечались более высокий уровень смертности, госпитализаций и медикаментозного лечения, связанных с нейродегенеративными болезнями. Также Стюарт с коллегами изучил риск конкретных заболеваний среди бывших спортсменов. Оказалось, что у регбистов риск получить болезнь двигательного нейрона (группа заболеваний, куда входит БАС) был выше в 15 раз. Также они имели двойной риск деменции и тройной риск болезни Паркинсона. При этом не было обнаружено разницы между тем, на какой позиции играли спортсмены — в качестве нападающего или защитника.  Результаты этого исследования согласуются с предыдущим изучением влияния травм головы на игроков в американский футбол. Поскольку когорта исследования состояла в основном из спортсменов-любителей, хоть они и играли на высоком международном уровне, результаты показывают, что риск нейродегенеративных заболеваний остается проблемой не только профессиональных спортсменов. Риск сотрясения мозга в регби один из самых высоких среди контактных видов спорта, при этом с годами число случаев на профессиональных матчах возросло. Ученые призывают обратить внимание на снижение рисков травм на тренировках и соревнованиях. Также они отмечают важность профилактических мер среди бывших регбистов, которые уже имеют накопленное воздействие от ударов головой.  Ранее шведские медики обнаружили, что черепно-мозговые травмы повышают риск возникновения деменции даже через 30 лет после их получения. А британские и американские ученые выяснили, что структурно ХТЭ отличается от болезни Альцгеймера, хотя оба заболевания вызваны тау-белком в мозге.  Надежда Чекасина Нашли опечатку? Выделите фрагмент и нажмите Ctrl+Enter. Коэффициент сложности Коэффициент сложности Коэффициент сложности Коэффициент сложности Коэффициент сложности Коэффициент сложности Коэффициент сложности Коэффициент сложности Коэффициент сложности Коэффициент сложности © 2022 N + 1 Интернет-издание   Свидетельство о регистрации СМИ Эл № ФС77-67614 Использование всех текстовых материалов без изменений в некоммерческих целях разрешается со ссылкой на N + 1.                          Все аудиовизуальные произведения являются собственностью своих авторов и правообладателей и используются                          только в образовательных и информационных целях. Если вы являетесь собственником того или иного произведения                          и не согласны с его размещением на нашем сайте, пожалуйста, напишите на kirill@nplus1.ru Материалы, опубликованные в разделе «Блоги», отражают позиции их авторов, которые могут не совпадать с мнением редакции. Сайт может содержать контент, не предназначенный для лиц младше 18 лет. Связь с редакцией: info@nplus1.ru  Политика обработки персональных данных пользователей сайта     ',\n",
       " ['Медицина', 'Спортивная наука'],\n",
       " 2.8)"
      ]
     },
     "execution_count": 72,
     "metadata": {},
     "output_type": "execute_result"
    }
   ],
   "source": [
    "news[0]"
   ]
  },
  {
   "cell_type": "markdown",
   "metadata": {},
   "source": [
    "Импортируем `pandas` и создадим датафрейм из списка кортежей: "
   ]
  },
  {
   "cell_type": "code",
   "execution_count": 73,
   "metadata": {},
   "outputs": [],
   "source": [
    "import pandas as pd"
   ]
  },
  {
   "cell_type": "code",
   "execution_count": 74,
   "metadata": {},
   "outputs": [],
   "source": [
    "df = pd.DataFrame(news)"
   ]
  },
  {
   "cell_type": "code",
   "execution_count": 75,
   "metadata": {},
   "outputs": [
    {
     "data": {
      "text/html": [
       "<div>\n",
       "<style scoped>\n",
       "    .dataframe tbody tr th:only-of-type {\n",
       "        vertical-align: middle;\n",
       "    }\n",
       "\n",
       "    .dataframe tbody tr th {\n",
       "        vertical-align: top;\n",
       "    }\n",
       "\n",
       "    .dataframe thead th {\n",
       "        text-align: right;\n",
       "    }\n",
       "</style>\n",
       "<table border=\"1\" class=\"dataframe\">\n",
       "  <thead>\n",
       "    <tr style=\"text-align: right;\">\n",
       "      <th></th>\n",
       "      <th>0</th>\n",
       "      <th>1</th>\n",
       "      <th>2</th>\n",
       "      <th>3</th>\n",
       "      <th>4</th>\n",
       "      <th>5</th>\n",
       "      <th>6</th>\n",
       "      <th>7</th>\n",
       "    </tr>\n",
       "  </thead>\n",
       "  <tbody>\n",
       "    <tr>\n",
       "      <th>0</th>\n",
       "      <td>https://nplus1.ru/news/2022/10/08/rugby-risk-o...</td>\n",
       "      <td>2022-10-08</td>\n",
       "      <td>Надежда Чекасина</td>\n",
       "      <td>У них в три раза выше оказался риск болезни Па...</td>\n",
       "      <td>Бывшие игроки в регби столкнулись с высоким ри...</td>\n",
       "      <td>Британские ученые проанализировали медицинские...</td>\n",
       "      <td>[Медицина, Спортивная наука]</td>\n",
       "      <td>2.8</td>\n",
       "    </tr>\n",
       "    <tr>\n",
       "      <th>1</th>\n",
       "      <td>https://nplus1.ru/news/2022/10/08/imagen-video</td>\n",
       "      <td>2022-10-08</td>\n",
       "      <td>Григорий Копиев</td>\n",
       "      <td>За несколько дней до этого аналогичный алгорит...</td>\n",
       "      <td>Google научил нейросети генерировать видео по ...</td>\n",
       "      <td>Исследователи из Google представили две модели...</td>\n",
       "      <td>[IT]</td>\n",
       "      <td>4.5</td>\n",
       "    </tr>\n",
       "  </tbody>\n",
       "</table>\n",
       "</div>"
      ],
      "text/plain": [
       "                                                   0           1  \\\n",
       "0  https://nplus1.ru/news/2022/10/08/rugby-risk-o...  2022-10-08   \n",
       "1     https://nplus1.ru/news/2022/10/08/imagen-video  2022-10-08   \n",
       "\n",
       "                  2                                                  3  \\\n",
       "0  Надежда Чекасина  У них в три раза выше оказался риск болезни Па...   \n",
       "1   Григорий Копиев  За несколько дней до этого аналогичный алгорит...   \n",
       "\n",
       "                                                   4  \\\n",
       "0  Бывшие игроки в регби столкнулись с высоким ри...   \n",
       "1  Google научил нейросети генерировать видео по ...   \n",
       "\n",
       "                                                   5  \\\n",
       "0  Британские ученые проанализировали медицинские...   \n",
       "1  Исследователи из Google представили две модели...   \n",
       "\n",
       "                              6    7  \n",
       "0  [Медицина, Спортивная наука]  2.8  \n",
       "1                          [IT]  4.5  "
      ]
     },
     "execution_count": 75,
     "metadata": {},
     "output_type": "execute_result"
    }
   ],
   "source": [
    "df.head(2)"
   ]
  },
  {
   "cell_type": "markdown",
   "metadata": {},
   "source": [
    "Переименуем столбцы в базе."
   ]
  },
  {
   "cell_type": "code",
   "execution_count": 76,
   "metadata": {},
   "outputs": [],
   "source": [
    "df.columns = ['link', 'date', 'author', 'desc', 'title', 'text', 'rubric', 'diffc']"
   ]
  },
  {
   "cell_type": "code",
   "execution_count": 77,
   "metadata": {},
   "outputs": [
    {
     "data": {
      "text/html": [
       "<div>\n",
       "<style scoped>\n",
       "    .dataframe tbody tr th:only-of-type {\n",
       "        vertical-align: middle;\n",
       "    }\n",
       "\n",
       "    .dataframe tbody tr th {\n",
       "        vertical-align: top;\n",
       "    }\n",
       "\n",
       "    .dataframe thead th {\n",
       "        text-align: right;\n",
       "    }\n",
       "</style>\n",
       "<table border=\"1\" class=\"dataframe\">\n",
       "  <thead>\n",
       "    <tr style=\"text-align: right;\">\n",
       "      <th></th>\n",
       "      <th>link</th>\n",
       "      <th>date</th>\n",
       "      <th>author</th>\n",
       "      <th>desc</th>\n",
       "      <th>title</th>\n",
       "      <th>text</th>\n",
       "      <th>rubric</th>\n",
       "      <th>diffc</th>\n",
       "    </tr>\n",
       "  </thead>\n",
       "  <tbody>\n",
       "    <tr>\n",
       "      <th>0</th>\n",
       "      <td>https://nplus1.ru/news/2022/10/08/rugby-risk-o...</td>\n",
       "      <td>2022-10-08</td>\n",
       "      <td>Надежда Чекасина</td>\n",
       "      <td>У них в три раза выше оказался риск болезни Па...</td>\n",
       "      <td>Бывшие игроки в регби столкнулись с высоким ри...</td>\n",
       "      <td>Британские ученые проанализировали медицинские...</td>\n",
       "      <td>[Медицина, Спортивная наука]</td>\n",
       "      <td>2.8</td>\n",
       "    </tr>\n",
       "    <tr>\n",
       "      <th>1</th>\n",
       "      <td>https://nplus1.ru/news/2022/10/08/imagen-video</td>\n",
       "      <td>2022-10-08</td>\n",
       "      <td>Григорий Копиев</td>\n",
       "      <td>За несколько дней до этого аналогичный алгорит...</td>\n",
       "      <td>Google научил нейросети генерировать видео по ...</td>\n",
       "      <td>Исследователи из Google представили две модели...</td>\n",
       "      <td>[IT]</td>\n",
       "      <td>4.5</td>\n",
       "    </tr>\n",
       "  </tbody>\n",
       "</table>\n",
       "</div>"
      ],
      "text/plain": [
       "                                                link        date  \\\n",
       "0  https://nplus1.ru/news/2022/10/08/rugby-risk-o...  2022-10-08   \n",
       "1     https://nplus1.ru/news/2022/10/08/imagen-video  2022-10-08   \n",
       "\n",
       "             author                                               desc  \\\n",
       "0  Надежда Чекасина  У них в три раза выше оказался риск болезни Па...   \n",
       "1   Григорий Копиев  За несколько дней до этого аналогичный алгорит...   \n",
       "\n",
       "                                               title  \\\n",
       "0  Бывшие игроки в регби столкнулись с высоким ри...   \n",
       "1  Google научил нейросети генерировать видео по ...   \n",
       "\n",
       "                                                text  \\\n",
       "0  Британские ученые проанализировали медицинские...   \n",
       "1  Исследователи из Google представили две модели...   \n",
       "\n",
       "                         rubric  diffc  \n",
       "0  [Медицина, Спортивная наука]    2.8  \n",
       "1                          [IT]    4.5  "
      ]
     },
     "execution_count": 77,
     "metadata": {},
     "output_type": "execute_result"
    }
   ],
   "source": [
    "df.head(2)"
   ]
  },
  {
   "cell_type": "markdown",
   "metadata": {},
   "source": [
    "Теперь внесем изменения: сделаем столбец `diffc` числовым – типа *float*."
   ]
  },
  {
   "cell_type": "code",
   "execution_count": 34,
   "metadata": {},
   "outputs": [],
   "source": [
    "df['diffc'] = [float(i) for i in df.diffc]"
   ]
  },
  {
   "cell_type": "markdown",
   "metadata": {},
   "source": [
    "Теперь сложность представлена в базе как количественный показатель, и описывать ее можно соответствующим образом:"
   ]
  },
  {
   "cell_type": "code",
   "execution_count": 35,
   "metadata": {},
   "outputs": [
    {
     "data": {
      "text/plain": [
       "count    30.000000\n",
       "mean      4.416667\n",
       "std       2.370521\n",
       "min       1.100000\n",
       "25%       2.125000\n",
       "50%       4.900000\n",
       "75%       6.750000\n",
       "max       8.200000\n",
       "Name: diffc, dtype: float64"
      ]
     },
     "execution_count": 35,
     "metadata": {},
     "output_type": "execute_result"
    }
   ],
   "source": [
    "df.diffc.describe()"
   ]
  },
  {
   "cell_type": "markdown",
   "metadata": {},
   "source": [
    "Теперь столбец со сложностью точно числовой. Можем даже построить для него гистограмму."
   ]
  },
  {
   "cell_type": "code",
   "execution_count": 36,
   "metadata": {},
   "outputs": [
    {
     "data": {
      "text/plain": [
       "<matplotlib.axes._subplots.AxesSubplot at 0x1174ce198>"
      ]
     },
     "execution_count": 36,
     "metadata": {},
     "output_type": "execute_result"
    },
    {
     "data": {
      "image/png": "[encoded data removed]",
      "text/plain": [
       "<Figure size 432x288 with 1 Axes>"
      ]
     },
     "metadata": {},
     "output_type": "display_data"
    }
   ],
   "source": [
    "%matplotlib inline\n",
    "df.diffc.plot.hist()"
   ]
  },
  {
   "cell_type": "markdown",
   "metadata": {},
   "source": [
    "Объединим рубрики в *text* в одну строку через запятую:"
   ]
  },
  {
   "cell_type": "code",
   "execution_count": 37,
   "metadata": {},
   "outputs": [],
   "source": [
    "df['rubric'] = [','.join(r) for r in df.rubric]"
   ]
  },
  {
   "cell_type": "markdown",
   "metadata": {},
   "source": [
    "Давайте почистим текст новостей – уберем оттуда текст, не относящийся к новостям. Найдем лишнее:"
   ]
  },
  {
   "cell_type": "code",
   "execution_count": null,
   "metadata": {},
   "outputs": [],
   "source": [
    "df.text[0]"
   ]
  },
  {
   "cell_type": "markdown",
   "metadata": {},
   "source": [
    "Лишний текст находится после фразы 'Нашли опечатку?'. Так давайте будем разбивать строки по этой фразе с помощью метода `.split()` и брать все, что до нее (элемент с индексом 0)."
   ]
  },
  {
   "cell_type": "code",
   "execution_count": 38,
   "metadata": {},
   "outputs": [],
   "source": [
    "df['clean_text'] = [t.split('Нашли опечатку?')[0] for t in df.text]"
   ]
  },
  {
   "cell_type": "markdown",
   "metadata": {},
   "source": [
    "Осталось только заменить непонятные символы `\\xa0` на пробелы:"
   ]
  },
  {
   "cell_type": "code",
   "execution_count": 39,
   "metadata": {},
   "outputs": [],
   "source": [
    "df['clean_text'] = [t.replace(\"\\xa0\", \" \") for t in df.clean_text]"
   ]
  },
  {
   "cell_type": "code",
   "execution_count": 40,
   "metadata": {},
   "outputs": [
    {
     "data": {
      "text/plain": [
       "'Российский военно-транспортный самолет Ил-112В совершил первый полет, сообщает Авиационный комплекс имени Ильюшина. Испытания прошли на аэродроме воронежского авиазавода ПАО «ВАСО», командиром экипажа был шеф-пилот ПАО «Ил» Герой России Николай Куимов. Первый полет стал завершением цикла аэродромной отработки, в ходе которой были проведены испытания всех систем, в том числе пробежки по аэродрому. Полет прошел в штатном режиме. В воздухе Ил-112В сопровождал самолет-лаборатория Ил-114ЛЛ. Ил-112В в перспективе должен заменить легкий транспортник Ан-26. Он будет использоваться для перевозки и десантирования легкой техники, грузов и бойцов, его грузоподъемность — около пяти тонн. Самолет сможет развивать скорость до 550 километров в час и совершать полеты на расстояние до 3,4 тысячи километров, а при взлете с грунтовых аэродромов и максимальной загрузкой — до 1,2 тысячи километров. Транспортник сможет взлетать с взлетно-посадочных полос длиной не более 900 метров. Пробег Ил-112В при посадке составит около 600 метров. Ранее Министерство обороны России объявляло о намерении приобрести 62 самолета этого типа до 2020 года, однако в августе 2018 года появилась информация о планах заказать не менее 100 машин. Сергей Кузнецов '"
      ]
     },
     "execution_count": 40,
     "metadata": {},
     "output_type": "execute_result"
    }
   ],
   "source": [
    "df.clean_text[0]"
   ]
  },
  {
   "cell_type": "markdown",
   "metadata": {},
   "source": [
    "Всё! Сохраняем датафрейм в файл. Для разнообразия сохраним в Excel:"
   ]
  },
  {
   "cell_type": "code",
   "execution_count": 41,
   "metadata": {},
   "outputs": [],
   "source": [
    "df.to_excel('nplus-news.xlsx')"
   ]
  }
 ],
 "metadata": {
  "kernelspec": {
   "display_name": "Python 3",
   "language": "python",
   "name": "python3"
  },
  "language_info": {
   "codemirror_mode": {
    "name": "ipython",
    "version": 3
   },
   "file_extension": ".py",
   "mimetype": "text/x-python",
   "name": "python",
   "nbconvert_exporter": "python",
   "pygments_lexer": "ipython3",
   "version": "3.8.3"
  }
 },
 "nbformat": 4,
 "nbformat_minor": 2
}
