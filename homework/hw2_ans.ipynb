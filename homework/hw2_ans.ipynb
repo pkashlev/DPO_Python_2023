{
 "cells": [
  {
   "cell_type": "markdown",
   "metadata": {},
   "source": [
    "Центр непрерывного образования\n",
    "\n",
    "# Программа «Python для автоматизации и анализа данных»\n",
    "\n",
    "\n",
    "*Ян Пиле, НИУ ВШЭ*  \n"
   ]
  },
  {
   "cell_type": "markdown",
   "metadata": {},
   "source": [
    "## Задачи"
   ]
  },
  {
   "cell_type": "markdown",
   "metadata": {},
   "source": [
    "### Задача 1\n",
    "\n",
    "Дана строка, состоящая из слов. Сделать из нее аббревиатуру с помощью списковых включений\n",
    "\n",
    "**Вход:** \"Комитет Государственной Безопасности\"\n",
    "\n",
    "**Выход:** \"КГБ\""
   ]
  },
  {
   "cell_type": "code",
   "execution_count": 1,
   "metadata": {},
   "outputs": [],
   "source": [
    "import re"
   ]
  },
  {
   "cell_type": "code",
   "execution_count": 2,
   "metadata": {},
   "outputs": [],
   "source": [
    "text = \"Комитет Государственной Безопасности\""
   ]
  },
  {
   "cell_type": "code",
   "execution_count": 3,
   "metadata": {},
   "outputs": [],
   "source": [
    "ans = [i for i in text if i.isupper()]"
   ]
  },
  {
   "cell_type": "code",
   "execution_count": 4,
   "metadata": {},
   "outputs": [
    {
     "data": {
      "text/plain": [
       "'КГБ'"
      ]
     },
     "execution_count": 4,
     "metadata": {},
     "output_type": "execute_result"
    }
   ],
   "source": [
    "''.join(ans)"
   ]
  },
  {
   "cell_type": "markdown",
   "metadata": {},
   "source": [
    "### Задача 2\n",
    "\n",
    "На вход принимается число N. \n",
    "\n",
    "Выведите на печать следующий паттерн:\n",
    "\n",
    "1\n",
    "\n",
    "1 2\n",
    "\n",
    "1 2 3\n",
    "\n",
    "1 2 3 4\n",
    "\n",
    "...\n",
    "\n",
    "1 ... N\n",
    "\n",
    "**Это не так просто)**"
   ]
  },
  {
   "cell_type": "code",
   "execution_count": 5,
   "metadata": {},
   "outputs": [
    {
     "data": {
      "text/plain": [
       "range(0, 1)"
      ]
     },
     "execution_count": 5,
     "metadata": {},
     "output_type": "execute_result"
    }
   ],
   "source": [
    "range(1)"
   ]
  },
  {
   "cell_type": "code",
   "execution_count": 6,
   "metadata": {},
   "outputs": [
    {
     "name": "stdout",
     "output_type": "stream",
     "text": [
      "5\n"
     ]
    }
   ],
   "source": [
    "N = int(input())"
   ]
  },
  {
   "cell_type": "code",
   "execution_count": 7,
   "metadata": {},
   "outputs": [
    {
     "name": "stdout",
     "output_type": "stream",
     "text": [
      "1\n",
      "1 2\n",
      "1 2 3\n",
      "1 2 3 4\n",
      "1 2 3 4 5\n"
     ]
    }
   ],
   "source": [
    "for i in range(1, N+1):\n",
    "    line = []\n",
    "    for j in range(1, i+1):\n",
    "        line.append(str(j))\n",
    "    print(' '.join(line))\n",
    "    "
   ]
  },
  {
   "cell_type": "code",
   "execution_count": 32,
   "metadata": {},
   "outputs": [
    {
     "name": "stdout",
     "output_type": "stream",
     "text": [
      "5\n",
      "\n",
      "1\n",
      "1 2\n",
      "1 2 3\n",
      "1 2 3 4\n",
      "1 2 3 4 5\n"
     ]
    }
   ],
   "source": [
    "for i in range(1, int(input())+2):\n",
    "    #print(i)\n",
    "    print(' '.join([*map(str, [*range(1, i)])]))"
   ]
  },
  {
   "cell_type": "markdown",
   "metadata": {},
   "source": [
    "### Задача 3\n",
    "\n",
    "Дана строка. Замените в ней все буквы А на # с помощью спискового включения.\n"
   ]
  },
  {
   "cell_type": "code",
   "execution_count": 20,
   "metadata": {},
   "outputs": [
    {
     "name": "stdout",
     "output_type": "stream",
     "text": [
      "#Б#ЖУР, #Б#ЗИНСКИЙ, #Б#ЗИНЫ, #ББ#Т, #ББ#ТИС#, #ББ#ТСТВО\n"
     ]
    }
   ],
   "source": []
  },
  {
   "cell_type": "markdown",
   "metadata": {},
   "source": [
    "### Задача 4 Подсчет слов\n",
    "Давайте теперь поработаем с настоящим файлом и действительно посчитаем в нем слова. Мы загрузим метаданные почтового сервера университета Мичигана. \n",
    "\n",
    "Определить, с какого адреса ушло больше всего писем."
   ]
  },
  {
   "cell_type": "code",
   "execution_count": 33,
   "metadata": {},
   "outputs": [],
   "source": [
    "# импортируем библиотеку для доступа к файлам в интернете\n",
    "import requests\n",
    "# в переменной mbox хранится текст для работы\n",
    "mbox = requests.get('http://www.py4inf.com/code/mbox.txt').text\n"
   ]
  },
  {
   "cell_type": "code",
   "execution_count": 34,
   "metadata": {},
   "outputs": [],
   "source": [
    "import re"
   ]
  },
  {
   "cell_type": "code",
   "execution_count": 37,
   "metadata": {},
   "outputs": [],
   "source": [
    "authors = re.findall(r'Author: (\\w+@[\\w+\\.]+)', mbox)"
   ]
  },
  {
   "cell_type": "code",
   "execution_count": 40,
   "metadata": {},
   "outputs": [],
   "source": [
    "author_counts = {}\n",
    "for author in authors:\n",
    "    if author not in author_counts.keys():\n",
    "        author_counts[author] = 1\n",
    "    else:\n",
    "        author_counts[author] += 1\n"
   ]
  },
  {
   "cell_type": "code",
   "execution_count": 44,
   "metadata": {},
   "outputs": [],
   "source": [
    " max_count = 0\n",
    "max_aut = 'none'\n",
    "for author, counts in author_counts.items():\n",
    "    if counts > max_count:\n",
    "        max_count = counts\n",
    "        max_aut = author\n",
    "   "
   ]
  },
  {
   "cell_type": "code",
   "execution_count": 45,
   "metadata": {},
   "outputs": [
    {
     "name": "stdout",
     "output_type": "stream",
     "text": [
      "195 zqian@umich.edu\n"
     ]
    }
   ],
   "source": [
    "print(max_count, max_aut)"
   ]
  },
  {
   "cell_type": "markdown",
   "metadata": {},
   "source": [
    "### Задача 5 Посчитать среднюю метрику X-DSPAM-Confidence для письма. \n",
    "### (Кажется, это что-то похожее на вероятность того, что письмо - не спам)\n",
    "\n",
    "Воспользуйтесь предыдущим кодом, достаньте те строчки, где эта метрика записана и подсчитайте ее среднее значение"
   ]
  },
  {
   "cell_type": "code",
   "execution_count": 31,
   "metadata": {},
   "outputs": [],
   "source": [
    "# импортируем библиотеку для доступа к файлам в интернете\n",
    "import requests\n",
    "# в переменной mbox хранится текст для работы\n",
    "mbox = requests.get('http://www.py4inf.com/code/mbox.txt').text\n",
    "\n"
   ]
  },
  {
   "cell_type": "markdown",
   "metadata": {},
   "source": [
    "### Задача 6 Объединение словарей\n",
    "\n",
    "Напишите программу, которая подсчитывает значения из произвольного списка словарей следующего вида.\n",
    "\n",
    "Ввод:\n",
    "\n",
    "    shops = [{'товар': 'яблоки', 'количество': 400}, {'товар': 'конфеты', 'количество': 300}, {'товар': 'яблоки', 'количество': 750}]\n",
    "\n",
    "\n",
    "Вывод:\n",
    "\n",
    "    {'яблоки': 1150, 'конфеты': 300}"
   ]
  },
  {
   "cell_type": "code",
   "execution_count": 47,
   "metadata": {},
   "outputs": [],
   "source": [
    "shops = [{'товар': 'яблоки', 'количество': 400}, \n",
    "         {'товар': 'конфеты', 'количество': 300}, \n",
    "         {'товар': 'яблоки', 'количество': 750}]"
   ]
  },
  {
   "cell_type": "code",
   "execution_count": 49,
   "metadata": {},
   "outputs": [
    {
     "data": {
      "text/plain": [
       "{'товар': 'конфеты', 'количество': 300}"
      ]
     },
     "execution_count": 49,
     "metadata": {},
     "output_type": "execute_result"
    }
   ],
   "source": [
    "shops[1]"
   ]
  },
  {
   "cell_type": "code",
   "execution_count": 51,
   "metadata": {},
   "outputs": [
    {
     "name": "stdout",
     "output_type": "stream",
     "text": [
      "{'товар': 'яблоки', 'количество': 400}\n",
      "{'товар': 'конфеты', 'количество': 300}\n",
      "{'товар': 'яблоки', 'количество': 750}\n"
     ]
    }
   ],
   "source": [
    "ans = {}\n",
    "\n",
    "for shop in shops:\n",
    "    if shop['товар'] not in ans.keys():\n",
    "        ans[shop['товар']] = shop['количество']\n",
    "    else:\n",
    "         ans[shop['товар']] +=shop['количество']\n",
    "    print(shop)"
   ]
  },
  {
   "cell_type": "code",
   "execution_count": 52,
   "metadata": {},
   "outputs": [
    {
     "data": {
      "text/plain": [
       "{'яблоки': 1150, 'конфеты': 300}"
      ]
     },
     "execution_count": 52,
     "metadata": {},
     "output_type": "execute_result"
    }
   ],
   "source": [
    "ans"
   ]
  },
  {
   "cell_type": "markdown",
   "metadata": {},
   "source": [
    "### Задача 7 Найти все числа от 1000 до 3000 включительно, все цифры которых четные.\n",
    "\n",
    "Программа должна выдавать результат в виде разделенной запятыми строки"
   ]
  },
  {
   "cell_type": "code",
   "execution_count": 1,
   "metadata": {},
   "outputs": [],
   "source": [
    "from itertools import product "
   ]
  },
  {
   "cell_type": "code",
   "execution_count": 10,
   "metadata": {},
   "outputs": [
    {
     "data": {
      "text/plain": [
       "[('2', '0', '0', '0'),\n",
       " ('2', '0', '0', '2'),\n",
       " ('2', '0', '0', '4'),\n",
       " ('2', '0', '0', '6'),\n",
       " ('2', '0', '0', '8'),\n",
       " ('2', '0', '2', '0'),\n",
       " ('2', '0', '2', '2'),\n",
       " ('2', '0', '2', '4'),\n",
       " ('2', '0', '2', '6'),\n",
       " ('2', '0', '2', '8'),\n",
       " ('2', '0', '4', '0'),\n",
       " ('2', '0', '4', '2'),\n",
       " ('2', '0', '4', '4'),\n",
       " ('2', '0', '4', '6'),\n",
       " ('2', '0', '4', '8'),\n",
       " ('2', '0', '6', '0'),\n",
       " ('2', '0', '6', '2'),\n",
       " ('2', '0', '6', '4'),\n",
       " ('2', '0', '6', '6'),\n",
       " ('2', '0', '6', '8'),\n",
       " ('2', '0', '8', '0'),\n",
       " ('2', '0', '8', '2'),\n",
       " ('2', '0', '8', '4'),\n",
       " ('2', '0', '8', '6'),\n",
       " ('2', '0', '8', '8'),\n",
       " ('2', '2', '0', '0'),\n",
       " ('2', '2', '0', '2'),\n",
       " ('2', '2', '0', '4'),\n",
       " ('2', '2', '0', '6'),\n",
       " ('2', '2', '0', '8'),\n",
       " ('2', '2', '2', '0'),\n",
       " ('2', '2', '2', '2'),\n",
       " ('2', '2', '2', '4'),\n",
       " ('2', '2', '2', '6'),\n",
       " ('2', '2', '2', '8'),\n",
       " ('2', '2', '4', '0'),\n",
       " ('2', '2', '4', '2'),\n",
       " ('2', '2', '4', '4'),\n",
       " ('2', '2', '4', '6'),\n",
       " ('2', '2', '4', '8'),\n",
       " ('2', '2', '6', '0'),\n",
       " ('2', '2', '6', '2'),\n",
       " ('2', '2', '6', '4'),\n",
       " ('2', '2', '6', '6'),\n",
       " ('2', '2', '6', '8'),\n",
       " ('2', '2', '8', '0'),\n",
       " ('2', '2', '8', '2'),\n",
       " ('2', '2', '8', '4'),\n",
       " ('2', '2', '8', '6'),\n",
       " ('2', '2', '8', '8'),\n",
       " ('2', '4', '0', '0'),\n",
       " ('2', '4', '0', '2'),\n",
       " ('2', '4', '0', '4'),\n",
       " ('2', '4', '0', '6'),\n",
       " ('2', '4', '0', '8'),\n",
       " ('2', '4', '2', '0'),\n",
       " ('2', '4', '2', '2'),\n",
       " ('2', '4', '2', '4'),\n",
       " ('2', '4', '2', '6'),\n",
       " ('2', '4', '2', '8'),\n",
       " ('2', '4', '4', '0'),\n",
       " ('2', '4', '4', '2'),\n",
       " ('2', '4', '4', '4'),\n",
       " ('2', '4', '4', '6'),\n",
       " ('2', '4', '4', '8'),\n",
       " ('2', '4', '6', '0'),\n",
       " ('2', '4', '6', '2'),\n",
       " ('2', '4', '6', '4'),\n",
       " ('2', '4', '6', '6'),\n",
       " ('2', '4', '6', '8'),\n",
       " ('2', '4', '8', '0'),\n",
       " ('2', '4', '8', '2'),\n",
       " ('2', '4', '8', '4'),\n",
       " ('2', '4', '8', '6'),\n",
       " ('2', '4', '8', '8'),\n",
       " ('2', '6', '0', '0'),\n",
       " ('2', '6', '0', '2'),\n",
       " ('2', '6', '0', '4'),\n",
       " ('2', '6', '0', '6'),\n",
       " ('2', '6', '0', '8'),\n",
       " ('2', '6', '2', '0'),\n",
       " ('2', '6', '2', '2'),\n",
       " ('2', '6', '2', '4'),\n",
       " ('2', '6', '2', '6'),\n",
       " ('2', '6', '2', '8'),\n",
       " ('2', '6', '4', '0'),\n",
       " ('2', '6', '4', '2'),\n",
       " ('2', '6', '4', '4'),\n",
       " ('2', '6', '4', '6'),\n",
       " ('2', '6', '4', '8'),\n",
       " ('2', '6', '6', '0'),\n",
       " ('2', '6', '6', '2'),\n",
       " ('2', '6', '6', '4'),\n",
       " ('2', '6', '6', '6'),\n",
       " ('2', '6', '6', '8'),\n",
       " ('2', '6', '8', '0'),\n",
       " ('2', '6', '8', '2'),\n",
       " ('2', '6', '8', '4'),\n",
       " ('2', '6', '8', '6'),\n",
       " ('2', '6', '8', '8'),\n",
       " ('2', '8', '0', '0'),\n",
       " ('2', '8', '0', '2'),\n",
       " ('2', '8', '0', '4'),\n",
       " ('2', '8', '0', '6'),\n",
       " ('2', '8', '0', '8'),\n",
       " ('2', '8', '2', '0'),\n",
       " ('2', '8', '2', '2'),\n",
       " ('2', '8', '2', '4'),\n",
       " ('2', '8', '2', '6'),\n",
       " ('2', '8', '2', '8'),\n",
       " ('2', '8', '4', '0'),\n",
       " ('2', '8', '4', '2'),\n",
       " ('2', '8', '4', '4'),\n",
       " ('2', '8', '4', '6'),\n",
       " ('2', '8', '4', '8'),\n",
       " ('2', '8', '6', '0'),\n",
       " ('2', '8', '6', '2'),\n",
       " ('2', '8', '6', '4'),\n",
       " ('2', '8', '6', '6'),\n",
       " ('2', '8', '6', '8'),\n",
       " ('2', '8', '8', '0'),\n",
       " ('2', '8', '8', '2'),\n",
       " ('2', '8', '8', '4'),\n",
       " ('2', '8', '8', '6'),\n",
       " ('2', '8', '8', '8')]"
      ]
     },
     "execution_count": 10,
     "metadata": {},
     "output_type": "execute_result"
    }
   ],
   "source": [
    "[*product(\"2\", \"02468\", \"02468\", \"02468\")]"
   ]
  },
  {
   "cell_type": "code",
   "execution_count": 55,
   "metadata": {},
   "outputs": [
    {
     "name": "stdout",
     "output_type": "stream",
     "text": [
      "2000, 2002, 2004, 2006, 2008, 2020, 2022, 2024, 2026, 2028, 2040, 2042, 2044, 2046, 2048, 2060, 2062, 2064, 2066, 2068, 2080, 2082, 2084, 2086, 2088, 2200, 2202, 2204, 2206, 2208, 2220, 2222, 2224, 2226, 2228, 2240, 2242, 2244, 2246, 2248, 2260, 2262, 2264, 2266, 2268, 2280, 2282, 2284, 2286, 2288, 2400, 2402, 2404, 2406, 2408, 2420, 2422, 2424, 2426, 2428, 2440, 2442, 2444, 2446, 2448, 2460, 2462, 2464, 2466, 2468, 2480, 2482, 2484, 2486, 2488, 2600, 2602, 2604, 2606, 2608, 2620, 2622, 2624, 2626, 2628, 2640, 2642, 2644, 2646, 2648, 2660, 2662, 2664, 2666, 2668, 2680, 2682, 2684, 2686, 2688, 2800, 2802, 2804, 2806, 2808, 2820, 2822, 2824, 2826, 2828, 2840, 2842, 2844, 2846, 2848, 2860, 2862, 2864, 2866, 2868, 2880, 2882, 2884, 2886, 2888\n"
     ]
    }
   ],
   "source": [
    "ans= []\n",
    "for i in range(1000, 3000+1):\n",
    "    if (i//1000)%2 == 0 and  (i//100)%2 == 0 and (i//10)%2 == 0 and (i%10)%2 == 0:\n",
    "        ans.append(str(i))\n",
    "\n",
    "print(', '.join(ans))"
   ]
  },
  {
   "cell_type": "markdown",
   "metadata": {},
   "source": [
    "### Задача 8 По входной строке вычислите количества цифр и количества букв в строке\n",
    "\n",
    "Вход: \"абвгд 234\"\n",
    "\n",
    "\n",
    "Выход:\n",
    "\n",
    "    Цифры: 3\n",
    "    Буквы: 5"
   ]
  },
  {
   "cell_type": "code",
   "execution_count": 9,
   "metadata": {},
   "outputs": [
    {
     "name": "stdout",
     "output_type": "stream",
     "text": [
      "6241 asas\n",
      "Цифры: 4\n",
      "Буквы: 4\n"
     ]
    }
   ],
   "source": [
    "count_nums = 0\n",
    "count_strs = 0\n",
    "\n",
    "N = input()\n",
    "\n",
    "for i in N:\n",
    "    if i.isdigit():\n",
    "        count_nums += 1\n",
    "    elif i.isalpha():\n",
    "        count_strs += 1\n",
    "print(f\"\"\"Цифры: {count_nums}\n",
    "Буквы: {count_strs}\"\"\")"
   ]
  },
  {
   "cell_type": "markdown",
   "metadata": {},
   "source": [
    "### Задача 9 Найти частоту слов в строке. Строка вводится с клавиатуры, допустим, она разделена пробелами\n",
    "\n",
    "Вход: \"Я не кидал никого никогда\"\n",
    "\n",
    "\n",
    "Выход:\n",
    "\n",
    "    Я:1\n",
    "    не:1\n",
    "    кидал:1\n",
    "    никого:1\n",
    "    никогда:1"
   ]
  },
  {
   "cell_type": "code",
   "execution_count": 57,
   "metadata": {},
   "outputs": [
    {
     "name": "stdout",
     "output_type": "stream",
     "text": [
      "Я не кидал никого никогда я кидал его\n"
     ]
    }
   ],
   "source": [
    "N = input().lower().split()\n",
    "\n"
   ]
  },
  {
   "cell_type": "code",
   "execution_count": 58,
   "metadata": {},
   "outputs": [
    {
     "data": {
      "text/plain": [
       "['я', 'не', 'кидал', 'никого', 'никогда', 'я', 'кидал', 'его']"
      ]
     },
     "execution_count": 58,
     "metadata": {},
     "output_type": "execute_result"
    }
   ],
   "source": [
    "N"
   ]
  },
  {
   "cell_type": "code",
   "execution_count": 59,
   "metadata": {},
   "outputs": [],
   "source": [
    "from collections import Counter"
   ]
  },
  {
   "cell_type": "code",
   "execution_count": 61,
   "metadata": {},
   "outputs": [],
   "source": [
    "ans = dict(Counter(N))"
   ]
  },
  {
   "cell_type": "code",
   "execution_count": 63,
   "metadata": {},
   "outputs": [
    {
     "name": "stdout",
     "output_type": "stream",
     "text": [
      "я: 2\n",
      "не: 1\n",
      "кидал: 2\n",
      "никого: 1\n",
      "никогда: 1\n",
      "его: 1\n"
     ]
    }
   ],
   "source": [
    "for key, val in ans.items():\n",
    "    print(f'{key}: {val}')"
   ]
  },
  {
   "cell_type": "markdown",
   "metadata": {},
   "source": [
    "### Задача 10 Про Поросёнка Петра\n",
    "\n",
    "На плоскости в точке (0,0) стоит Поросёнок Пётр. Он умеет ходить налево, направо, вверх и вниз. Расстояние его прохода в какую-либо сторону измеряется в шагах. Когда он идет вправо, его первая координата увеличивается, когда влево - уменьшается. Когда он идет вверх, его вторая координата увеличивается, а когда вниз - уменьшается. \n",
    "\n",
    "С клавиатуры считывается число N - число ходов, которые сделает Пётр. После чего на каждом шаге спрашивается, сколько шагов и в какую сторону за этот ход Пётр сделает. Так происходит, пока Пётр не осуществит все N ходов.\n",
    "\n",
    "Программа должна вывести, сколько шагов Пётр должен был бы сделать, чтобы кратчайшим путем прибыть из свое начальной точки (0,0) в свою конечную точку. Напоминание: Пётр умеет ходить только вверх-вниз, и влево-вправо, но не по диагонали.\n",
    "\n",
    "Пример ввода: \n",
    "\n",
    "    Введите N: 3\n",
    "    Ход 1: Вверх 1\n",
    "    Ход 2: Вниз 1\n",
    "    Ход 3: Вверх 1\n",
    "    \n",
    "Пример вывода:\n",
    "\n",
    "    Пётр находится на расстоянии 1 от (0,0)"
   ]
  },
  {
   "cell_type": "code",
   "execution_count": 78,
   "metadata": {},
   "outputs": [],
   "source": [
    "petr_position = {'x': 0, 'y': 0}"
   ]
  },
  {
   "cell_type": "code",
   "execution_count": 79,
   "metadata": {},
   "outputs": [
    {
     "name": "stdout",
     "output_type": "stream",
     "text": [
      "Введите N:7\n",
      "Xод 1Вправо 1\n",
      "{'x': 1, 'y': 0}\n",
      "Xод 2Вверх 1\n",
      "{'x': 1, 'y': 1}\n",
      "Xод 3Вправо 1\n",
      "{'x': 2, 'y': 1}\n",
      "Xод 4Вниз 1\n",
      "{'x': 2, 'y': 0}\n",
      "Xод 5Вниз 1\n",
      "{'x': 2, 'y': -1}\n",
      "Xод 6Влево 1\n",
      "{'x': 1, 'y': -1}\n",
      "Xод 7Вниз 1\n",
      "{'x': 1, 'y': -2}\n",
      "Чтобы вернуться Петру нужно сделать 3\n"
     ]
    }
   ],
   "source": [
    "\n",
    "\n",
    "N = int(input('Введите N: '))\n",
    "for i in range(N):\n",
    "\n",
    "    turn = input(f'Xод {i+1}: ').split()\n",
    "    if turn[0] == 'Вверх':\n",
    "        petr_position['y'] += int(turn[1])\n",
    "    elif turn[0] == 'Вниз':\n",
    "        petr_position['y'] -= int(turn[1])\n",
    "    elif turn[0] == 'Вправо':\n",
    "        petr_position['x'] += int(turn[1])\n",
    "    elif turn[0] == 'Влево':\n",
    "        petr_position['x'] -= int(turn[1])\n",
    "    print(petr_position)\n",
    "\n",
    "ans = abs(petr_position['x']) + abs(petr_position['y'])\n",
    "print(f'Чтобы вернуться Петру нужно сделать {ans}')\n",
    "        \n"
   ]
  },
  {
   "cell_type": "code",
   "execution_count": 76,
   "metadata": {},
   "outputs": [
    {
     "data": {
      "text/plain": [
       "{'x': 1, 'y': -1}"
      ]
     },
     "execution_count": 76,
     "metadata": {},
     "output_type": "execute_result"
    }
   ],
   "source": [
    "petr_position"
   ]
  },
  {
   "cell_type": "code",
   "execution_count": null,
   "metadata": {},
   "outputs": [],
   "source": []
  }
 ],
 "metadata": {
  "kernelspec": {
   "display_name": "Python 3 (ipykernel)",
   "language": "python",
   "name": "python3"
  },
  "language_info": {
   "codemirror_mode": {
    "name": "ipython",
    "version": 3
   },
   "file_extension": ".py",
   "mimetype": "text/x-python",
   "name": "python",
   "nbconvert_exporter": "python",
   "pygments_lexer": "ipython3",
   "version": "3.9.12"
  }
 },
 "nbformat": 4,
 "nbformat_minor": 2
}
