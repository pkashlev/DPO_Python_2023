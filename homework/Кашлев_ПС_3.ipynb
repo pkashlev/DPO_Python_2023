{
 "cells": [
  {
   "cell_type": "markdown",
   "metadata": {},
   "source": [
    "Центр непрерывного образования\n",
    "\n",
    "# Программа «Python для автоматизации и анализа данных»\n",
    "\n",
    "# Задачки на регулярные выражения"
   ]
  },
  {
   "cell_type": "markdown",
   "metadata": {},
   "source": [
    "### Задачка про аббревиатуры\n",
    "Владимир устроился на работу в одно очень важное место. И в первом же документе он ничего не понял, \n",
    "там были сплошные ФГУП НИЦ ГИДГЕО, ФГОУ ЧШУ АПК и т.п. Тогда он решил собрать все аббревиатуры, чтобы потом найти их расшифровки на http://sokr.ru/. Помогите ему.\n",
    "Будем считать аббревиатурой слова только лишь из заглавных букв (как минимум из двух). Если несколько таких слов разделены пробелами, то они \n",
    "считаются одной аббревиатурой."
   ]
  },
  {
   "cell_type": "markdown",
   "metadata": {},
   "source": [
    "**Ввод**: Это курс информатики соответствует ФГОС и ПООП, это подтверждено ФГУ ФНЦ НИИСИ РАН\\\n",
    "**Вывод**: ФГОС, ПООП, ФГУ ФНЦ НИИСИ РАН"
   ]
  },
  {
   "cell_type": "code",
   "execution_count": 139,
   "metadata": {},
   "outputs": [
    {
     "name": "stdout",
     "output_type": "stream",
     "text": [
      "['ФГОС ', 'ПООП', 'ФГУ ФНЦ НИИСИ РАН']\n"
     ]
    }
   ],
   "source": [
    "import re\n",
    "# Ваше решение\n",
    "s = 'Это курс информатики соответствует ФГОС и ПООП, это подтверждено ФГУ ФНЦ НИИСИ РАН'\n",
    "\n",
    "mylist = re.findall(r'[А-Я]{2,}[А-Я_ ]*', s)\n",
    "print(mylist)"
   ]
  },
  {
   "cell_type": "markdown",
   "metadata": {},
   "source": [
    "### Задачка про перевод из camel_case'a в snake_case"
   ]
  },
  {
   "cell_type": "markdown",
   "metadata": {},
   "source": [
    "Мы уже довольно много говорили про то, что в компаниях могут быть конвенции по обозначению переменных. Что, если вы написали код, а в нем переменные названы в Camel Case а вам требуется snake case? Пожалуй, стоит автоматизировать этот процесс. Попробуем написать функцию, которая этот функционал реализует"
   ]
  },
  {
   "cell_type": "code",
   "execution_count": 25,
   "metadata": {},
   "outputs": [
    {
     "data": {
      "text/plain": [
       "'camel_case_var'"
      ]
     },
     "execution_count": 25,
     "metadata": {},
     "output_type": "execute_result"
    }
   ],
   "source": [
    "#Camel case to snake case\n",
    "v = 'camelCaseVar'\n",
    "import re\n",
    "\n",
    "name = re.sub(r'(?<!^)(?=[A-Z])', '_', v).lower()\n",
    "name"
   ]
  },
  {
   "cell_type": "markdown",
   "metadata": {},
   "source": [
    "### Задачка про подсчет количества слов"
   ]
  },
  {
   "cell_type": "markdown",
   "metadata": {},
   "source": [
    "Слова у нас могут состоять из букв или букв, стоящих вокруг дефиса (во-первых, чуть-чуть, давай-ка). Вывести список слов."
   ]
  },
  {
   "cell_type": "code",
   "execution_count": 40,
   "metadata": {},
   "outputs": [
    {
     "data": {
      "text/plain": [
       "['во-первых', 'Во-вторых']"
      ]
     },
     "execution_count": 40,
     "metadata": {},
     "output_type": "execute_result"
    }
   ],
   "source": [
    "import re\n",
    "text = '''\n",
    "                    - Дельный, что и говорить,\n",
    "                      Был старик тот самый,\n",
    "                      Что придумал суп варить\n",
    "                      На колесах прямо.\n",
    "                      Суп - во-первых. Во-вторых,\n",
    "                      Кашу в норме прочной.\n",
    "                      Нет, старик он был старик\n",
    "                      Чуткий - это точно.\n",
    "'''\n",
    "\n",
    "defis = re.findall(r'[А-Яа-я]*-[А-Яа-я]{2,}',text)\n",
    "defis"
   ]
  },
  {
   "cell_type": "markdown",
   "metadata": {},
   "source": [
    "### Задачка про поиск слов на а и на е"
   ]
  },
  {
   "cell_type": "markdown",
   "metadata": {},
   "source": [
    "Найдите в тексте слова, начинающиеся на а и на е"
   ]
  },
  {
   "cell_type": "code",
   "execution_count": 43,
   "metadata": {},
   "outputs": [
    {
     "data": {
      "text/plain": [
       "['example',\n",
       " 'an',\n",
       " 'ArrayList',\n",
       " 'a',\n",
       " 'elements',\n",
       " 'elements',\n",
       " 'are',\n",
       " 'added',\n",
       " 'ArrayList',\n",
       " 'and',\n",
       " 'ArrayList',\n",
       " 'accordingly']"
      ]
     },
     "execution_count": 43,
     "metadata": {},
     "output_type": "execute_result"
    }
   ],
   "source": [
    "import re\n",
    "# Input.\n",
    "text = \"The following example creates an ArrayList with a capacity of 50 elements.\\\n",
    "        Four elements are then added to the ArrayList and the ArrayList is trimmed accordingly.\"\n",
    "\n",
    "a_or_e = re.findall(r'\\b[aeAE][a-zA-Z]*',text)\n",
    "a_or_e"
   ]
  },
  {
   "cell_type": "markdown",
   "metadata": {},
   "source": [
    "**Пример 2**\n",
    "\n",
    "Найдите в тексте слова, начинающиеся на а и на е"
   ]
  },
  {
   "cell_type": "code",
   "execution_count": 45,
   "metadata": {},
   "outputs": [
    {
     "data": {
      "text/plain": [
       "['es',\n",
       " 'einige',\n",
       " 'am',\n",
       " 'Anfang',\n",
       " 'einmal',\n",
       " 'aber',\n",
       " 'erwähnt',\n",
       " 'Ergebnisse',\n",
       " 'auftauchten',\n",
       " 'ergänzte']"
      ]
     },
     "execution_count": 45,
     "metadata": {},
     "output_type": "execute_result"
    }
   ],
   "source": [
    "import re\n",
    "# Input.\n",
    "text = '''\n",
    "        Für den folgenden Bericht gibt es einige Neben- und \n",
    "drei Hauptquellen, die hier am Anfang einmal genannt, dann aber nicht mehr erwähnt werden. Die \n",
    "Hauptquellen: Vernehmungsprotokolle der Polizeibehörde, Rechtsanwalt Dr. Hubert Bloma, sowie \n",
    "dessen Schul- und Studienfreund, der Staatsanwalt Peter \n",
    "Hach, der - vertraulich, versteht sich - die Vernehmungsprotokolle, gewisse Maßnahmen der \n",
    "Untersuchungsbehörde und Ergebnisse von Recherchen, soweit sie nicht in den Protokollen auftauchten, \n",
    "ergänzte;\n",
    "        '''\n",
    "\n",
    "a_or_e = re.findall(r'\\b[aeAE][a-zA-Zäöü]*',text)\n",
    "a_or_e"
   ]
  },
  {
   "cell_type": "markdown",
   "metadata": {},
   "source": [
    "### Давайте разберем реальный пример\n",
    "\n",
    "Возьмем перевод книги Идиот, вытащим оттуда текст первой главы, после чего посчитаем количество вхождений слова the. Ссылка 'https://www.gutenberg.org/files/2638/2638-0.txt'\n",
    "\n",
    "Заметьте, что the может быть частью слова! надо достать именно **слово the**"
   ]
  },
  {
   "cell_type": "code",
   "execution_count": 49,
   "metadata": {},
   "outputs": [
    {
     "data": {
      "text/plain": [
       "860"
      ]
     },
     "execution_count": 49,
     "metadata": {},
     "output_type": "execute_result"
    }
   ],
   "source": [
    "import re\n",
    "import requests\n",
    "\n",
    "the_idiot_url = 'https://www.gutenberg.org/files/2638/2638-0.txt'\n",
    "raw = requests.get(the_idiot_url).text\n",
    "\n",
    "# Индекс начала первой главы\n",
    "# .end()\n",
    "start = re.search(r'START OF THE PROJECT GUTENBERG EBOOK THE IDIOT', raw).end()\n",
    "start"
   ]
  },
  {
   "cell_type": "code",
   "execution_count": 55,
   "metadata": {},
   "outputs": [
    {
     "data": {
      "text/plain": [
       "259"
      ]
     },
     "execution_count": 55,
     "metadata": {},
     "output_type": "execute_result"
    }
   ],
   "source": [
    "# Индекс конца первой главы\n",
    "end = re.search(r'II\\.', raw).start()\n",
    "end\n",
    "\n",
    "chapter = raw[start:end]\n",
    "the = re.findall(r'\\b[Tt]he',chapter)\n",
    "len(the)"
   ]
  },
  {
   "cell_type": "markdown",
   "metadata": {},
   "source": [
    "## Про время (гуглить)\n",
    "Вовочка подготовил одно очень важное письмо, но везде указал неправильное время. \n",
    "Поэтому нужно заменить все вхождения времени на строку (TBD). Время — это строка вида HH:MM:SS или HH:MM, в которой HH — число от 00 до 23, а MM и SS — число от 00 до 59."
   ]
  },
  {
   "cell_type": "markdown",
   "metadata": {},
   "source": [
    "Ввод:\n",
    "\n",
    "    Уважаемые! Если вы к 09:00 не вернёте \n",
    "    чемодан, то уже в 09:00:01 я за себя не отвечаю. \n",
    "    PS. С отношением 25:50 всё нормально!\n",
    "    \n",
    "Вывод:\n",
    "\n",
    "    Уважаемые! Если вы к (TBD) не вернёте \n",
    "    чемодан, то уже в (TBD) я за себя не отвечаю. \n",
    "    PS. С отношением 25:50 всё нормально!"
   ]
  },
  {
   "cell_type": "code",
   "execution_count": 146,
   "metadata": {},
   "outputs": [
    {
     "name": "stdout",
     "output_type": "stream",
     "text": [
      "Уважаемые! Если вы к (TBD) не вернёте \n",
      "чемодан, то уже в (TBD) я за себя не отвечаю. \n",
      "PS. С отношением 25:50 всё нормально!\n"
     ]
    }
   ],
   "source": [
    "inp = \"\"\"Уважаемые! Если вы к 09:00 не вернёте \n",
    "чемодан, то уже в 09:00:01 я за себя не отвечаю. \n",
    "PS. С отношением 25:50 всё нормально!\"\"\"\n",
    "\n",
    "\n",
    "line = re.sub(r\"(2[0-3]|[01][0-9]|[0][0-9]|[23]):([0-5][0-9]|[0-9])(:[0-5][0-9]|[0-9]?)\", \"(TBD)\", inp)\n",
    "\n",
    "print(line)\n"
   ]
  },
  {
   "cell_type": "markdown",
   "metadata": {},
   "source": [
    "## Про финансовую отчетность (гуглить)\n",
    "\n",
    "Владимиру потребовалось срочно запутать финансовую документацию. Но так, чтобы это было обратимо. \n",
    "Он не придумал ничего лучше, чем заменить каждое целое число (непрерывную последовательность цифр) на его куб. Помогите ему.\n",
    "\n",
    "Ввод:\n",
    "\n",
    "    Было закуплено 12 единиц техники \n",
    "    по 410.37 рублей.\n",
    "    \n",
    "Вывод:\n",
    "\n",
    "    Было закуплено 1728 единиц техники \n",
    "    по 68921000.50653 рублей."
   ]
  },
  {
   "cell_type": "code",
   "execution_count": 165,
   "metadata": {},
   "outputs": [
    {
     "name": "stdout",
     "output_type": "stream",
     "text": [
      "['12', '410.37']\n"
     ]
    },
    {
     "ename": "ValueError",
     "evalue": "could not convert string to float: '(?:\\\\d*\\\\.*\\\\d+)'",
     "output_type": "error",
     "traceback": [
      "\u001b[1;31m---------------------------------------------------------------------------\u001b[0m",
      "\u001b[1;31mValueError\u001b[0m                                Traceback (most recent call last)",
      "\u001b[1;32m~\\AppData\\Local\\Temp\\ipykernel_5164\\238340302.py\u001b[0m in \u001b[0;36m<module>\u001b[1;34m\u001b[0m\n\u001b[0;32m      3\u001b[0m \u001b[0mprint\u001b[0m\u001b[1;33m(\u001b[0m\u001b[0mre\u001b[0m\u001b[1;33m.\u001b[0m\u001b[0mfindall\u001b[0m\u001b[1;33m(\u001b[0m\u001b[1;34mr\"(?:\\d*\\.*\\d+)\"\u001b[0m\u001b[1;33m,\u001b[0m \u001b[0mreport\u001b[0m\u001b[1;33m)\u001b[0m\u001b[1;33m)\u001b[0m\u001b[1;33m\u001b[0m\u001b[1;33m\u001b[0m\u001b[0m\n\u001b[0;32m      4\u001b[0m \u001b[1;33m\u001b[0m\u001b[0m\n\u001b[1;32m----> 5\u001b[1;33m \u001b[0mreport2\u001b[0m \u001b[1;33m=\u001b[0m \u001b[0mre\u001b[0m\u001b[1;33m.\u001b[0m\u001b[0msub\u001b[0m\u001b[1;33m(\u001b[0m\u001b[0mfloat\u001b[0m\u001b[1;33m(\u001b[0m\u001b[1;34mr\"(?:\\d*\\.*\\d+)\"\u001b[0m\u001b[1;33m)\u001b[0m\u001b[1;33m,\u001b[0m \u001b[0mfloat\u001b[0m\u001b[1;33m(\u001b[0m\u001b[1;33m)\u001b[0m\u001b[1;33m,\u001b[0m \u001b[0mreport\u001b[0m\u001b[1;33m)\u001b[0m\u001b[1;33m\u001b[0m\u001b[1;33m\u001b[0m\u001b[0m\n\u001b[0m\u001b[0;32m      6\u001b[0m \u001b[1;33m\u001b[0m\u001b[0m\n\u001b[0;32m      7\u001b[0m \u001b[0mprint\u001b[0m\u001b[1;33m(\u001b[0m\u001b[0mreport2\u001b[0m\u001b[1;33m)\u001b[0m\u001b[1;33m\u001b[0m\u001b[1;33m\u001b[0m\u001b[0m\n",
      "\u001b[1;31mValueError\u001b[0m: could not convert string to float: '(?:\\\\d*\\\\.*\\\\d+)'"
     ]
    }
   ],
   "source": [
    "report = \"Было закуплено 12 единиц техники по 410.37 рублей.\"\n",
    "\n",
    "print(re.findall(r\"(?:\\d*\\.*\\d+)\", report))\n",
    "\n",
    "report2 = re.sub(float(r\"(?:\\d*\\.*\\d+)\"), float(), report)\n",
    "\n",
    "print(report2)"
   ]
  },
  {
   "cell_type": "code",
   "execution_count": null,
   "metadata": {},
   "outputs": [],
   "source": []
  }
 ],
 "metadata": {
  "kernelspec": {
   "display_name": "Python 3 (ipykernel)",
   "language": "python",
   "name": "python3"
  },
  "language_info": {
   "codemirror_mode": {
    "name": "ipython",
    "version": 3
   },
   "file_extension": ".py",
   "mimetype": "text/x-python",
   "name": "python",
   "nbconvert_exporter": "python",
   "pygments_lexer": "ipython3",
   "version": "3.9.13"
  }
 },
 "nbformat": 4,
 "nbformat_minor": 2
}
