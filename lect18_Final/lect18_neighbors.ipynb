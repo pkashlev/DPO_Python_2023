{
 "cells": [
  {
   "cell_type": "code",
   "execution_count": 6,
   "metadata": {},
   "outputs": [],
   "source": [
    "# !pip install pytorch\n",
    "# !pip install faiss-cpu"
   ]
  },
  {
   "cell_type": "code",
   "execution_count": 10,
   "metadata": {},
   "outputs": [],
   "source": [
    "# !pip install sentence-transformers"
   ]
  },
  {
   "cell_type": "markdown",
   "metadata": {},
   "source": [
    "# О поиске объектов\n",
    "\n",
    "*Подготовил Ян Пиле*\n",
    "\n",
    "Картиночка для привлечения внимания ))\n",
    "\n",
    "Как это называется?\n",
    "<img src = \"https://habrastorage.org/r/w1560/webt/8x/ue/vk/8xuevk8kk8l-99kjyhxh3rktk6s.jpeg\">"
   ]
  },
  {
   "cell_type": "markdown",
   "metadata": {},
   "source": [
    "# Метод k ближайших соседей"
   ]
  },
  {
   "cell_type": "code",
   "execution_count": 171,
   "metadata": {},
   "outputs": [],
   "source": [
    "import requests\n",
    "import warnings\n",
    "import swifter\n",
    "import numpy as np\n",
    "import pandas as pd\n",
    "import pylab as pl\n",
    "import pandas as pd\n",
    "import matplotlib.pyplot as plt\n",
    "from io import StringIO\n",
    "from matplotlib.colors import ListedColormap\n",
    "from sklearn import datasets\n",
    "from sklearn import neighbors\n",
    "\n",
    "\n",
    "warnings.filterwarnings(\"ignore\")"
   ]
  },
  {
   "cell_type": "markdown",
   "metadata": {},
   "source": [
    "# Ирисы Фишера\n",
    "\n",
    "Спер [отсюда](https://kirenz.github.io/classification/docs/knn-iris.html)"
   ]
  },
  {
   "cell_type": "code",
   "execution_count": 67,
   "metadata": {},
   "outputs": [
    {
     "name": "stdout",
     "output_type": "stream",
     "text": [
      "dict_keys(['data', 'target', 'frame', 'target_names', 'DESCR', 'feature_names', 'filename', 'data_module'])\n"
     ]
    }
   ],
   "source": [
    "iris = datasets.load_iris()\n",
    "print(iris.keys())"
   ]
  },
  {
   "cell_type": "markdown",
   "metadata": {},
   "source": [
    "Для простоты взяли двумерное пространство"
   ]
  },
  {
   "cell_type": "code",
   "execution_count": 68,
   "metadata": {},
   "outputs": [
    {
     "name": "stdout",
     "output_type": "stream",
     "text": [
      "(150, 4)\n"
     ]
    }
   ],
   "source": [
    "n_samples, n_features = iris.data.shape\n",
    "\n",
    "print((n_samples, n_features))"
   ]
  },
  {
   "cell_type": "code",
   "execution_count": 69,
   "metadata": {},
   "outputs": [
    {
     "data": {
      "image/png": "[encoded data removed]",
      "text/plain": [
       "<Figure size 432x288 with 2 Axes>"
      ]
     },
     "metadata": {
      "needs_background": "light"
     },
     "output_type": "display_data"
    }
   ],
   "source": [
    "x_index = 0\n",
    "y_index = 1\n",
    "\n",
    "# this formatter will label the colorbar with the correct target names\n",
    "formatter = plt.FuncFormatter(lambda i, *args: iris.target_names[int(i)])\n",
    "plt.scatter(iris.data[:, x_index], \n",
    "            iris.data[:, y_index],\n",
    "            c=iris.target, \n",
    "            cmap=plt.cm.get_cmap('RdYlBu', 3))\n",
    "            \n",
    "plt.colorbar(ticks=[0, 1, 2], format=formatter)\n",
    "plt.clim(-0.5, 2.5)\n",
    "plt.xlabel(iris.feature_names[x_index])\n",
    "plt.ylabel(iris.feature_names[y_index]);"
   ]
  },
  {
   "cell_type": "code",
   "execution_count": 70,
   "metadata": {
    "scrolled": true
   },
   "outputs": [
    {
     "data": {
      "text/html": [
       "<style>#sk-container-id-1 {color: black;background-color: white;}#sk-container-id-1 pre{padding: 0;}#sk-container-id-1 div.sk-toggleable {background-color: white;}#sk-container-id-1 label.sk-toggleable__label {cursor: pointer;display: block;width: 100%;margin-bottom: 0;padding: 0.3em;box-sizing: border-box;text-align: center;}#sk-container-id-1 label.sk-toggleable__label-arrow:before {content: \"▸\";float: left;margin-right: 0.25em;color: #696969;}#sk-container-id-1 label.sk-toggleable__label-arrow:hover:before {color: black;}#sk-container-id-1 div.sk-estimator:hover label.sk-toggleable__label-arrow:before {color: black;}#sk-container-id-1 div.sk-toggleable__content {max-height: 0;max-width: 0;overflow: hidden;text-align: left;background-color: #f0f8ff;}#sk-container-id-1 div.sk-toggleable__content pre {margin: 0.2em;color: black;border-radius: 0.25em;background-color: #f0f8ff;}#sk-container-id-1 input.sk-toggleable__control:checked~div.sk-toggleable__content {max-height: 200px;max-width: 100%;overflow: auto;}#sk-container-id-1 input.sk-toggleable__control:checked~label.sk-toggleable__label-arrow:before {content: \"▾\";}#sk-container-id-1 div.sk-estimator input.sk-toggleable__control:checked~label.sk-toggleable__label {background-color: #d4ebff;}#sk-container-id-1 div.sk-label input.sk-toggleable__control:checked~label.sk-toggleable__label {background-color: #d4ebff;}#sk-container-id-1 input.sk-hidden--visually {border: 0;clip: rect(1px 1px 1px 1px);clip: rect(1px, 1px, 1px, 1px);height: 1px;margin: -1px;overflow: hidden;padding: 0;position: absolute;width: 1px;}#sk-container-id-1 div.sk-estimator {font-family: monospace;background-color: #f0f8ff;border: 1px dotted black;border-radius: 0.25em;box-sizing: border-box;margin-bottom: 0.5em;}#sk-container-id-1 div.sk-estimator:hover {background-color: #d4ebff;}#sk-container-id-1 div.sk-parallel-item::after {content: \"\";width: 100%;border-bottom: 1px solid gray;flex-grow: 1;}#sk-container-id-1 div.sk-label:hover label.sk-toggleable__label {background-color: #d4ebff;}#sk-container-id-1 div.sk-serial::before {content: \"\";position: absolute;border-left: 1px solid gray;box-sizing: border-box;top: 0;bottom: 0;left: 50%;z-index: 0;}#sk-container-id-1 div.sk-serial {display: flex;flex-direction: column;align-items: center;background-color: white;padding-right: 0.2em;padding-left: 0.2em;position: relative;}#sk-container-id-1 div.sk-item {position: relative;z-index: 1;}#sk-container-id-1 div.sk-parallel {display: flex;align-items: stretch;justify-content: center;background-color: white;position: relative;}#sk-container-id-1 div.sk-item::before, #sk-container-id-1 div.sk-parallel-item::before {content: \"\";position: absolute;border-left: 1px solid gray;box-sizing: border-box;top: 0;bottom: 0;left: 50%;z-index: -1;}#sk-container-id-1 div.sk-parallel-item {display: flex;flex-direction: column;z-index: 1;position: relative;background-color: white;}#sk-container-id-1 div.sk-parallel-item:first-child::after {align-self: flex-end;width: 50%;}#sk-container-id-1 div.sk-parallel-item:last-child::after {align-self: flex-start;width: 50%;}#sk-container-id-1 div.sk-parallel-item:only-child::after {width: 0;}#sk-container-id-1 div.sk-dashed-wrapped {border: 1px dashed gray;margin: 0 0.4em 0.5em 0.4em;box-sizing: border-box;padding-bottom: 0.4em;background-color: white;}#sk-container-id-1 div.sk-label label {font-family: monospace;font-weight: bold;display: inline-block;line-height: 1.2em;}#sk-container-id-1 div.sk-label-container {text-align: center;}#sk-container-id-1 div.sk-container {/* jupyter's `normalize.less` sets `[hidden] { display: none; }` but bootstrap.min.css set `[hidden] { display: none !important; }` so we also need the `!important` here to be able to override the default hidden behavior on the sphinx rendered scikit-learn.org. See: https://github.com/scikit-learn/scikit-learn/issues/21755 */display: inline-block !important;position: relative;}#sk-container-id-1 div.sk-text-repr-fallback {display: none;}</style><div id=\"sk-container-id-1\" class=\"sk-top-container\"><div class=\"sk-text-repr-fallback\"><pre>KNeighborsClassifier()</pre><b>In a Jupyter environment, please rerun this cell to show the HTML representation or trust the notebook. <br />On GitHub, the HTML representation is unable to render, please try loading this page with nbviewer.org.</b></div><div class=\"sk-container\" hidden><div class=\"sk-item\"><div class=\"sk-estimator sk-toggleable\"><input class=\"sk-toggleable__control sk-hidden--visually\" id=\"sk-estimator-id-1\" type=\"checkbox\" checked><label for=\"sk-estimator-id-1\" class=\"sk-toggleable__label sk-toggleable__label-arrow\">KNeighborsClassifier</label><div class=\"sk-toggleable__content\"><pre>KNeighborsClassifier()</pre></div></div></div></div></div>"
      ],
      "text/plain": [
       "KNeighborsClassifier()"
      ]
     },
     "execution_count": 70,
     "metadata": {},
     "output_type": "execute_result"
    }
   ],
   "source": [
    "X, y = iris.data, iris.target\n",
    "\n",
    "clf = neighbors.KNeighborsClassifier(n_neighbors=5)\n",
    "\n",
    "clf.fit(X, y)"
   ]
  },
  {
   "cell_type": "markdown",
   "metadata": {},
   "source": [
    "## Вы нашли ирис с параметрами:\n",
    "\n",
    "Чашелистик 3cm x 5cm  и Лепестки 4cm x 2cm, что за вид Ирисов?"
   ]
  },
  {
   "cell_type": "code",
   "execution_count": 71,
   "metadata": {},
   "outputs": [
    {
     "name": "stdout",
     "output_type": "stream",
     "text": [
      "['versicolor']\n"
     ]
    }
   ],
   "source": [
    "result = clf.predict([[3, 5, 4, 2],])\n",
    "\n",
    "print(iris.target_names[result])"
   ]
  },
  {
   "cell_type": "code",
   "execution_count": 73,
   "metadata": {},
   "outputs": [
    {
     "data": {
      "image/png": "[encoded data removed]",
      "text/plain": [
       "<Figure size 432x288 with 1 Axes>"
      ]
     },
     "metadata": {
      "needs_background": "light"
     },
     "output_type": "display_data"
    }
   ],
   "source": [
    "cmap_light = ListedColormap(['#FFAAAA', '#AAFFAA', '#AAAAFF'])\n",
    "cmap_bold = ListedColormap(['#FF0000', '#00FF00', '#0000FF'])\n",
    "\n",
    "def plot_iris_knn():\n",
    "    iris = datasets.load_iris()\n",
    "    X = iris.data[:, :2]  # we only take the first two features.\n",
    "    y = iris.target\n",
    "\n",
    "    knn = neighbors.KNeighborsClassifier(n_neighbors=3)\n",
    "    knn.fit(X, y)\n",
    "\n",
    "    x_min, x_max = X[:, 0].min() - .1, X[:, 0].max() + .1\n",
    "    y_min, y_max = X[:, 1].min() - .1, X[:, 1].max() + .1\n",
    "    xx, yy = np.meshgrid(np.linspace(x_min, x_max, 100),\n",
    "                         np.linspace(y_min, y_max, 100))\n",
    "    Z = knn.predict(np.c_[xx.ravel(), yy.ravel()])\n",
    "\n",
    "    # Put the result into a color plot\n",
    "    Z = Z.reshape(xx.shape)\n",
    "    pl.figure()\n",
    "    pl.pcolormesh(xx, yy, Z, cmap=cmap_light)\n",
    "\n",
    "    # Plot also the training points\n",
    "    pl.scatter(X[:, 0], X[:, 1], c=y, cmap=cmap_bold)\n",
    "    pl.xlabel('sepal length (cm)')\n",
    "    pl.ylabel('sepal width (cm)')\n",
    "    pl.axis('tight')\n",
    "    \n",
    "plot_iris_knn()"
   ]
  },
  {
   "cell_type": "markdown",
   "metadata": {},
   "source": [
    "Интересная штука в том, что для классификации вы делаете следующее:\n",
    "    \n",
    "    1) Берете точку\n",
    "    2) Кидаете ее на свое пространство параметров\n",
    "    3) Смотрите k соседей и простым голосованием выбираете ответ"
   ]
  },
  {
   "cell_type": "markdown",
   "metadata": {},
   "source": [
    "# Какая будет сложность поиска k соседей?\n",
    "\n",
    "Ответ – ТОЛСТАЯ\n",
    "\n",
    "Конечно же более интересным было бы брать какие-то объекты, генерировать их векторное представление, а уже дальше смотреть на то, какие из векторов наиболее близки к нашему конкретному примеру. Погнали смотреть :)"
   ]
  },
  {
   "cell_type": "markdown",
   "metadata": {},
   "source": [
    "### Есть 4 предложения"
   ]
  },
  {
   "cell_type": "code",
   "execution_count": 76,
   "metadata": {
    "scrolled": true
   },
   "outputs": [
    {
     "data": {
      "text/html": [
       "<div>\n",
       "<style scoped>\n",
       "    .dataframe tbody tr th:only-of-type {\n",
       "        vertical-align: middle;\n",
       "    }\n",
       "\n",
       "    .dataframe tbody tr th {\n",
       "        vertical-align: top;\n",
       "    }\n",
       "\n",
       "    .dataframe thead th {\n",
       "        text-align: right;\n",
       "    }\n",
       "</style>\n",
       "<table border=\"1\" class=\"dataframe\">\n",
       "  <thead>\n",
       "    <tr style=\"text-align: right;\">\n",
       "      <th></th>\n",
       "      <th>text</th>\n",
       "      <th>category</th>\n",
       "    </tr>\n",
       "  </thead>\n",
       "  <tbody>\n",
       "    <tr>\n",
       "      <th>0</th>\n",
       "      <td>Where are your headquarters located?</td>\n",
       "      <td>location</td>\n",
       "    </tr>\n",
       "    <tr>\n",
       "      <th>1</th>\n",
       "      <td>Throw my cellphone in the water</td>\n",
       "      <td>random</td>\n",
       "    </tr>\n",
       "    <tr>\n",
       "      <th>2</th>\n",
       "      <td>Network Access Control?</td>\n",
       "      <td>networking</td>\n",
       "    </tr>\n",
       "    <tr>\n",
       "      <th>3</th>\n",
       "      <td>Address</td>\n",
       "      <td>location</td>\n",
       "    </tr>\n",
       "  </tbody>\n",
       "</table>\n",
       "</div>"
      ],
      "text/plain": [
       "                                   text    category\n",
       "0  Where are your headquarters located?    location\n",
       "1       Throw my cellphone in the water      random\n",
       "2               Network Access Control?  networking\n",
       "3                               Address    location"
      ]
     },
     "execution_count": 76,
     "metadata": {},
     "output_type": "execute_result"
    }
   ],
   "source": [
    "data = [['Where are your headquarters located?', 'location'],\n",
    "['Throw my cellphone in the water', 'random'],\n",
    "['Network Access Control?', 'networking'],\n",
    "['Address', 'location']]\n",
    "df = pd.DataFrame(data, columns = ['text', 'category'])\n",
    "df"
   ]
  },
  {
   "cell_type": "markdown",
   "metadata": {},
   "source": [
    "Возьму нейронку (уже обученную), да и закодирую эти предложения :)"
   ]
  },
  {
   "cell_type": "code",
   "execution_count": 10,
   "metadata": {},
   "outputs": [],
   "source": [
    "text = df['text']\n",
    "encoder = SentenceTransformer(\"paraphrase-mpnet-base-v2\")\n",
    "vectors = encoder.encode(text)"
   ]
  },
  {
   "cell_type": "code",
   "execution_count": 79,
   "metadata": {},
   "outputs": [
    {
     "data": {
      "text/plain": [
       "768"
      ]
     },
     "execution_count": 79,
     "metadata": {},
     "output_type": "execute_result"
    }
   ],
   "source": [
    "# Длина вектора\n",
    "\n",
    "len(vectors[0])"
   ]
  },
  {
   "cell_type": "markdown",
   "metadata": {},
   "source": [
    "# Ну а теперь вместо sklearn заиспользуем библиотеку от Facebook"
   ]
  },
  {
   "cell_type": "code",
   "execution_count": 80,
   "metadata": {},
   "outputs": [],
   "source": [
    "import faiss\n",
    "\n",
    "# Размер вектора\n",
    "vector_dimension = vectors.shape[1]\n",
    "\n",
    "# Сделали \"плоский\" индекс размера 768\n",
    "index = faiss.IndexFlatL2(vector_dimension)\n",
    "\n",
    "# Векторы нормализовали\n",
    "faiss.normalize_L2(vectors)\n",
    "\n",
    "# Закинули весь наш списочек в индекс\n",
    "index.add(vectors)"
   ]
  },
  {
   "cell_type": "markdown",
   "metadata": {},
   "source": [
    "## Какой еще индекс?\n",
    "\n",
    "По сути, это просто набор параметров и векторов. Наборы параметров бывают разные и зависят от нужд пользователя. Векторы могут оставаться неизменными, а могут перестраиваться. Некоторые индексы доступны для работы сразу после добавления в них векторов, а некоторые требуют предварительного обучения. Имена векторов хранятся в индексе: либо в нумерации от 0 до n, либо в виде числа, влезающего в тип Int64.\n",
    "\n",
    "Первый индекс, и самый простой,  – это Flat. Он лишь хранит в себе все вектора, а поиск по заданному вектору осуществляется полным перебором, поэтому обучать его не нужно. На маленьком объеме данных такой простой индекс может вполне покрыть нужды поиска."
   ]
  },
  {
   "cell_type": "code",
   "execution_count": 82,
   "metadata": {},
   "outputs": [],
   "source": [
    "search_text = 'where is your office?'\n",
    "search_vector = encoder.encode(search_text)\n",
    "_vector = np.array([search_vector])\n",
    "faiss.normalize_L2(_vector)"
   ]
  },
  {
   "cell_type": "code",
   "execution_count": 84,
   "metadata": {},
   "outputs": [],
   "source": [
    "k = index.ntotal\n",
    "distances, ann = index.search(_vector, \n",
    "                              k=k)"
   ]
  },
  {
   "cell_type": "code",
   "execution_count": 88,
   "metadata": {},
   "outputs": [],
   "source": [
    "results = pd.DataFrame({'distances': distances[0], 'ann': ann[0]})"
   ]
  },
  {
   "cell_type": "code",
   "execution_count": 89,
   "metadata": {
    "scrolled": true
   },
   "outputs": [
    {
     "data": {
      "text/html": [
       "<div>\n",
       "<style scoped>\n",
       "    .dataframe tbody tr th:only-of-type {\n",
       "        vertical-align: middle;\n",
       "    }\n",
       "\n",
       "    .dataframe tbody tr th {\n",
       "        vertical-align: top;\n",
       "    }\n",
       "\n",
       "    .dataframe thead th {\n",
       "        text-align: right;\n",
       "    }\n",
       "</style>\n",
       "<table border=\"1\" class=\"dataframe\">\n",
       "  <thead>\n",
       "    <tr style=\"text-align: right;\">\n",
       "      <th></th>\n",
       "      <th>distances</th>\n",
       "      <th>ann</th>\n",
       "    </tr>\n",
       "  </thead>\n",
       "  <tbody>\n",
       "    <tr>\n",
       "      <th>0</th>\n",
       "      <td>0.584873</td>\n",
       "      <td>0</td>\n",
       "    </tr>\n",
       "    <tr>\n",
       "      <th>1</th>\n",
       "      <td>1.175950</td>\n",
       "      <td>3</td>\n",
       "    </tr>\n",
       "    <tr>\n",
       "      <th>2</th>\n",
       "      <td>1.644265</td>\n",
       "      <td>2</td>\n",
       "    </tr>\n",
       "    <tr>\n",
       "      <th>3</th>\n",
       "      <td>1.919768</td>\n",
       "      <td>1</td>\n",
       "    </tr>\n",
       "  </tbody>\n",
       "</table>\n",
       "</div>"
      ],
      "text/plain": [
       "   distances  ann\n",
       "0   0.584873    0\n",
       "1   1.175950    3\n",
       "2   1.644265    2\n",
       "3   1.919768    1"
      ]
     },
     "execution_count": 89,
     "metadata": {},
     "output_type": "execute_result"
    }
   ],
   "source": [
    "results"
   ]
  },
  {
   "cell_type": "markdown",
   "metadata": {},
   "source": [
    "## Наши расстояния\n",
    "\n",
    "    до фразы 'where is your office?'\n"
   ]
  },
  {
   "cell_type": "code",
   "execution_count": 92,
   "metadata": {},
   "outputs": [
    {
     "data": {
      "text/html": [
       "<div>\n",
       "<style scoped>\n",
       "    .dataframe tbody tr th:only-of-type {\n",
       "        vertical-align: middle;\n",
       "    }\n",
       "\n",
       "    .dataframe tbody tr th {\n",
       "        vertical-align: top;\n",
       "    }\n",
       "\n",
       "    .dataframe thead th {\n",
       "        text-align: right;\n",
       "    }\n",
       "</style>\n",
       "<table border=\"1\" class=\"dataframe\">\n",
       "  <thead>\n",
       "    <tr style=\"text-align: right;\">\n",
       "      <th></th>\n",
       "      <th>distances</th>\n",
       "      <th>ann</th>\n",
       "      <th>text</th>\n",
       "      <th>category</th>\n",
       "    </tr>\n",
       "  </thead>\n",
       "  <tbody>\n",
       "    <tr>\n",
       "      <th>0</th>\n",
       "      <td>0.584873</td>\n",
       "      <td>0</td>\n",
       "      <td>Where are your headquarters located?</td>\n",
       "      <td>location</td>\n",
       "    </tr>\n",
       "    <tr>\n",
       "      <th>1</th>\n",
       "      <td>1.175950</td>\n",
       "      <td>3</td>\n",
       "      <td>Address</td>\n",
       "      <td>location</td>\n",
       "    </tr>\n",
       "    <tr>\n",
       "      <th>2</th>\n",
       "      <td>1.644265</td>\n",
       "      <td>2</td>\n",
       "      <td>Network Access Control?</td>\n",
       "      <td>networking</td>\n",
       "    </tr>\n",
       "    <tr>\n",
       "      <th>3</th>\n",
       "      <td>1.919768</td>\n",
       "      <td>1</td>\n",
       "      <td>Throw my cellphone in the water</td>\n",
       "      <td>random</td>\n",
       "    </tr>\n",
       "  </tbody>\n",
       "</table>\n",
       "</div>"
      ],
      "text/plain": [
       "   distances  ann                                  text    category\n",
       "0   0.584873    0  Where are your headquarters located?    location\n",
       "1   1.175950    3                               Address    location\n",
       "2   1.644265    2               Network Access Control?  networking\n",
       "3   1.919768    1       Throw my cellphone in the water      random"
      ]
     },
     "execution_count": 92,
     "metadata": {},
     "output_type": "execute_result"
    }
   ],
   "source": [
    "pd.merge(results, df, left_on = 'ann', right_index = True)"
   ]
  },
  {
   "cell_type": "markdown",
   "metadata": {},
   "source": [
    "# Еще примеров Богу примеров"
   ]
  },
  {
   "cell_type": "code",
   "execution_count": 97,
   "metadata": {},
   "outputs": [
    {
     "data": {
      "text/html": [
       "<div>\n",
       "<style scoped>\n",
       "    .dataframe tbody tr th:only-of-type {\n",
       "        vertical-align: middle;\n",
       "    }\n",
       "\n",
       "    .dataframe tbody tr th {\n",
       "        vertical-align: top;\n",
       "    }\n",
       "\n",
       "    .dataframe thead th {\n",
       "        text-align: right;\n",
       "    }\n",
       "</style>\n",
       "<table border=\"1\" class=\"dataframe\">\n",
       "  <thead>\n",
       "    <tr style=\"text-align: right;\">\n",
       "      <th></th>\n",
       "      <th>pair_ID</th>\n",
       "      <th>sentence_A</th>\n",
       "      <th>sentence_B</th>\n",
       "      <th>relatedness_score</th>\n",
       "      <th>entailment_judgment</th>\n",
       "    </tr>\n",
       "  </thead>\n",
       "  <tbody>\n",
       "    <tr>\n",
       "      <th>0</th>\n",
       "      <td>1</td>\n",
       "      <td>A group of kids is playing in a yard and an ol...</td>\n",
       "      <td>A group of boys in a yard is playing and a man...</td>\n",
       "      <td>4.5</td>\n",
       "      <td>NEUTRAL</td>\n",
       "    </tr>\n",
       "    <tr>\n",
       "      <th>1</th>\n",
       "      <td>2</td>\n",
       "      <td>A group of children is playing in the house an...</td>\n",
       "      <td>A group of kids is playing in a yard and an ol...</td>\n",
       "      <td>3.2</td>\n",
       "      <td>NEUTRAL</td>\n",
       "    </tr>\n",
       "    <tr>\n",
       "      <th>2</th>\n",
       "      <td>3</td>\n",
       "      <td>The young boys are playing outdoors and the ma...</td>\n",
       "      <td>The kids are playing outdoors near a man with ...</td>\n",
       "      <td>4.7</td>\n",
       "      <td>ENTAILMENT</td>\n",
       "    </tr>\n",
       "    <tr>\n",
       "      <th>3</th>\n",
       "      <td>5</td>\n",
       "      <td>The kids are playing outdoors near a man with ...</td>\n",
       "      <td>A group of kids is playing in a yard and an ol...</td>\n",
       "      <td>3.4</td>\n",
       "      <td>NEUTRAL</td>\n",
       "    </tr>\n",
       "    <tr>\n",
       "      <th>4</th>\n",
       "      <td>9</td>\n",
       "      <td>The young boys are playing outdoors and the ma...</td>\n",
       "      <td>A group of kids is playing in a yard and an ol...</td>\n",
       "      <td>3.7</td>\n",
       "      <td>NEUTRAL</td>\n",
       "    </tr>\n",
       "  </tbody>\n",
       "</table>\n",
       "</div>"
      ],
      "text/plain": [
       "   pair_ID                                         sentence_A  \\\n",
       "0        1  A group of kids is playing in a yard and an ol...   \n",
       "1        2  A group of children is playing in the house an...   \n",
       "2        3  The young boys are playing outdoors and the ma...   \n",
       "3        5  The kids are playing outdoors near a man with ...   \n",
       "4        9  The young boys are playing outdoors and the ma...   \n",
       "\n",
       "                                          sentence_B  relatedness_score  \\\n",
       "0  A group of boys in a yard is playing and a man...                4.5   \n",
       "1  A group of kids is playing in a yard and an ol...                3.2   \n",
       "2  The kids are playing outdoors near a man with ...                4.7   \n",
       "3  A group of kids is playing in a yard and an ol...                3.4   \n",
       "4  A group of kids is playing in a yard and an ol...                3.7   \n",
       "\n",
       "  entailment_judgment  \n",
       "0             NEUTRAL  \n",
       "1             NEUTRAL  \n",
       "2          ENTAILMENT  \n",
       "3             NEUTRAL  \n",
       "4             NEUTRAL  "
      ]
     },
     "execution_count": 97,
     "metadata": {},
     "output_type": "execute_result"
    }
   ],
   "source": [
    "res = requests.get('https://raw.githubusercontent.com/brmson/dataset-sts/master/data/sts/sick2014/SICK_train.txt')\n",
    "\n",
    "# Делаем датафрейм\n",
    "data = pd.read_csv(StringIO(res.text), sep='\\t')\n",
    "data.head()"
   ]
  },
  {
   "cell_type": "code",
   "execution_count": 98,
   "metadata": {},
   "outputs": [
    {
     "data": {
      "text/plain": [
       "(4500, 5)"
      ]
     },
     "execution_count": 98,
     "metadata": {},
     "output_type": "execute_result"
    }
   ],
   "source": [
    "data.shape"
   ]
  },
  {
   "cell_type": "code",
   "execution_count": 100,
   "metadata": {},
   "outputs": [
    {
     "data": {
      "text/plain": [
       "4802"
      ]
     },
     "execution_count": 100,
     "metadata": {},
     "output_type": "execute_result"
    }
   ],
   "source": [
    "# Берем все уникальные предложения отсюда\n",
    "\n",
    "sentences = data['sentence_A'].tolist()\n",
    "sentence_b = data['sentence_B'].tolist()\n",
    "sentences.extend(sentence_b)  # соединили \n",
    "len(set(sentences))"
   ]
  },
  {
   "cell_type": "markdown",
   "metadata": {},
   "source": [
    "### Маловато, надо больше примеров"
   ]
  },
  {
   "cell_type": "code",
   "execution_count": 101,
   "metadata": {},
   "outputs": [],
   "source": [
    "urls = [\n",
    "    'https://raw.githubusercontent.com/brmson/dataset-sts/master/data/sts/semeval-sts/2012/MSRpar.train.tsv',\n",
    "    'https://raw.githubusercontent.com/brmson/dataset-sts/master/data/sts/semeval-sts/2012/MSRpar.test.tsv',\n",
    "    'https://raw.githubusercontent.com/brmson/dataset-sts/master/data/sts/semeval-sts/2012/OnWN.test.tsv',\n",
    "    'https://raw.githubusercontent.com/brmson/dataset-sts/master/data/sts/semeval-sts/2013/OnWN.test.tsv',\n",
    "    'https://raw.githubusercontent.com/brmson/dataset-sts/master/data/sts/semeval-sts/2014/OnWN.test.tsv',\n",
    "    'https://raw.githubusercontent.com/brmson/dataset-sts/master/data/sts/semeval-sts/2014/images.test.tsv',\n",
    "    'https://raw.githubusercontent.com/brmson/dataset-sts/master/data/sts/semeval-sts/2015/images.test.tsv'\n",
    "]"
   ]
  },
  {
   "cell_type": "code",
   "execution_count": 105,
   "metadata": {},
   "outputs": [
    {
     "name": "stderr",
     "output_type": "stream",
     "text": [
      "b'Skipping line 191: expected 3 fields, saw 4\\nSkipping line 206: expected 3 fields, saw 4\\nSkipping line 295: expected 3 fields, saw 4\\nSkipping line 695: expected 3 fields, saw 4\\nSkipping line 699: expected 3 fields, saw 4\\n'\n",
      "b'Skipping line 104: expected 3 fields, saw 4\\nSkipping line 181: expected 3 fields, saw 4\\nSkipping line 317: expected 3 fields, saw 4\\nSkipping line 412: expected 3 fields, saw 5\\nSkipping line 508: expected 3 fields, saw 4\\n'\n"
     ]
    }
   ],
   "source": [
    "# Все датасеты одинаковые +- , поэтому можно циклом\n",
    "for url in urls:\n",
    "    res = requests.get(url)\n",
    "    # Взяли df\n",
    "    data = pd.read_csv(StringIO(res.text), sep='\\t', header=None, error_bad_lines=False)\n",
    "    # Заложили список предложений\n",
    "    sentences.extend(data[1].tolist())\n",
    "    sentences.extend(data[2].tolist())"
   ]
  },
  {
   "cell_type": "code",
   "execution_count": 106,
   "metadata": {},
   "outputs": [],
   "source": [
    "# drop duplicates and NaN\n",
    "sentences = [word for word in list(set(sentences)) if type(word) is str]"
   ]
  },
  {
   "cell_type": "code",
   "execution_count": 107,
   "metadata": {},
   "outputs": [
    {
     "data": {
      "application/vnd.jupyter.widget-view+json": {
       "model_id": "a809b85c40814cf3a01e35f601eae79e",
       "version_major": 2,
       "version_minor": 0
      },
      "text/plain": [
       "Downloading (…)821d1/.gitattributes:   0%|          | 0.00/391 [00:00<?, ?B/s]"
      ]
     },
     "metadata": {},
     "output_type": "display_data"
    },
    {
     "data": {
      "application/vnd.jupyter.widget-view+json": {
       "model_id": "97f7658cdb2e489c88facbcc091e82c7",
       "version_major": 2,
       "version_minor": 0
      },
      "text/plain": [
       "Downloading (…)_Pooling/config.json:   0%|          | 0.00/190 [00:00<?, ?B/s]"
      ]
     },
     "metadata": {},
     "output_type": "display_data"
    },
    {
     "data": {
      "application/vnd.jupyter.widget-view+json": {
       "model_id": "497eaeb77daa40108bb32cc173747d70",
       "version_major": 2,
       "version_minor": 0
      },
      "text/plain": [
       "Downloading (…)8d01e821d1/README.md:   0%|          | 0.00/3.95k [00:00<?, ?B/s]"
      ]
     },
     "metadata": {},
     "output_type": "display_data"
    },
    {
     "data": {
      "application/vnd.jupyter.widget-view+json": {
       "model_id": "ee822e79ef244b2aa16f2ed6961a85de",
       "version_major": 2,
       "version_minor": 0
      },
      "text/plain": [
       "Downloading (…)d1/added_tokens.json:   0%|          | 0.00/2.00 [00:00<?, ?B/s]"
      ]
     },
     "metadata": {},
     "output_type": "display_data"
    },
    {
     "data": {
      "application/vnd.jupyter.widget-view+json": {
       "model_id": "3679566b2c3b4fabbee8a0167fa3e6f4",
       "version_major": 2,
       "version_minor": 0
      },
      "text/plain": [
       "Downloading (…)01e821d1/config.json:   0%|          | 0.00/625 [00:00<?, ?B/s]"
      ]
     },
     "metadata": {},
     "output_type": "display_data"
    },
    {
     "data": {
      "application/vnd.jupyter.widget-view+json": {
       "model_id": "f103701d28604567bf7df0cc2d565feb",
       "version_major": 2,
       "version_minor": 0
      },
      "text/plain": [
       "Downloading (…)ce_transformers.json:   0%|          | 0.00/122 [00:00<?, ?B/s]"
      ]
     },
     "metadata": {},
     "output_type": "display_data"
    },
    {
     "data": {
      "application/vnd.jupyter.widget-view+json": {
       "model_id": "9d9d6a8aa2844760ab49a1b91b0f582a",
       "version_major": 2,
       "version_minor": 0
      },
      "text/plain": [
       "Downloading pytorch_model.bin:   0%|          | 0.00/438M [00:00<?, ?B/s]"
      ]
     },
     "metadata": {},
     "output_type": "display_data"
    },
    {
     "data": {
      "application/vnd.jupyter.widget-view+json": {
       "model_id": "616b4917503c4ba09018d487e8ce89d6",
       "version_major": 2,
       "version_minor": 0
      },
      "text/plain": [
       "Downloading (…)nce_bert_config.json:   0%|          | 0.00/53.0 [00:00<?, ?B/s]"
      ]
     },
     "metadata": {},
     "output_type": "display_data"
    },
    {
     "data": {
      "application/vnd.jupyter.widget-view+json": {
       "model_id": "8016e5b088a64136bec4fe3d4ac473bd",
       "version_major": 2,
       "version_minor": 0
      },
      "text/plain": [
       "Downloading (…)cial_tokens_map.json:   0%|          | 0.00/112 [00:00<?, ?B/s]"
      ]
     },
     "metadata": {},
     "output_type": "display_data"
    },
    {
     "data": {
      "application/vnd.jupyter.widget-view+json": {
       "model_id": "407831520f6a4c1bb2281ddb52e9653b",
       "version_major": 2,
       "version_minor": 0
      },
      "text/plain": [
       "Downloading (…)821d1/tokenizer.json:   0%|          | 0.00/466k [00:00<?, ?B/s]"
      ]
     },
     "metadata": {},
     "output_type": "display_data"
    },
    {
     "data": {
      "application/vnd.jupyter.widget-view+json": {
       "model_id": "3a856f3225f74b689526c958acb6c0bc",
       "version_major": 2,
       "version_minor": 0
      },
      "text/plain": [
       "Downloading (…)okenizer_config.json:   0%|          | 0.00/399 [00:00<?, ?B/s]"
      ]
     },
     "metadata": {},
     "output_type": "display_data"
    },
    {
     "data": {
      "application/vnd.jupyter.widget-view+json": {
       "model_id": "8cf2830285d54077886e4e137e3d8343",
       "version_major": 2,
       "version_minor": 0
      },
      "text/plain": [
       "Downloading (…)8d01e821d1/vocab.txt:   0%|          | 0.00/232k [00:00<?, ?B/s]"
      ]
     },
     "metadata": {},
     "output_type": "display_data"
    },
    {
     "data": {
      "application/vnd.jupyter.widget-view+json": {
       "model_id": "cf788a6d3335405687d827b950d630d2",
       "version_major": 2,
       "version_minor": 0
      },
      "text/plain": [
       "Downloading (…)1e821d1/modules.json:   0%|          | 0.00/229 [00:00<?, ?B/s]"
      ]
     },
     "metadata": {},
     "output_type": "display_data"
    },
    {
     "data": {
      "text/plain": [
       "(14504, 768)"
      ]
     },
     "execution_count": 107,
     "metadata": {},
     "output_type": "execute_result"
    }
   ],
   "source": [
    "# Инициализируем нейронку-кодировщик\n",
    "model = SentenceTransformer('bert-base-nli-mean-tokens')\n",
    "\n",
    "# Делаем вектора\n",
    "sentence_embeddings = model.encode(sentences)\n",
    "sentence_embeddings.shape"
   ]
  },
  {
   "cell_type": "markdown",
   "metadata": {},
   "source": [
    "# IndexFlatL2\n",
    "\n",
    "IndexFlatL2 измеряет L2 (Евклидово) расстояние между ВСЕМИ векторами и нашим вектором запроса, векторы напрямую грузятся в индекс. Он простой, очень точный и весьма медленный\n",
    "\n",
    "<img src = \"https://d33wubrfki0l68.cloudfront.net/41b688a9c9bee390768e086d7542e3aeac1127df/75506/images/faiss2.png\">"
   ]
  },
  {
   "cell_type": "code",
   "execution_count": 108,
   "metadata": {},
   "outputs": [
    {
     "data": {
      "text/plain": [
       "768"
      ]
     },
     "execution_count": 108,
     "metadata": {},
     "output_type": "execute_result"
    }
   ],
   "source": [
    "d = sentence_embeddings.shape[1]\n",
    "d"
   ]
  },
  {
   "cell_type": "markdown",
   "metadata": {},
   "source": [
    "Часто мы будем использовать индексы, которые требуют обучения перед загрузкой данных. Мы можем проверить, нужно ли обучать индекс, используя метод `is_trained`. \n",
    "`IndexFlatL2` не требует обучения.\n",
    "Векторы загружаем так:"
   ]
  },
  {
   "cell_type": "code",
   "execution_count": 112,
   "metadata": {},
   "outputs": [
    {
     "data": {
      "text/plain": [
       "True"
      ]
     },
     "execution_count": 112,
     "metadata": {},
     "output_type": "execute_result"
    }
   ],
   "source": [
    "index = faiss.IndexFlatL2(d)\n",
    "index.is_trained"
   ]
  },
  {
   "cell_type": "code",
   "execution_count": 113,
   "metadata": {},
   "outputs": [
    {
     "data": {
      "text/plain": [
       "14504"
      ]
     },
     "execution_count": 113,
     "metadata": {},
     "output_type": "execute_result"
    }
   ],
   "source": [
    "index.add(sentence_embeddings)\n",
    "index.ntotal  # Кол-во эмбеддингов в индексе"
   ]
  },
  {
   "cell_type": "code",
   "execution_count": 130,
   "metadata": {},
   "outputs": [
    {
     "data": {
      "text/plain": [
       "<faiss.swigfaiss_avx2.IndexFlatL2; proxy of <Swig Object of type 'faiss::IndexFlatL2 *' at 0x7fdd5a6e8150> >"
      ]
     },
     "execution_count": 130,
     "metadata": {},
     "output_type": "execute_result"
    }
   ],
   "source": [
    "index"
   ]
  },
  {
   "cell_type": "markdown",
   "metadata": {},
   "source": [
    "Ищем по запросу `xq` и количеству ближайших соседей `k`."
   ]
  },
  {
   "cell_type": "code",
   "execution_count": 120,
   "metadata": {},
   "outputs": [],
   "source": [
    "k = 4\n",
    "xq = model.encode([\"Someone sprints with a football\"])"
   ]
  },
  {
   "cell_type": "code",
   "execution_count": 323,
   "metadata": {},
   "outputs": [
    {
     "data": {
      "text/plain": [
       "array([[ 3.40069562e-01,  3.43646288e-01,  2.81912416e-01,\n",
       "        -3.54880579e-02, -5.26642799e-01,  3.70464008e-03,\n",
       "         5.70909418e-02,  2.39843100e-01, -1.04011106e+00,\n",
       "        -2.04477072e-01, -8.90289903e-01,  1.75435409e-01,\n",
       "         3.69396895e-01,  6.69189990e-01,  1.31429005e+00,\n",
       "        -1.31140113e-01, -5.46037555e-01, -8.47338378e-01,\n",
       "         1.20974839e-01,  9.81436595e-02, -9.75061119e-01,\n",
       "        -4.59195852e-01, -2.25163758e-01, -5.20365715e-01,\n",
       "         2.96335548e-01,  1.52921513e-01,  2.62354553e-01,\n",
       "         2.14539334e-01, -1.54931688e+00,  4.35512513e-01,\n",
       "         1.53174438e-02,  8.81980360e-02,  6.73890471e-01,\n",
       "         2.79155076e-01, -7.12098777e-01, -4.70585227e-01,\n",
       "         3.43566775e-01, -1.01493859e+00,  1.05920970e-01,\n",
       "        -6.96904421e-01, -4.80620414e-02,  5.13038814e-01,\n",
       "        -1.15645230e+00, -1.87571481e-01, -1.12754714e+00,\n",
       "        -5.10746896e-01, -9.10516381e-01,  5.66141494e-02,\n",
       "        -1.22334087e+00, -2.15125784e-01,  3.39040309e-01,\n",
       "         1.16214478e+00, -1.84694505e+00, -7.33605385e-01,\n",
       "        -4.22006249e-01,  4.82028663e-01,  7.25153387e-01,\n",
       "        -8.54855835e-01, -1.09229960e-01,  5.53580940e-01,\n",
       "        -2.11119622e-01, -4.64847773e-01,  1.12691268e-01,\n",
       "         4.29601789e-01, -1.22190261e+00, -2.46466503e-01,\n",
       "         3.40188622e-01,  1.34177119e-01, -1.12206078e+00,\n",
       "        -7.88563430e-01,  4.87484969e-03, -6.22328579e-01,\n",
       "        -4.96684283e-01, -1.38840079e-01,  5.32857105e-02,\n",
       "        -1.63248348e+00,  4.55397010e-01,  5.71117938e-01,\n",
       "         1.57794297e-01,  3.95898014e-01, -2.99829040e-02,\n",
       "         4.64392543e-01,  6.68557823e-01,  8.54062140e-01,\n",
       "         8.07914585e-02, -2.35817786e-02,  3.29519868e-01,\n",
       "         7.27763891e-01, -3.20617296e-02, -4.28523030e-03,\n",
       "         4.65849578e-01,  4.05515805e-02, -3.22428048e-01,\n",
       "        -5.65883338e-01,  3.61198008e-01,  8.59131455e-01,\n",
       "        -5.11038125e-01, -5.08300602e-01,  9.54871178e-02,\n",
       "        -3.50980647e-02, -8.99692178e-01,  1.83197871e-01,\n",
       "        -7.66798317e-01,  3.49041969e-01,  9.33609009e-02,\n",
       "        -3.69343251e-01, -3.01770955e-01,  6.02312922e-01,\n",
       "         3.05484533e-01, -3.97097832e-03, -3.81315857e-01,\n",
       "         1.71746582e-01,  4.35789734e-01, -7.79604435e-01,\n",
       "        -5.82738817e-01, -1.63438678e-01,  6.09277666e-01,\n",
       "         7.45625794e-01, -1.81923822e-01,  7.99198449e-01,\n",
       "         1.48209676e-01,  1.66676611e-01,  1.53610632e-01,\n",
       "        -5.93830228e-01, -2.19751373e-01, -4.45333213e-01,\n",
       "         1.01249850e+00, -1.98547497e-01, -8.54486704e-01,\n",
       "         1.09851398e-02, -2.44806886e-01,  2.91542053e-01,\n",
       "        -1.97262526e-01, -6.36696257e-03, -3.81235331e-02,\n",
       "         1.15601406e-01,  4.44359064e-01,  3.37020516e-01,\n",
       "        -2.04194143e-01, -1.77560866e-01, -3.79635334e-01,\n",
       "         1.79645300e-01,  1.36693314e-01,  3.22377503e-01,\n",
       "        -5.16113102e-01, -8.68960798e-01,  1.17244756e+00,\n",
       "         9.87031400e-01, -8.16484511e-01,  3.51887822e-01,\n",
       "        -3.18479747e-01,  6.19956195e-01, -9.07740355e-01,\n",
       "         1.11639702e+00, -5.30637145e-01,  1.56885481e+00,\n",
       "         1.47536230e+00,  1.85348522e-02,  5.17807662e-01,\n",
       "         8.59998226e-01, -3.61787111e-01,  6.54493392e-01,\n",
       "        -5.49208999e-01, -2.41391987e-01, -5.15083969e-01,\n",
       "        -1.04356579e-01, -1.25540674e-01,  1.43125862e-01,\n",
       "        -2.29571968e-01, -1.78730857e+00,  5.35647511e-01,\n",
       "        -2.78016869e-02, -3.80151629e-01,  7.10629284e-01,\n",
       "        -2.35883325e-01, -2.44590908e-01, -8.89546573e-02,\n",
       "         4.41702485e-01, -4.89495397e-02, -2.53031462e-01,\n",
       "         1.15718395e-01, -3.31820965e-01,  1.20347452e+00,\n",
       "        -1.75408140e-01, -1.14712167e+00, -2.07487389e-01,\n",
       "         1.24608624e+00, -4.21136200e-01, -1.37750834e-01,\n",
       "        -1.63411427e+00,  9.31405723e-02, -5.30423343e-01,\n",
       "        -9.40767109e-01, -1.28390694e+00, -2.42253169e-02,\n",
       "        -9.63540614e-01, -1.71590038e-03, -6.37109518e-01,\n",
       "        -8.19492117e-02,  6.41661167e-01, -1.66986719e-01,\n",
       "        -5.06312609e-01,  5.29932916e-01,  2.91485041e-01,\n",
       "         1.74376845e-01,  3.98961544e-01,  5.93283236e-01,\n",
       "         1.06212668e-01, -4.83915597e-01, -1.54444411e-01,\n",
       "         2.63611197e-01,  7.39113331e-01,  9.25473809e-01,\n",
       "         3.22997600e-01, -6.63842022e-01,  6.82960272e-01,\n",
       "        -1.80228390e-02, -3.49957198e-02, -2.28429466e-01,\n",
       "         1.10068545e-01,  7.23800659e-02, -6.39831305e-01,\n",
       "         4.90981698e-01,  4.86308575e-01, -6.67116821e-01,\n",
       "         9.26697195e-01,  2.51698166e-01, -6.55730009e-01,\n",
       "        -3.29945803e-01,  3.46915126e-01,  1.40382275e-01,\n",
       "         6.17877424e-01, -1.52193785e-01,  9.49403346e-02,\n",
       "        -1.02242649e+00, -1.42679238e+00, -1.43383993e-02,\n",
       "        -5.41481614e-01,  1.45358011e-01,  7.46212527e-02,\n",
       "         8.89490724e-01,  1.87311101e+00,  1.33718407e+00,\n",
       "         7.19798744e-01, -5.81975222e-01, -1.23270428e+00,\n",
       "         1.54029429e+00,  1.94719955e-01,  6.14088587e-03,\n",
       "         3.75877202e-01, -3.73142183e-01, -6.28093481e-01,\n",
       "         2.20491618e-01,  6.28088266e-02, -1.84740603e-01,\n",
       "        -4.49152589e-02, -4.11231816e-01,  8.45435798e-01,\n",
       "        -1.79202519e-02, -1.15487671e+00,  6.16059244e-01,\n",
       "        -2.16268212e-01,  1.29371628e-01,  7.00088143e-01,\n",
       "        -1.10020041e+00, -7.90369689e-01, -7.27848530e-01,\n",
       "         3.20468470e-02,  1.02140045e+00,  3.37692410e-01,\n",
       "        -4.65682223e-02,  3.48667145e-01, -9.51721847e-01,\n",
       "         2.89296269e-01, -7.82730579e-02, -5.41615263e-02,\n",
       "         3.69764149e-01,  1.34144783e-01, -3.51348251e-01,\n",
       "         5.41693866e-01, -7.02151895e-01, -5.45451105e-01,\n",
       "        -1.25123575e-01, -1.78316638e-01, -2.47555614e-01,\n",
       "        -1.50077328e-01,  6.94209576e-01,  2.68484987e-02,\n",
       "        -1.00652181e-01, -3.90222311e-01, -2.51568630e-02,\n",
       "        -9.15460587e-01, -3.28256816e-01, -5.94699621e-01,\n",
       "        -1.57784775e-01,  9.94898975e-01,  8.71130288e-01,\n",
       "        -6.08803034e-01, -2.47744992e-02, -1.07197553e-01,\n",
       "        -4.30435389e-01,  2.66386300e-01,  3.01344216e-01,\n",
       "        -5.67422152e-01, -7.33861387e-01,  1.80265501e-01,\n",
       "         1.98161259e-01,  6.14978492e-01,  7.03082606e-02,\n",
       "        -3.03051710e-01, -1.14251614e-01, -9.39224601e-01,\n",
       "         2.75066905e-02,  2.92717487e-01, -1.11928070e+00,\n",
       "        -4.90843028e-01, -5.73359668e-01, -7.52581000e-01,\n",
       "        -1.22651784e-02, -7.81910300e-01, -7.94287920e-01,\n",
       "        -6.14109039e-01, -3.90617818e-01, -4.75985184e-03,\n",
       "         1.06929529e+00, -6.53195620e-01, -5.34196317e-01,\n",
       "        -8.05570409e-02, -4.80882525e-02, -4.26146656e-01,\n",
       "         6.59402966e-01, -1.41010308e+00, -7.79127657e-01,\n",
       "         6.97971165e-01,  5.05942643e-01,  4.59775031e-02,\n",
       "         6.61882386e-02, -3.83586213e-02,  1.48567796e+00,\n",
       "         3.69282216e-01,  3.30235064e-01,  6.81566238e-01,\n",
       "        -3.32604498e-01,  5.41137420e-02,  8.03949296e-01,\n",
       "        -1.31667531e+00, -2.04340839e+00, -4.93347384e-02,\n",
       "         4.55261767e-01, -7.19961464e-01,  3.95438045e-01,\n",
       "        -6.24392807e-01, -3.76759470e-01, -1.52663910e+00,\n",
       "        -2.97493637e-01, -1.13507323e-01, -2.21431851e-01,\n",
       "        -1.85981840e-01, -6.17827475e-01,  6.46398067e-01,\n",
       "         3.40791315e-01,  4.26498204e-01,  5.62825322e-01,\n",
       "        -8.72446001e-01,  1.24481297e+00, -1.77977785e-01,\n",
       "        -9.24158320e-02,  1.44975877e+00,  3.89049411e-01,\n",
       "        -8.18391517e-03, -3.87170166e-01,  3.95756245e-01,\n",
       "        -3.11210334e-01, -4.56265301e-01, -6.35673404e-02,\n",
       "        -5.90562165e-01, -5.98973811e-01, -4.59420651e-01,\n",
       "         1.49916232e-01, -1.82394013e-01,  2.38935813e-01,\n",
       "        -1.04650944e-01,  2.45070875e-01,  1.62815511e-01,\n",
       "         3.44317615e-01, -1.24180309e-01, -7.11603016e-02,\n",
       "         7.30119586e-01, -1.18935430e+00, -7.98257351e-01,\n",
       "         1.53878570e+00, -1.94107577e-01, -2.00478539e-01,\n",
       "         4.98696715e-01, -5.62591195e-01, -5.72290778e-01,\n",
       "         2.39097401e-01,  6.23143971e-01,  3.93808603e-01,\n",
       "         7.14159459e-02,  8.70188296e-01, -6.52715445e-01,\n",
       "         1.38133144e+00,  7.32287228e-01,  2.80890912e-01,\n",
       "        -2.37989604e-01,  1.60382950e+00,  2.77811527e-01,\n",
       "        -1.64455235e-01, -4.36632574e-01, -3.18083078e-01,\n",
       "        -1.64473057e-01, -4.29503798e-01, -3.14760834e-01,\n",
       "        -5.65709114e-01, -2.31764093e-01,  1.03944027e+00,\n",
       "        -2.95956075e-01,  2.77610242e-01,  1.07944989e+00,\n",
       "        -7.47684121e-01, -8.71854842e-01, -2.81594187e-01,\n",
       "        -2.48468533e-01,  9.87880453e-02,  8.32012057e-01,\n",
       "         2.82635868e-01, -1.04785502e+00, -7.50655472e-01,\n",
       "         2.23075569e-01, -2.61553794e-01, -3.00456524e-01,\n",
       "        -4.36902285e-01,  1.53671515e+00, -9.32487696e-02,\n",
       "        -4.78927314e-01,  1.84080994e+00, -4.10232455e-01,\n",
       "        -4.18342836e-02, -1.99117452e-01, -3.00892234e-01,\n",
       "         6.66156173e-01,  3.37581396e-01,  8.58504534e-01,\n",
       "         9.31720078e-01, -8.72772634e-02, -7.60688305e-01,\n",
       "        -2.15878057e+00,  1.73969761e-01, -6.48802817e-01,\n",
       "         7.41908669e-01,  3.40965033e-01, -1.03537536e+00,\n",
       "        -2.52189189e-01,  2.08427757e-01,  6.31410718e-01,\n",
       "        -3.36999893e-01, -1.30259252e+00,  3.60859185e-02,\n",
       "        -7.44694948e-01, -2.76139975e-01, -1.03770509e-01,\n",
       "        -1.05017769e+00, -1.16960287e-01,  1.54215500e-01,\n",
       "         4.05411385e-02, -4.67840344e-01, -1.25805712e+00,\n",
       "         1.86950356e-01,  6.16221488e-01, -5.70816576e-01,\n",
       "         2.63691675e-02,  3.96820962e-01,  6.31573975e-01,\n",
       "         8.54046106e-01, -6.57986999e-01, -6.43291235e-01,\n",
       "        -5.16290404e-03,  3.86287242e-01, -3.84693980e-01,\n",
       "         5.60870469e-01, -5.89242205e-02, -3.47782552e-01,\n",
       "         8.46352875e-01, -1.76052481e-01,  2.93888420e-01,\n",
       "         4.51613784e-01,  1.69183448e-01,  8.81462842e-02,\n",
       "         1.91043615e-01,  1.07614207e+00,  4.87722337e-01,\n",
       "        -7.35225677e-02, -1.29151344e+00, -2.85720587e-01,\n",
       "         3.37964505e-01, -9.99663591e-01,  6.79847717e-01,\n",
       "         3.02261263e-01,  5.42559505e-01, -4.27294672e-01,\n",
       "        -5.97206533e-01, -4.71409231e-01, -4.77975130e-01,\n",
       "        -1.92208552e+00, -4.51469049e-02,  2.06485605e+00,\n",
       "        -3.04148316e-01, -5.40998578e-02,  3.78882617e-01,\n",
       "         1.54788578e+00, -5.13712108e-01,  4.47051376e-01,\n",
       "         7.49898612e-01, -3.65958102e-02,  4.51534063e-01,\n",
       "         7.43544698e-02, -2.06477463e-01, -3.85264695e-01,\n",
       "        -1.03409290e+00,  7.97220230e-01,  9.46476385e-02,\n",
       "         1.98611557e-01, -1.24319665e-01, -1.33350372e+00,\n",
       "         6.76311910e-01, -8.44171166e-01,  1.84712246e-01,\n",
       "        -2.53302217e-01,  6.03070199e-01, -1.08609512e-01,\n",
       "         2.27237999e-01, -5.43488026e-01,  2.78167367e-01,\n",
       "        -3.31302375e-01, -4.89497483e-01,  3.41188878e-01,\n",
       "        -1.37946978e-01,  1.56847000e+00, -5.68366706e-01,\n",
       "         2.53680468e-01,  1.11510180e-01,  5.12205780e-01,\n",
       "        -1.53693557e-01,  1.38409808e-01,  3.77303585e-02,\n",
       "         2.48579122e-02, -1.27810180e+00,  2.65479267e-01,\n",
       "        -6.57279909e-01, -7.13832855e-01,  2.65325695e-01,\n",
       "         2.81819135e-01,  5.66264033e-01,  8.46521929e-02,\n",
       "         1.75925776e-01,  1.08303353e-01,  5.15571058e-01,\n",
       "        -8.86359215e-02,  1.62423098e+00, -6.96295738e-01,\n",
       "         7.59571910e-01, -1.04839277e+00,  2.31074542e-02,\n",
       "        -7.66576171e-01, -5.05201757e-01,  9.82410312e-01,\n",
       "        -4.50016856e-01,  8.15035105e-02,  2.82777876e-01,\n",
       "         4.33068536e-02, -4.56147075e-01,  2.92878933e-02,\n",
       "        -2.80230910e-01, -2.76737958e-01, -4.00142193e-01,\n",
       "         9.48621690e-01,  5.41976690e-01, -4.80969995e-01,\n",
       "        -5.41617386e-02,  1.01784003e+00,  6.55005455e-01,\n",
       "         3.07547837e-01, -7.89355934e-01, -1.26241595e-01,\n",
       "         9.57254052e-01, -4.12920326e-01,  1.99341431e-01,\n",
       "        -9.81794298e-01, -1.39842644e-01,  1.05507934e+00,\n",
       "         8.72161165e-02,  8.85107994e-01,  1.04990792e+00,\n",
       "         1.05826545e+00, -5.94442368e-01, -7.74807453e-01,\n",
       "         9.82293963e-01, -3.74177456e-01, -2.10732132e-01,\n",
       "        -1.73209831e-02, -1.03415132e+00, -9.88958538e-01,\n",
       "         5.44523716e-01,  2.11675063e-01,  3.53984296e-01,\n",
       "        -3.53727043e-02, -3.64199847e-01,  2.36174554e-01,\n",
       "         5.34625888e-01,  1.49837565e+00, -1.53745389e+00,\n",
       "        -2.43080661e-01, -8.72318327e-01,  2.04100907e-01,\n",
       "        -7.69518554e-01,  2.86588103e-01,  1.28302917e-01,\n",
       "         2.00403035e-01,  2.45265126e-01, -1.16543949e+00,\n",
       "         2.02712286e-02,  9.53211367e-01, -2.06259161e-01,\n",
       "         2.34295547e-01, -6.95112407e-01,  7.17562139e-01,\n",
       "        -5.09548545e-01,  3.18564326e-01,  6.32578656e-02,\n",
       "         4.12992448e-01, -5.90815485e-01, -6.23731613e-01,\n",
       "        -6.08332336e-01, -4.06667627e-02,  4.41252530e-01,\n",
       "        -6.51093423e-01,  8.70150849e-02, -2.81638920e-01,\n",
       "         1.81371085e-02, -8.04609597e-01, -3.80342990e-01,\n",
       "         7.92389587e-02, -6.16293013e-01,  3.57938528e-01,\n",
       "         7.62905180e-01,  3.73349667e-01,  1.14867687e+00,\n",
       "         5.80059826e-01,  9.44089472e-01, -2.00522125e-01,\n",
       "        -2.37627447e-01, -7.93178558e-01,  1.29908696e-01,\n",
       "         2.61045992e-01,  3.50917876e-01, -3.34176958e-01,\n",
       "         8.52708876e-01, -6.43536225e-02,  8.55480731e-01,\n",
       "         5.40005982e-01,  4.31099623e-01,  2.87990302e-01,\n",
       "        -3.57318223e-01, -4.40969616e-02, -1.68238342e-01,\n",
       "         2.88717210e-01,  1.87341362e-01,  3.09717715e-01,\n",
       "         1.14586377e+00,  1.88833252e-01, -2.32600018e-01,\n",
       "         4.71287191e-01,  2.41159126e-01, -9.40616354e-02,\n",
       "         1.50258690e-01, -2.59175539e-01,  7.63362408e-01,\n",
       "         5.36379218e-01, -4.84393209e-01,  8.81386623e-02,\n",
       "         4.43548441e-01,  1.61106735e-01,  2.96280652e-01,\n",
       "         1.61244720e-01, -6.19554937e-01, -2.17053264e-01,\n",
       "         1.25205338e-01, -1.17806923e+00, -3.66332829e-01,\n",
       "         9.09118295e-01,  9.20696437e-01, -8.69209096e-02,\n",
       "        -8.20392847e-01, -2.83664644e-01,  8.16987276e-01,\n",
       "        -4.30615321e-02, -4.50497195e-02, -2.59493142e-01,\n",
       "        -4.48444188e-01, -4.31030393e-01, -9.67709273e-02,\n",
       "         8.08133334e-02, -1.10653853e+00, -1.85962878e-02,\n",
       "        -2.34544560e-01,  3.46119463e-01,  1.76436171e-01,\n",
       "         1.02589691e+00,  3.39225568e-02, -1.02646625e+00,\n",
       "         6.70400977e-01, -1.04768050e+00,  5.64867854e-02,\n",
       "         1.17800653e+00, -4.43997711e-01,  5.12870401e-02,\n",
       "         3.49716336e-01,  3.35794687e-01, -6.39057636e-01,\n",
       "        -6.32036328e-01, -4.80455533e-02, -4.95186031e-01,\n",
       "        -6.58358216e-01, -4.31412160e-01, -8.09404910e-01,\n",
       "        -2.77780861e-01,  5.70087135e-01, -2.12278247e-01,\n",
       "         3.54685336e-01, -5.34649372e-01,  4.84331697e-01,\n",
       "        -5.75908184e-01,  4.10692990e-01,  8.53761077e-01,\n",
       "         9.48919952e-02,  6.49356782e-01, -5.78723788e-01,\n",
       "        -4.00423139e-01,  3.97674680e-01, -1.87295191e-02,\n",
       "        -1.14262295e+00, -4.46030468e-01,  7.01220393e-01,\n",
       "        -3.30113709e-01, -2.82182157e-01, -3.23249370e-01,\n",
       "         1.12537339e-01,  2.47698635e-01,  8.70989442e-01,\n",
       "         8.51445079e-01,  8.16407204e-01,  6.14122786e-02,\n",
       "        -6.32344007e-01, -4.60432649e-01,  7.25747049e-01,\n",
       "         1.61962971e-01, -4.48809087e-01,  4.05946761e-01,\n",
       "         3.98220211e-01,  1.59054208e+00,  4.36627686e-01,\n",
       "        -3.20180178e-01, -3.12335521e-01,  3.73019636e-01,\n",
       "        -3.25624533e-02, -7.58456290e-01,  2.94585526e-01]], dtype=float32)"
      ]
     },
     "execution_count": 323,
     "metadata": {},
     "output_type": "execute_result"
    }
   ],
   "source": [
    "xq"
   ]
  },
  {
   "cell_type": "code",
   "execution_count": 132,
   "metadata": {},
   "outputs": [
    {
     "name": "stdout",
     "output_type": "stream",
     "text": [
      "CPU times: user 4.36 ms, sys: 1.55 ms, total: 5.91 ms\n",
      "Wall time: 3.91 ms\n"
     ]
    }
   ],
   "source": [
    "%%time\n",
    "D, I = index.search(xq, k)  # search"
   ]
  },
  {
   "cell_type": "code",
   "execution_count": 138,
   "metadata": {},
   "outputs": [
    {
     "data": {
      "text/plain": [
       "array([[ 9525, 11640, 13575,  2977]])"
      ]
     },
     "execution_count": 138,
     "metadata": {},
     "output_type": "execute_result"
    }
   ],
   "source": [
    "# Индексы наиболее близких\n",
    "I"
   ]
  },
  {
   "cell_type": "code",
   "execution_count": 139,
   "metadata": {},
   "outputs": [],
   "source": [
    "data = pd.DataFrame()\n",
    "data['text'] = sentences"
   ]
  },
  {
   "cell_type": "code",
   "execution_count": 140,
   "metadata": {},
   "outputs": [
    {
     "data": {
      "text/plain": [
       "[['A group of football players is running in the field'],\n",
       " ['A group of people playing football is running in the field'],\n",
       " ['Two groups of people are playing football'],\n",
       " ['A person playing football is running past an official carrying a football']]"
      ]
     },
     "execution_count": 140,
     "metadata": {},
     "output_type": "execute_result"
    }
   ],
   "source": [
    "data.iloc[[ 9525, 11640, 13575,  2977]].values.tolist()"
   ]
  },
  {
   "cell_type": "markdown",
   "metadata": {},
   "source": [
    "## Можно возвращать сами векторы тоже"
   ]
  },
  {
   "cell_type": "code",
   "execution_count": 143,
   "metadata": {},
   "outputs": [],
   "source": [
    "# надо 4 (k) вектора вернуть - инициализируем массив нулей \n",
    "vecs = np.zeros((k, d))\n",
    "\n",
    "# итерируемся по ID из I и добавляем наш вектор к исходному списочку нулей\n",
    "for i, val in enumerate(I[0].tolist()):\n",
    "    vecs[i, :] = index.reconstruct(val)"
   ]
  },
  {
   "cell_type": "code",
   "execution_count": 144,
   "metadata": {},
   "outputs": [
    {
     "data": {
      "text/plain": [
       "(4, 768)"
      ]
     },
     "execution_count": 144,
     "metadata": {},
     "output_type": "execute_result"
    }
   ],
   "source": [
    "vecs.shape"
   ]
  },
  {
   "cell_type": "code",
   "execution_count": 145,
   "metadata": {},
   "outputs": [
    {
     "data": {
      "text/plain": [
       "array([ 0.01627034,  0.22325929, -0.15037385, -0.30747244, -0.27122447,\n",
       "       -0.10593194, -0.06460941,  0.04738215, -0.73349088, -0.3765769 ,\n",
       "       -0.76762801,  0.16902898,  0.53107649,  0.51176614,  1.1441586 ,\n",
       "       -0.08562845, -0.67240053, -0.96637106,  0.02545464, -0.2155983 ,\n",
       "       -1.25656617, -0.82982188, -0.0982499 , -0.21850872,  0.5061025 ,\n",
       "        0.10527956,  0.50396866,  0.65242952, -1.39458716,  0.65847522,\n",
       "       -0.21525335, -0.22487454,  0.81818348,  0.08464322, -0.76141697,\n",
       "       -0.28928325, -0.09825743, -0.73046154,  0.07855825, -0.84354568,\n",
       "       -0.5924204 ,  0.77471358, -1.20920563, -0.22757965, -1.30733573,\n",
       "       -0.23081471, -1.31322563,  0.01629072, -0.97285467,  0.19308154,\n",
       "        0.47424552,  1.18920922, -1.96741259, -0.70061094, -0.29638755,\n",
       "        0.6053372 ,  0.62407476, -0.70340371, -0.86754173,  0.17673093,\n",
       "       -0.19170557, -0.02951969,  0.22623551, -0.1669541 , -0.80402523,\n",
       "       -0.45918941,  0.69675487, -0.24928223, -1.01478684, -0.92174572,\n",
       "       -0.33842686, -0.39296785, -0.83734852, -0.11479244,  0.4604969 ,\n",
       "       -1.45211184,  0.60310459,  0.38696298, -0.04061201,  0.00453192,\n",
       "        0.24117862,  0.05396287,  0.07506444,  1.05115855,  0.12383988,\n",
       "       -0.71281093,  0.11722896,  0.52238208, -0.04581159,  0.26827082,\n",
       "        0.85985416, -0.35669896, -0.64667088, -0.54357934, -0.04310511,\n",
       "        0.95139194, -0.15605672, -0.49625298, -0.11140192,  0.15610142])"
      ]
     },
     "execution_count": 145,
     "metadata": {},
     "output_type": "execute_result"
    }
   ],
   "source": [
    "vecs[0][:100]"
   ]
  },
  {
   "cell_type": "code",
   "execution_count": 146,
   "metadata": {},
   "outputs": [],
   "source": [
    "# Индекс можно сохранить на диск и затем загрузить с диска:\n",
    "\n",
    "faiss.write_index(index, \"flat.index\")\n",
    "index = faiss.read_index(\"flat.index\")"
   ]
  },
  {
   "cell_type": "markdown",
   "metadata": {},
   "source": [
    "# Ложка дегтя номер 1 - он толстый\n",
    "\n",
    "Несколько строчек кода – и мы уже получили структуру для поиска по векторам высокой размерности. Но такой индекс всего с `десятком миллионов` векторов размерности `512` будет весить около `20Гб` и занимать при использовании столько же RAM."
   ]
  },
  {
   "cell_type": "markdown",
   "metadata": {},
   "source": [
    "# Ложка дегтя номер 2 - Производительность оставляет желать лучшего\n",
    "\n",
    "Использование `IndexFlatL2` требует больших вычислительных ресурсов и плохо масштабируется.\n",
    "При использовании этого индекса мы выполняем полный перебор — это означает, что мы сравниваем наш вектор запроса `xq` с  **каждым** вектором в нашем индексе, у нас это 14,5 тыс. вычислений L2-расстояния для каждого поиска.\n",
    "\n",
    "Представьте себе скорость нашего поиска наборов данных, содержащих 1 млн, 1 млрд или даже больше векторов, а еще хуже станет, когда мы вкинем несколько векторов запросов.\n",
    "\n",
    "\n",
    "грустное масштабирование:\n",
    "\n",
    "<img src = \"https://d33wubrfki0l68.cloudfront.net/53a63129ced78ac37b2b4b4fbb330148a44c1ed1/f5ed1/images/faiss3.png\">"
   ]
  },
  {
   "cell_type": "markdown",
   "metadata": {},
   "source": [
    "# Как сделать лучше? \n",
    "\n",
    "## [Диаграммы Вороного](https://ru.wikipedia.org/wiki/Диаграмма_Вороного)\n",
    "\n",
    "Определение:\n",
    "\n",
    "    Диаграмма Вороного конечного множества точек S на плоскости представляет такое разбиение плоскости, при котором каждая область этого разбиения образует множество точек, более близких к одному из элементов множества S, чем к любому другому элементу множества\n",
    "    \n",
    "    \n",
    "Если есть небольшое кол-во точек, то можно построить диаграмму Вороного за [$O(nlogn+n^{[d/2]})$](https://arxiv.org/pdf/2110.06163.pdf) На самом деле, это ужасно ))) Посудите сами:\n",
    "\n",
    "Если d = 768, n = 1000, то сделать из этого Диаграмму Вороного можно за $O(n^{384})$\n",
    "\n",
    "<img src = \"https://upload.wikimedia.org/wikipedia/commons/2/25/Fortunes-algorithm.gif\">\n",
    "\n",
    "\n",
    "\n",
    "## А FAISS тут при чем?\n",
    "Крутейшая особенность **FAISS** – `IVF index`, или `Inverted File inde`x. Идея `Inverted files` лаконична, и [красиво объясняется на пальцах](https://medium.com/dotstar/understanding-faiss-part-2-79d90b1e5388):\n",
    "\n",
    "Давайте представим себе гигантскую армию, состоящую из самых разношерстных воинов, численностью, скажем, в 1 000 000 человек. Командовать всей армией сразу будет невозможно. Как и принято в военном деле, нужно разделить нашу армию на подразделения. Давайте разделим на $\\sqrt{1 000 000} = 1000$ примерно равных частей, выбрав на роли командиров по представителю из каждого подразделения. И постараемся отправить максимально похожих по характеру, происхождению, физическим данным и т.д. воинов в одно подразделение, а командира выберем таким, чтобы он максимально точно представлял свое подразделение – был кем-то «средним». В итоге наша задача свелась от командования миллионом воинов к командованию 1000-ю подразделениями через их командиров, и мы имеем отличное представление о составе нашей армии, так как знаем, что из себя представляют командиры.\n",
    "\n",
    "В этом и состоит идея `IVF` индекса: сгруппируем большой набор векторов по частям с помощью алгоритма k-средних, каждой части поставив в соответствие центроид, – вектор, являющийся выбранным центром для данного кластера. Поиск будем осуществлять через минимальное расстояние до центроидов, и только потом искать минимальные расстояния среди векторов в том кластере, что соответствует данной центроиду. Взяв k равным $\\sqrt{n}$, где $n$ – количество векторов в индексе, мы получим оптимальный поиск на двух уровнях – сначала среди $\\sqrt{n}$ центроидов, затем среди $\\sqrt{n}$ векторов в каждом кластере. Поиск по сравнению с полным перебором ускоряется в разы, что решает одну из наших проблем при работе с множеством миллионов векторов.\n",
    "\n",
    "<img src = \"https://habrastorage.org/r/w1560/webt/wa/fa/gl/wafaglupre-y6bt9hmozs9aeyoi.jpeg\">\n",
    "\n",
    "\n",
    "### Сложность построения k-средних\n",
    "\n",
    "`O(dnki)` , где\n",
    "\n",
    "    d - размерность пространства (длина вектора)\n",
    "    n - длина выборки\n",
    "    k - кол-во кластеров\n",
    "    i - кол-во итераций до сходимости\n",
    "    \n",
    "    \n",
    "### Когда пошло хорошо:\n",
    "\n",
    "\n",
    "<img src = \"http://freakonometrics.hypotheses.org/files/2015/02/k-means-5-groups-2-version-2-1.png\">\n",
    "\n",
    "### Когда пошло плохо:\n",
    "\n",
    "\n",
    "<img src = \"http://freakonometrics.hypotheses.org/files/2015/02/k-means-5-groups-1-version-1-2.png\">\n",
    "\n"
   ]
  },
  {
   "cell_type": "markdown",
   "metadata": {},
   "source": [
    "# IVF Index\n",
    "\n",
    "<img src = \"https://d33wubrfki0l68.cloudfront.net/e3eb6e0a4a35503acf56bc7bfa8c82cda6c59290/0a03d/images/faiss4.png\">\n",
    "\n",
    "\n",
    "Используя этот метод, мы берем вектор запроса xq, идентифицируем ячейку, которой он принадлежит, а затем используем наш `IndexFlatL2` (или другую метрику) для поиска между вектором запроса и всеми другими векторами, принадлежащими этой конкретной ячейке.\n",
    "\n",
    "Таким образом, мы сужаем область поиска, выдавая приблизительный ответ, а не точный (как получается при исчерпывающем переборе).\n",
    "\n",
    "Чтобы реализовать это, мы сначала инициализируем наш индекс с помощью `IndexFlatL2` — но на этот раз мы используем индекс L2 в качестве шага квантования — который мы передаем в разделяющий индекс `IndexIVFFlat`."
   ]
  },
  {
   "cell_type": "code",
   "execution_count": 147,
   "metadata": {},
   "outputs": [],
   "source": [
    "nlist = 50  # Сколько ячеек\n",
    "quantizer = faiss.IndexFlatL2(d)\n",
    "index = faiss.IndexIVFFlat(quantizer, d, nlist)"
   ]
  },
  {
   "cell_type": "code",
   "execution_count": 298,
   "metadata": {},
   "outputs": [
    {
     "data": {
      "text/plain": [
       "768"
      ]
     },
     "execution_count": 298,
     "metadata": {},
     "output_type": "execute_result"
    }
   ],
   "source": [
    "d"
   ]
  },
  {
   "cell_type": "markdown",
   "metadata": {},
   "source": [
    "Здесь мы добавили новый параметр `nlist`, чтобы указать, сколько ячеек Вороного мы хотели бы иметь в индексе.\n",
    "\n",
    "Когда мы строили предыдущий индекс только для `IndexFlatL2`, нам не нужно было обучать индекс, поскольку для построения индекса не требовалось никаких группировок/преобразований. \n",
    "\n",
    "Поскольку мы добавили кластеризацию с помощью `IndexIVFFlat`, это уже не так.\n",
    "\n",
    "Обучаем наш индекс по данным, прежде чем добавлять."
   ]
  },
  {
   "cell_type": "code",
   "execution_count": 148,
   "metadata": {},
   "outputs": [
    {
     "data": {
      "text/plain": [
       "False"
      ]
     },
     "execution_count": 148,
     "metadata": {},
     "output_type": "execute_result"
    }
   ],
   "source": [
    "index.is_trained"
   ]
  },
  {
   "cell_type": "code",
   "execution_count": 149,
   "metadata": {},
   "outputs": [
    {
     "data": {
      "text/plain": [
       "True"
      ]
     },
     "execution_count": 149,
     "metadata": {},
     "output_type": "execute_result"
    }
   ],
   "source": [
    "index.train(sentence_embeddings)\n",
    "index.is_trained  # check if index is now trained"
   ]
  },
  {
   "cell_type": "code",
   "execution_count": 150,
   "metadata": {},
   "outputs": [
    {
     "data": {
      "text/plain": [
       "14504"
      ]
     },
     "execution_count": 150,
     "metadata": {},
     "output_type": "execute_result"
    }
   ],
   "source": [
    "index.add(sentence_embeddings)\n",
    "index.ntotal  # number of embeddings indexed"
   ]
  },
  {
   "cell_type": "code",
   "execution_count": 151,
   "metadata": {},
   "outputs": [
    {
     "name": "stdout",
     "output_type": "stream",
     "text": [
      "[[ 9525 11640 13575  2977]]\n",
      "CPU times: user 1.39 ms, sys: 4.02 ms, total: 5.4 ms\n",
      "Wall time: 7.54 ms\n"
     ]
    }
   ],
   "source": [
    "%%time\n",
    "D, I = index.search(xq, k)  # search\n",
    "print(I)"
   ]
  },
  {
   "cell_type": "markdown",
   "metadata": {},
   "source": [
    "Если приближенный поиск с `IndexIVFFlat` возвращает не самые оптимальные результаты, мы можем повысить точность, увеличив область поиска. Для этого надо увеличить значение атрибута `nprobe`, который определяет, сколько соседних ячеек нужно перебрать.\n",
    "\n",
    "<img src = \"https://d33wubrfki0l68.cloudfront.net/44acb1425f25e30ca058daec92bdb209c6c47ad2/e92fc/images/faiss5.png\">"
   ]
  },
  {
   "cell_type": "code",
   "execution_count": 152,
   "metadata": {},
   "outputs": [],
   "source": [
    "index.nprobe = 5"
   ]
  },
  {
   "cell_type": "code",
   "execution_count": 153,
   "metadata": {},
   "outputs": [
    {
     "name": "stdout",
     "output_type": "stream",
     "text": [
      "[[ 9525 11640 13575  2977]]\n",
      "CPU times: user 3.25 ms, sys: 17.6 ms, total: 20.8 ms\n",
      "Wall time: 50 ms\n"
     ]
    }
   ],
   "source": [
    "%%time\n",
    "D, I = index.search(xq, k)  # search\n",
    "print(I)"
   ]
  },
  {
   "cell_type": "markdown",
   "metadata": {},
   "source": [
    "# Скорость работы\n",
    "<img src = \"https://d33wubrfki0l68.cloudfront.net/c06523067f1a8dcf198068e438fbf6c2a9f35618/215f4/images/faiss6.png\">"
   ]
  },
  {
   "cell_type": "markdown",
   "metadata": {},
   "source": [
    "# Product Quantization\n",
    "\n",
    "Есть еще одна ключевая оптимизация. Все наши индексы до сих пор хранили векторы целиком. В достаточно больших наборах данных, это может быстро стать проблемой.\n",
    "\n",
    "К счастью, у `Faiss` есть возможность сжимать векторы (PQ).\n",
    "\n",
    "Там, где `IVF` позволил нам ускориться, уменьшив область поиска, `PQ` оптимизирует расчет расстояния/сходства.\n",
    "`PQ` работает так:\n",
    "\n",
    "<img src = \"https://d33wubrfki0l68.cloudfront.net/699c5fedaed4afadd0a45c1151aa3fc9992832df/927dd/images/faiss7.png\">"
   ]
  },
  {
   "cell_type": "markdown",
   "metadata": {},
   "source": [
    "    1) Разобьем исходный вектор на несколько подвекторов.\n",
    "    2) Для каждого набора подвекторов мы выполняем операцию кластеризации — создаем \n",
    "       несколько центроидов для каждого набора подвекторов.\n",
    "    3) В нашем векторе подвекторов мы заменяем каждый подвектор идентификатором его ближайшего центроида.\n",
    "    4) Чтобы реализовать все это, мы используем индекс `IndexIVFPQ` — нам тоже нужно будет обучить индекс "
   ]
  },
  {
   "cell_type": "code",
   "execution_count": 154,
   "metadata": {},
   "outputs": [],
   "source": [
    "m = 8  # number of centroid IDs in final compressed vectors\n",
    "bits = 8 # number of bits in each centroid\n",
    "\n",
    "quantizer = faiss.IndexFlatL2(d)  # we keep the same L2 distance flat index\n",
    "index = faiss.IndexIVFPQ(quantizer, d, nlist, m, bits) "
   ]
  },
  {
   "cell_type": "code",
   "execution_count": 155,
   "metadata": {},
   "outputs": [
    {
     "data": {
      "text/plain": [
       "False"
      ]
     },
     "execution_count": 155,
     "metadata": {},
     "output_type": "execute_result"
    }
   ],
   "source": [
    "index.is_trained"
   ]
  },
  {
   "cell_type": "code",
   "execution_count": 156,
   "metadata": {},
   "outputs": [],
   "source": [
    "index.train(sentence_embeddings)"
   ]
  },
  {
   "cell_type": "code",
   "execution_count": 157,
   "metadata": {},
   "outputs": [],
   "source": [
    "index.add(sentence_embeddings)"
   ]
  },
  {
   "cell_type": "code",
   "execution_count": 158,
   "metadata": {},
   "outputs": [],
   "source": [
    "index.nprobe = 5  # align to previous IndexIVFFlat nprobe value"
   ]
  },
  {
   "cell_type": "code",
   "execution_count": 159,
   "metadata": {},
   "outputs": [
    {
     "name": "stdout",
     "output_type": "stream",
     "text": [
      "[[1195 1333 1376 1571]]\n",
      "CPU times: user 1.26 ms, sys: 2.75 ms, total: 4.01 ms\n",
      "Wall time: 4.68 ms\n"
     ]
    }
   ],
   "source": [
    "%%time\n",
    "D, I = index.search(xq, k)\n",
    "print(I)"
   ]
  },
  {
   "cell_type": "markdown",
   "metadata": {},
   "source": [
    "# Скорость vs точность?\n",
    "\n",
    "Благодаря добавлению `PQ` мы сократили время поиска `IVF` с ~ 7,5 мс до ~ 5 мс, небольшая разница для набора данных такого размера, но при увеличении это быстро становится значительным.\n",
    "Однако мы также должны принять к сведению немного отличающиеся возвращаемые результаты. "
   ]
  },
  {
   "cell_type": "code",
   "execution_count": 160,
   "metadata": {},
   "outputs": [
    {
     "data": {
      "text/plain": [
       "['1195: Different football players are teaming on a field',\n",
       " '1333: (American football) a position on the line of scrimmage.',\n",
       " '1376: Football players are on the field.',\n",
       " '1571: A man with a shirt is holding a football']"
      ]
     },
     "execution_count": 160,
     "metadata": {},
     "output_type": "execute_result"
    }
   ],
   "source": [
    "[f'{i}: {sentences[i]}' for i in I[0]]"
   ]
  },
  {
   "cell_type": "markdown",
   "metadata": {},
   "source": [
    "<img src = \"https://d33wubrfki0l68.cloudfront.net/f25282fa5d97c285c658bdaff29747e988ddc609/c6b07/images/faiss8.png\">"
   ]
  },
  {
   "cell_type": "markdown",
   "metadata": {},
   "source": [
    "# Не, ну а что только английское-то\n",
    "\n",
    "<img src = \"https://s1.livelib.ru/boocover/1000196335/200x305/57ea/boocover.jpg\">"
   ]
  },
  {
   "cell_type": "code",
   "execution_count": 162,
   "metadata": {},
   "outputs": [],
   "source": [
    "film_data = pd.read_excel('/Users/i.pile/Downloads/movie_data.xlsx')"
   ]
  },
  {
   "cell_type": "code",
   "execution_count": 168,
   "metadata": {},
   "outputs": [],
   "source": [
    "film_data = film_data[['Название фильма', 'Описание фильма']]"
   ]
  },
  {
   "cell_type": "code",
   "execution_count": 169,
   "metadata": {},
   "outputs": [],
   "source": [
    "film_data.columns = ['name', 'description']"
   ]
  },
  {
   "cell_type": "code",
   "execution_count": 178,
   "metadata": {},
   "outputs": [],
   "source": [
    "film_data.dropna(inplace = True)"
   ]
  },
  {
   "cell_type": "code",
   "execution_count": 179,
   "metadata": {
    "scrolled": false
   },
   "outputs": [
    {
     "data": {
      "text/html": [
       "<div>\n",
       "<style scoped>\n",
       "    .dataframe tbody tr th:only-of-type {\n",
       "        vertical-align: middle;\n",
       "    }\n",
       "\n",
       "    .dataframe tbody tr th {\n",
       "        vertical-align: top;\n",
       "    }\n",
       "\n",
       "    .dataframe thead th {\n",
       "        text-align: right;\n",
       "    }\n",
       "</style>\n",
       "<table border=\"1\" class=\"dataframe\">\n",
       "  <thead>\n",
       "    <tr style=\"text-align: right;\">\n",
       "      <th></th>\n",
       "      <th>name</th>\n",
       "      <th>description</th>\n",
       "    </tr>\n",
       "  </thead>\n",
       "  <tbody>\n",
       "    <tr>\n",
       "      <th>0</th>\n",
       "      <td>Гнев человеческий (2021)</td>\n",
       "      <td>Грузовики лос-анджелесской инкассаторской комп...</td>\n",
       "    </tr>\n",
       "    <tr>\n",
       "      <th>1</th>\n",
       "      <td>Брат 2 (2000)</td>\n",
       "      <td>Участвуя в программе на телевидении, Данила Ба...</td>\n",
       "    </tr>\n",
       "    <tr>\n",
       "      <th>2</th>\n",
       "      <td>Дэдпул (2016)</td>\n",
       "      <td>Уэйд Уилсон — наёмник. Будучи побочным продукт...</td>\n",
       "    </tr>\n",
       "    <tr>\n",
       "      <th>3</th>\n",
       "      <td>Шерлок Холмс (2009)</td>\n",
       "      <td>Величайший в истории сыщик Шерлок Холмс вместе...</td>\n",
       "    </tr>\n",
       "    <tr>\n",
       "      <th>4</th>\n",
       "      <td>Леон (1994)</td>\n",
       "      <td>Профессиональный убийца Леон неожиданно для се...</td>\n",
       "    </tr>\n",
       "    <tr>\n",
       "      <th>...</th>\n",
       "      <td>...</td>\n",
       "      <td>...</td>\n",
       "    </tr>\n",
       "    <tr>\n",
       "      <th>77423</th>\n",
       "      <td>Побег Пересов (1995)</td>\n",
       "      <td>Застарелая вражда между семьями Пересов и Орос...</td>\n",
       "    </tr>\n",
       "    <tr>\n",
       "      <th>77716</th>\n",
       "      <td>Суд Койота (1998)</td>\n",
       "      <td>Отважный борец за справедливость по прозвищу К...</td>\n",
       "    </tr>\n",
       "    <tr>\n",
       "      <th>77717</th>\n",
       "      <td>Койот: Дон Сесар де Эчаге (1998)</td>\n",
       "      <td>Дон Сесар де Эчаге возвращается на Кубу в родн...</td>\n",
       "    </tr>\n",
       "    <tr>\n",
       "      <th>77850</th>\n",
       "      <td>Стрелок</td>\n",
       "      <td>Картина расскажет о бывшем техасском рейнджере...</td>\n",
       "    </tr>\n",
       "    <tr>\n",
       "      <th>77874</th>\n",
       "      <td>Империя летней Луны</td>\n",
       "      <td>История Куаны Паркера - последнего великого во...</td>\n",
       "    </tr>\n",
       "  </tbody>\n",
       "</table>\n",
       "<p>49592 rows × 2 columns</p>\n",
       "</div>"
      ],
      "text/plain": [
       "                                   name  \\\n",
       "0              Гнев человеческий (2021)   \n",
       "1                         Брат 2 (2000)   \n",
       "2                         Дэдпул (2016)   \n",
       "3                   Шерлок Холмс (2009)   \n",
       "4                           Леон (1994)   \n",
       "...                                 ...   \n",
       "77423              Побег Пересов (1995)   \n",
       "77716                 Суд Койота (1998)   \n",
       "77717  Койот: Дон Сесар де Эчаге (1998)   \n",
       "77850                           Стрелок   \n",
       "77874               Империя летней Луны   \n",
       "\n",
       "                                             description  \n",
       "0      Грузовики лос-анджелесской инкассаторской комп...  \n",
       "1      Участвуя в программе на телевидении, Данила Ба...  \n",
       "2      Уэйд Уилсон — наёмник. Будучи побочным продукт...  \n",
       "3      Величайший в истории сыщик Шерлок Холмс вместе...  \n",
       "4      Профессиональный убийца Леон неожиданно для се...  \n",
       "...                                                  ...  \n",
       "77423  Застарелая вражда между семьями Пересов и Орос...  \n",
       "77716  Отважный борец за справедливость по прозвищу К...  \n",
       "77717  Дон Сесар де Эчаге возвращается на Кубу в родн...  \n",
       "77850  Картина расскажет о бывшем техасском рейнджере...  \n",
       "77874  История Куаны Паркера - последнего великого во...  \n",
       "\n",
       "[49592 rows x 2 columns]"
      ]
     },
     "execution_count": 179,
     "metadata": {},
     "output_type": "execute_result"
    }
   ],
   "source": [
    "film_data"
   ]
  },
  {
   "cell_type": "code",
   "execution_count": 358,
   "metadata": {},
   "outputs": [],
   "source": [
    "sentences = film_data.description.to_numpy()"
   ]
  },
  {
   "cell_type": "code",
   "execution_count": 357,
   "metadata": {},
   "outputs": [
    {
     "data": {
      "application/vnd.jupyter.widget-view+json": {
       "model_id": "f219123719314706a8f3b2a7d6044284",
       "version_major": 2,
       "version_minor": 0
      },
      "text/plain": [
       "Downloading (…)8d96a/.gitattributes:   0%|          | 0.00/690 [00:00<?, ?B/s]"
      ]
     },
     "metadata": {},
     "output_type": "display_data"
    },
    {
     "data": {
      "application/vnd.jupyter.widget-view+json": {
       "model_id": "f716ac390e334d66a6a3f4c202f3faa4",
       "version_major": 2,
       "version_minor": 0
      },
      "text/plain": [
       "Downloading (…)_Pooling/config.json:   0%|          | 0.00/190 [00:00<?, ?B/s]"
      ]
     },
     "metadata": {},
     "output_type": "display_data"
    },
    {
     "data": {
      "application/vnd.jupyter.widget-view+json": {
       "model_id": "f8366075f0ae4308b7004a3850b4d639",
       "version_major": 2,
       "version_minor": 0
      },
      "text/plain": [
       "Downloading (…)/2_Dense/config.json:   0%|          | 0.00/114 [00:00<?, ?B/s]"
      ]
     },
     "metadata": {},
     "output_type": "display_data"
    },
    {
     "data": {
      "application/vnd.jupyter.widget-view+json": {
       "model_id": "4f857d289fb34b21a4670d744e3bd57a",
       "version_major": 2,
       "version_minor": 0
      },
      "text/plain": [
       "Downloading pytorch_model.bin:   0%|          | 0.00/1.58M [00:00<?, ?B/s]"
      ]
     },
     "metadata": {},
     "output_type": "display_data"
    },
    {
     "data": {
      "application/vnd.jupyter.widget-view+json": {
       "model_id": "c5ad6f90195348e38fab56d6d46d09a8",
       "version_major": 2,
       "version_minor": 0
      },
      "text/plain": [
       "Downloading rust_model.ot:   0%|          | 0.00/1.58M [00:00<?, ?B/s]"
      ]
     },
     "metadata": {},
     "output_type": "display_data"
    },
    {
     "data": {
      "application/vnd.jupyter.widget-view+json": {
       "model_id": "48a780bc5ae143d88250b2dcfdbe9638",
       "version_major": 2,
       "version_minor": 0
      },
      "text/plain": [
       "Downloading (…)3a5428d96a/README.md:   0%|          | 0.00/2.37k [00:00<?, ?B/s]"
      ]
     },
     "metadata": {},
     "output_type": "display_data"
    },
    {
     "data": {
      "application/vnd.jupyter.widget-view+json": {
       "model_id": "0b49934245314b40ad6ad9cc2bea544c",
       "version_major": 2,
       "version_minor": 0
      },
      "text/plain": [
       "Downloading (…)5428d96a/config.json:   0%|          | 0.00/607 [00:00<?, ?B/s]"
      ]
     },
     "metadata": {},
     "output_type": "display_data"
    },
    {
     "data": {
      "application/vnd.jupyter.widget-view+json": {
       "model_id": "aae1e29d48f54d7ea8b759416d1bae6e",
       "version_major": 2,
       "version_minor": 0
      },
      "text/plain": [
       "Downloading (…)ce_transformers.json:   0%|          | 0.00/122 [00:00<?, ?B/s]"
      ]
     },
     "metadata": {},
     "output_type": "display_data"
    },
    {
     "data": {
      "application/vnd.jupyter.widget-view+json": {
       "model_id": "4ef049f09cb4484ba597db6b61953111",
       "version_major": 2,
       "version_minor": 0
      },
      "text/plain": [
       "Downloading pytorch_model.bin:   0%|          | 0.00/539M [00:00<?, ?B/s]"
      ]
     },
     "metadata": {},
     "output_type": "display_data"
    },
    {
     "data": {
      "application/vnd.jupyter.widget-view+json": {
       "model_id": "62aee7208acf4d4c847b1a899895e638",
       "version_major": 2,
       "version_minor": 0
      },
      "text/plain": [
       "Downloading (…)nce_bert_config.json:   0%|          | 0.00/53.0 [00:00<?, ?B/s]"
      ]
     },
     "metadata": {},
     "output_type": "display_data"
    },
    {
     "data": {
      "application/vnd.jupyter.widget-view+json": {
       "model_id": "ed3d89fbca644fb3afff35d6f944db30",
       "version_major": 2,
       "version_minor": 0
      },
      "text/plain": [
       "Downloading (…)cial_tokens_map.json:   0%|          | 0.00/112 [00:00<?, ?B/s]"
      ]
     },
     "metadata": {},
     "output_type": "display_data"
    },
    {
     "data": {
      "application/vnd.jupyter.widget-view+json": {
       "model_id": "63092e16d29a42278497a8deed88f50e",
       "version_major": 2,
       "version_minor": 0
      },
      "text/plain": [
       "Downloading (…)8d96a/tokenizer.json:   0%|          | 0.00/1.96M [00:00<?, ?B/s]"
      ]
     },
     "metadata": {},
     "output_type": "display_data"
    },
    {
     "data": {
      "application/vnd.jupyter.widget-view+json": {
       "model_id": "61d4c6f2f6c8476a8a24acd8a4790c2e",
       "version_major": 2,
       "version_minor": 0
      },
      "text/plain": [
       "Downloading (…)okenizer_config.json:   0%|          | 0.00/528 [00:00<?, ?B/s]"
      ]
     },
     "metadata": {},
     "output_type": "display_data"
    },
    {
     "data": {
      "application/vnd.jupyter.widget-view+json": {
       "model_id": "5a5dac47e46d4094841178fc8ea0b950",
       "version_major": 2,
       "version_minor": 0
      },
      "text/plain": [
       "Downloading (…)3a5428d96a/vocab.txt:   0%|          | 0.00/996k [00:00<?, ?B/s]"
      ]
     },
     "metadata": {},
     "output_type": "display_data"
    },
    {
     "data": {
      "application/vnd.jupyter.widget-view+json": {
       "model_id": "6635cf1e6b9e45e28d6e5896081806e8",
       "version_major": 2,
       "version_minor": 0
      },
      "text/plain": [
       "Downloading (…)428d96a/modules.json:   0%|          | 0.00/341 [00:00<?, ?B/s]"
      ]
     },
     "metadata": {},
     "output_type": "display_data"
    }
   ],
   "source": [
    "model = SentenceTransformer('distiluse-base-multilingual-cased')"
   ]
  },
  {
   "cell_type": "code",
   "execution_count": 360,
   "metadata": {},
   "outputs": [
    {
     "ename": "KeyboardInterrupt",
     "evalue": "",
     "output_type": "error",
     "traceback": [
      "\u001b[0;31m---------------------------------------------------------------------------\u001b[0m",
      "\u001b[0;31mKeyboardInterrupt\u001b[0m                         Traceback (most recent call last)",
      "\u001b[0;32m<ipython-input-360-7fd0294096ae>\u001b[0m in \u001b[0;36m<module>\u001b[0;34m\u001b[0m\n\u001b[0;32m----> 1\u001b[0;31m \u001b[0msentence_embeddings\u001b[0m \u001b[0;34m=\u001b[0m \u001b[0mmodel\u001b[0m\u001b[0;34m.\u001b[0m\u001b[0mencode\u001b[0m\u001b[0;34m(\u001b[0m\u001b[0msentences\u001b[0m\u001b[0;34m)\u001b[0m\u001b[0;34m\u001b[0m\u001b[0;34m\u001b[0m\u001b[0m\n\u001b[0m\u001b[1;32m      2\u001b[0m \u001b[0msentence_embeddings\u001b[0m\u001b[0;34m.\u001b[0m\u001b[0mshape\u001b[0m\u001b[0;34m\u001b[0m\u001b[0;34m\u001b[0m\u001b[0m\n",
      "\u001b[0;32m~/anaconda3/lib/python3.8/site-packages/sentence_transformers/SentenceTransformer.py\u001b[0m in \u001b[0;36mencode\u001b[0;34m(self, sentences, batch_size, show_progress_bar, output_value, convert_to_numpy, convert_to_tensor, device, normalize_embeddings)\u001b[0m\n\u001b[1;32m    163\u001b[0m \u001b[0;34m\u001b[0m\u001b[0m\n\u001b[1;32m    164\u001b[0m             \u001b[0;32mwith\u001b[0m \u001b[0mtorch\u001b[0m\u001b[0;34m.\u001b[0m\u001b[0mno_grad\u001b[0m\u001b[0;34m(\u001b[0m\u001b[0;34m)\u001b[0m\u001b[0;34m:\u001b[0m\u001b[0;34m\u001b[0m\u001b[0;34m\u001b[0m\u001b[0m\n\u001b[0;32m--> 165\u001b[0;31m                 \u001b[0mout_features\u001b[0m \u001b[0;34m=\u001b[0m \u001b[0mself\u001b[0m\u001b[0;34m.\u001b[0m\u001b[0mforward\u001b[0m\u001b[0;34m(\u001b[0m\u001b[0mfeatures\u001b[0m\u001b[0;34m)\u001b[0m\u001b[0;34m\u001b[0m\u001b[0;34m\u001b[0m\u001b[0m\n\u001b[0m\u001b[1;32m    166\u001b[0m \u001b[0;34m\u001b[0m\u001b[0m\n\u001b[1;32m    167\u001b[0m                 \u001b[0;32mif\u001b[0m \u001b[0moutput_value\u001b[0m \u001b[0;34m==\u001b[0m \u001b[0;34m'token_embeddings'\u001b[0m\u001b[0;34m:\u001b[0m\u001b[0;34m\u001b[0m\u001b[0;34m\u001b[0m\u001b[0m\n",
      "\u001b[0;32m~/anaconda3/lib/python3.8/site-packages/torch/nn/modules/container.py\u001b[0m in \u001b[0;36mforward\u001b[0;34m(self, input)\u001b[0m\n\u001b[1;32m    139\u001b[0m     \u001b[0;32mdef\u001b[0m \u001b[0mforward\u001b[0m\u001b[0;34m(\u001b[0m\u001b[0mself\u001b[0m\u001b[0;34m,\u001b[0m \u001b[0minput\u001b[0m\u001b[0;34m)\u001b[0m\u001b[0;34m:\u001b[0m\u001b[0;34m\u001b[0m\u001b[0;34m\u001b[0m\u001b[0m\n\u001b[1;32m    140\u001b[0m         \u001b[0;32mfor\u001b[0m \u001b[0mmodule\u001b[0m \u001b[0;32min\u001b[0m \u001b[0mself\u001b[0m\u001b[0;34m:\u001b[0m\u001b[0;34m\u001b[0m\u001b[0;34m\u001b[0m\u001b[0m\n\u001b[0;32m--> 141\u001b[0;31m             \u001b[0minput\u001b[0m \u001b[0;34m=\u001b[0m \u001b[0mmodule\u001b[0m\u001b[0;34m(\u001b[0m\u001b[0minput\u001b[0m\u001b[0;34m)\u001b[0m\u001b[0;34m\u001b[0m\u001b[0;34m\u001b[0m\u001b[0m\n\u001b[0m\u001b[1;32m    142\u001b[0m         \u001b[0;32mreturn\u001b[0m \u001b[0minput\u001b[0m\u001b[0;34m\u001b[0m\u001b[0;34m\u001b[0m\u001b[0m\n\u001b[1;32m    143\u001b[0m \u001b[0;34m\u001b[0m\u001b[0m\n",
      "\u001b[0;32m~/anaconda3/lib/python3.8/site-packages/torch/nn/modules/module.py\u001b[0m in \u001b[0;36m_call_impl\u001b[0;34m(self, *input, **kwargs)\u001b[0m\n\u001b[1;32m   1100\u001b[0m         if not (self._backward_hooks or self._forward_hooks or self._forward_pre_hooks or _global_backward_hooks\n\u001b[1;32m   1101\u001b[0m                 or _global_forward_hooks or _global_forward_pre_hooks):\n\u001b[0;32m-> 1102\u001b[0;31m             \u001b[0;32mreturn\u001b[0m \u001b[0mforward_call\u001b[0m\u001b[0;34m(\u001b[0m\u001b[0;34m*\u001b[0m\u001b[0minput\u001b[0m\u001b[0;34m,\u001b[0m \u001b[0;34m**\u001b[0m\u001b[0mkwargs\u001b[0m\u001b[0;34m)\u001b[0m\u001b[0;34m\u001b[0m\u001b[0;34m\u001b[0m\u001b[0m\n\u001b[0m\u001b[1;32m   1103\u001b[0m         \u001b[0;31m# Do not call functions when jit is used\u001b[0m\u001b[0;34m\u001b[0m\u001b[0;34m\u001b[0m\u001b[0;34m\u001b[0m\u001b[0m\n\u001b[1;32m   1104\u001b[0m         \u001b[0mfull_backward_hooks\u001b[0m\u001b[0;34m,\u001b[0m \u001b[0mnon_full_backward_hooks\u001b[0m \u001b[0;34m=\u001b[0m \u001b[0;34m[\u001b[0m\u001b[0;34m]\u001b[0m\u001b[0;34m,\u001b[0m \u001b[0;34m[\u001b[0m\u001b[0;34m]\u001b[0m\u001b[0;34m\u001b[0m\u001b[0;34m\u001b[0m\u001b[0m\n",
      "\u001b[0;32m~/anaconda3/lib/python3.8/site-packages/sentence_transformers/models/Transformer.py\u001b[0m in \u001b[0;36mforward\u001b[0;34m(self, features)\u001b[0m\n\u001b[1;32m     64\u001b[0m             \u001b[0mtrans_features\u001b[0m\u001b[0;34m[\u001b[0m\u001b[0;34m'token_type_ids'\u001b[0m\u001b[0;34m]\u001b[0m \u001b[0;34m=\u001b[0m \u001b[0mfeatures\u001b[0m\u001b[0;34m[\u001b[0m\u001b[0;34m'token_type_ids'\u001b[0m\u001b[0;34m]\u001b[0m\u001b[0;34m\u001b[0m\u001b[0;34m\u001b[0m\u001b[0m\n\u001b[1;32m     65\u001b[0m \u001b[0;34m\u001b[0m\u001b[0m\n\u001b[0;32m---> 66\u001b[0;31m         \u001b[0moutput_states\u001b[0m \u001b[0;34m=\u001b[0m \u001b[0mself\u001b[0m\u001b[0;34m.\u001b[0m\u001b[0mauto_model\u001b[0m\u001b[0;34m(\u001b[0m\u001b[0;34m**\u001b[0m\u001b[0mtrans_features\u001b[0m\u001b[0;34m,\u001b[0m \u001b[0mreturn_dict\u001b[0m\u001b[0;34m=\u001b[0m\u001b[0;32mFalse\u001b[0m\u001b[0;34m)\u001b[0m\u001b[0;34m\u001b[0m\u001b[0;34m\u001b[0m\u001b[0m\n\u001b[0m\u001b[1;32m     67\u001b[0m         \u001b[0moutput_tokens\u001b[0m \u001b[0;34m=\u001b[0m \u001b[0moutput_states\u001b[0m\u001b[0;34m[\u001b[0m\u001b[0;36m0\u001b[0m\u001b[0;34m]\u001b[0m\u001b[0;34m\u001b[0m\u001b[0;34m\u001b[0m\u001b[0m\n\u001b[1;32m     68\u001b[0m \u001b[0;34m\u001b[0m\u001b[0m\n",
      "\u001b[0;32m~/anaconda3/lib/python3.8/site-packages/torch/nn/modules/module.py\u001b[0m in \u001b[0;36m_call_impl\u001b[0;34m(self, *input, **kwargs)\u001b[0m\n\u001b[1;32m   1100\u001b[0m         if not (self._backward_hooks or self._forward_hooks or self._forward_pre_hooks or _global_backward_hooks\n\u001b[1;32m   1101\u001b[0m                 or _global_forward_hooks or _global_forward_pre_hooks):\n\u001b[0;32m-> 1102\u001b[0;31m             \u001b[0;32mreturn\u001b[0m \u001b[0mforward_call\u001b[0m\u001b[0;34m(\u001b[0m\u001b[0;34m*\u001b[0m\u001b[0minput\u001b[0m\u001b[0;34m,\u001b[0m \u001b[0;34m**\u001b[0m\u001b[0mkwargs\u001b[0m\u001b[0;34m)\u001b[0m\u001b[0;34m\u001b[0m\u001b[0;34m\u001b[0m\u001b[0m\n\u001b[0m\u001b[1;32m   1103\u001b[0m         \u001b[0;31m# Do not call functions when jit is used\u001b[0m\u001b[0;34m\u001b[0m\u001b[0;34m\u001b[0m\u001b[0;34m\u001b[0m\u001b[0m\n\u001b[1;32m   1104\u001b[0m         \u001b[0mfull_backward_hooks\u001b[0m\u001b[0;34m,\u001b[0m \u001b[0mnon_full_backward_hooks\u001b[0m \u001b[0;34m=\u001b[0m \u001b[0;34m[\u001b[0m\u001b[0;34m]\u001b[0m\u001b[0;34m,\u001b[0m \u001b[0;34m[\u001b[0m\u001b[0;34m]\u001b[0m\u001b[0;34m\u001b[0m\u001b[0;34m\u001b[0m\u001b[0m\n",
      "\u001b[0;32m~/anaconda3/lib/python3.8/site-packages/transformers/models/distilbert/modeling_distilbert.py\u001b[0m in \u001b[0;36mforward\u001b[0;34m(self, input_ids, attention_mask, head_mask, inputs_embeds, output_attentions, output_hidden_states, return_dict)\u001b[0m\n\u001b[1;32m    550\u001b[0m         \u001b[0;32mif\u001b[0m \u001b[0minputs_embeds\u001b[0m \u001b[0;32mis\u001b[0m \u001b[0;32mNone\u001b[0m\u001b[0;34m:\u001b[0m\u001b[0;34m\u001b[0m\u001b[0;34m\u001b[0m\u001b[0m\n\u001b[1;32m    551\u001b[0m             \u001b[0minputs_embeds\u001b[0m \u001b[0;34m=\u001b[0m \u001b[0mself\u001b[0m\u001b[0;34m.\u001b[0m\u001b[0membeddings\u001b[0m\u001b[0;34m(\u001b[0m\u001b[0minput_ids\u001b[0m\u001b[0;34m)\u001b[0m  \u001b[0;31m# (bs, seq_length, dim)\u001b[0m\u001b[0;34m\u001b[0m\u001b[0;34m\u001b[0m\u001b[0m\n\u001b[0;32m--> 552\u001b[0;31m         return self.transformer(\n\u001b[0m\u001b[1;32m    553\u001b[0m             \u001b[0mx\u001b[0m\u001b[0;34m=\u001b[0m\u001b[0minputs_embeds\u001b[0m\u001b[0;34m,\u001b[0m\u001b[0;34m\u001b[0m\u001b[0;34m\u001b[0m\u001b[0m\n\u001b[1;32m    554\u001b[0m             \u001b[0mattn_mask\u001b[0m\u001b[0;34m=\u001b[0m\u001b[0mattention_mask\u001b[0m\u001b[0;34m,\u001b[0m\u001b[0;34m\u001b[0m\u001b[0;34m\u001b[0m\u001b[0m\n",
      "\u001b[0;32m~/anaconda3/lib/python3.8/site-packages/torch/nn/modules/module.py\u001b[0m in \u001b[0;36m_call_impl\u001b[0;34m(self, *input, **kwargs)\u001b[0m\n\u001b[1;32m   1100\u001b[0m         if not (self._backward_hooks or self._forward_hooks or self._forward_pre_hooks or _global_backward_hooks\n\u001b[1;32m   1101\u001b[0m                 or _global_forward_hooks or _global_forward_pre_hooks):\n\u001b[0;32m-> 1102\u001b[0;31m             \u001b[0;32mreturn\u001b[0m \u001b[0mforward_call\u001b[0m\u001b[0;34m(\u001b[0m\u001b[0;34m*\u001b[0m\u001b[0minput\u001b[0m\u001b[0;34m,\u001b[0m \u001b[0;34m**\u001b[0m\u001b[0mkwargs\u001b[0m\u001b[0;34m)\u001b[0m\u001b[0;34m\u001b[0m\u001b[0;34m\u001b[0m\u001b[0m\n\u001b[0m\u001b[1;32m   1103\u001b[0m         \u001b[0;31m# Do not call functions when jit is used\u001b[0m\u001b[0;34m\u001b[0m\u001b[0;34m\u001b[0m\u001b[0;34m\u001b[0m\u001b[0m\n\u001b[1;32m   1104\u001b[0m         \u001b[0mfull_backward_hooks\u001b[0m\u001b[0;34m,\u001b[0m \u001b[0mnon_full_backward_hooks\u001b[0m \u001b[0;34m=\u001b[0m \u001b[0;34m[\u001b[0m\u001b[0;34m]\u001b[0m\u001b[0;34m,\u001b[0m \u001b[0;34m[\u001b[0m\u001b[0;34m]\u001b[0m\u001b[0;34m\u001b[0m\u001b[0;34m\u001b[0m\u001b[0m\n",
      "\u001b[0;32m~/anaconda3/lib/python3.8/site-packages/transformers/models/distilbert/modeling_distilbert.py\u001b[0m in \u001b[0;36mforward\u001b[0;34m(self, x, attn_mask, head_mask, output_attentions, output_hidden_states, return_dict)\u001b[0m\n\u001b[1;32m    325\u001b[0m                 \u001b[0mall_hidden_states\u001b[0m \u001b[0;34m=\u001b[0m \u001b[0mall_hidden_states\u001b[0m \u001b[0;34m+\u001b[0m \u001b[0;34m(\u001b[0m\u001b[0mhidden_state\u001b[0m\u001b[0;34m,\u001b[0m\u001b[0;34m)\u001b[0m\u001b[0;34m\u001b[0m\u001b[0;34m\u001b[0m\u001b[0m\n\u001b[1;32m    326\u001b[0m \u001b[0;34m\u001b[0m\u001b[0m\n\u001b[0;32m--> 327\u001b[0;31m             layer_outputs = layer_module(\n\u001b[0m\u001b[1;32m    328\u001b[0m                 \u001b[0mx\u001b[0m\u001b[0;34m=\u001b[0m\u001b[0mhidden_state\u001b[0m\u001b[0;34m,\u001b[0m \u001b[0mattn_mask\u001b[0m\u001b[0;34m=\u001b[0m\u001b[0mattn_mask\u001b[0m\u001b[0;34m,\u001b[0m \u001b[0mhead_mask\u001b[0m\u001b[0;34m=\u001b[0m\u001b[0mhead_mask\u001b[0m\u001b[0;34m[\u001b[0m\u001b[0mi\u001b[0m\u001b[0;34m]\u001b[0m\u001b[0;34m,\u001b[0m \u001b[0moutput_attentions\u001b[0m\u001b[0;34m=\u001b[0m\u001b[0moutput_attentions\u001b[0m\u001b[0;34m\u001b[0m\u001b[0;34m\u001b[0m\u001b[0m\n\u001b[1;32m    329\u001b[0m             )\n",
      "\u001b[0;32m~/anaconda3/lib/python3.8/site-packages/torch/nn/modules/module.py\u001b[0m in \u001b[0;36m_call_impl\u001b[0;34m(self, *input, **kwargs)\u001b[0m\n\u001b[1;32m   1100\u001b[0m         if not (self._backward_hooks or self._forward_hooks or self._forward_pre_hooks or _global_backward_hooks\n\u001b[1;32m   1101\u001b[0m                 or _global_forward_hooks or _global_forward_pre_hooks):\n\u001b[0;32m-> 1102\u001b[0;31m             \u001b[0;32mreturn\u001b[0m \u001b[0mforward_call\u001b[0m\u001b[0;34m(\u001b[0m\u001b[0;34m*\u001b[0m\u001b[0minput\u001b[0m\u001b[0;34m,\u001b[0m \u001b[0;34m**\u001b[0m\u001b[0mkwargs\u001b[0m\u001b[0;34m)\u001b[0m\u001b[0;34m\u001b[0m\u001b[0;34m\u001b[0m\u001b[0m\n\u001b[0m\u001b[1;32m   1103\u001b[0m         \u001b[0;31m# Do not call functions when jit is used\u001b[0m\u001b[0;34m\u001b[0m\u001b[0;34m\u001b[0m\u001b[0;34m\u001b[0m\u001b[0m\n\u001b[1;32m   1104\u001b[0m         \u001b[0mfull_backward_hooks\u001b[0m\u001b[0;34m,\u001b[0m \u001b[0mnon_full_backward_hooks\u001b[0m \u001b[0;34m=\u001b[0m \u001b[0;34m[\u001b[0m\u001b[0;34m]\u001b[0m\u001b[0;34m,\u001b[0m \u001b[0;34m[\u001b[0m\u001b[0;34m]\u001b[0m\u001b[0;34m\u001b[0m\u001b[0;34m\u001b[0m\u001b[0m\n",
      "\u001b[0;32m~/anaconda3/lib/python3.8/site-packages/transformers/models/distilbert/modeling_distilbert.py\u001b[0m in \u001b[0;36mforward\u001b[0;34m(self, x, attn_mask, head_mask, output_attentions)\u001b[0m\n\u001b[1;32m    285\u001b[0m \u001b[0;34m\u001b[0m\u001b[0m\n\u001b[1;32m    286\u001b[0m         \u001b[0;31m# Feed Forward Network\u001b[0m\u001b[0;34m\u001b[0m\u001b[0;34m\u001b[0m\u001b[0;34m\u001b[0m\u001b[0m\n\u001b[0;32m--> 287\u001b[0;31m         \u001b[0mffn_output\u001b[0m \u001b[0;34m=\u001b[0m \u001b[0mself\u001b[0m\u001b[0;34m.\u001b[0m\u001b[0mffn\u001b[0m\u001b[0;34m(\u001b[0m\u001b[0msa_output\u001b[0m\u001b[0;34m)\u001b[0m  \u001b[0;31m# (bs, seq_length, dim)\u001b[0m\u001b[0;34m\u001b[0m\u001b[0;34m\u001b[0m\u001b[0m\n\u001b[0m\u001b[1;32m    288\u001b[0m         \u001b[0mffn_output\u001b[0m \u001b[0;34m=\u001b[0m \u001b[0mself\u001b[0m\u001b[0;34m.\u001b[0m\u001b[0moutput_layer_norm\u001b[0m\u001b[0;34m(\u001b[0m\u001b[0mffn_output\u001b[0m \u001b[0;34m+\u001b[0m \u001b[0msa_output\u001b[0m\u001b[0;34m)\u001b[0m  \u001b[0;31m# (bs, seq_length, dim)\u001b[0m\u001b[0;34m\u001b[0m\u001b[0;34m\u001b[0m\u001b[0m\n\u001b[1;32m    289\u001b[0m \u001b[0;34m\u001b[0m\u001b[0m\n",
      "\u001b[0;32m~/anaconda3/lib/python3.8/site-packages/torch/nn/modules/module.py\u001b[0m in \u001b[0;36m_call_impl\u001b[0;34m(self, *input, **kwargs)\u001b[0m\n\u001b[1;32m   1100\u001b[0m         if not (self._backward_hooks or self._forward_hooks or self._forward_pre_hooks or _global_backward_hooks\n\u001b[1;32m   1101\u001b[0m                 or _global_forward_hooks or _global_forward_pre_hooks):\n\u001b[0;32m-> 1102\u001b[0;31m             \u001b[0;32mreturn\u001b[0m \u001b[0mforward_call\u001b[0m\u001b[0;34m(\u001b[0m\u001b[0;34m*\u001b[0m\u001b[0minput\u001b[0m\u001b[0;34m,\u001b[0m \u001b[0;34m**\u001b[0m\u001b[0mkwargs\u001b[0m\u001b[0;34m)\u001b[0m\u001b[0;34m\u001b[0m\u001b[0;34m\u001b[0m\u001b[0m\n\u001b[0m\u001b[1;32m   1103\u001b[0m         \u001b[0;31m# Do not call functions when jit is used\u001b[0m\u001b[0;34m\u001b[0m\u001b[0;34m\u001b[0m\u001b[0;34m\u001b[0m\u001b[0m\n\u001b[1;32m   1104\u001b[0m         \u001b[0mfull_backward_hooks\u001b[0m\u001b[0;34m,\u001b[0m \u001b[0mnon_full_backward_hooks\u001b[0m \u001b[0;34m=\u001b[0m \u001b[0;34m[\u001b[0m\u001b[0;34m]\u001b[0m\u001b[0;34m,\u001b[0m \u001b[0;34m[\u001b[0m\u001b[0;34m]\u001b[0m\u001b[0;34m\u001b[0m\u001b[0;34m\u001b[0m\u001b[0m\n",
      "\u001b[0;32m~/anaconda3/lib/python3.8/site-packages/transformers/models/distilbert/modeling_distilbert.py\u001b[0m in \u001b[0;36mforward\u001b[0;34m(self, input)\u001b[0m\n\u001b[1;32m    236\u001b[0m \u001b[0;34m\u001b[0m\u001b[0m\n\u001b[1;32m    237\u001b[0m     \u001b[0;32mdef\u001b[0m \u001b[0mforward\u001b[0m\u001b[0;34m(\u001b[0m\u001b[0mself\u001b[0m\u001b[0;34m,\u001b[0m \u001b[0minput\u001b[0m\u001b[0;34m)\u001b[0m\u001b[0;34m:\u001b[0m\u001b[0;34m\u001b[0m\u001b[0;34m\u001b[0m\u001b[0m\n\u001b[0;32m--> 238\u001b[0;31m         \u001b[0;32mreturn\u001b[0m \u001b[0mapply_chunking_to_forward\u001b[0m\u001b[0;34m(\u001b[0m\u001b[0mself\u001b[0m\u001b[0;34m.\u001b[0m\u001b[0mff_chunk\u001b[0m\u001b[0;34m,\u001b[0m \u001b[0mself\u001b[0m\u001b[0;34m.\u001b[0m\u001b[0mchunk_size_feed_forward\u001b[0m\u001b[0;34m,\u001b[0m \u001b[0mself\u001b[0m\u001b[0;34m.\u001b[0m\u001b[0mseq_len_dim\u001b[0m\u001b[0;34m,\u001b[0m \u001b[0minput\u001b[0m\u001b[0;34m)\u001b[0m\u001b[0;34m\u001b[0m\u001b[0;34m\u001b[0m\u001b[0m\n\u001b[0m\u001b[1;32m    239\u001b[0m \u001b[0;34m\u001b[0m\u001b[0m\n\u001b[1;32m    240\u001b[0m     \u001b[0;32mdef\u001b[0m \u001b[0mff_chunk\u001b[0m\u001b[0;34m(\u001b[0m\u001b[0mself\u001b[0m\u001b[0;34m,\u001b[0m \u001b[0minput\u001b[0m\u001b[0;34m)\u001b[0m\u001b[0;34m:\u001b[0m\u001b[0;34m\u001b[0m\u001b[0;34m\u001b[0m\u001b[0m\n",
      "\u001b[0;32m~/anaconda3/lib/python3.8/site-packages/transformers/modeling_utils.py\u001b[0m in \u001b[0;36mapply_chunking_to_forward\u001b[0;34m(forward_fn, chunk_size, chunk_dim, *input_tensors)\u001b[0m\n\u001b[1;32m   2359\u001b[0m         \u001b[0;32mreturn\u001b[0m \u001b[0mtorch\u001b[0m\u001b[0;34m.\u001b[0m\u001b[0mcat\u001b[0m\u001b[0;34m(\u001b[0m\u001b[0moutput_chunks\u001b[0m\u001b[0;34m,\u001b[0m \u001b[0mdim\u001b[0m\u001b[0;34m=\u001b[0m\u001b[0mchunk_dim\u001b[0m\u001b[0;34m)\u001b[0m\u001b[0;34m\u001b[0m\u001b[0;34m\u001b[0m\u001b[0m\n\u001b[1;32m   2360\u001b[0m \u001b[0;34m\u001b[0m\u001b[0m\n\u001b[0;32m-> 2361\u001b[0;31m     \u001b[0;32mreturn\u001b[0m \u001b[0mforward_fn\u001b[0m\u001b[0;34m(\u001b[0m\u001b[0;34m*\u001b[0m\u001b[0minput_tensors\u001b[0m\u001b[0;34m)\u001b[0m\u001b[0;34m\u001b[0m\u001b[0;34m\u001b[0m\u001b[0m\n\u001b[0m",
      "\u001b[0;32m~/anaconda3/lib/python3.8/site-packages/transformers/models/distilbert/modeling_distilbert.py\u001b[0m in \u001b[0;36mff_chunk\u001b[0;34m(self, input)\u001b[0m\n\u001b[1;32m    239\u001b[0m \u001b[0;34m\u001b[0m\u001b[0m\n\u001b[1;32m    240\u001b[0m     \u001b[0;32mdef\u001b[0m \u001b[0mff_chunk\u001b[0m\u001b[0;34m(\u001b[0m\u001b[0mself\u001b[0m\u001b[0;34m,\u001b[0m \u001b[0minput\u001b[0m\u001b[0;34m)\u001b[0m\u001b[0;34m:\u001b[0m\u001b[0;34m\u001b[0m\u001b[0;34m\u001b[0m\u001b[0m\n\u001b[0;32m--> 241\u001b[0;31m         \u001b[0mx\u001b[0m \u001b[0;34m=\u001b[0m \u001b[0mself\u001b[0m\u001b[0;34m.\u001b[0m\u001b[0mlin1\u001b[0m\u001b[0;34m(\u001b[0m\u001b[0minput\u001b[0m\u001b[0;34m)\u001b[0m\u001b[0;34m\u001b[0m\u001b[0;34m\u001b[0m\u001b[0m\n\u001b[0m\u001b[1;32m    242\u001b[0m         \u001b[0mx\u001b[0m \u001b[0;34m=\u001b[0m \u001b[0mself\u001b[0m\u001b[0;34m.\u001b[0m\u001b[0mactivation\u001b[0m\u001b[0;34m(\u001b[0m\u001b[0mx\u001b[0m\u001b[0;34m)\u001b[0m\u001b[0;34m\u001b[0m\u001b[0;34m\u001b[0m\u001b[0m\n\u001b[1;32m    243\u001b[0m         \u001b[0mx\u001b[0m \u001b[0;34m=\u001b[0m \u001b[0mself\u001b[0m\u001b[0;34m.\u001b[0m\u001b[0mlin2\u001b[0m\u001b[0;34m(\u001b[0m\u001b[0mx\u001b[0m\u001b[0;34m)\u001b[0m\u001b[0;34m\u001b[0m\u001b[0;34m\u001b[0m\u001b[0m\n",
      "\u001b[0;32m~/anaconda3/lib/python3.8/site-packages/torch/nn/modules/module.py\u001b[0m in \u001b[0;36m_call_impl\u001b[0;34m(self, *input, **kwargs)\u001b[0m\n\u001b[1;32m   1100\u001b[0m         if not (self._backward_hooks or self._forward_hooks or self._forward_pre_hooks or _global_backward_hooks\n\u001b[1;32m   1101\u001b[0m                 or _global_forward_hooks or _global_forward_pre_hooks):\n\u001b[0;32m-> 1102\u001b[0;31m             \u001b[0;32mreturn\u001b[0m \u001b[0mforward_call\u001b[0m\u001b[0;34m(\u001b[0m\u001b[0;34m*\u001b[0m\u001b[0minput\u001b[0m\u001b[0;34m,\u001b[0m \u001b[0;34m**\u001b[0m\u001b[0mkwargs\u001b[0m\u001b[0;34m)\u001b[0m\u001b[0;34m\u001b[0m\u001b[0;34m\u001b[0m\u001b[0m\n\u001b[0m\u001b[1;32m   1103\u001b[0m         \u001b[0;31m# Do not call functions when jit is used\u001b[0m\u001b[0;34m\u001b[0m\u001b[0;34m\u001b[0m\u001b[0;34m\u001b[0m\u001b[0m\n\u001b[1;32m   1104\u001b[0m         \u001b[0mfull_backward_hooks\u001b[0m\u001b[0;34m,\u001b[0m \u001b[0mnon_full_backward_hooks\u001b[0m \u001b[0;34m=\u001b[0m \u001b[0;34m[\u001b[0m\u001b[0;34m]\u001b[0m\u001b[0;34m,\u001b[0m \u001b[0;34m[\u001b[0m\u001b[0;34m]\u001b[0m\u001b[0;34m\u001b[0m\u001b[0;34m\u001b[0m\u001b[0m\n",
      "\u001b[0;32m~/anaconda3/lib/python3.8/site-packages/torch/nn/modules/linear.py\u001b[0m in \u001b[0;36mforward\u001b[0;34m(self, input)\u001b[0m\n\u001b[1;32m    101\u001b[0m \u001b[0;34m\u001b[0m\u001b[0m\n\u001b[1;32m    102\u001b[0m     \u001b[0;32mdef\u001b[0m \u001b[0mforward\u001b[0m\u001b[0;34m(\u001b[0m\u001b[0mself\u001b[0m\u001b[0;34m,\u001b[0m \u001b[0minput\u001b[0m\u001b[0;34m:\u001b[0m \u001b[0mTensor\u001b[0m\u001b[0;34m)\u001b[0m \u001b[0;34m->\u001b[0m \u001b[0mTensor\u001b[0m\u001b[0;34m:\u001b[0m\u001b[0;34m\u001b[0m\u001b[0;34m\u001b[0m\u001b[0m\n\u001b[0;32m--> 103\u001b[0;31m         \u001b[0;32mreturn\u001b[0m \u001b[0mF\u001b[0m\u001b[0;34m.\u001b[0m\u001b[0mlinear\u001b[0m\u001b[0;34m(\u001b[0m\u001b[0minput\u001b[0m\u001b[0;34m,\u001b[0m \u001b[0mself\u001b[0m\u001b[0;34m.\u001b[0m\u001b[0mweight\u001b[0m\u001b[0;34m,\u001b[0m \u001b[0mself\u001b[0m\u001b[0;34m.\u001b[0m\u001b[0mbias\u001b[0m\u001b[0;34m)\u001b[0m\u001b[0;34m\u001b[0m\u001b[0;34m\u001b[0m\u001b[0m\n\u001b[0m\u001b[1;32m    104\u001b[0m \u001b[0;34m\u001b[0m\u001b[0m\n\u001b[1;32m    105\u001b[0m     \u001b[0;32mdef\u001b[0m \u001b[0mextra_repr\u001b[0m\u001b[0;34m(\u001b[0m\u001b[0mself\u001b[0m\u001b[0;34m)\u001b[0m \u001b[0;34m->\u001b[0m \u001b[0mstr\u001b[0m\u001b[0;34m:\u001b[0m\u001b[0;34m\u001b[0m\u001b[0;34m\u001b[0m\u001b[0m\n",
      "\u001b[0;32m~/anaconda3/lib/python3.8/site-packages/torch/nn/functional.py\u001b[0m in \u001b[0;36mlinear\u001b[0;34m(input, weight, bias)\u001b[0m\n\u001b[1;32m   1846\u001b[0m     \u001b[0;32mif\u001b[0m \u001b[0mhas_torch_function_variadic\u001b[0m\u001b[0;34m(\u001b[0m\u001b[0minput\u001b[0m\u001b[0;34m,\u001b[0m \u001b[0mweight\u001b[0m\u001b[0;34m,\u001b[0m \u001b[0mbias\u001b[0m\u001b[0;34m)\u001b[0m\u001b[0;34m:\u001b[0m\u001b[0;34m\u001b[0m\u001b[0;34m\u001b[0m\u001b[0m\n\u001b[1;32m   1847\u001b[0m         \u001b[0;32mreturn\u001b[0m \u001b[0mhandle_torch_function\u001b[0m\u001b[0;34m(\u001b[0m\u001b[0mlinear\u001b[0m\u001b[0;34m,\u001b[0m \u001b[0;34m(\u001b[0m\u001b[0minput\u001b[0m\u001b[0;34m,\u001b[0m \u001b[0mweight\u001b[0m\u001b[0;34m,\u001b[0m \u001b[0mbias\u001b[0m\u001b[0;34m)\u001b[0m\u001b[0;34m,\u001b[0m \u001b[0minput\u001b[0m\u001b[0;34m,\u001b[0m \u001b[0mweight\u001b[0m\u001b[0;34m,\u001b[0m \u001b[0mbias\u001b[0m\u001b[0;34m=\u001b[0m\u001b[0mbias\u001b[0m\u001b[0;34m)\u001b[0m\u001b[0;34m\u001b[0m\u001b[0;34m\u001b[0m\u001b[0m\n\u001b[0;32m-> 1848\u001b[0;31m     \u001b[0;32mreturn\u001b[0m \u001b[0mtorch\u001b[0m\u001b[0;34m.\u001b[0m\u001b[0m_C\u001b[0m\u001b[0;34m.\u001b[0m\u001b[0m_nn\u001b[0m\u001b[0;34m.\u001b[0m\u001b[0mlinear\u001b[0m\u001b[0;34m(\u001b[0m\u001b[0minput\u001b[0m\u001b[0;34m,\u001b[0m \u001b[0mweight\u001b[0m\u001b[0;34m,\u001b[0m \u001b[0mbias\u001b[0m\u001b[0;34m)\u001b[0m\u001b[0;34m\u001b[0m\u001b[0;34m\u001b[0m\u001b[0m\n\u001b[0m\u001b[1;32m   1849\u001b[0m \u001b[0;34m\u001b[0m\u001b[0m\n\u001b[1;32m   1850\u001b[0m \u001b[0;34m\u001b[0m\u001b[0m\n",
      "\u001b[0;31mKeyboardInterrupt\u001b[0m: "
     ]
    }
   ],
   "source": [
    "sentence_embeddings = model.encode(sentences)\n",
    "sentence_embeddings.shape"
   ]
  },
  {
   "cell_type": "code",
   "execution_count": 308,
   "metadata": {},
   "outputs": [],
   "source": [
    "nlist = 50  # Сколько ячеек\n",
    "m = 8  # number of centroid IDs in final compressed vectors\n",
    "bits = 8 # number of bits in each centroid\n",
    "\n",
    "quantizer = faiss.IndexFlatL2(rus_d)  # we keep the same L2 distance flat index\n",
    "index = faiss.IndexIVFPQ(quantizer, rus_d, nlist, m, bits) "
   ]
  },
  {
   "cell_type": "code",
   "execution_count": 344,
   "metadata": {},
   "outputs": [
    {
     "data": {
      "text/plain": [
       "True"
      ]
     },
     "execution_count": 344,
     "metadata": {},
     "output_type": "execute_result"
    }
   ],
   "source": [
    "index = faiss.IndexFlatL2(rus_d)\n",
    "index.is_trained"
   ]
  },
  {
   "cell_type": "code",
   "execution_count": null,
   "metadata": {},
   "outputs": [],
   "source": []
  }
 ],
 "metadata": {
  "kernelspec": {
   "display_name": "Python 3",
   "language": "python",
   "name": "python3"
  },
  "language_info": {
   "codemirror_mode": {
    "name": "ipython",
    "version": 3
   },
   "file_extension": ".py",
   "mimetype": "text/x-python",
   "name": "python",
   "nbconvert_exporter": "python",
   "pygments_lexer": "ipython3",
   "version": "3.8.3"
  }
 },
 "nbformat": 4,
 "nbformat_minor": 4
}
