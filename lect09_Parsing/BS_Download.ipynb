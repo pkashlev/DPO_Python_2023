{
 "cells": [
  {
   "cell_type": "markdown",
   "metadata": {},
   "source": [
    "# Python для анализа данных\n",
    "\n",
    "## Веб-скрэйпинг: скачивание файлов\n",
    "\n",
    "*На основе блокнота Татьяны Рогович, НИУ ВШЭ*\n",
    "*Автор: Ян Пиле, НИУ ВШЭ*"
   ]
  },
  {
   "cell_type": "markdown",
   "metadata": {},
   "source": [
    "## Скачивание файлов"
   ]
  },
  {
   "cell_type": "markdown",
   "metadata": {},
   "source": [
    "Кстати, еще одно применение скрэйпинга, о котором мы пока не поговорили - это автоматизированное скачивание файлов. Например, вы хотите скачать научные статьи по определенному ключевому слову или прайс-листы поставщика, которые он загружает на сайт в эскеле.\n",
    "\n",
    "Давайте посмотрим, как скачивать файлы на примере pdf и заодно попробуем походить по ссылкам. Кстати, этот процесс еще часто называется spidering или crawling, потому что ваш скрипт как паучок ползет по ссылкам (отсюда и название первых поисковых роботов - spider).\n",
    "\n",
    "Давайте попробуем сохранить англоязычные summary дисертаций, защищенных в 2019 году\n",
    "\n",
    "Мы уже отредактировали фильтры и ссылка их запомнила. Позже сегодня посмотрим как можно самим заполнять такие поля с помощью Selenium.\n",
    "\n",
    "https://www.hse.ru/sci/diss/?author=&chief=&year=2019&type=1&degree_type=&council=&spec=&fulltext=yes"
   ]
  },
  {
   "cell_type": "code",
   "execution_count": 5,
   "metadata": {},
   "outputs": [],
   "source": [
    "import requests \n",
    "from bs4 import BeautifulSoup\n",
    "from selenium import webdriver as wb\n",
    "from selenium import webdriver\n",
    "from selenium.webdriver.common.keys import Keys\n",
    "from selenium.webdriver.support.ui import Select\n",
    "from time import sleep\n",
    "import pandas as pd\n",
    "driver = wb.Firefox()\n",
    "\n",
    "driver.implicitly_wait(2)"
   ]
  },
  {
   "cell_type": "code",
   "execution_count": 6,
   "metadata": {},
   "outputs": [],
   "source": [
    "link = 'https://www.hse.ru/sci/diss/?fulltext=yes'\n",
    "driver.get(link)"
   ]
  },
  {
   "cell_type": "code",
   "execution_count": 7,
   "metadata": {},
   "outputs": [],
   "source": [
    "soup = BeautifulSoup(driver.page_source)\n",
    "# soup.find_all('a')"
   ]
  },
  {
   "cell_type": "code",
   "execution_count": 38,
   "metadata": {},
   "outputs": [],
   "source": [
    "# soup.find_all('a', {'class':'link'})"
   ]
  },
  {
   "cell_type": "markdown",
   "metadata": {},
   "source": [
    "Давайте для начала поэкспериментируем с первым кандидатом."
   ]
  },
  {
   "cell_type": "code",
   "execution_count": 8,
   "metadata": {},
   "outputs": [
    {
     "name": "stdout",
     "output_type": "stream",
     "text": [
      "189\n"
     ]
    },
    {
     "data": {
      "text/plain": [
       "[<a class=\"link link_no-underline\" href=\"/sci/diss/?fulltext=yes\">RU</a>,\n",
       " <a class=\"link link_no-underline\" href=\"/en/sci/diss/?fulltext=yes\">EN</a>,\n",
       " <a class=\"link link_no-underline\" href=\"/sci/diss/?fulltext=yes\">RU</a>,\n",
       " <a class=\"link link_no-underline\" href=\"/en/sci/diss/?fulltext=yes\">EN</a>,\n",
       " <a class=\"link\" href=\"https://www.hse.ru/sci/diss/432474796\">Альтернативные средства расчета как предмет и средство совершения преступлений в сфере экономики</a>,\n",
       " <a class=\"link\" href=\"https://www.hse.ru/org/persons/69016\" target=\"_blank\">Маркунцов Сергей Александрович</a>,\n",
       " <a class=\"link\" href=\"https://www.hse.ru/sci/diss/?keyword=альтернативные средства расчета\">альтернативные средства расчета</a>,\n",
       " <a class=\"link\" href=\"https://www.hse.ru/sci/diss/?keyword=бонусные баллы\">бонусные баллы</a>,\n",
       " <a class=\"link\" href=\"https://www.hse.ru/sci/diss/?keyword=виртуальная валюта\">виртуальная валюта</a>,\n",
       " <a class=\"link\" href=\"https://www.hse.ru/sci/diss/?keyword=виртуальная валюта многопользовательской онлайн-игры\">виртуальная валюта многопользовательской онлайн-игры</a>]"
      ]
     },
     "execution_count": 8,
     "metadata": {},
     "output_type": "execute_result"
    }
   ],
   "source": [
    "print(len(soup.find_all('a')))\n",
    "soup.find_all('a', {'class':'link'})[:10]"
   ]
  },
  {
   "cell_type": "markdown",
   "metadata": {},
   "source": [
    "Видим, что ссылок очень много, а нам нужны только те, которые ведут на summary. Можно поискать их по тексту ссылки."
   ]
  },
  {
   "cell_type": "code",
   "execution_count": 35,
   "metadata": {},
   "outputs": [
    {
     "name": "stdout",
     "output_type": "stream",
     "text": [
      "http://www.hse.ru/data/2021/02/20/1347487870/Немова М.И._Summary.pdf\n",
      "http://www.hse.ru/data/2021/03/17/1399049533/Полыковский_summary.pdf\n",
      "http://www.hse.ru/data/2021/02/25/1393118412/Tiukhtiaev_Summary (1).pdf\n",
      "http://www.hse.ru/data/2021/02/26/1076625271/Дементьев В.А._Summary.pdf\n",
      "http://www.hse.ru/data/2021/01/27/1109877412/Salnikova_thesis_summary.pdf\n",
      "http://www.hse.ru/data/2021/02/25/1352637793/Summary.pdf\n",
      "http://www.hse.ru/data/2021/02/01/1362788680/Resume_phd.pdf\n",
      "http://www.hse.ru/data/2021/01/19/1343833785/Хилюта В.В._Summery.pdf\n",
      "http://www.hse.ru/data/2021/01/19/1343838671/Нам К.В._Summery.pdf\n",
      "http://www.hse.ru/data/2021/01/18/1361147861/_Мальцев И.В._Summary.pdf\n"
     ]
    }
   ],
   "source": [
    "for link in soup.find_all('a', text='Summary'):\n",
    "    print(link.get('href'))"
   ]
  },
  {
   "cell_type": "markdown",
   "metadata": {},
   "source": [
    "И соберем ссылки в список."
   ]
  },
  {
   "cell_type": "code",
   "execution_count": 36,
   "metadata": {},
   "outputs": [
    {
     "name": "stdout",
     "output_type": "stream",
     "text": [
      "<a class=\"link\" data-hse-file=\"PDF\" href=\"http://www.hse.ru/data/2021/02/20/1347487870/Немова М.И._Summary.pdf\">Summary</a>\n",
      "<a class=\"link\" data-hse-file=\"PDF\" href=\"http://www.hse.ru/data/2021/03/17/1399049533/Полыковский_summary.pdf\">Summary</a>\n",
      "<a class=\"link\" data-hse-file=\"PDF\" href=\"http://www.hse.ru/data/2021/02/25/1393118412/Tiukhtiaev_Summary (1).pdf\">Summary</a>\n",
      "<a class=\"link\" data-hse-file=\"PDF\" href=\"http://www.hse.ru/data/2021/02/26/1076625271/Дементьев В.А._Summary.pdf\">Summary</a>\n",
      "<a class=\"link\" data-hse-file=\"PDF\" href=\"http://www.hse.ru/data/2021/01/27/1109877412/Salnikova_thesis_summary.pdf\">Summary</a>\n",
      "<a class=\"link\" data-hse-file=\"PDF\" href=\"http://www.hse.ru/data/2021/02/25/1352637793/Summary.pdf\">Summary</a>\n",
      "<a class=\"link\" data-hse-file=\"PDF\" href=\"http://www.hse.ru/data/2021/02/01/1362788680/Resume_phd.pdf\">Summary</a>\n",
      "<a class=\"link\" data-hse-file=\"PDF\" href=\"http://www.hse.ru/data/2021/01/19/1343833785/Хилюта В.В._Summery.pdf\">Summary</a>\n",
      "<a class=\"link\" data-hse-file=\"PDF\" href=\"http://www.hse.ru/data/2021/01/19/1343838671/Нам К.В._Summery.pdf\">Summary</a>\n",
      "<a class=\"link\" data-hse-file=\"PDF\" href=\"http://www.hse.ru/data/2021/01/18/1361147861/_Мальцев И.В._Summary.pdf\">Summary</a>\n",
      "['http://www.hse.ru/data/2021/02/20/1347487870/Немова М.И._Summary.pdf', 'http://www.hse.ru/data/2021/03/17/1399049533/Полыковский_summary.pdf', 'http://www.hse.ru/data/2021/02/25/1393118412/Tiukhtiaev_Summary (1).pdf', 'http://www.hse.ru/data/2021/02/26/1076625271/Дементьев В.А._Summary.pdf', 'http://www.hse.ru/data/2021/01/27/1109877412/Salnikova_thesis_summary.pdf', 'http://www.hse.ru/data/2021/02/25/1352637793/Summary.pdf', 'http://www.hse.ru/data/2021/02/01/1362788680/Resume_phd.pdf', 'http://www.hse.ru/data/2021/01/19/1343833785/Хилюта В.В._Summery.pdf', 'http://www.hse.ru/data/2021/01/19/1343838671/Нам К.В._Summery.pdf', 'http://www.hse.ru/data/2021/01/18/1361147861/_Мальцев И.В._Summary.pdf']\n"
     ]
    }
   ],
   "source": [
    "links = []\n",
    "for link in soup.find_all('a', text='Summary'):\n",
    "    print(link)\n",
    "    links.append(link.get('href'))\n",
    "    \n",
    "print(links)"
   ]
  },
  {
   "cell_type": "markdown",
   "metadata": {},
   "source": [
    "Отлично. Теперь нужно придумать, откуда взять название для каждого файла. Пусть это будут фамилии авторов, давайте доберемся до них. Такую задачу мы пока не решали: будем искать тэг по тексту, а потом искать его родителя (потому что ни ячейку таблицы с именем автора, ни саму таблицу не получится уникально отсечь)."
   ]
  },
  {
   "cell_type": "code",
   "execution_count": 34,
   "metadata": {},
   "outputs": [
    {
     "name": "stdout",
     "output_type": "stream",
     "text": [
      "Немова Мария Игоревна\n",
      "альтернативные средства расчета, \n",
      "Полыковский Даниил Александрович\n",
      "генеративная модель, \n",
      "Тюхтяев Андрей Ефимович\n",
      "Штырков Сергей Анатольевич\n",
      "Дементьев Владислав Александрович\n",
      "избирательные объединения, \n",
      "оценки материального положения, \n",
      "Шелемех Елена Александровна\n",
      "американский опцион, \n",
      "восприятие, \n",
      "Хилюта Вадим Владимирович\n",
      "Хомич Владимир Михайлович\n",
      "имущественные преступления, \n",
      "Нам Кирилл Вадимович\n",
      "гражданское право, \n",
      "Мальцев Иван Владимирович\n",
      "визуализация права, \n"
     ]
    }
   ],
   "source": [
    "for author in soup.find_all('div', {'class':'p1 v'}):\n",
    "    try:\n",
    "        print(author.span.text)\n",
    "    except:\n",
    "        pass\n"
   ]
  },
  {
   "cell_type": "markdown",
   "metadata": {},
   "source": [
    "Достанем фамилии."
   ]
  },
  {
   "cell_type": "code",
   "execution_count": 27,
   "metadata": {},
   "outputs": [
    {
     "name": "stdout",
     "output_type": "stream",
     "text": [
      "Махалова\n",
      "Казеев\n",
      "Неклюдов\n",
      "Драгой\n",
      "Соколова\n",
      "Коган\n",
      "Тюрин\n",
      "Гиринский\n",
      "Дорофеева\n",
      "Антипкина\n",
      "['Махалова', 'Казеев', 'Неклюдов', 'Драгой', 'Соколова', 'Коган', 'Тюрин', 'Гиринский', 'Дорофеева', 'Антипкина']\n"
     ]
    }
   ],
   "source": [
    "authors = []\n",
    "for author in soup.find_all('td', text='Соискатель:'):\n",
    "    print(author.parent()[1].get_text().split()[0])\n",
    "    authors.append(author.parent()[1].get_text().split()[0])\n",
    "    \n",
    "print(authors)"
   ]
  },
  {
   "cell_type": "markdown",
   "metadata": {},
   "source": [
    "Проверим, что списки действительно одинаковой длины."
   ]
  },
  {
   "cell_type": "code",
   "execution_count": 29,
   "metadata": {},
   "outputs": [
    {
     "data": {
      "text/plain": [
       "True"
      ]
     },
     "execution_count": 29,
     "metadata": {},
     "output_type": "execute_result"
    }
   ],
   "source": [
    "len(links) == len(authors)"
   ]
  },
  {
   "cell_type": "code",
   "execution_count": 38,
   "metadata": {},
   "outputs": [
    {
     "name": "stdout",
     "output_type": "stream",
     "text": [
      "['http://www.hse.ru/data/2021/02/20/1347487870/Немова М.И._Summary.pdf', 'http://www.hse.ru/data/2021/03/17/1399049533/Полыковский_summary.pdf', 'http://www.hse.ru/data/2021/02/25/1393118412/Tiukhtiaev_Summary (1).pdf', 'http://www.hse.ru/data/2021/02/26/1076625271/Дементьев В.А._Summary.pdf', 'http://www.hse.ru/data/2021/01/27/1109877412/Salnikova_thesis_summary.pdf', 'http://www.hse.ru/data/2021/02/25/1352637793/Summary.pdf', 'http://www.hse.ru/data/2021/02/01/1362788680/Resume_phd.pdf', 'http://www.hse.ru/data/2021/01/19/1343833785/Хилюта В.В._Summery.pdf', 'http://www.hse.ru/data/2021/01/19/1343838671/Нам К.В._Summery.pdf', 'http://www.hse.ru/data/2021/01/18/1361147861/_Мальцев И.В._Summary.pdf']\n"
     ]
    }
   ],
   "source": [
    "print(links)"
   ]
  },
  {
   "cell_type": "markdown",
   "metadata": {},
   "source": [
    "Теперь попробуем сохранить файл. У нас все файлы pdf, будем переименовывать их фамилиями автора. Кстати, если файлы разного формата, то расширение можно узнать через атрибут headers"
   ]
  },
  {
   "cell_type": "code",
   "execution_count": 39,
   "metadata": {},
   "outputs": [
    {
     "data": {
      "text/plain": [
       "'application/pdf'"
      ]
     },
     "execution_count": 39,
     "metadata": {},
     "output_type": "execute_result"
    }
   ],
   "source": [
    "requests.get(links[0]).headers['content-type']"
   ]
  },
  {
   "cell_type": "code",
   "execution_count": 41,
   "metadata": {},
   "outputs": [],
   "source": [
    "# потоковое чтение файла, потому pdf может быть большим и не уместиться в памяти\n",
    "summary = requests.get(links[0], stream=True) \n",
    "\n",
    "# на всякий случай делаем проверку, иначе получим битый файл\n",
    "if summary.headers['content-type'] == 'application/pdf': \n",
    "\n",
    "    # wb - запись байтовой информации\n",
    "    fh = open('test.pdf', 'wb') \n",
    "    \n",
    "    # считываем туда \"содержание\" файла по ссылке\n",
    "    fh.write(summary.content) \n",
    "    fh.close()"
   ]
  },
  {
   "cell_type": "code",
   "execution_count": 44,
   "metadata": {},
   "outputs": [
    {
     "data": {
      "text/plain": [
       "'/Users/i.pile'"
      ]
     },
     "execution_count": 44,
     "metadata": {},
     "output_type": "execute_result"
    }
   ],
   "source": [
    "import os\n",
    "os.getcwd()"
   ]
  },
  {
   "cell_type": "markdown",
   "metadata": {},
   "source": [
    "Давайте теперь еще добавим имя файла по фамилии."
   ]
  },
  {
   "cell_type": "code",
   "execution_count": 35,
   "metadata": {},
   "outputs": [],
   "source": [
    "# потоковое чтение файла, потому pdf может быть большим и не уместиться в памяти\n",
    "summary = requests.get(links[0], stream=True) \n",
    "\n",
    "# на всякий случай делаем проверку, иначе получим битый файл\n",
    "if summary.headers['content-type'] == 'application/pdf': \n",
    "\n",
    "    # wb - запись байтовой информации\n",
    "    fh = open(f'{authors[0]}.pdf', 'wb') \n",
    "    \n",
    "    # считываем туда \"содержание\" файла по ссылке\n",
    "    fh.write(summary.content) \n",
    "    fh.close()"
   ]
  },
  {
   "cell_type": "markdown",
   "metadata": {},
   "source": [
    "Давайте сохраним обработку файла в функцию и соберем уже все в цикл."
   ]
  },
  {
   "cell_type": "code",
   "execution_count": 70,
   "metadata": {},
   "outputs": [],
   "source": [
    "def get_pdf(idx):\n",
    "    summary = requests.get(links[idx], stream=True) # потоковое чтение файла, потому pdf может быть большим и не уместиться в памяти\n",
    "    if summary.headers['content-type'] == 'application/pdf': # на всякий случай делаем проверку, иначе получим битый файл\n",
    "        s = re.findall(r'\\w+',links[idx].split('/')[-1])[0]\n",
    "        fh = open(f'{s}.pdf', 'wb') # wb - запись байтовой информации\n",
    "        fh.write(summary.content) # считываем туда \"содержание\" файла по ссылке\n",
    "        fh.close()"
   ]
  },
  {
   "cell_type": "code",
   "execution_count": 71,
   "metadata": {},
   "outputs": [],
   "source": [
    "import re\n",
    "s = re.findall(r'\\w+',links[0].split('/')[-1])[0]"
   ]
  },
  {
   "cell_type": "code",
   "execution_count": 72,
   "metadata": {},
   "outputs": [
    {
     "data": {
      "text/plain": [
       "'Немова.pdf'"
      ]
     },
     "execution_count": 72,
     "metadata": {},
     "output_type": "execute_result"
    }
   ],
   "source": [
    "f'{s}.pdf'"
   ]
  },
  {
   "cell_type": "code",
   "execution_count": 41,
   "metadata": {},
   "outputs": [],
   "source": [
    "link = 'https://www.hse.ru/sci/diss/?fulltext=yes'\n",
    "driver.get(link)\n",
    "\n",
    "soup = BeautifulSoup(driver.page_source)\n",
    "\n",
    "links = []\n",
    "for link in soup.find_all('a', text='Summary'):\n",
    "    links.append(link.get('href'))\n",
    "\n",
    "authors = []\n",
    "for author in soup.find_all('td', text='Соискатель:'):\n",
    "    authors.append(author.parent()[1].get_text().split()[0])"
   ]
  },
  {
   "cell_type": "code",
   "execution_count": 46,
   "metadata": {},
   "outputs": [
    {
     "data": {
      "text/plain": [
       "['http://www.hse.ru/data/2021/02/20/1347487870/Немова М.И._Summary.pdf',\n",
       " 'http://www.hse.ru/data/2021/03/17/1399049533/Полыковский_summary.pdf',\n",
       " 'http://www.hse.ru/data/2021/02/25/1393118412/Tiukhtiaev_Summary (1).pdf',\n",
       " 'http://www.hse.ru/data/2021/02/26/1076625271/Дементьев В.А._Summary.pdf',\n",
       " 'http://www.hse.ru/data/2021/01/27/1109877412/Salnikova_thesis_summary.pdf',\n",
       " 'http://www.hse.ru/data/2021/02/25/1352637793/Summary.pdf',\n",
       " 'http://www.hse.ru/data/2021/02/01/1362788680/Resume_phd.pdf',\n",
       " 'http://www.hse.ru/data/2021/01/19/1343833785/Хилюта В.В._Summery.pdf',\n",
       " 'http://www.hse.ru/data/2021/01/19/1343838671/Нам К.В._Summery.pdf',\n",
       " 'http://www.hse.ru/data/2021/01/18/1361147861/_Мальцев И.В._Summary.pdf']"
      ]
     },
     "execution_count": 46,
     "metadata": {},
     "output_type": "execute_result"
    }
   ],
   "source": [
    "links\n"
   ]
  },
  {
   "cell_type": "code",
   "execution_count": 73,
   "metadata": {},
   "outputs": [],
   "source": [
    "for idx in range(len(links)):\n",
    "    get_pdf(idx)"
   ]
  },
  {
   "cell_type": "markdown",
   "metadata": {},
   "source": [
    "Готово!"
   ]
  },
  {
   "cell_type": "code",
   "execution_count": null,
   "metadata": {},
   "outputs": [],
   "source": []
  }
 ],
 "metadata": {
  "kernelspec": {
   "display_name": "Python 3",
   "language": "python",
   "name": "python3"
  },
  "language_info": {
   "codemirror_mode": {
    "name": "ipython",
    "version": 3
   },
   "file_extension": ".py",
   "mimetype": "text/x-python",
   "name": "python",
   "nbconvert_exporter": "python",
   "pygments_lexer": "ipython3",
   "version": "3.8.3"
  }
 },
 "nbformat": 4,
 "nbformat_minor": 4
}
