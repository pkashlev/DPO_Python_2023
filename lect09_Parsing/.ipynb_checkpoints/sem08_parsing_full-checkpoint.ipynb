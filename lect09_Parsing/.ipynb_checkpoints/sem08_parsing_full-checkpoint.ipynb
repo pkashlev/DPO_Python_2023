{
 "cells": [
  {
   "cell_type": "markdown",
   "metadata": {},
   "source": [
    "<img src=\"https://raw.githubusercontent.com/hse-econ-data-science/eds_spring_2020/master/sem05_parsing/image/take_all.png\" height=\"300\" width=\"1200\"> \n",
    "\n",
    "# <center> Науки о данных <br>  <br> Собираем данные в python </center>\n"
   ]
  },
  {
   "cell_type": "markdown",
   "metadata": {},
   "source": [
    "## Agenda \n",
    "\n",
    "* Азы всех азов\n",
    "* Что делать, если сервер разозлился\n",
    "* Что такое API \n",
    "* Что такое Selenium \n",
    "* Хитрости"
   ]
  },
  {
   "cell_type": "markdown",
   "metadata": {},
   "source": [
    "# 1. Азы всех азов\n",
    "\n",
    "Чтобы усвоить азы всех азов, прочитайте [статейку с хабра.](https://habr.com/ru/company/ods/blog/346632/) Там в соавторах один из семинаристов, что как бы намекает на то, что контент годный."
   ]
  },
  {
   "cell_type": "markdown",
   "metadata": {},
   "source": [
    "## Зачем собирать данные автоматически? \n",
    "\n",
    "<br>\n",
    "\n",
    "<br>\n",
    "\n",
    "<center>\n",
    "<img src=\"https://raw.githubusercontent.com/hse-econ-data-science/eds_spring_2020/master/sem05_parsing/image/aaaaaa.png\" width=\"500\"> "
   ]
  },
  {
   "cell_type": "markdown",
   "metadata": {},
   "source": [
    "## Что такое HTML? \n",
    "\n",
    "**HTML (HyperText Markup Language)**  — это такой же язык разметки как Markdown или LaTeX. Он является стандартным для написания различных сайтов. Команды в таком языке называются **тегами**. Если открыть абсолютно любой сайт, нажать на правую кнопку мышки, а после нажать `View page source`, то перед вами предстанет HTML скелет этого сайта. \n",
    "\n",
    "\n",
    "HTML-страница это ни что иное, как набор вложенных тегов. Можно заметить, например, следующие теги:\n",
    "\n",
    "- `<title>` – заголовок страницы\n",
    "- `<h1>…<h6>` – заголовки разных уровней\n",
    "- `<p>` – абзац (paragraph)\n",
    "- `<div>` – выделения фрагмента документа с целью изменения вида содержимого\n",
    "- `<table>` – прорисовка таблицы \n",
    "- `<tr>` – разделитель для строк в таблице \n",
    "- `<td>` – разделитель для столбцов в таблице\n",
    "- `<b>` – устанавливает жирное начертание шрифта\n",
    "\n",
    "Обычно команда `<...>` открывает тег, а  `</...>` закрывает его. Все, что находится между этими двумя командами, подчиняется правилу, которое диктует тег. Например, все, что находится между `<p>` и  `</p>` — это отдельный абзац.   \n",
    "\n",
    "Теги образуют своеобразное дерево с корнем в теге `<html>` и разбивают страницу на разные логические кусочки. У каждого тега есть свои потомки (дети) — те теги, которые вложены в него и свои родители. \n",
    "\n",
    "Например, HTML-древо страницы может выглядеть вот так:\n",
    "\n",
    "\n",
    "````\n",
    "<html>\n",
    "<head> Заголовок </head>\n",
    "<body>\n",
    "    <div>\n",
    "        Первый кусок текста со своими свойствами\n",
    "    </div>\n",
    "    <div>\n",
    "        Второй кусок текста\n",
    "            <b>\n",
    "                Третий, жирный кусок\n",
    "            </b>\n",
    "    </div>\n",
    "    Четвёртый кусок текста\n",
    "</body>\n",
    "</html>\n",
    "````\n",
    "\n",
    "Можно работать с этим html как с текстом, а можно как с деревом. Обход этого дерева и есть парсинг веб-страницы. Мы всего лишь будем находить нужные нам узлы среди всего этого разнообразия и забирать из них информацию!\n",
    "\n",
    "<center>\n",
    "<img src=\"https://raw.githubusercontent.com/hse-econ-data-science/eds_spring_2020/master/sem05_parsing/image/tree.png\" width=\"450\"> "
   ]
  },
  {
   "cell_type": "markdown",
   "metadata": {},
   "source": [
    "## Качаем цены на книги\n",
    "\n",
    "* Хотим собрать [цены на книги](http://books.toscrape.com)\n",
    "* Руками долго, напишем код на петухоне\n",
    "\n",
    "Доступ к веб-станицам позволяет получать модуль requests. Подгрузим его. Если у вас не установлен этот модуль, то придётся напрячься и установить:  `pip install requests`."
   ]
  },
  {
   "cell_type": "code",
   "execution_count": 2,
   "metadata": {},
   "outputs": [
    {
     "data": {
      "text/plain": [
       "<Response [200]>"
      ]
     },
     "execution_count": 2,
     "metadata": {},
     "output_type": "execute_result"
    }
   ],
   "source": [
    "import requests  \n",
    "\n",
    "url = 'https://books.toscrape.com/catalogue/page-1.html'\n",
    "response = requests.get(url)\n",
    "response"
   ]
  },
  {
   "cell_type": "markdown",
   "metadata": {},
   "source": [
    "Благословенный 200 ответ - соединение установлено и данные получены, всё чудесно! Если попытаться перейти на несуществующую страницу, то можно получить, например, знаменитую ошибку 404."
   ]
  },
  {
   "cell_type": "code",
   "execution_count": 2,
   "metadata": {},
   "outputs": [
    {
     "data": {
      "text/plain": [
       "<Response [404]>"
      ]
     },
     "execution_count": 2,
     "metadata": {},
     "output_type": "execute_result"
    }
   ],
   "source": [
    "requests.get('http://books.toscrape.com/big_scholarship')"
   ]
  },
  {
   "cell_type": "markdown",
   "metadata": {},
   "source": [
    "Внутри response лежит html-разметка странички, которую мы парсим. "
   ]
  },
  {
   "cell_type": "code",
   "execution_count": 3,
   "metadata": {},
   "outputs": [
    {
     "data": {
      "text/plain": [
       "b'\\n\\n<!DOCTYPE html>\\n<!--[if lt IE 7]>      <html lang=\"en-us\" class=\"no-js lt-ie9 lt-ie8 lt-ie7\"> <![endif]-->\\n<!--[if IE 7]>         <html lang=\"en-us\" class=\"no-js lt-ie9 lt-ie8\"> <![endif]-->\\n<!--[if IE 8]>         <html lang=\"en-us\" class=\"no-js lt-ie9\"> <![endif]-->\\n<!--[if gt IE 8]><!--> <html lang=\"en-us\" class=\"no-js\"> <!--<![endif]-->\\n    <head>\\n        <title>\\n    All products | Books to Scrape - Sandbox\\n</title>\\n\\n        <meta http-equiv=\"content-type\" content=\"text/html; charset=UTF-8\" />\\n        <meta name=\"created\" content=\"24th Jun 2016 09:30\" />\\n        <meta name=\"description\" content=\"\" />\\n        <meta name=\"viewport\" content=\"width=device-width\" />\\n        <meta name=\"robots\" content=\"NOARCHIVE,NOCACHE\" />\\n\\n        <!-- Le HTML5 shim, for IE6-8 support of HTML elements -->\\n        <!--[if lt IE 9]>\\n        <script src=\"//html5shim.googlecode.com/svn/trunk/html5.js\"></script>\\n        <![endif]-->\\n\\n        \\n            <link rel=\"shortcut icon\" href=\"../static/oscar/fav'"
      ]
     },
     "execution_count": 3,
     "metadata": {},
     "output_type": "execute_result"
    }
   ],
   "source": [
    "response.content[:1000]"
   ]
  },
  {
   "cell_type": "markdown",
   "metadata": {},
   "source": [
    "Выглядит неудобоваримо, как насчет сварить из этого дела что-то покрасивее? Например, прекрасный суп.\n",
    "\n",
    "<img align=\"center\" src=\"https://raw.githubusercontent.com/hse-econ-data-science/eds_spring_2020/master/sem05_parsing/image/alisa.jpg\" height=\"200\" width=\"200\"> \n",
    "\n",
    "Пакет **[`bs4`](https://www.crummy.com/software/BeautifulSoup/)**, a.k.a **BeautifulSoup** был назван в честь стишка про красивый суп из Алисы в стране чудес. Эта совершенно волшебная библиотека, которая из сырого и необработанного HTML (или XML) кода страницы выдаст вам структурированный массив данных, по которому очень удобно искать необходимые теги, классы, атрибуты, тексты и прочие элементы веб страниц.\n",
    "\n",
    "> Пакет под названием `BeautifulSoup` — скорее всего, не то, что вам нужно. Это третья версия (*Beautiful Soup 3*), а мы будем использовать четвертую. Так что нам нужен пакет `beautifulsoup4`. Чтобы было совсем весело, при импорте нужно указывать другое название пакета — `bs4`, а импортировать функцию под названием `BeautifulSoup`. В общем, сначала легко запутаться, но эти трудности нужно преодолеть однажды, а потом будет проще."
   ]
  },
  {
   "cell_type": "code",
   "execution_count": 3,
   "metadata": {},
   "outputs": [],
   "source": [
    "from bs4 import BeautifulSoup\n",
    "\n",
    "# распарсили страничку в дерево \n",
    "tree = BeautifulSoup(response.content, 'html')"
   ]
  },
  {
   "cell_type": "markdown",
   "metadata": {},
   "source": [
    "Внутри переменной `tree` теперь лежит дерево из тегов, по которому мы можем совершенно спокойно бродить. "
   ]
  },
  {
   "cell_type": "code",
   "execution_count": 5,
   "metadata": {},
   "outputs": [
    {
     "data": {
      "text/plain": [
       "<title>\n",
       "    All products | Books to Scrape - Sandbox\n",
       "</title>"
      ]
     },
     "execution_count": 5,
     "metadata": {},
     "output_type": "execute_result"
    }
   ],
   "source": [
    "tree.html.head.title"
   ]
  },
  {
   "cell_type": "markdown",
   "metadata": {},
   "source": [
    "Можно вытащить из того места, куда мы забрели, текст с помощью метода `text`."
   ]
  },
  {
   "cell_type": "code",
   "execution_count": 6,
   "metadata": {},
   "outputs": [
    {
     "data": {
      "text/plain": [
       "'\\n    All products | Books to Scrape - Sandbox\\n'"
      ]
     },
     "execution_count": 6,
     "metadata": {},
     "output_type": "execute_result"
    }
   ],
   "source": [
    "tree.html.head.title.text"
   ]
  },
  {
   "cell_type": "markdown",
   "metadata": {},
   "source": [
    "С текстом можно работать классическими питоновскими методами. Например, можно избавиться от лишних отступов."
   ]
  },
  {
   "cell_type": "code",
   "execution_count": 7,
   "metadata": {},
   "outputs": [
    {
     "data": {
      "text/plain": [
       "'All products | Books to Scrape - Sandbox'"
      ]
     },
     "execution_count": 7,
     "metadata": {},
     "output_type": "execute_result"
    }
   ],
   "source": [
    "tree.html.head.title.text.strip()"
   ]
  },
  {
   "cell_type": "markdown",
   "metadata": {},
   "source": [
    "Более того, зная адрес элемента, мы сразу можем найти его. Например, вот так в коде страницы мы можем найти где именно для каждой книги лежит основная информация. Видно, что она находится внутри тега `article`, для которого прописан класс `product_pod` (грубо говоря, в html класс задаёт оформление соотвествующего кусочка страницы). \n",
    "\n",
    "Вытащим инфу о книге из этого тега. "
   ]
  },
  {
   "cell_type": "code",
   "execution_count": 8,
   "metadata": {},
   "outputs": [
    {
     "data": {
      "text/plain": [
       "<article class=\"product_pod\">\n",
       "<div class=\"image_container\">\n",
       "<a href=\"a-light-in-the-attic_1000/index.html\"><img alt=\"A Light in the Attic\" class=\"thumbnail\" src=\"../media/cache/2c/da/2cdad67c44b002e7ead0cc35693c0e8b.jpg\"/></a>\n",
       "</div>\n",
       "<p class=\"star-rating Three\">\n",
       "<i class=\"icon-star\"></i>\n",
       "<i class=\"icon-star\"></i>\n",
       "<i class=\"icon-star\"></i>\n",
       "<i class=\"icon-star\"></i>\n",
       "<i class=\"icon-star\"></i>\n",
       "</p>\n",
       "<h3><a href=\"a-light-in-the-attic_1000/index.html\" title=\"A Light in the Attic\">A Light in the ...</a></h3>\n",
       "<div class=\"product_price\">\n",
       "<p class=\"price_color\">£51.77</p>\n",
       "<p class=\"instock availability\">\n",
       "<i class=\"icon-ok\"></i>\n",
       "    \n",
       "        In stock\n",
       "    \n",
       "</p>\n",
       "<form>\n",
       "<button class=\"btn btn-primary btn-block\" data-loading-text=\"Adding...\" type=\"submit\">Add to basket</button>\n",
       "</form>\n",
       "</div>\n",
       "</article>"
      ]
     },
     "execution_count": 8,
     "metadata": {},
     "output_type": "execute_result"
    }
   ],
   "source": [
    "books = tree.find_all('article', {'class' : 'product_pod'})\n",
    "books[0]"
   ]
  },
  {
   "cell_type": "markdown",
   "metadata": {},
   "source": [
    "Полученный после поиска объект также обладает структурой bs4. Поэтому можно продолжить искать нужные нам объекты уже в нём."
   ]
  },
  {
   "cell_type": "code",
   "execution_count": 9,
   "metadata": {},
   "outputs": [
    {
     "data": {
      "text/plain": [
       "bs4.element.Tag"
      ]
     },
     "execution_count": 9,
     "metadata": {},
     "output_type": "execute_result"
    }
   ],
   "source": [
    "type(books[0])"
   ]
  },
  {
   "cell_type": "code",
   "execution_count": 10,
   "metadata": {},
   "outputs": [
    {
     "data": {
      "text/plain": [
       "'£51.77'"
      ]
     },
     "execution_count": 10,
     "metadata": {},
     "output_type": "execute_result"
    }
   ],
   "source": [
    "books[0].find('p', {'class': 'price_color'}).text"
   ]
  },
  {
   "cell_type": "markdown",
   "metadata": {},
   "source": [
    "Обратите внимание, что для поиска есть как минимум два метода: `find` и `find_all`. Если несколько элементов на странице обладают указанным адресом, то метод `find` вернёт только самый первый. Чтобы найти все элементы с таким адресом, нужно использовать метод `find_all`. На выход будет выдан список.\n",
    "\n",
    "Кроме содержимого у тегов часто есть атрибуты. Например, у названия книги есть атрибуты `title` и `href`: "
   ]
  },
  {
   "cell_type": "code",
   "execution_count": 11,
   "metadata": {},
   "outputs": [
    {
     "data": {
      "text/plain": [
       "<h3><a href=\"a-light-in-the-attic_1000/index.html\" title=\"A Light in the Attic\">A Light in the ...</a></h3>"
      ]
     },
     "execution_count": 11,
     "metadata": {},
     "output_type": "execute_result"
    }
   ],
   "source": [
    "books[0].h3"
   ]
  },
  {
   "cell_type": "markdown",
   "metadata": {},
   "source": [
    "Их тоже можно вытащить."
   ]
  },
  {
   "cell_type": "code",
   "execution_count": 11,
   "metadata": {},
   "outputs": [
    {
     "data": {
      "text/plain": [
       "'a-light-in-the-attic_1000/index.html'"
      ]
     },
     "execution_count": 11,
     "metadata": {},
     "output_type": "execute_result"
    }
   ],
   "source": [
    "books[0].h3.a.get('href')"
   ]
  },
  {
   "cell_type": "code",
   "execution_count": 12,
   "metadata": {},
   "outputs": [
    {
     "data": {
      "text/plain": [
       "'A Light in the Attic'"
      ]
     },
     "execution_count": 12,
     "metadata": {},
     "output_type": "execute_result"
    }
   ],
   "source": [
    "books[0].h3.a.get('title')"
   ]
  },
  {
   "cell_type": "markdown",
   "metadata": {},
   "source": [
    "А ещё по этим атрибутам можно искать интересующие нас кусочки страницы. "
   ]
  },
  {
   "cell_type": "code",
   "execution_count": 13,
   "metadata": {},
   "outputs": [
    {
     "data": {
      "text/plain": [
       "[<a href=\"a-light-in-the-attic_1000/index.html\" title=\"A Light in the Attic\">A Light in the ...</a>]"
      ]
     },
     "execution_count": 13,
     "metadata": {},
     "output_type": "execute_result"
    }
   ],
   "source": [
    "tree.find_all('a', {'title': 'A Light in the Attic'})"
   ]
  },
  {
   "cell_type": "markdown",
   "metadata": {},
   "source": [
    "Собственно говоря, это всё. \n",
    "\n",
    "Обратите внимание, что на сайте все книги лежат на разных страничках. Если попробовать потыкать их, можно заметить, что в ссылке будет меняться атрибут `page`. Значит, если мы хотим собрать все книги, надо создать кучу ссылок с разным `page` внутри цикла. Когда качаешь данные с более сложных сайтов, в ссылке часто есть огромное количество атрибутов, которые регулируют выдачу.\n",
    "\n",
    "Давайте запишем весь код для сбора книг в виде функции. На вход она будет принимать номер странички, которую надо скачать. "
   ]
  },
  {
   "cell_type": "code",
   "execution_count": 14,
   "metadata": {},
   "outputs": [],
   "source": [
    "def get_page(p):\n",
    "    \n",
    "    # изготовили ссылку\n",
    "    url = 'http://books.toscrape.com/catalogue/page-{}.html'.format(p)\n",
    "    \n",
    "    # сходили по ней\n",
    "    response = requests.get(url)\n",
    "    \n",
    "    # построили дерево \n",
    "    tree = BeautifulSoup(response.content, 'html.parser')\n",
    "    \n",
    "    # нашли в нём всё самое интересное\n",
    "    books = tree.find_all('article', {'class' : 'product_pod'})\n",
    "    \n",
    "    infa = [ ]\n",
    "    \n",
    "    for book in books:\n",
    "        infa.append({'price': book.find('p', {'class': 'price_color'}).text,\n",
    "                     'href': book.h3.a.get('href'),\n",
    "                     'title': book.h3.a.get('title')})\n",
    "                     \n",
    "    return infa"
   ]
  },
  {
   "cell_type": "markdown",
   "metadata": {},
   "source": [
    "Осталось только пройтись по всем страничкам от page-1 до page-50 циклом и данные у нас в кармане. "
   ]
  },
  {
   "cell_type": "code",
   "execution_count": 17,
   "metadata": {},
   "outputs": [],
   "source": [
    "from tqdm import tqdm"
   ]
  },
  {
   "cell_type": "code",
   "execution_count": 18,
   "metadata": {},
   "outputs": [
    {
     "name": "stderr",
     "output_type": "stream",
     "text": [
      "100%|██████████| 50/50 [00:36<00:00,  1.37it/s]\n"
     ]
    }
   ],
   "source": [
    "infa = []\n",
    "\n",
    "for p in tqdm(range(1,51)):\n",
    "    infa.extend(get_page(p))"
   ]
  },
  {
   "cell_type": "code",
   "execution_count": 19,
   "metadata": {},
   "outputs": [
    {
     "name": "stdout",
     "output_type": "stream",
     "text": [
      "(1000, 3)\n"
     ]
    },
    {
     "data": {
      "text/html": [
       "<div>\n",
       "<style scoped>\n",
       "    .dataframe tbody tr th:only-of-type {\n",
       "        vertical-align: middle;\n",
       "    }\n",
       "\n",
       "    .dataframe tbody tr th {\n",
       "        vertical-align: top;\n",
       "    }\n",
       "\n",
       "    .dataframe thead th {\n",
       "        text-align: right;\n",
       "    }\n",
       "</style>\n",
       "<table border=\"1\" class=\"dataframe\">\n",
       "  <thead>\n",
       "    <tr style=\"text-align: right;\">\n",
       "      <th></th>\n",
       "      <th>price</th>\n",
       "      <th>href</th>\n",
       "      <th>title</th>\n",
       "    </tr>\n",
       "  </thead>\n",
       "  <tbody>\n",
       "    <tr>\n",
       "      <th>0</th>\n",
       "      <td>£51.77</td>\n",
       "      <td>a-light-in-the-attic_1000/index.html</td>\n",
       "      <td>A Light in the Attic</td>\n",
       "    </tr>\n",
       "    <tr>\n",
       "      <th>1</th>\n",
       "      <td>£53.74</td>\n",
       "      <td>tipping-the-velvet_999/index.html</td>\n",
       "      <td>Tipping the Velvet</td>\n",
       "    </tr>\n",
       "    <tr>\n",
       "      <th>2</th>\n",
       "      <td>£50.10</td>\n",
       "      <td>soumission_998/index.html</td>\n",
       "      <td>Soumission</td>\n",
       "    </tr>\n",
       "    <tr>\n",
       "      <th>3</th>\n",
       "      <td>£47.82</td>\n",
       "      <td>sharp-objects_997/index.html</td>\n",
       "      <td>Sharp Objects</td>\n",
       "    </tr>\n",
       "    <tr>\n",
       "      <th>4</th>\n",
       "      <td>£54.23</td>\n",
       "      <td>sapiens-a-brief-history-of-humankind_996/index...</td>\n",
       "      <td>Sapiens: A Brief History of Humankind</td>\n",
       "    </tr>\n",
       "  </tbody>\n",
       "</table>\n",
       "</div>"
      ],
      "text/plain": [
       "    price                                               href  \\\n",
       "0  £51.77               a-light-in-the-attic_1000/index.html   \n",
       "1  £53.74                  tipping-the-velvet_999/index.html   \n",
       "2  £50.10                          soumission_998/index.html   \n",
       "3  £47.82                       sharp-objects_997/index.html   \n",
       "4  £54.23  sapiens-a-brief-history-of-humankind_996/index...   \n",
       "\n",
       "                                   title  \n",
       "0                   A Light in the Attic  \n",
       "1                     Tipping the Velvet  \n",
       "2                             Soumission  \n",
       "3                          Sharp Objects  \n",
       "4  Sapiens: A Brief History of Humankind  "
      ]
     },
     "execution_count": 19,
     "metadata": {},
     "output_type": "execute_result"
    }
   ],
   "source": [
    "import pandas as pd\n",
    "\n",
    "df = pd.DataFrame(infa)\n",
    "print(df.shape)\n",
    "df.head()"
   ]
  },
  {
   "cell_type": "markdown",
   "metadata": {},
   "source": [
    "Кстати говоря, если перейти по ссылке в саму книгу, там о ней будет куча дополнительной информации. Можно пройтись по всем ссылкам и выкачать себе по ним дополнительную информацию. "
   ]
  },
  {
   "cell_type": "markdown",
   "metadata": {},
   "source": [
    "# 2. Что делать, если сервер разозлился\n",
    "\n",
    "* Вы решили собрать себе немного данных \n",
    "* Сервер не в восторге от ковровой бомбардировки автоматическими запросами \n",
    "* Error 403, 404, 504, $\\ldots$ \n",
    "* Капча, требования зарегистрироваться\n",
    "* Заботливые сообщения, что с вашего устройства обнаружен подозрительный трафик\n",
    "\n",
    "<center>\n",
    "<img src=\"https://raw.githubusercontent.com/hse-econ-data-science/eds_spring_2020/master/sem05_parsing/image/doge.jpg\" width=\"450\"> "
   ]
  },
  {
   "cell_type": "markdown",
   "metadata": {},
   "source": [
    "## а) быть терпеливым \n",
    "\n",
    "* Слишком частые запросы раздражают сервер\n",
    "* Ставьте между ними временные задержки "
   ]
  },
  {
   "cell_type": "code",
   "execution_count": 21,
   "metadata": {},
   "outputs": [],
   "source": [
    "import time\n",
    "time.sleep(3) # и пусть весь мир подождёт 3 секунды"
   ]
  },
  {
   "cell_type": "code",
   "execution_count": 22,
   "metadata": {},
   "outputs": [
    {
     "data": {
      "text/plain": [
       "0.8720962297715451"
      ]
     },
     "execution_count": 22,
     "metadata": {},
     "output_type": "execute_result"
    }
   ],
   "source": [
    "import random\n",
    "\n",
    "random.random()*3"
   ]
  },
  {
   "cell_type": "markdown",
   "metadata": {},
   "source": [
    "## б) быть похожим на человека\n",
    "\n",
    "\n",
    "Запрос нормального человека через браузер выглядит так: \n",
    "\n",
    "<center>\n",
    "<img src=\"https://raw.githubusercontent.com/hse-econ-data-science/eds_spring_2020/master/sem05_parsing/image/browser_get.png\" width=\"600\"> \n",
    "    \n",
    "С ним на сервер попадает куча информации! Запрос от питона выглядит так: \n",
    "\n",
    "\n",
    "<center>\n",
    "<img src=\"https://raw.githubusercontent.com/hse-econ-data-science/eds_spring_2020/master/sem05_parsing/image/python_get.jpg\" width=\"250\"> \n",
    " \n",
    "Заметили разницу?  Очевидно, что нашему скромному запросу не тягаться с таким обилием мета-информации, которое передается при запросе из обычного браузера. К счастью, никто нам не мешает притвориться человечными и пустить пыль в глаза сервера при помощи генерации фейкового юзер-агента. Библиотек, которые справляются с такой задачей, существует очень и очень много, лично мне больше всего нравится [fake-useragent.](https://pypi.org/project/fake-useragent/) При вызове метода из различных кусочков будет генерироваться рандомное сочетание операционной системы, спецификаций и версии браузера, которые можно передавать в запрос:"
   ]
  },
  {
   "cell_type": "code",
   "execution_count": 23,
   "metadata": {},
   "outputs": [
    {
     "name": "stdout",
     "output_type": "stream",
     "text": [
      "Requirement already satisfied: fake_useragent in /Users/i.pile/anaconda3/lib/python3.8/site-packages (0.1.11)\r\n"
     ]
    }
   ],
   "source": [
    "!pip install fake_useragent"
   ]
  },
  {
   "cell_type": "code",
   "execution_count": 25,
   "metadata": {},
   "outputs": [
    {
     "data": {
      "text/plain": [
       "'Mozilla/5.0 (Windows NT 6.1; Win64; x64; rv:25.0) Gecko/20100101 Firefox/25.0'"
      ]
     },
     "execution_count": 25,
     "metadata": {},
     "output_type": "execute_result"
    }
   ],
   "source": [
    "from fake_useragent import UserAgent\n",
    "UserAgent().firefox"
   ]
  },
  {
   "cell_type": "markdown",
   "metadata": {},
   "source": [
    "Например, https://knowyourmeme.com/ не захочет пускать к себе python и выдаст ошибку 403. Она выдается сервером, если он доступен и способен обрабатывать запросы, но по некоторым личным причинам отказывается это делать."
   ]
  },
  {
   "cell_type": "code",
   "execution_count": 26,
   "metadata": {},
   "outputs": [
    {
     "data": {
      "text/plain": [
       "<Response [403]>"
      ]
     },
     "execution_count": 26,
     "metadata": {},
     "output_type": "execute_result"
    }
   ],
   "source": [
    "import requests\n",
    "url = 'https://knowyourmeme.com/'\n",
    "\n",
    "response = requests.get(url)\n",
    "response"
   ]
  },
  {
   "cell_type": "code",
   "execution_count": 11,
   "metadata": {
    "scrolled": false
   },
   "outputs": [],
   "source": [
    "import json\n",
    "import requests\n",
    "\n",
    "j = json.loads(requests.get('https://qa.st.mail.ru/api/v1/web_voice?q=Российский летчик назвал вероятную причину крушения беспилотника MQ-9 над Черным морем').text)"
   ]
  },
  {
   "cell_type": "code",
   "execution_count": 12,
   "metadata": {
    "scrolled": false
   },
   "outputs": [
    {
     "data": {
      "text/plain": [
       "0.9999997259885708"
      ]
     },
     "execution_count": 12,
     "metadata": {},
     "output_type": "execute_result"
    }
   ],
   "source": [
    "json.loads(j['body']['query_info'])['classifiers']['trends_vk.score']"
   ]
  },
  {
   "cell_type": "markdown",
   "metadata": {},
   "source": [
    "А если сгенерировать User-Agent, вопросов у сервера не возникнет. "
   ]
  },
  {
   "cell_type": "code",
   "execution_count": 28,
   "metadata": {},
   "outputs": [
    {
     "data": {
      "text/plain": [
       "<Response [200]>"
      ]
     },
     "execution_count": 28,
     "metadata": {},
     "output_type": "execute_result"
    }
   ],
   "source": [
    "response = requests.get(url, headers={'User-Agent': UserAgent().firefox})\n",
    "response"
   ]
  },
  {
   "cell_type": "code",
   "execution_count": 29,
   "metadata": {},
   "outputs": [
    {
     "data": {
      "text/plain": [
       "<Response [503]>"
      ]
     },
     "execution_count": 29,
     "metadata": {},
     "output_type": "execute_result"
    }
   ],
   "source": [
    "response = requests.get('https://www.cian.ru/kupit-kvartiru-1-komn-ili-2-komn/', \n",
    "                        headers={'User-Agent': UserAgent().firefox})\n",
    "response"
   ]
  },
  {
   "cell_type": "code",
   "execution_count": 30,
   "metadata": {},
   "outputs": [
    {
     "name": "stdout",
     "output_type": "stream",
     "text": [
      "start...\n"
     ]
    }
   ],
   "source": [
    "from selenium import webdriver\n",
    "from selenium.webdriver.firefox.options import Options\n",
    "from selenium.common.exceptions import NoSuchElementException\n",
    "# import chromedriver_binary \n",
    "import urllib\n",
    "import time\n",
    "\n",
    "print('start...')\n",
    "\n",
    "site = \"https://www.cian.ru/sale/flat/222059642/\"\n",
    "\n",
    "chrome_options = Options()\n",
    "chrome_options.add_argument(\"--headless\")\n",
    "\n",
    "driver = webdriver.Firefox(options=chrome_options)\n",
    "#driver = webdriver.Chrome()\n",
    "driver.get(site)"
   ]
  },
  {
   "cell_type": "code",
   "execution_count": 27,
   "metadata": {},
   "outputs": [
    {
     "data": {
      "text/plain": [
       "<bound method WebDriver.get of <selenium.webdriver.firefox.webdriver.WebDriver (session=\"2966d8db-f190-4d4f-ad7e-b5698fded480\")>>"
      ]
     },
     "execution_count": 27,
     "metadata": {},
     "output_type": "execute_result"
    }
   ],
   "source": [
    "driver.get"
   ]
  },
  {
   "cell_type": "code",
   "execution_count": 21,
   "metadata": {},
   "outputs": [
    {
     "data": {
      "text/plain": [
       "False"
      ]
     },
     "execution_count": 21,
     "metadata": {},
     "output_type": "execute_result"
    }
   ],
   "source": [
    "response.ok"
   ]
  },
  {
   "cell_type": "markdown",
   "metadata": {},
   "source": [
    "__Другой пример:__ если захотите спарсить ЦИАН, он начнет вам выдавать капчу. Один из вариантов обхода: менять ip через тор. Однако на практически каждый запрос из-под тора, ЦИАН будет выдавать капчу. Если добавить в запрос `User_Agent`, то капча будет вылезать намного реже. "
   ]
  },
  {
   "cell_type": "markdown",
   "metadata": {},
   "source": [
    "## в) общаться через посредников\n",
    "\n",
    "<center>\n",
    "<img src=\"https://raw.githubusercontent.com/hse-econ-data-science/eds_spring_2020/master/sem05_parsing/image/proxy.jpeg\" width=\"400\"> "
   ]
  },
  {
   "cell_type": "markdown",
   "metadata": {},
   "source": [
    "Посмотрим на свой ip-адрес без прокси. "
   ]
  },
  {
   "cell_type": "code",
   "execution_count": 8,
   "metadata": {},
   "outputs": [
    {
     "name": "stdout",
     "output_type": "stream",
     "text": [
      "{'origin': '95.84.163.95'}\n"
     ]
    }
   ],
   "source": [
    "r = requests.get('https://httpbin.org/ip')\n",
    "print(r.json())"
   ]
  },
  {
   "cell_type": "code",
   "execution_count": 9,
   "metadata": {},
   "outputs": [
    {
     "ename": "SyntaxError",
     "evalue": "invalid syntax (<ipython-input-9-e0a6868ffc90>, line 2)",
     "output_type": "error",
     "traceback": [
      "\u001b[0;36m  File \u001b[0;32m\"<ipython-input-9-e0a6868ffc90>\"\u001b[0;36m, line \u001b[0;32m2\u001b[0m\n\u001b[0;31m    'http': Адрес прокси,\u001b[0m\n\u001b[0m                  ^\u001b[0m\n\u001b[0;31mSyntaxError\u001b[0m\u001b[0;31m:\u001b[0m invalid syntax\n"
     ]
    }
   ],
   "source": [
    "proxies = {\n",
    "    'http': Адрес прокси,\n",
    "    'https': Адрес прокси\n",
    "}\n",
    "\n",
    "r = requests.get('https://httpbin.org/ip', proxies=proxies)\n",
    "\n",
    "print(r.json())"
   ]
  },
  {
   "cell_type": "markdown",
   "metadata": {},
   "source": [
    "Запрос работал немного подольше, ip адрес сменился. Большая часть проксей, которые вы найдёте работают криво. Иногда запрос идёт очень долго и выгоднее сбросить его и попробовать другую проксю. Это можно настроить опцией `timeout`.  Например, так если сервер не будет отвечать секунду, код упадёт. "
   ]
  },
  {
   "cell_type": "code",
   "execution_count": 1,
   "metadata": {},
   "outputs": [
    {
     "data": {
      "text/plain": [
       "<Response [200]>"
      ]
     },
     "execution_count": 1,
     "metadata": {},
     "output_type": "execute_result"
    }
   ],
   "source": [
    "import requests\n",
    "requests.get('http://www.google.com', timeout=1)"
   ]
  },
  {
   "cell_type": "markdown",
   "metadata": {},
   "source": [
    "У requests есть довольно много разных интересных примочек. Посмотреть на них можно в [гайде из документации.](https://requests.readthedocs.io/en/master/user/advanced/)\n",
    "\n",
    "\n",
    "__Где можно попытаться раздобыть списки прокси:__ \n",
    "\n",
    "* https://qna.habr.com/q/591069\n",
    "* https://getfreeproxylists.blogspot.com/\n",
    "* Большая часть бесплатных прокси обычно не работает. Пишите парсер, который будет собирать списки из проксей и пытаться применить их. "
   ]
  },
  {
   "cell_type": "markdown",
   "metadata": {},
   "source": [
    "## г) уходить глубже \n",
    "\n",
    "<center>\n",
    "<img src=\"https://raw.githubusercontent.com/hse-econ-data-science/eds_spring_2020/master/sem05_parsing/image/tor.jpg\" width=\"600\"> \n",
    "\n",
    "Можно попытаться обходить злые сервера через тор. Есть аж несколько способов, но мы про это говорить не будем. Лучше подробно почитать в статье на Хабре. Ссылка на неё в конце тетрадки. Ещё в самом начале была. А ещё в середине [наверняка есть.](https://habr.com/ru/company/ods/blog/346632/)"
   ]
  },
  {
   "cell_type": "markdown",
   "metadata": {},
   "source": [
    "## Совместить всё? \n",
    "\n",
    "1. Начните с малого \n",
    "2. Если продолжает банить, накидывайте новые примочки\n",
    "3. Каждая новая примочка бьёт по скорости \n",
    "4. [Разные примочки для requests](http://docs.python-requests.org/en/v0.10.6/user/advanced/)"
   ]
  },
  {
   "cell_type": "markdown",
   "metadata": {},
   "source": [
    "# 3. API \n",
    "\n",
    "__API (Application Programming Interface__ — это уже готовый код, который можно всунуть в свой код! Многие сервисы, в том числе Google и Вконтакте, предоставляют свои уже готовые решения для вашей разработки.\n",
    "\n",
    "Примеры: \n",
    "\n",
    "* [Контактовский API](https://vk.com/dev/methods)\n",
    "* [API twitter](https://developer.twitter.com/en/docs.html) - nope\n",
    "* [API youtube](https://developers.google.com/youtube/v3/) \n",
    "* [API google maps](https://developers.google.com/maps/documentation/) \n",
    "* [Aviasales](https://www.aviasales.ru/API)\n",
    "* [Yandex Translate](https://yandex.ru/dev/translate/)\n",
    "\n",
    "Оно есть почти везде! На этом семинаре мы посмотрим на два примера: на API контакта и google maps."
   ]
  },
  {
   "cell_type": "markdown",
   "metadata": {},
   "source": [
    "## 3.1 API vk\n",
    "\n",
    "Зачем может понадобиться доступ к API контакта, думаю, объяснять не надо. Социальная сетка — это тонны различной полезной информации, которую можно заиспользовать для своих целей. [В документации](https://vk.com/dev/manuals) очень подробно описано как можно работать с API контакта и к чему это приводит. \n",
    "\n",
    "Но для начала к API нужно получить доступ. Для этого придётся пройти пару бюрократических процедур (о, боже, эти два предложения были так бюрократически сформулированы, что мне захотелось отстоять в очереди).\n",
    "\n",
    "Первая такая процедура заключается в создании своего приложения. Для этого переходим по [ссылке](http://vk.com/editapp?act=create) и проходимся по необходимым шагам:\n",
    "\n",
    "<img align=\"center\" src=\"https://raw.githubusercontent.com/hse-econ-data-science/eds_spring_2020/master/sem05_parsing/image/app_creation_1.png\" width=\"500\">\n",
    "\n",
    "После подтверждения своей личности по номеру телефона, попадаем на страницу свежесозданного приложения\n",
    "\n",
    "<img align=\"center\" src=\"https://raw.githubusercontent.com/hse-econ-data-science/eds_spring_2020/master/sem05_parsing/image/app_creation_2.png\" width=\"500\">\n",
    "\n",
    "Слева нам будем доступна вкладка с настройками, перейдя в неё мы увидим все необходимые нам для работы с приложением параметры:\n",
    "<img align=\"center\" src=\"https://raw.githubusercontent.com/hse-econ-data-science/eds_spring_2020/master/sem05_parsing/image/app_creation_3.png\" width=\"500\">\n",
    "\n",
    "Отсюда в качестве токена можно забрать сервисный ключ доступа. Для работы с частью методов API этого вполне достаточно (обычно в заголовке такого метода стоит соответствующая пометка). Иногда нужны дополнительные доступы. Для того, чтобы получить их, необходимо сделать ещё пару странных манипуляций:\n",
    "\n",
    "Переходим по ссылке вида (на месте звездочек должен стоять ID созданного вами приложения):\n",
    "\n",
    "> https://oauth.vk.com/authorize?client_id=**********&scope=8198&redirect_uri=https://oauth.vk.com/blank.html&display=page&v=5.16&response_type=token\n",
    "\n",
    "В итоге по этому запросу будет сформирована ссылка следующего вида:\n",
    "> https://oauth.vk.com/blank.html#access_token=25b636116ef40e0718fe4d9f382544fc28&expires_in=86400&user_id=*******\n",
    "\n",
    "Первый набор знаков — `access token`, т.е. маркер доступа. Вторая цифра (`expires_in=`) время работы маркера доступа в секундах (одни сутки). По истечению суток нужно будет получить новый маркер доступа. Последняя цифра (`user_id=`) ваш ID Вконтакте. Нам в дальнейшем понадобится маркер доступа. Для удобства сохраним его в отдельном файле или экспортируем в глобальную область видимости. В целях безопасности ваших данных не стоит нигде светить токенами и тем более выкладывать их в открытый доступ. __Так можно и аккаунта случайно лишиться.__ Берегите токен смолоду. \n",
    "\n",
    "Обратите внимание на ссылку, по которой мы делали запрос на предоставление токена. Внутри неё находится странный параметр `scope=8198.` Это мы просим доступ к конкретным разделам. Подробнее познакомиться с взаимно-однозначным соответствием между числами и правами можно [в документации.](https://vk.com/dev/permissions) Например, если мы хотим получить доступ к друзьям, фото и стенам, мы подставим в scope цифру 2+4++8192=8198."
   ]
  },
  {
   "cell_type": "code",
   "execution_count": 1,
   "metadata": {},
   "outputs": [],
   "source": [
    "# мой номер странички\n",
    "myid = '153433657'  # вставить номер странички\n",
    "\n",
    "# версия используемого API\n",
    "version = '5.103' \n",
    "\n",
    "# подгружаем токен из файлика на компьютере\n",
    "with open('secret_token.txt') as f:\n",
    "    token = f.read()"
   ]
  },
  {
   "cell_type": "code",
   "execution_count": 8,
   "metadata": {},
   "outputs": [
    {
     "data": {
      "text/plain": [
       "{'response': [{'id': 153433657,\n",
       "   'city': {'id': 1, 'title': 'Москва'},\n",
       "   'photo_id': '153433657_457240112',\n",
       "   'first_name': 'Ян',\n",
       "   'last_name': 'Пиле',\n",
       "   'can_access_closed': True,\n",
       "   'is_closed': True}]}"
      ]
     },
     "execution_count": 8,
     "metadata": {},
     "output_type": "execute_result"
    }
   ],
   "source": [
    "requests.get(f'https://api.vk.com/method/users.get?user_id=153433657&v={version}&access_token={token}&fields=city,photo_id').json()"
   ]
  },
  {
   "cell_type": "markdown",
   "metadata": {},
   "source": [
    "Чтобы скачать что-то из контакта, надо сделать ссылку и сходить по ней пакетом `requests`. Ссылка должна будет включать в себя метод (что мы просим у вк) и параметры (насколько много и как именно). Мы будем просто заменять эти две штуки и выкачивать разные вещи. "
   ]
  },
  {
   "cell_type": "code",
   "execution_count": 10,
   "metadata": {},
   "outputs": [
    {
     "data": {
      "text/plain": [
       "{'response': [{'id': 153433657,\n",
       "   'city': {'id': 1, 'title': 'Москва'},\n",
       "   'photo_id': '153433657_457240112',\n",
       "   'first_name': 'Ян',\n",
       "   'last_name': 'Пиле',\n",
       "   'can_access_closed': True,\n",
       "   'is_closed': True}]}"
      ]
     },
     "execution_count": 10,
     "metadata": {},
     "output_type": "execute_result"
    }
   ],
   "source": [
    "method = 'users.get'\n",
    "parameters = 'user_ids=153433657'\n",
    "fields = 'city,photo_id'\n",
    "\n",
    "url = 'https://api.vk.com/method/' + method + '?' + parameters + '&v=' + version + '&access_token=' + token + '&fields=' + fields\n",
    "\n",
    "response = requests.get(url) \n",
    "response.json()"
   ]
  },
  {
   "cell_type": "markdown",
   "metadata": {},
   "source": [
    "В ответ на наш запрос vk выкидывает JSON с информацией. JSON очень похож на питонячие словарики. Смысл квадратных и фигурных скобок такой же. Правда, есть и отличия: например, в Python одинарные и двойные кавычки ничем не отличаются, а в JSON можно использовать только двойные. \n",
    "\n",
    "Мы видим, что полученный нами JSON представляет собой словарь, значения которого — строки или числа, а также списки или словари, значения которых в свою очередь также могут быть строками, числами, списками, словарями и т.д. То есть получается такая довольно сложная структура данных, из которой можно вытащить всё то, что нас интересует. "
   ]
  },
  {
   "cell_type": "code",
   "execution_count": 11,
   "metadata": {},
   "outputs": [
    {
     "data": {
      "text/plain": [
       "'Ян'"
      ]
     },
     "execution_count": 11,
     "metadata": {},
     "output_type": "execute_result"
    }
   ],
   "source": [
    "response.json()['response'][0]['first_name']"
   ]
  },
  {
   "cell_type": "markdown",
   "metadata": {},
   "source": [
    "[В документации](https://vk.com/dev/manuals) очень подробно описано какие есть методы и какие у них бывают параметры.  Давайте завернём код выше в функцию и попробуем что-нибудь скачать."
   ]
  },
  {
   "cell_type": "code",
   "execution_count": 12,
   "metadata": {},
   "outputs": [],
   "source": [
    "def vk_download(method, parameters):\n",
    "    \n",
    "    url = 'https://api.vk.com/method/' + method + '?' + parameters + '&access_token=' + token + '&v=' + version\n",
    "    response = requests.get(url) \n",
    "    infa = response.json()\n",
    "    return infa"
   ]
  },
  {
   "cell_type": "markdown",
   "metadata": {},
   "source": [
    "Например, все лайки с [хайер скул оф мемс.](https://vk.com/hsemem)\n",
    "Как найти адрес страницы [тут](https://vk.com/faq18062)"
   ]
  },
  {
   "cell_type": "code",
   "execution_count": 14,
   "metadata": {},
   "outputs": [],
   "source": [
    "group_id = '-139105204'  # взяли из ссылки на группу"
   ]
  },
  {
   "cell_type": "code",
   "execution_count": 29,
   "metadata": {},
   "outputs": [],
   "source": [
    "wall = vk_download('wall.get', 'owner_id={}&count=500'.format(group_id))\n",
    "wall = wall['response']"
   ]
  },
  {
   "cell_type": "code",
   "execution_count": 22,
   "metadata": {},
   "outputs": [
    {
     "data": {
      "text/plain": [
       "{'id': 94025,\n",
       " 'from_id': -139105204,\n",
       " 'owner_id': -139105204,\n",
       " 'date': 1665489602,\n",
       " 'marked_as_ads': 0,\n",
       " 'is_favorite': False,\n",
       " 'post_type': 'post',\n",
       " 'text': '',\n",
       " 'attachments': [{'type': 'photo',\n",
       "   'photo': {'album_id': -7,\n",
       "    'date': 1665480481,\n",
       "    'id': 457266973,\n",
       "    'owner_id': -139105204,\n",
       "    'access_key': 'f9d618022da6a90373',\n",
       "    'post_id': 94021,\n",
       "    'sizes': [{'height': 45,\n",
       "      'url': 'https://sun1-87.userapi.com/impg/Im_U5aXZrQ76uEKG56KfSDqQqKULGJ60emneiA/cp8Jw_ojxZw.jpg?size=130x45&quality=96&sign=54db9f92eec546b017c0fa63d24ad1e0&c_uniq_tag=fBQpc-Jkiu66HLLDoH3nAqSNtp9qmfbrNbiF_96qb-c&type=album',\n",
       "      'type': 'm',\n",
       "      'width': 130},\n",
       "     {'height': 87,\n",
       "      'url': 'https://sun1-87.userapi.com/impg/Im_U5aXZrQ76uEKG56KfSDqQqKULGJ60emneiA/cp8Jw_ojxZw.jpg?size=130x87&quality=96&crop=300,0,641,429&sign=84247666b179afc1b509b2a79107b25b&c_uniq_tag=9mbEieOMBjY9bcgo58wPn3OJMtKGrVvS8vXbZb3ZzuU&type=album',\n",
       "      'type': 'o',\n",
       "      'width': 130},\n",
       "     {'height': 133,\n",
       "      'url': 'https://sun1-87.userapi.com/impg/Im_U5aXZrQ76uEKG56KfSDqQqKULGJ60emneiA/cp8Jw_ojxZw.jpg?size=200x133&quality=96&crop=298,0,645,429&sign=a11ae7d1b25c1d2d63066081304a62d8&c_uniq_tag=2B9FKGEWkXbk6itBHt6Gar1cP8ySqDRaPHJlP2Tvhkw&type=album',\n",
       "      'type': 'p',\n",
       "      'width': 200},\n",
       "     {'height': 213,\n",
       "      'url': 'https://sun1-87.userapi.com/impg/Im_U5aXZrQ76uEKG56KfSDqQqKULGJ60emneiA/cp8Jw_ojxZw.jpg?size=320x213&quality=96&crop=299,0,644,429&sign=f4c4bc5529bd21f69100e9761a4a8252&c_uniq_tag=fEnsoK-RwBOcXwRVNx1L4Zmv6J_lfN5US4Z6ZxmvwS4&type=album',\n",
       "      'type': 'q',\n",
       "      'width': 320},\n",
       "     {'height': 340,\n",
       "      'url': 'https://sun1-87.userapi.com/impg/Im_U5aXZrQ76uEKG56KfSDqQqKULGJ60emneiA/cp8Jw_ojxZw.jpg?size=510x340&quality=96&crop=299,0,643,429&sign=71b8166aa6aa16286aca5acd592798d0&c_uniq_tag=-u73N_-o5w1YbMHeEmAsbrtnBYHnYuV2uvwg_M7a4E8&type=album',\n",
       "      'type': 'r',\n",
       "      'width': 510},\n",
       "     {'height': 26,\n",
       "      'url': 'https://sun1-87.userapi.com/impg/Im_U5aXZrQ76uEKG56KfSDqQqKULGJ60emneiA/cp8Jw_ojxZw.jpg?size=75x26&quality=96&sign=a3f6461c2d69c3f4818ddc8c0f49d861&c_uniq_tag=yDv3xkxMaYsIKwOagFgMpy5Eo4bqFvMbWLFCvEZHInQ&type=album',\n",
       "      'type': 's',\n",
       "      'width': 75},\n",
       "     {'height': 209,\n",
       "      'url': 'https://sun1-87.userapi.com/impg/Im_U5aXZrQ76uEKG56KfSDqQqKULGJ60emneiA/cp8Jw_ojxZw.jpg?size=604x209&quality=96&sign=f54befc68d0ba31a39c8dbe578eccc56&c_uniq_tag=QBimG9RsvPOX6GJlkynCn5stnFAMgrQrhhzP0w34p3o&type=album',\n",
       "      'type': 'x',\n",
       "      'width': 604},\n",
       "     {'height': 279,\n",
       "      'url': 'https://sun1-87.userapi.com/impg/Im_U5aXZrQ76uEKG56KfSDqQqKULGJ60emneiA/cp8Jw_ojxZw.jpg?size=807x279&quality=96&sign=e111ccf297720899ff9a86c36910eb2a&c_uniq_tag=FK01JCXaKixg_kBw0-z6CSZf0X7OvxQJ0sIAcPdrEG4&type=album',\n",
       "      'type': 'y',\n",
       "      'width': 807},\n",
       "     {'height': 429,\n",
       "      'url': 'https://sun1-87.userapi.com/impg/Im_U5aXZrQ76uEKG56KfSDqQqKULGJ60emneiA/cp8Jw_ojxZw.jpg?size=1242x429&quality=96&sign=bbeea1bde4863179cd929993db6b4d97&c_uniq_tag=-6sG8TXp_f9mcUnDYkEPmhbYFWtFKDa7u_8APY0PC3g&type=album',\n",
       "      'type': 'z',\n",
       "      'width': 1242}],\n",
       "    'text': '',\n",
       "    'user_id': 100}}],\n",
       " 'post_source': {'platform': 'iphone', 'type': 'api'},\n",
       " 'comments': {'can_post': 1, 'count': 7, 'groups_can_post': True},\n",
       " 'likes': {'can_like': 1, 'count': 743, 'user_likes': 0, 'can_publish': 1},\n",
       " 'reposts': {'count': 97, 'user_reposted': 0},\n",
       " 'views': {'count': 23478},\n",
       " 'hash': 'wQcstZbK1JwL-6y8dt5wgR9GRvAv'}"
      ]
     },
     "execution_count": 22,
     "metadata": {},
     "output_type": "execute_result"
    }
   ],
   "source": [
    "wall['items'][5]"
   ]
  },
  {
   "cell_type": "code",
   "execution_count": 23,
   "metadata": {},
   "outputs": [],
   "source": [
    "post = vk_download('wall.getComments', 'owner_id={}&post_id=87730'.format(group_id))"
   ]
  },
  {
   "cell_type": "code",
   "execution_count": 24,
   "metadata": {},
   "outputs": [
    {
     "data": {
      "text/plain": [
       "{'count': 7,\n",
       " 'items': [{'id': 87731,\n",
       "   'from_id': 385920930,\n",
       "   'date': 1647792075,\n",
       "   'text': 'Дед: поступил в МГУ',\n",
       "   'post_id': 87730,\n",
       "   'owner_id': -139105204,\n",
       "   'parents_stack': [],\n",
       "   'thread': {'count': 0,\n",
       "    'items': [],\n",
       "    'can_post': True,\n",
       "    'show_reply_button': True,\n",
       "    'groups_can_post': True}},\n",
       "  {'id': 87732,\n",
       "   'from_id': 157683966,\n",
       "   'date': 1647792568,\n",
       "   'text': '*а делать это с вечера',\n",
       "   'post_id': 87730,\n",
       "   'owner_id': -139105204,\n",
       "   'parents_stack': [],\n",
       "   'thread': {'count': 0,\n",
       "    'items': [],\n",
       "    'can_post': True,\n",
       "    'show_reply_button': True,\n",
       "    'groups_can_post': True}},\n",
       "  {'id': 87733,\n",
       "   'from_id': 550443032,\n",
       "   'date': 1647792695,\n",
       "   'text': 'Одно другому не мешает',\n",
       "   'post_id': 87730,\n",
       "   'owner_id': -139105204,\n",
       "   'parents_stack': [],\n",
       "   'thread': {'count': 0,\n",
       "    'items': [],\n",
       "    'can_post': True,\n",
       "    'show_reply_button': True,\n",
       "    'groups_can_post': True}},\n",
       "  {'id': 87734,\n",
       "   'from_id': 104955490,\n",
       "   'date': 1647795576,\n",
       "   'text': 'Наоборот хороший повод…',\n",
       "   'post_id': 87730,\n",
       "   'owner_id': -139105204,\n",
       "   'parents_stack': [],\n",
       "   'thread': {'count': 0,\n",
       "    'items': [],\n",
       "    'can_post': True,\n",
       "    'show_reply_button': True,\n",
       "    'groups_can_post': True}},\n",
       "  {'id': 87735,\n",
       "   'from_id': 562569819,\n",
       "   'date': 1647797297,\n",
       "   'text': 'Иностранцы: поступают в ВШЭ,  потому что там самые красивые девушки🌚',\n",
       "   'post_id': 87730,\n",
       "   'owner_id': -139105204,\n",
       "   'parents_stack': [],\n",
       "   'thread': {'count': 1,\n",
       "    'items': [],\n",
       "    'can_post': True,\n",
       "    'show_reply_button': True,\n",
       "    'groups_can_post': True}},\n",
       "  {'id': 87748,\n",
       "   'from_id': 71575857,\n",
       "   'date': 1647846066,\n",
       "   'text': 'Мальчик: поступил в ВШЭ, чтобы найти парня \\nМужчина: поступил в Вышку, чтобы найти мужа',\n",
       "   'post_id': 87730,\n",
       "   'owner_id': -139105204,\n",
       "   'parents_stack': [],\n",
       "   'thread': {'count': 0,\n",
       "    'items': [],\n",
       "    'can_post': True,\n",
       "    'show_reply_button': True,\n",
       "    'groups_can_post': True}}],\n",
       " 'current_level_count': 6,\n",
       " 'can_post': True,\n",
       " 'show_reply_button': True,\n",
       " 'groups_can_post': True}"
      ]
     },
     "execution_count": 24,
     "metadata": {},
     "output_type": "execute_result"
    }
   ],
   "source": [
    "post['response']"
   ]
  },
  {
   "cell_type": "code",
   "execution_count": 71,
   "metadata": {},
   "outputs": [
    {
     "data": {
      "text/plain": [
       "{'response': {'count': 8,\n",
       "  'items': [{'id': 87736,\n",
       "    'from_id': 426376311,\n",
       "    'date': 1647798687,\n",
       "    'text': 'Лечиться не пробовали!? :)',\n",
       "    'post_id': 87727,\n",
       "    'owner_id': -139105204,\n",
       "    'parents_stack': [],\n",
       "    'thread': {'count': 4,\n",
       "     'items': [],\n",
       "     'can_post': True,\n",
       "     'show_reply_button': True,\n",
       "     'groups_can_post': True}},\n",
       "   {'id': 87745,\n",
       "    'from_id': 671296736,\n",
       "    'date': 1647832679,\n",
       "    'text': 'Когда у тебя три диплома по экономике, тебе 30 лет, ты бородат, во вконтактике пишешь и живёшь с мамой...',\n",
       "    'post_id': 87727,\n",
       "    'owner_id': -139105204,\n",
       "    'parents_stack': [],\n",
       "    'thread': {'count': 1,\n",
       "     'items': [],\n",
       "     'can_post': True,\n",
       "     'show_reply_button': True,\n",
       "     'groups_can_post': True}},\n",
       "   {'id': 87747,\n",
       "    'from_id': 707425620,\n",
       "    'date': 1647844141,\n",
       "    'text': 'А мне 49 и у меня уже 10',\n",
       "    'post_id': 87727,\n",
       "    'owner_id': -139105204,\n",
       "    'parents_stack': [],\n",
       "    'thread': {'count': 0,\n",
       "     'items': [],\n",
       "     'can_post': True,\n",
       "     'show_reply_button': True,\n",
       "     'groups_can_post': True}}],\n",
       "  'current_level_count': 3,\n",
       "  'can_post': True,\n",
       "  'show_reply_button': True,\n",
       "  'groups_can_post': True}}"
      ]
     },
     "execution_count": 71,
     "metadata": {},
     "output_type": "execute_result"
    }
   ],
   "source": [
    "post"
   ]
  },
  {
   "cell_type": "code",
   "execution_count": 65,
   "metadata": {},
   "outputs": [
    {
     "data": {
      "text/plain": [
       "{'id': 87727,\n",
       " 'from_id': -139105204,\n",
       " 'owner_id': -139105204,\n",
       " 'date': 1647784980,\n",
       " 'marked_as_ads': 0,\n",
       " 'post_type': 'post',\n",
       " 'text': '',\n",
       " 'attachments': [{'type': 'photo',\n",
       "   'photo': {'album_id': -7,\n",
       "    'date': 1647693582,\n",
       "    'id': 457265174,\n",
       "    'owner_id': -139105204,\n",
       "    'access_key': 'cfa70527e2cf1a5915',\n",
       "    'post_id': 87693,\n",
       "    'sizes': [{'height': 104,\n",
       "      'url': 'https://sun9-68.userapi.com/impf/-3QQSCnj-7x7PcvWhpsscjbKxEkXPWlD_fWAZg/fBZT-56ZBJU.jpg?size=130x104&quality=96&sign=5dfdfdf4543bbb5033f00dd40969214f&c_uniq_tag=Ds575WoP_CTlPk_rr4eg3y9Iq28XXMg4m3Xt5h5WM24&type=album',\n",
       "      'type': 'm',\n",
       "      'width': 130},\n",
       "     {'height': 104,\n",
       "      'url': 'https://sun1-27.userapi.com/impf/-3QQSCnj-7x7PcvWhpsscjbKxEkXPWlD_fWAZg/fBZT-56ZBJU.jpg?size=130x104&quality=96&sign=5dfdfdf4543bbb5033f00dd40969214f&c_uniq_tag=Ds575WoP_CTlPk_rr4eg3y9Iq28XXMg4m3Xt5h5WM24&type=album',\n",
       "      'type': 'o',\n",
       "      'width': 130},\n",
       "     {'height': 160,\n",
       "      'url': 'https://sun1-27.userapi.com/impf/-3QQSCnj-7x7PcvWhpsscjbKxEkXPWlD_fWAZg/fBZT-56ZBJU.jpg?size=200x160&quality=96&sign=b5d90b552a0089fd58c6e330b651ec60&c_uniq_tag=5WKURwg3aB94ttB9b16E3PRt37rRvKTZtvVhlvTWek0&type=album',\n",
       "      'type': 'p',\n",
       "      'width': 200},\n",
       "     {'height': 256,\n",
       "      'url': 'https://sun1-27.userapi.com/impf/-3QQSCnj-7x7PcvWhpsscjbKxEkXPWlD_fWAZg/fBZT-56ZBJU.jpg?size=320x256&quality=96&sign=8bc4dbb97bf5058552b56426822ac1dc&c_uniq_tag=-5XVq1vF6UNqCOIvQxtH7fz1nnoKfkVaPoEkLfnZBWc&type=album',\n",
       "      'type': 'q',\n",
       "      'width': 320},\n",
       "     {'height': 408,\n",
       "      'url': 'https://sun1-27.userapi.com/impf/-3QQSCnj-7x7PcvWhpsscjbKxEkXPWlD_fWAZg/fBZT-56ZBJU.jpg?size=510x408&quality=96&sign=63c33009f15e10a3c6d592ca4817fcf3&c_uniq_tag=0FY8D1VpSqKyMEAqtWQ651ml18OQaUWFMQNVwfa6rCk&type=album',\n",
       "      'type': 'r',\n",
       "      'width': 510},\n",
       "     {'height': 60,\n",
       "      'url': 'https://sun1-27.userapi.com/impf/-3QQSCnj-7x7PcvWhpsscjbKxEkXPWlD_fWAZg/fBZT-56ZBJU.jpg?size=75x60&quality=96&sign=09314178cee8ec8a954980d7bb37bfec&c_uniq_tag=g6oz9drQm8ogtfkN7EERcy5YOplaUQhQ9eHyhNtJFyU&type=album',\n",
       "      'type': 's',\n",
       "      'width': 75},\n",
       "     {'height': 483,\n",
       "      'url': 'https://sun9-68.userapi.com/impf/-3QQSCnj-7x7PcvWhpsscjbKxEkXPWlD_fWAZg/fBZT-56ZBJU.jpg?size=604x484&quality=96&sign=edbe81bc23fce0b9e7ae346bff824312&c_uniq_tag=UrLz1pmw5oyVh4iKLggBLnV7-0unEkxI03dbNOth5mY&type=album',\n",
       "      'type': 'x',\n",
       "      'width': 604},\n",
       "     {'height': 646,\n",
       "      'url': 'https://sun9-68.userapi.com/impf/-3QQSCnj-7x7PcvWhpsscjbKxEkXPWlD_fWAZg/fBZT-56ZBJU.jpg?size=807x646&quality=96&sign=83118f3017bd354b2c8519fc3ecd7405&c_uniq_tag=SC37OeFYFERWbJ_bfrOF-uqSTYtkB4X-cs5FXJoG6aM&type=album',\n",
       "      'type': 'y',\n",
       "      'width': 807},\n",
       "     {'height': 1025,\n",
       "      'url': 'https://sun1-27.userapi.com/impf/-3QQSCnj-7x7PcvWhpsscjbKxEkXPWlD_fWAZg/fBZT-56ZBJU.jpg?size=1280x1025&quality=96&sign=b4d67ecca37f610bb9553128444bae76&c_uniq_tag=BI6dqdmHwdEAPmqTBG2dvbrUtopf3eqEeLPETrcibbI&type=album',\n",
       "      'type': 'z',\n",
       "      'width': 1280}],\n",
       "    'text': '',\n",
       "    'user_id': 100}}],\n",
       " 'post_source': {'type': 'api'},\n",
       " 'comments': {'can_post': 1, 'count': 8, 'groups_can_post': True},\n",
       " 'likes': {'can_like': 1, 'count': 273, 'user_likes': 0, 'can_publish': 1},\n",
       " 'reposts': {'count': 19, 'user_reposted': 0},\n",
       " 'views': {'count': 17320},\n",
       " 'is_favorite': False,\n",
       " 'hash': 'e1RBnvK7lW3Vgs1lU2I5-CCn7JLj'}"
      ]
     },
     "execution_count": 65,
     "metadata": {},
     "output_type": "execute_result"
    }
   ],
   "source": [
    "wall['items'][6]"
   ]
  },
  {
   "cell_type": "code",
   "execution_count": 46,
   "metadata": {},
   "outputs": [
    {
     "data": {
      "text/plain": [
       "{'id': 87727,\n",
       " 'from_id': -139105204,\n",
       " 'owner_id': -139105204,\n",
       " 'date': 1647784980,\n",
       " 'marked_as_ads': 0,\n",
       " 'post_type': 'post',\n",
       " 'text': '',\n",
       " 'attachments': [{'type': 'photo',\n",
       "   'photo': {'album_id': -7,\n",
       "    'date': 1647693582,\n",
       "    'id': 457265174,\n",
       "    'owner_id': -139105204,\n",
       "    'access_key': 'cfa70527e2cf1a5915',\n",
       "    'post_id': 87693,\n",
       "    'sizes': [{'height': 104,\n",
       "      'url': 'https://sun9-68.userapi.com/impf/-3QQSCnj-7x7PcvWhpsscjbKxEkXPWlD_fWAZg/fBZT-56ZBJU.jpg?size=130x104&quality=96&sign=5dfdfdf4543bbb5033f00dd40969214f&c_uniq_tag=Ds575WoP_CTlPk_rr4eg3y9Iq28XXMg4m3Xt5h5WM24&type=album',\n",
       "      'type': 'm',\n",
       "      'width': 130},\n",
       "     {'height': 104,\n",
       "      'url': 'https://sun9-68.userapi.com/impf/-3QQSCnj-7x7PcvWhpsscjbKxEkXPWlD_fWAZg/fBZT-56ZBJU.jpg?size=130x104&quality=96&sign=5dfdfdf4543bbb5033f00dd40969214f&c_uniq_tag=Ds575WoP_CTlPk_rr4eg3y9Iq28XXMg4m3Xt5h5WM24&type=album',\n",
       "      'type': 'o',\n",
       "      'width': 130},\n",
       "     {'height': 160,\n",
       "      'url': 'https://sun9-68.userapi.com/impf/-3QQSCnj-7x7PcvWhpsscjbKxEkXPWlD_fWAZg/fBZT-56ZBJU.jpg?size=200x160&quality=96&sign=b5d90b552a0089fd58c6e330b651ec60&c_uniq_tag=5WKURwg3aB94ttB9b16E3PRt37rRvKTZtvVhlvTWek0&type=album',\n",
       "      'type': 'p',\n",
       "      'width': 200},\n",
       "     {'height': 256,\n",
       "      'url': 'https://sun9-68.userapi.com/impf/-3QQSCnj-7x7PcvWhpsscjbKxEkXPWlD_fWAZg/fBZT-56ZBJU.jpg?size=320x256&quality=96&sign=8bc4dbb97bf5058552b56426822ac1dc&c_uniq_tag=-5XVq1vF6UNqCOIvQxtH7fz1nnoKfkVaPoEkLfnZBWc&type=album',\n",
       "      'type': 'q',\n",
       "      'width': 320},\n",
       "     {'height': 408,\n",
       "      'url': 'https://sun9-68.userapi.com/impf/-3QQSCnj-7x7PcvWhpsscjbKxEkXPWlD_fWAZg/fBZT-56ZBJU.jpg?size=510x408&quality=96&sign=63c33009f15e10a3c6d592ca4817fcf3&c_uniq_tag=0FY8D1VpSqKyMEAqtWQ651ml18OQaUWFMQNVwfa6rCk&type=album',\n",
       "      'type': 'r',\n",
       "      'width': 510},\n",
       "     {'height': 60,\n",
       "      'url': 'https://sun1-27.userapi.com/impf/-3QQSCnj-7x7PcvWhpsscjbKxEkXPWlD_fWAZg/fBZT-56ZBJU.jpg?size=75x60&quality=96&sign=09314178cee8ec8a954980d7bb37bfec&c_uniq_tag=g6oz9drQm8ogtfkN7EERcy5YOplaUQhQ9eHyhNtJFyU&type=album',\n",
       "      'type': 's',\n",
       "      'width': 75},\n",
       "     {'height': 483,\n",
       "      'url': 'https://sun9-68.userapi.com/impf/-3QQSCnj-7x7PcvWhpsscjbKxEkXPWlD_fWAZg/fBZT-56ZBJU.jpg?size=604x484&quality=96&sign=edbe81bc23fce0b9e7ae346bff824312&c_uniq_tag=UrLz1pmw5oyVh4iKLggBLnV7-0unEkxI03dbNOth5mY&type=album',\n",
       "      'type': 'x',\n",
       "      'width': 604},\n",
       "     {'height': 646,\n",
       "      'url': 'https://sun9-68.userapi.com/impf/-3QQSCnj-7x7PcvWhpsscjbKxEkXPWlD_fWAZg/fBZT-56ZBJU.jpg?size=807x646&quality=96&sign=83118f3017bd354b2c8519fc3ecd7405&c_uniq_tag=SC37OeFYFERWbJ_bfrOF-uqSTYtkB4X-cs5FXJoG6aM&type=album',\n",
       "      'type': 'y',\n",
       "      'width': 807},\n",
       "     {'height': 1025,\n",
       "      'url': 'https://sun9-68.userapi.com/impf/-3QQSCnj-7x7PcvWhpsscjbKxEkXPWlD_fWAZg/fBZT-56ZBJU.jpg?size=1280x1025&quality=96&sign=b4d67ecca37f610bb9553128444bae76&c_uniq_tag=BI6dqdmHwdEAPmqTBG2dvbrUtopf3eqEeLPETrcibbI&type=album',\n",
       "      'type': 'z',\n",
       "      'width': 1280}],\n",
       "    'text': '',\n",
       "    'user_id': 100}}],\n",
       " 'post_source': {'type': 'api'},\n",
       " 'comments': {'can_post': 1, 'count': 8, 'groups_can_post': True},\n",
       " 'likes': {'can_like': 1, 'count': 270, 'user_likes': 0, 'can_publish': 1},\n",
       " 'reposts': {'count': 19, 'user_reposted': 0},\n",
       " 'views': {'count': 17206},\n",
       " 'is_favorite': False,\n",
       " 'hash': 'e1RBnvK7lW3Vgs1lU2I5-CCn7JLj'}"
      ]
     },
     "execution_count": 46,
     "metadata": {},
     "output_type": "execute_result"
    }
   ],
   "source": [
    "wall['items'][6]"
   ]
  },
  {
   "cell_type": "code",
   "execution_count": 25,
   "metadata": {
    "scrolled": true
   },
   "outputs": [
    {
     "data": {
      "text/plain": [
       "dict_keys(['id', 'from_id', 'owner_id', 'date', 'marked_as_ads', 'is_favorite', 'post_type', 'text', 'is_pinned', 'attachments', 'post_source', 'comments', 'likes', 'reposts', 'views', 'edited', 'hash'])"
      ]
     },
     "execution_count": 25,
     "metadata": {},
     "output_type": "execute_result"
    }
   ],
   "source": [
    "wall['items'][0].keys()"
   ]
  },
  {
   "cell_type": "code",
   "execution_count": 41,
   "metadata": {},
   "outputs": [
    {
     "data": {
      "text/plain": [
       "1631891776"
      ]
     },
     "execution_count": 41,
     "metadata": {},
     "output_type": "execute_result"
    }
   ],
   "source": [
    "wall['items'][0]['edited']"
   ]
  },
  {
   "cell_type": "code",
   "execution_count": 27,
   "metadata": {},
   "outputs": [
    {
     "data": {
      "text/plain": [
       "1405"
      ]
     },
     "execution_count": 27,
     "metadata": {},
     "output_type": "execute_result"
    }
   ],
   "source": [
    "wall['items'][0]['likes']['count']"
   ]
  },
  {
   "cell_type": "code",
   "execution_count": 30,
   "metadata": {},
   "outputs": [
    {
     "data": {
      "text/plain": [
       "[1405, 369, 213, 113, 1, 744, 1143, 83, 1902, 1725]"
      ]
     },
     "execution_count": 30,
     "metadata": {},
     "output_type": "execute_result"
    }
   ],
   "source": [
    "likes = [item['likes']['count'] for item in wall['items']]\n",
    "likes[:10]"
   ]
  },
  {
   "cell_type": "code",
   "execution_count": 32,
   "metadata": {},
   "outputs": [
    {
     "data": {
      "text/plain": [
       "100"
      ]
     },
     "execution_count": 32,
     "metadata": {},
     "output_type": "execute_result"
    }
   ],
   "source": [
    "len(likes)"
   ]
  },
  {
   "cell_type": "markdown",
   "metadata": {},
   "source": [
    "За один запрос скачалось всего-лишь $100$ постов с лайками. В паблике их целых"
   ]
  },
  {
   "cell_type": "code",
   "execution_count": 31,
   "metadata": {},
   "outputs": [
    {
     "data": {
      "text/plain": [
       "8821"
      ]
     },
     "execution_count": 31,
     "metadata": {},
     "output_type": "execute_result"
    }
   ],
   "source": [
    "wall['count']"
   ]
  },
  {
   "cell_type": "markdown",
   "metadata": {},
   "source": [
    "[Документация](https://vk.com/dev/manuals) говорит, что есть параметр `offset`, с помощью которого можно указать какие именно посты из группы нужно скачать. Например, если мы укажем `offset = 100`, скачается вторая сотня. Наше дело за малым: написать цикл. "
   ]
  },
  {
   "cell_type": "code",
   "execution_count": 33,
   "metadata": {},
   "outputs": [],
   "source": [
    "likes = []\n",
    "\n",
    "from tqdm import tqdm"
   ]
  },
  {
   "cell_type": "code",
   "execution_count": 34,
   "metadata": {},
   "outputs": [
    {
     "name": "stderr",
     "output_type": "stream",
     "text": [
      "100%|██████████| 48/48 [00:47<00:00,  1.01it/s]\n"
     ]
    }
   ],
   "source": [
    "import time\n",
    "\n",
    "likes = [ ] # сюда буду сохранять лайки\n",
    "\n",
    "for offset in tqdm(range(0, 4800, 100)):\n",
    "    \n",
    "    time.sleep(0.4) # вк согласен работать 3 раза в секунду, \n",
    "                    # между запросами python спит 0.4 секунды\n",
    "    \n",
    "    wall = vk_download('wall.get', 'owner_id={}&count=100&offset={}'.format(group_id, offset))\n",
    "    \n",
    "    likes.extend([item['likes']['count'] for item in wall['response']['items']])"
   ]
  },
  {
   "cell_type": "markdown",
   "metadata": {},
   "source": [
    "Лайки в наших руках. Можем даже посмотреть на их распределение и попробовать что-то с ними сделать. "
   ]
  },
  {
   "cell_type": "code",
   "execution_count": 35,
   "metadata": {},
   "outputs": [
    {
     "data": {
      "text/plain": [
       "4800"
      ]
     },
     "execution_count": 35,
     "metadata": {},
     "output_type": "execute_result"
    }
   ],
   "source": [
    "len(likes)"
   ]
  },
  {
   "cell_type": "code",
   "execution_count": null,
   "metadata": {},
   "outputs": [],
   "source": []
  },
  {
   "cell_type": "code",
   "execution_count": 40,
   "metadata": {},
   "outputs": [
    {
     "data": {
      "image/png": "[encoded data removed]",
      "text/plain": [
       "<Figure size 432x288 with 1 Axes>"
      ]
     },
     "metadata": {
      "needs_background": "light"
     },
     "output_type": "display_data"
    }
   ],
   "source": [
    "import matplotlib.pyplot as plt \n",
    "\n",
    "plt.hist(likes, bins = 100);"
   ]
  },
  {
   "cell_type": "markdown",
   "metadata": {},
   "source": [
    "В принципе похожим образом можно скачать что угодно. Обратите внимание, что у вк есть специальный метод [`execute`,](https://vk.com/dev/execute) который иногда помогает ускорить скачку в $25$ раз. [В этом очень старом туториале](https://github.com/DmitrySerg/OpenData/blob/master/RussianElections2018/Part_1_Parsing_VK.ipynb) даже есть пример использования. "
   ]
  },
  {
   "cell_type": "markdown",
   "metadata": {},
   "source": [
    "# 4. Selenium\n",
    "\n",
    "Это инструмент для роботизированного управления браузером. Для его коректной работы нужно скачать драйвер: [для хрома](https://sites.google.com/a/chromium.org/chromedriver/downloads) или [для фаерфокса.](https://github.com/mozilla/geckodriver/releases) "
   ]
  },
  {
   "cell_type": "code",
   "execution_count": 22,
   "metadata": {},
   "outputs": [],
   "source": [
    "from selenium import webdriver\n",
    "\n",
    "driver = webdriver.Firefox()"
   ]
  },
  {
   "cell_type": "markdown",
   "metadata": {},
   "source": [
    "После выполнения верхнего блока у вас откроется ещё один браузер. Можно пойти в нём на стартовую гугла. "
   ]
  },
  {
   "cell_type": "code",
   "execution_count": 23,
   "metadata": {},
   "outputs": [],
   "source": [
    "ref = 'http://google.com'\n",
    "driver.get(ref)"
   ]
  },
  {
   "cell_type": "markdown",
   "metadata": {},
   "source": [
    "Найти по html-коду строку для ввода запроса, кликнуть на неё. "
   ]
  },
  {
   "cell_type": "code",
   "execution_count": 24,
   "metadata": {},
   "outputs": [],
   "source": [
    "stroka = driver.find_element_by_name(\"q\")\n",
    "stroka.click()"
   ]
  },
  {
   "cell_type": "markdown",
   "metadata": {},
   "source": [
    "Написать в неё что-нибудь. "
   ]
  },
  {
   "cell_type": "code",
   "execution_count": 25,
   "metadata": {},
   "outputs": [],
   "source": [
    "stroka.send_keys('Вконтакте')"
   ]
  },
  {
   "cell_type": "markdown",
   "metadata": {},
   "source": [
    "Найти кнопку для гугления и нажать её. "
   ]
  },
  {
   "cell_type": "code",
   "execution_count": 26,
   "metadata": {},
   "outputs": [],
   "source": [
    "# находим кнопку для гугления и жмём её\n",
    "button = driver.find_element_by_name('btnK')\n",
    "button.click()"
   ]
  },
  {
   "cell_type": "markdown",
   "metadata": {},
   "source": [
    "У нас на стринчке есть поисковая выдача. Заберём её в bs4 и найдём все сайты. "
   ]
  },
  {
   "cell_type": "code",
   "execution_count": 48,
   "metadata": {},
   "outputs": [
    {
     "data": {
      "text/plain": [
       "['https://m.vk.com/login',\n",
       " 'https://vk.com/about',\n",
       " 'https://vk.com/page-777107_28406709',\n",
       " 'https://vk.com/team',\n",
       " 'https://vk.com/search',\n",
       " 'https://vk.com/android_app']"
      ]
     },
     "execution_count": 48,
     "metadata": {},
     "output_type": "execute_result"
    }
   ],
   "source": [
    "bs = BeautifulSoup(driver.page_source)\n",
    "\n",
    "dirty_hrefs = bs.find_all('h3',attrs={'class':'r'})\n",
    "clean_hrefs = [href.a['href'] for href in dirty_hrefs]\n",
    "clean_hrefs"
   ]
  },
  {
   "cell_type": "markdown",
   "metadata": {},
   "source": [
    "Закроем браузер. "
   ]
  },
  {
   "cell_type": "code",
   "execution_count": 27,
   "metadata": {},
   "outputs": [],
   "source": [
    "driver.close()"
   ]
  },
  {
   "cell_type": "markdown",
   "metadata": {},
   "source": [
    "Вообще selenium придумывали для тестировщиков, а не для парсинга. Для парсеров имеет смысл использовать только в крайнем случае. Он очень медленный. Если у вас очень-очень-очень-очень не получается обмануть сервер через requests или вы сталкиваетесь с какой-то специфической защитой от ботов, seleium может помочь. Ещё для selenium __важно__ не забывать ставить временные задержки, чтобы страница успевала прогрузиться. Либо можно дописывать п\n",
    "олноценные код, который будет ждать прогрузки и только тогда тыкать на кнопки и тп. \n",
    "\n",
    "Есть [перевод на русский документации на хабре.](https://habr.com/ru/post/248559/)\n",
    "\n",
    "В моей практике полезен был пару раз: \n",
    "\n",
    "* Надо было скачать много инфы о поисковых запросах из [Google Trends,](https://trends.google.ru/trends/?geo=RU) а API сильно ограничивал меня.\n",
    "* Надо было понять через поисковик какой у различных организаций ИНН по их наименованию (помогло только для крупных компаний) "
   ]
  },
  {
   "cell_type": "markdown",
   "metadata": {},
   "source": [
    "# 5. Хитрости: \n",
    "\n",
    "### Хитрость 1:  Не стесняйтесь пользоваться `try-except`\n",
    "\n",
    "Эта конструкция позволяет питону в случае ошибки сделать что-нибудь другое либо проигнорировать её. Например, мы хотим найти логарифм от всех чисел из списка: "
   ]
  },
  {
   "cell_type": "code",
   "execution_count": 50,
   "metadata": {},
   "outputs": [
    {
     "name": "stdout",
     "output_type": "stream",
     "text": [
      "0.0\n",
      "0.6931471805599453\n",
      "1.0986122886681098\n"
     ]
    },
    {
     "ename": "ValueError",
     "evalue": "math domain error",
     "output_type": "error",
     "traceback": [
      "\u001b[0;31m---------------------------------------------------------------------------\u001b[0m",
      "\u001b[0;31mValueError\u001b[0m                                Traceback (most recent call last)",
      "\u001b[0;32m<ipython-input-50-523b7735cdde>\u001b[0m in \u001b[0;36m<module>\u001b[0;34m\u001b[0m\n\u001b[1;32m      4\u001b[0m \u001b[0;34m\u001b[0m\u001b[0m\n\u001b[1;32m      5\u001b[0m \u001b[0;32mfor\u001b[0m \u001b[0mitem\u001b[0m \u001b[0;32min\u001b[0m \u001b[0ma\u001b[0m\u001b[0;34m:\u001b[0m\u001b[0;34m\u001b[0m\u001b[0;34m\u001b[0m\u001b[0m\n\u001b[0;32m----> 6\u001b[0;31m     \u001b[0mprint\u001b[0m\u001b[0;34m(\u001b[0m\u001b[0mlog\u001b[0m\u001b[0;34m(\u001b[0m\u001b[0mitem\u001b[0m\u001b[0;34m)\u001b[0m\u001b[0;34m)\u001b[0m\u001b[0;34m\u001b[0m\u001b[0;34m\u001b[0m\u001b[0m\n\u001b[0m",
      "\u001b[0;31mValueError\u001b[0m: math domain error"
     ]
    }
   ],
   "source": [
    "from math import log \n",
    "\n",
    "a = [1,2,3,-1,-5,10,3]\n",
    "\n",
    "for item in a:\n",
    "    print(log(item))"
   ]
  },
  {
   "cell_type": "markdown",
   "metadata": {},
   "source": [
    "У нас не выходит, так как логарифм от отрицательных чисел не берётся. Чтобы код не падал при возникновении ошибки, мы можем его немного изменить: "
   ]
  },
  {
   "cell_type": "code",
   "execution_count": 51,
   "metadata": {},
   "outputs": [
    {
     "name": "stdout",
     "output_type": "stream",
     "text": [
      "0.0\n",
      "0.6931471805599453\n",
      "1.0986122886681098\n",
      "я не смог\n",
      "я не смог\n",
      "2.302585092994046\n",
      "1.0986122886681098\n"
     ]
    }
   ],
   "source": [
    "from math import log \n",
    "\n",
    "a = [1,2,3,-1,-5,10,3]\n",
    "\n",
    "for item in a:\n",
    "    try:\n",
    "        print(log(item))  # попробуй взять логарифм\n",
    "    except:\n",
    "        print('я не смог') # если не вышло, сознайся и работай дальше"
   ]
  },
  {
   "cell_type": "markdown",
   "metadata": {},
   "source": [
    "__Как это использовать при парсинге?__  Интернет создаёт человек. У многих людей руки очень кривые. Предположим, что мы на ночь поставили парсер скачивать цены, он отработал час и упал из-за того, что на како-нибудь одной странице были криво проставлены теги, либо вылезло какое-то редкое поле, либо вылезли какие-то артефакты от старой версии сайта, которые не были учтены в нашем парсере. Гораздо лучше, чтобы код проигнорировал эту ошибку и продолжил работать дальше. "
   ]
  },
  {
   "cell_type": "markdown",
   "metadata": {},
   "source": [
    "### Хитрость 2:  pd.read_html\n",
    "\n",
    "Если на странице, которую вы спарсили, среди тэгов `<tr>` и `<td>` прячется таблица, чаще всего можно забрать её себе без написания цикла, который будет перебирать все стобцы и строки. Поможет в этом `pd.read_html`. Например, вот так можно забрать себе [табличку с сайта ЦБ](https://cbr.ru/currency_base/daily/) "
   ]
  },
  {
   "cell_type": "code",
   "execution_count": 38,
   "metadata": {
    "scrolled": false
   },
   "outputs": [
    {
     "data": {
      "text/html": [
       "<div>\n",
       "<style scoped>\n",
       "    .dataframe tbody tr th:only-of-type {\n",
       "        vertical-align: middle;\n",
       "    }\n",
       "\n",
       "    .dataframe tbody tr th {\n",
       "        vertical-align: top;\n",
       "    }\n",
       "\n",
       "    .dataframe thead th {\n",
       "        text-align: right;\n",
       "    }\n",
       "</style>\n",
       "<table border=\"1\" class=\"dataframe\">\n",
       "  <thead>\n",
       "    <tr style=\"text-align: right;\">\n",
       "      <th></th>\n",
       "      <th>Year</th>\n",
       "      <th>Picture</th>\n",
       "      <th>Laureate</th>\n",
       "      <th>Country</th>\n",
       "      <th>Language(s)</th>\n",
       "      <th>Age Awarded</th>\n",
       "      <th>Citation</th>\n",
       "      <th>Genre(s)</th>\n",
       "    </tr>\n",
       "  </thead>\n",
       "  <tbody>\n",
       "    <tr>\n",
       "      <th>0</th>\n",
       "      <td>1901</td>\n",
       "      <td>NaN</td>\n",
       "      <td>Sully Prudhomme (1839–1907)</td>\n",
       "      <td>France</td>\n",
       "      <td>French</td>\n",
       "      <td>62</td>\n",
       "      <td>\"in special recognition of his poetic composit...</td>\n",
       "      <td>poetry, essay</td>\n",
       "    </tr>\n",
       "    <tr>\n",
       "      <th>1</th>\n",
       "      <td>1902</td>\n",
       "      <td>NaN</td>\n",
       "      <td>Theodor Mommsen (1817–1903)</td>\n",
       "      <td>Germany</td>\n",
       "      <td>German</td>\n",
       "      <td>85</td>\n",
       "      <td>\"the greatest living master of the art of hist...</td>\n",
       "      <td>history, law</td>\n",
       "    </tr>\n",
       "    <tr>\n",
       "      <th>2</th>\n",
       "      <td>1903</td>\n",
       "      <td>NaN</td>\n",
       "      <td>Bjørnstjerne Bjørnson (1832–1910)</td>\n",
       "      <td>Norway</td>\n",
       "      <td>Norwegian</td>\n",
       "      <td>71</td>\n",
       "      <td>\"as a tribute to his noble, magnificent and ve...</td>\n",
       "      <td>poetry, novel, drama</td>\n",
       "    </tr>\n",
       "    <tr>\n",
       "      <th>3</th>\n",
       "      <td>1904</td>\n",
       "      <td>NaN</td>\n",
       "      <td>Frédéric Mistral (1830–1914)</td>\n",
       "      <td>France</td>\n",
       "      <td>Provençal</td>\n",
       "      <td>74</td>\n",
       "      <td>\"in recognition of the fresh originality and t...</td>\n",
       "      <td>poetry, philology</td>\n",
       "    </tr>\n",
       "    <tr>\n",
       "      <th>4</th>\n",
       "      <td>1904</td>\n",
       "      <td>NaN</td>\n",
       "      <td>José Echegaray (1832–1916)</td>\n",
       "      <td>Spain</td>\n",
       "      <td>Spanish</td>\n",
       "      <td>72</td>\n",
       "      <td>\"in recognition of the numerous and brilliant ...</td>\n",
       "      <td>drama</td>\n",
       "    </tr>\n",
       "    <tr>\n",
       "      <th>5</th>\n",
       "      <td>1905</td>\n",
       "      <td>NaN</td>\n",
       "      <td>Henryk Sienkiewicz (1846–1916)</td>\n",
       "      <td>Poland( Russian Empire)</td>\n",
       "      <td>Polish</td>\n",
       "      <td>59</td>\n",
       "      <td>\"because of his outstanding merits as an epic ...</td>\n",
       "      <td>novel</td>\n",
       "    </tr>\n",
       "    <tr>\n",
       "      <th>6</th>\n",
       "      <td>1906</td>\n",
       "      <td>NaN</td>\n",
       "      <td>Giosuè Carducci (1835–1907)</td>\n",
       "      <td>Italy</td>\n",
       "      <td>Italian</td>\n",
       "      <td>71</td>\n",
       "      <td>\"not only in consideration of his deep learnin...</td>\n",
       "      <td>poetry</td>\n",
       "    </tr>\n",
       "    <tr>\n",
       "      <th>7</th>\n",
       "      <td>1907</td>\n",
       "      <td>NaN</td>\n",
       "      <td>Rudyard Kipling (1865–1936)</td>\n",
       "      <td>United Kingdom</td>\n",
       "      <td>English</td>\n",
       "      <td>42</td>\n",
       "      <td>\"in consideration of the power of observation,...</td>\n",
       "      <td>novel, short story, poetry</td>\n",
       "    </tr>\n",
       "    <tr>\n",
       "      <th>8</th>\n",
       "      <td>1908</td>\n",
       "      <td>NaN</td>\n",
       "      <td>Rudolf Christoph Eucken (1846–1926)</td>\n",
       "      <td>Germany</td>\n",
       "      <td>German</td>\n",
       "      <td>62</td>\n",
       "      <td>\"in recognition of his earnest search for trut...</td>\n",
       "      <td>philosophy</td>\n",
       "    </tr>\n",
       "    <tr>\n",
       "      <th>9</th>\n",
       "      <td>1909</td>\n",
       "      <td>NaN</td>\n",
       "      <td>Selma Lagerlöf (1858–1940)</td>\n",
       "      <td>Sweden</td>\n",
       "      <td>Swedish</td>\n",
       "      <td>51</td>\n",
       "      <td>\"in appreciation of the lofty idealism, vivid ...</td>\n",
       "      <td>novel, short story</td>\n",
       "    </tr>\n",
       "  </tbody>\n",
       "</table>\n",
       "</div>"
      ],
      "text/plain": [
       "   Year Picture                             Laureate                  Country  \\\n",
       "0  1901     NaN          Sully Prudhomme (1839–1907)                   France   \n",
       "1  1902     NaN          Theodor Mommsen (1817–1903)                  Germany   \n",
       "2  1903     NaN    Bjørnstjerne Bjørnson (1832–1910)                   Norway   \n",
       "3  1904     NaN         Frédéric Mistral (1830–1914)                   France   \n",
       "4  1904     NaN           José Echegaray (1832–1916)                    Spain   \n",
       "5  1905     NaN       Henryk Sienkiewicz (1846–1916)  Poland( Russian Empire)   \n",
       "6  1906     NaN          Giosuè Carducci (1835–1907)                    Italy   \n",
       "7  1907     NaN          Rudyard Kipling (1865–1936)           United Kingdom   \n",
       "8  1908     NaN  Rudolf Christoph Eucken (1846–1926)                  Germany   \n",
       "9  1909     NaN           Selma Lagerlöf (1858–1940)                   Sweden   \n",
       "\n",
       "  Language(s) Age Awarded                                           Citation  \\\n",
       "0      French          62  \"in special recognition of his poetic composit...   \n",
       "1      German          85  \"the greatest living master of the art of hist...   \n",
       "2   Norwegian          71  \"as a tribute to his noble, magnificent and ve...   \n",
       "3   Provençal          74  \"in recognition of the fresh originality and t...   \n",
       "4     Spanish          72  \"in recognition of the numerous and brilliant ...   \n",
       "5      Polish          59  \"because of his outstanding merits as an epic ...   \n",
       "6     Italian          71  \"not only in consideration of his deep learnin...   \n",
       "7     English          42  \"in consideration of the power of observation,...   \n",
       "8      German          62  \"in recognition of his earnest search for trut...   \n",
       "9     Swedish          51  \"in appreciation of the lofty idealism, vivid ...   \n",
       "\n",
       "                     Genre(s)  \n",
       "0               poetry, essay  \n",
       "1                history, law  \n",
       "2        poetry, novel, drama  \n",
       "3           poetry, philology  \n",
       "4                       drama  \n",
       "5                       novel  \n",
       "6                      poetry  \n",
       "7  novel, short story, poetry  \n",
       "8                  philosophy  \n",
       "9          novel, short story  "
      ]
     },
     "execution_count": 38,
     "metadata": {},
     "output_type": "execute_result"
    }
   ],
   "source": [
    "import pandas as pd\n",
    "\n",
    "df = pd.read_html('https://en.wikipedia.org/wiki/List_of_Nobel_laureates_in_Literature')\n",
    "df[0].head(10)"
   ]
  },
  {
   "cell_type": "markdown",
   "metadata": {},
   "source": [
    "Команда пытается собрать в массив все таблички c веб-страницы. Если хочется, можно сначала через bs4 найти нужную таблицу, а потом уже распарсить её: "
   ]
  },
  {
   "cell_type": "code",
   "execution_count": 39,
   "metadata": {},
   "outputs": [
    {
     "ename": "NameError",
     "evalue": "name 'BeautifulSoup' is not defined",
     "output_type": "error",
     "traceback": [
      "\u001b[0;31m---------------------------------------------------------------------------\u001b[0m",
      "\u001b[0;31mNameError\u001b[0m                                 Traceback (most recent call last)",
      "\u001b[0;32m<ipython-input-39-d546d0a0361f>\u001b[0m in \u001b[0;36m<module>\u001b[0;34m\u001b[0m\n\u001b[1;32m      1\u001b[0m \u001b[0mresp\u001b[0m \u001b[0;34m=\u001b[0m \u001b[0mrequests\u001b[0m\u001b[0;34m.\u001b[0m\u001b[0mget\u001b[0m\u001b[0;34m(\u001b[0m\u001b[0;34m'https://cbr.ru/currency_base/daily/'\u001b[0m\u001b[0;34m)\u001b[0m\u001b[0;34m\u001b[0m\u001b[0;34m\u001b[0m\u001b[0m\n\u001b[0;32m----> 2\u001b[0;31m \u001b[0mtree\u001b[0m \u001b[0;34m=\u001b[0m \u001b[0mBeautifulSoup\u001b[0m\u001b[0;34m(\u001b[0m\u001b[0mresp\u001b[0m\u001b[0;34m.\u001b[0m\u001b[0mcontent\u001b[0m\u001b[0;34m,\u001b[0m \u001b[0;34m'html.parser'\u001b[0m\u001b[0;34m)\u001b[0m\u001b[0;34m\u001b[0m\u001b[0;34m\u001b[0m\u001b[0m\n\u001b[0m\u001b[1;32m      3\u001b[0m \u001b[0;34m\u001b[0m\u001b[0m\n\u001b[1;32m      4\u001b[0m \u001b[0;31m# нашли табличку\u001b[0m\u001b[0;34m\u001b[0m\u001b[0;34m\u001b[0m\u001b[0;34m\u001b[0m\u001b[0m\n\u001b[1;32m      5\u001b[0m \u001b[0mtable\u001b[0m \u001b[0;34m=\u001b[0m \u001b[0mtree\u001b[0m\u001b[0;34m.\u001b[0m\u001b[0mfind_all\u001b[0m\u001b[0;34m(\u001b[0m\u001b[0;34m'table'\u001b[0m\u001b[0;34m,\u001b[0m \u001b[0;34m{\u001b[0m\u001b[0;34m'class'\u001b[0m \u001b[0;34m:\u001b[0m \u001b[0;34m'data'\u001b[0m\u001b[0;34m}\u001b[0m\u001b[0;34m)\u001b[0m\u001b[0;34m[\u001b[0m\u001b[0;36m0\u001b[0m\u001b[0;34m]\u001b[0m\u001b[0;34m\u001b[0m\u001b[0;34m\u001b[0m\u001b[0m\n",
      "\u001b[0;31mNameError\u001b[0m: name 'BeautifulSoup' is not defined"
     ]
    }
   ],
   "source": [
    "resp = requests.get('https://cbr.ru/currency_base/daily/')\n",
    "tree = BeautifulSoup(resp.content, 'html.parser')\n",
    "\n",
    "# нашли табличку\n",
    "table = tree.find_all('table', {'class' : 'data'})[0]\n",
    "\n",
    "# распарсили её\n",
    "df = pd.read_html(str(table), header=-1)[0]\n",
    "df.head()"
   ]
  },
  {
   "cell_type": "markdown",
   "metadata": {},
   "source": [
    "### Хитрость 3:  используйте пакет tqdm\n",
    "\n",
    "> Код уже работает час. Я вообще без понятия когда он закончит работу. Было бы круто узнать, сколько ещё ждать... \n",
    "\n",
    "Если в вашей голове возникла такая мысль, пакет `tqdm` ваш лучший друг. Установите его: ```pip install tqdm```"
   ]
  },
  {
   "cell_type": "code",
   "execution_count": 54,
   "metadata": {},
   "outputs": [
    {
     "data": {
      "application/vnd.jupyter.widget-view+json": {
       "model_id": "f3ba6221ba0442958e7d3822fee8748c",
       "version_major": 2,
       "version_minor": 0
      },
      "text/plain": [
       "HBox(children=(IntProgress(value=0, max=30), HTML(value='')))"
      ]
     },
     "metadata": {},
     "output_type": "display_data"
    },
    {
     "name": "stdout",
     "output_type": "stream",
     "text": [
      "\n"
     ]
    }
   ],
   "source": [
    "from tqdm import tqdm_notebook\n",
    "\n",
    "a = list(range(30))\n",
    "\n",
    "# 30 раз будем спать по секунде\n",
    "for i in tqdm_notebook(a):\n",
    "    time.sleep(1)"
   ]
  },
  {
   "cell_type": "markdown",
   "metadata": {},
   "source": [
    "Мы обмотали тот вектор, по которому идёт цикл в `tqdm_notebook`. Это даёт нам красивую зелёную строку, которая показывает насколько сильно мы продвинулись по коду. Обматывайте свои самые большие и долгие циклы в `tqdm_notebook` и всегда понимайте сколько осталось до конца. "
   ]
  },
  {
   "cell_type": "markdown",
   "metadata": {},
   "source": [
    "### Хитрость 4:  распаралеливание\n",
    "\n",
    "Если сервер не очень настроен вас банить, можно распаралелить свои запросы к нему. Самый простой способ сделать это — библиотека `joblib`. "
   ]
  },
  {
   "cell_type": "code",
   "execution_count": 55,
   "metadata": {},
   "outputs": [
    {
     "data": {
      "application/vnd.jupyter.widget-view+json": {
       "model_id": "99784f9ce8674550868ce2faf5b69e61",
       "version_major": 2,
       "version_minor": 0
      },
      "text/plain": [
       "HBox(children=(IntProgress(value=0, max=10), HTML(value='')))"
      ]
     },
     "metadata": {},
     "output_type": "display_data"
    },
    {
     "name": "stdout",
     "output_type": "stream",
     "text": [
      "\n"
     ]
    }
   ],
   "source": [
    "from joblib import Parallel, delayed\n",
    "from tqdm import tqdm_notebook\n",
    "\n",
    "def simple_function(x):\n",
    "    return x**2\n",
    "\n",
    "\n",
    "nj = -1 # паралель на все ядра \n",
    "result = Parallel(n_jobs=nj)(\n",
    "                delayed(simple_function)(item)          # какую функцию применяем \n",
    "                for item in tqdm_notebook(range(10)))   # к каким объектам применям\n",
    "\n",
    "# tqdm_notebook в последней строчке будет создавать зелёный бегунок с прогрессом"
   ]
  },
  {
   "cell_type": "markdown",
   "metadata": {},
   "source": [
    "На самом деле это не самый эффективный способ паралелить в python. Он жрёт много памяти и работает медленнее, чем [стандартный multiprocessing.](https://docs.python.org/3/library/multiprocessing.html) Но зато две строчки, КАРЛ! Две строчки! "
   ]
  },
  {
   "cell_type": "markdown",
   "metadata": {},
   "source": [
    "### Хитрость 5:  selenium без браузера\n",
    "\n",
    "Селениум можно настроить так, чтобы физически браузер не открывался."
   ]
  },
  {
   "cell_type": "code",
   "execution_count": 40,
   "metadata": {},
   "outputs": [],
   "source": [
    "from selenium import webdriver\n",
    "from selenium.webdriver.firefox.options import Options\n",
    "\n",
    "options = Options()\n",
    "options.headless = True \n",
    "driver = webdriver.Firefox(options=options)\n",
    "\n",
    "ref = 'http://google.com'\n",
    "driver.get(ref)\n",
    "\n",
    "driver.close()"
   ]
  },
  {
   "cell_type": "markdown",
   "metadata": {},
   "source": [
    "###  Ещё хитрости: \n",
    "\n",
    "* __Сохраняйте то, что парсите по мере скачки!__ Прямо внутрь цикла запихните код, который сохраняет файл! \n",
    "* Когда код упал в середине списка для скачки, не обязательно запускать его с самого начала. Просто сохраните тот кусок, который уже скачался и дозапустите код с места падения.\n",
    "* Засовывать цикл для обхода ссылок внутрь функции - не самая хорошая идея. Предположим, что надо обойти $100$ ссылок. Функция должна вернуть на выход объекты, которые скачались по всему этому добру. Она берёт и падает на $50$ объекте. Конечно же то, что уже было скачано, функция не возвращает. Всё, что вы накачали - вы теряете. Надо запускать заново. Почему? Потому что внутри функции своё пространство имён. Если бы вы делали это циклом влоб, то можно было бы сохранить первые $50$ объектов, которые уже лежат внутри листа, а потом продолжить скачку. \n",
    "* Можно ориентироваться на html-страничке с помощью `xpath`. Он предназначен для того, чтобы внутри html-странички можно было быстро находить какие-то элементы. [Подробнее можно почитать тут.](https://devhints.io/xpath)\n",
    "* Не ленитесь листать документацию. Из неё можно узнать много полезных штук. "
   ]
  },
  {
   "cell_type": "markdown",
   "metadata": {},
   "source": [
    "# 6. Почиташки\n",
    "\n",
    "* [Парсим мемы в python](https://habr.com/ru/company/ods/blog/346632/) - подробная статья на Хабре, по которой можно научиться ... парсить (ВНЕЗАПНО) \n",
    "* [Тетрадки Ильи Щурова](https://github.com/ischurov/pythonhse) про python для анализа данных. В [лекции 9](https://nbviewer.jupyter.org/github/ischurov/pythonhse/blob/master/Lecture%209.ipynb) и [лекции 10](https://nbviewer.jupyter.org/github/ischurov/pythonhse/blob/master/Lecture%2010.ipynb) есть про парсеры. \n",
    "* [Перевод документации по selenium на русский на хабре](https://habr.com/ru/post/248559/)\n"
   ]
  },
  {
   "cell_type": "markdown",
   "metadata": {},
   "source": [
    "   "
   ]
  }
 ],
 "metadata": {
  "kernelspec": {
   "display_name": "Python 3 (ipykernel)",
   "language": "python",
   "name": "python3"
  },
  "language_info": {
   "codemirror_mode": {
    "name": "ipython",
    "version": 3
   },
   "file_extension": ".py",
   "mimetype": "text/x-python",
   "name": "python",
   "nbconvert_exporter": "python",
   "pygments_lexer": "ipython3",
   "version": "3.9.13"
  }
 },
 "nbformat": 4,
 "nbformat_minor": 2
}
